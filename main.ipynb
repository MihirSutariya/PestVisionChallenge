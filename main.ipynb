{
 "cells": [
  {
   "cell_type": "code",
   "execution_count": 1,
   "id": "d089960a",
   "metadata": {
    "execution": {
     "iopub.execute_input": "2024-05-24T14:16:31.732511Z",
     "iopub.status.busy": "2024-05-24T14:16:31.732152Z",
     "iopub.status.idle": "2024-05-24T14:16:46.789058Z",
     "shell.execute_reply": "2024-05-24T14:16:46.787812Z"
    },
    "papermill": {
     "duration": 15.064511,
     "end_time": "2024-05-24T14:16:46.791677",
     "exception": false,
     "start_time": "2024-05-24T14:16:31.727166",
     "status": "completed"
    },
    "tags": []
   },
   "outputs": [
    {
     "name": "stdout",
     "output_type": "stream",
     "text": [
      "Collecting ultralytics\r\n",
      "  Downloading ultralytics-8.2.20-py3-none-any.whl.metadata (40 kB)\r\n",
      "\u001b[2K     \u001b[90m━━━━━━━━━━━━━━━━━━━━━━━━━━━━━━━━━━━━━━━━\u001b[0m \u001b[32m40.7/40.7 kB\u001b[0m \u001b[31m1.4 MB/s\u001b[0m eta \u001b[36m0:00:00\u001b[0m\r\n",
      "\u001b[?25hRequirement already satisfied: matplotlib>=3.3.0 in /opt/conda/lib/python3.10/site-packages (from ultralytics) (3.7.5)\r\n",
      "Requirement already satisfied: opencv-python>=4.6.0 in /opt/conda/lib/python3.10/site-packages (from ultralytics) (4.9.0.80)\r\n",
      "Requirement already satisfied: pillow>=7.1.2 in /opt/conda/lib/python3.10/site-packages (from ultralytics) (9.5.0)\r\n",
      "Requirement already satisfied: pyyaml>=5.3.1 in /opt/conda/lib/python3.10/site-packages (from ultralytics) (6.0.1)\r\n",
      "Requirement already satisfied: requests>=2.23.0 in /opt/conda/lib/python3.10/site-packages (from ultralytics) (2.31.0)\r\n",
      "Requirement already satisfied: scipy>=1.4.1 in /opt/conda/lib/python3.10/site-packages (from ultralytics) (1.11.4)\r\n",
      "Requirement already satisfied: torch>=1.8.0 in /opt/conda/lib/python3.10/site-packages (from ultralytics) (2.1.2)\r\n",
      "Requirement already satisfied: torchvision>=0.9.0 in /opt/conda/lib/python3.10/site-packages (from ultralytics) (0.16.2)\r\n",
      "Requirement already satisfied: tqdm>=4.64.0 in /opt/conda/lib/python3.10/site-packages (from ultralytics) (4.66.1)\r\n",
      "Requirement already satisfied: psutil in /opt/conda/lib/python3.10/site-packages (from ultralytics) (5.9.3)\r\n",
      "Requirement already satisfied: py-cpuinfo in /opt/conda/lib/python3.10/site-packages (from ultralytics) (9.0.0)\r\n",
      "Collecting thop>=0.1.1 (from ultralytics)\r\n",
      "  Downloading thop-0.1.1.post2209072238-py3-none-any.whl.metadata (2.7 kB)\r\n",
      "Requirement already satisfied: pandas>=1.1.4 in /opt/conda/lib/python3.10/site-packages (from ultralytics) (2.1.4)\r\n",
      "Requirement already satisfied: seaborn>=0.11.0 in /opt/conda/lib/python3.10/site-packages (from ultralytics) (0.12.2)\r\n",
      "Requirement already satisfied: contourpy>=1.0.1 in /opt/conda/lib/python3.10/site-packages (from matplotlib>=3.3.0->ultralytics) (1.2.0)\r\n",
      "Requirement already satisfied: cycler>=0.10 in /opt/conda/lib/python3.10/site-packages (from matplotlib>=3.3.0->ultralytics) (0.12.1)\r\n",
      "Requirement already satisfied: fonttools>=4.22.0 in /opt/conda/lib/python3.10/site-packages (from matplotlib>=3.3.0->ultralytics) (4.47.0)\r\n",
      "Requirement already satisfied: kiwisolver>=1.0.1 in /opt/conda/lib/python3.10/site-packages (from matplotlib>=3.3.0->ultralytics) (1.4.5)\r\n",
      "Requirement already satisfied: numpy<2,>=1.20 in /opt/conda/lib/python3.10/site-packages (from matplotlib>=3.3.0->ultralytics) (1.26.4)\r\n",
      "Requirement already satisfied: packaging>=20.0 in /opt/conda/lib/python3.10/site-packages (from matplotlib>=3.3.0->ultralytics) (21.3)\r\n",
      "Requirement already satisfied: pyparsing>=2.3.1 in /opt/conda/lib/python3.10/site-packages (from matplotlib>=3.3.0->ultralytics) (3.1.1)\r\n",
      "Requirement already satisfied: python-dateutil>=2.7 in /opt/conda/lib/python3.10/site-packages (from matplotlib>=3.3.0->ultralytics) (2.9.0.post0)\r\n",
      "Requirement already satisfied: pytz>=2020.1 in /opt/conda/lib/python3.10/site-packages (from pandas>=1.1.4->ultralytics) (2023.3.post1)\r\n",
      "Requirement already satisfied: tzdata>=2022.1 in /opt/conda/lib/python3.10/site-packages (from pandas>=1.1.4->ultralytics) (2023.4)\r\n",
      "Requirement already satisfied: charset-normalizer<4,>=2 in /opt/conda/lib/python3.10/site-packages (from requests>=2.23.0->ultralytics) (3.3.2)\r\n",
      "Requirement already satisfied: idna<4,>=2.5 in /opt/conda/lib/python3.10/site-packages (from requests>=2.23.0->ultralytics) (3.6)\r\n",
      "Requirement already satisfied: urllib3<3,>=1.21.1 in /opt/conda/lib/python3.10/site-packages (from requests>=2.23.0->ultralytics) (1.26.18)\r\n",
      "Requirement already satisfied: certifi>=2017.4.17 in /opt/conda/lib/python3.10/site-packages (from requests>=2.23.0->ultralytics) (2024.2.2)\r\n",
      "Requirement already satisfied: filelock in /opt/conda/lib/python3.10/site-packages (from torch>=1.8.0->ultralytics) (3.13.1)\r\n",
      "Requirement already satisfied: typing-extensions in /opt/conda/lib/python3.10/site-packages (from torch>=1.8.0->ultralytics) (4.9.0)\r\n",
      "Requirement already satisfied: sympy in /opt/conda/lib/python3.10/site-packages (from torch>=1.8.0->ultralytics) (1.12)\r\n",
      "Requirement already satisfied: networkx in /opt/conda/lib/python3.10/site-packages (from torch>=1.8.0->ultralytics) (3.2.1)\r\n",
      "Requirement already satisfied: jinja2 in /opt/conda/lib/python3.10/site-packages (from torch>=1.8.0->ultralytics) (3.1.2)\r\n",
      "Requirement already satisfied: fsspec in /opt/conda/lib/python3.10/site-packages (from torch>=1.8.0->ultralytics) (2024.2.0)\r\n",
      "Requirement already satisfied: six>=1.5 in /opt/conda/lib/python3.10/site-packages (from python-dateutil>=2.7->matplotlib>=3.3.0->ultralytics) (1.16.0)\r\n",
      "Requirement already satisfied: MarkupSafe>=2.0 in /opt/conda/lib/python3.10/site-packages (from jinja2->torch>=1.8.0->ultralytics) (2.1.3)\r\n",
      "Requirement already satisfied: mpmath>=0.19 in /opt/conda/lib/python3.10/site-packages (from sympy->torch>=1.8.0->ultralytics) (1.3.0)\r\n",
      "Downloading ultralytics-8.2.20-py3-none-any.whl (760 kB)\r\n",
      "\u001b[2K   \u001b[90m━━━━━━━━━━━━━━━━━━━━━━━━━━━━━━━━━━━━━━━━\u001b[0m \u001b[32m760.3/760.3 kB\u001b[0m \u001b[31m13.9 MB/s\u001b[0m eta \u001b[36m0:00:00\u001b[0m\r\n",
      "\u001b[?25hDownloading thop-0.1.1.post2209072238-py3-none-any.whl (15 kB)\r\n",
      "Installing collected packages: thop, ultralytics\r\n",
      "Successfully installed thop-0.1.1.post2209072238 ultralytics-8.2.20\r\n"
     ]
    }
   ],
   "source": [
    "# !conda env create -f /kaggle/input/condaenv/environment.yml\n",
    "# !conda init\n",
    "# !conda activate pestvision\n",
    "# !wget -P /kaggle/input/ https://storage.googleapis.com/npss-pestvision-data/pestvision_data.zip\n",
    "!pip install ultralytics"
   ]
  },
  {
   "cell_type": "code",
   "execution_count": 2,
   "id": "2df765d6",
   "metadata": {
    "execution": {
     "iopub.execute_input": "2024-05-24T14:16:46.803179Z",
     "iopub.status.busy": "2024-05-24T14:16:46.802815Z",
     "iopub.status.idle": "2024-05-24T14:16:50.578186Z",
     "shell.execute_reply": "2024-05-24T14:16:50.577276Z"
    },
    "papermill": {
     "duration": 3.783759,
     "end_time": "2024-05-24T14:16:50.580458",
     "exception": false,
     "start_time": "2024-05-24T14:16:46.796699",
     "status": "completed"
    },
    "tags": []
   },
   "outputs": [],
   "source": [
    "import os\n",
    "os.environ['WANDB_DISABLED'] = 'true'\n",
    "import numpy as np\n",
    "import torch\n",
    "import yaml"
   ]
  },
  {
   "cell_type": "code",
   "execution_count": 3,
   "id": "7fe57263",
   "metadata": {
    "execution": {
     "iopub.execute_input": "2024-05-24T14:16:50.590576Z",
     "iopub.status.busy": "2024-05-24T14:16:50.590183Z",
     "iopub.status.idle": "2024-05-24T14:16:50.595602Z",
     "shell.execute_reply": "2024-05-24T14:16:50.594805Z"
    },
    "papermill": {
     "duration": 0.012622,
     "end_time": "2024-05-24T14:16:50.597611",
     "exception": false,
     "start_time": "2024-05-24T14:16:50.584989",
     "status": "completed"
    },
    "tags": []
   },
   "outputs": [],
   "source": [
    "root = '/kaggle/input/pestvisiondata/pestvision_data/'\n",
    "dset_paths = ['synthetic_data/DeepImageBlendingData/run3/RiceLeafs/images/train',\n",
    "             'synthetic_data/DeepImageBlendingData/run3/paddy-disease-classification/images/train',\n",
    "             'synthetic_data/Libcom_HarmonizationData_PCTNet/run1/RiceLeafs/images/train',\n",
    "             'synthetic_data/Libcom_HarmonizationData_PCTNet/run1/paddy-disease-classification/images/train']\n",
    "dset_paths = [os.path.join(root,i) for i in dset_paths]\n",
    "val_paths = [\"/\".join(i.split('/')[:-1]+['val']) for i in dset_paths]"
   ]
  },
  {
   "cell_type": "code",
   "execution_count": 4,
   "id": "12a2c082",
   "metadata": {
    "execution": {
     "iopub.execute_input": "2024-05-24T14:16:50.607129Z",
     "iopub.status.busy": "2024-05-24T14:16:50.606856Z",
     "iopub.status.idle": "2024-05-24T14:16:51.971171Z",
     "shell.execute_reply": "2024-05-24T14:16:51.970166Z"
    },
    "papermill": {
     "duration": 1.371384,
     "end_time": "2024-05-24T14:16:51.973390",
     "exception": false,
     "start_time": "2024-05-24T14:16:50.602006",
     "status": "completed"
    },
    "tags": []
   },
   "outputs": [
    {
     "name": "stderr",
     "output_type": "stream",
     "text": [
      "\u001b[34m\u001b[1mwandb\u001b[0m: \u001b[33mWARNING\u001b[0m This integration is tested and supported for ultralytics v8.0.238 and below.\n",
      "\u001b[34m\u001b[1mwandb\u001b[0m: \u001b[33mWARNING\u001b[0m             Please report any issues to https://github.com/wandb/wandb/issues with the tag `yolov8`.\n"
     ]
    }
   ],
   "source": [
    "# object detection code base with abstract class\n",
    "\n",
    "import os\n",
    "from abc import ABC, abstractmethod\n",
    "from ultralytics import YOLO\n",
    "import wandb\n",
    "from wandb.integration.ultralytics import add_wandb_callback\n",
    "\n",
    "\n",
    "class AbstractPestDetection(ABC):\n",
    "    \"\"\"\n",
    "    Abstract class for pest detection\n",
    "    \"\"\"\n",
    "\n",
    "    def __init__(self, device):\n",
    "        self.device = device\n",
    "\n",
    "    @abstractmethod\n",
    "    def load_model(self, model_path):\n",
    "        pass\n",
    "\n",
    "    @abstractmethod\n",
    "    def train(self):\n",
    "        pass\n",
    "\n",
    "    # TODO: implement evaluate method\n",
    "    # @abstractmethod\n",
    "    # def evaluate(self):\n",
    "    #     pass\n",
    "\n",
    "\n",
    "class PestDetection_yolov8(AbstractPestDetection):\n",
    "    \"\"\"\n",
    "    YOLOv8 model for pest detection\n",
    "    \"\"\"\n",
    "\n",
    "    def __init__(self, device):\n",
    "        super().__init__(device)\n",
    "        self.model = None\n",
    "\n",
    "    def load_model(self, model_path):\n",
    "        \"\"\"\n",
    "        Load the YOLOv8 model\n",
    "\n",
    "        Parameters:\n",
    "\n",
    "         model_path (str): path to the model checkpoint\n",
    "        \"\"\"\n",
    "\n",
    "        self.model = YOLO(model_path)\n",
    "\n",
    "    def train(self,**kwargs):\n",
    "\n",
    "        results = self.model.train(**kwargs)\n",
    "        self.model.val()\n",
    "\n",
    "        return results\n",
    "\n",
    "    # TODO: implment evaluate method\n",
    "    # def evaluate(self):\n",
    "    #     pass\n"
   ]
  },
  {
   "cell_type": "code",
   "execution_count": 5,
   "id": "0bacc902",
   "metadata": {
    "execution": {
     "iopub.execute_input": "2024-05-24T14:16:51.983687Z",
     "iopub.status.busy": "2024-05-24T14:16:51.983141Z",
     "iopub.status.idle": "2024-05-24T14:16:51.988717Z",
     "shell.execute_reply": "2024-05-24T14:16:51.987881Z"
    },
    "papermill": {
     "duration": 0.012776,
     "end_time": "2024-05-24T14:16:51.990707",
     "exception": false,
     "start_time": "2024-05-24T14:16:51.977931",
     "status": "completed"
    },
    "tags": []
   },
   "outputs": [],
   "source": [
    "def make_dsetconfig(train,val):\n",
    "\n",
    "    d_config = {\n",
    "        \"train\": train,\n",
    "        \"val\": val,\n",
    "\n",
    "        \"nc\": 102, # number of classes\n",
    "        \"names\": [str(i) for i in range(1,103)] \n",
    "    }\n",
    "    filename = 'data.yaml'\n",
    "    with open(filename, 'w') as file:\n",
    "        yaml.dump(d_config, file, default_flow_style=False)\n",
    "    return filename"
   ]
  },
  {
   "cell_type": "code",
   "execution_count": 6,
   "id": "9e4ef264",
   "metadata": {
    "execution": {
     "iopub.execute_input": "2024-05-24T14:16:52.000557Z",
     "iopub.status.busy": "2024-05-24T14:16:52.000270Z",
     "iopub.status.idle": "2024-05-24T14:16:52.006162Z",
     "shell.execute_reply": "2024-05-24T14:16:52.005309Z"
    },
    "papermill": {
     "duration": 0.013041,
     "end_time": "2024-05-24T14:16:52.008127",
     "exception": false,
     "start_time": "2024-05-24T14:16:51.995086",
     "status": "completed"
    },
    "tags": []
   },
   "outputs": [],
   "source": [
    "def train(checkpoint,train,val):\n",
    "    if torch.cuda.is_available():\n",
    "        device = torch.device('cuda')\n",
    "        print(\"CUDA is available. Using GPU.\")\n",
    "    else:\n",
    "        device = torch.device('cpu')\n",
    "        print(\"CUDA is not available. Using CPU.\")\n",
    "    model = PestDetection_yolov8(device)\n",
    "    model.load_model(checkpoint)\n",
    "#     wandb_kwargs = {\"project\": None, \"entity\": None, \"group\": None, \"job_type\": None}\n",
    "    results = model.train(data=make_dsetconfig(train,val), epochs=50, imgsz=640, save_period=2,batch=-1, plots=True)"
   ]
  },
  {
   "cell_type": "code",
   "execution_count": 7,
   "id": "410de89e",
   "metadata": {
    "execution": {
     "iopub.execute_input": "2024-05-24T14:16:52.017889Z",
     "iopub.status.busy": "2024-05-24T14:16:52.017609Z",
     "iopub.status.idle": "2024-05-24T16:30:38.793770Z",
     "shell.execute_reply": "2024-05-24T16:30:38.792763Z"
    },
    "papermill": {
     "duration": 8026.783317,
     "end_time": "2024-05-24T16:30:38.795793",
     "exception": false,
     "start_time": "2024-05-24T14:16:52.012476",
     "status": "completed"
    },
    "tags": []
   },
   "outputs": [
    {
     "name": "stdout",
     "output_type": "stream",
     "text": [
      "CUDA is available. Using GPU.\n",
      "Ultralytics YOLOv8.2.20 🚀 Python-3.10.13 torch-2.1.2 CUDA:0 (Tesla P100-PCIE-16GB, 16276MiB)\n",
      "\u001b[34m\u001b[1mengine/trainer: \u001b[0mtask=detect, mode=train, model=yolov8n.yaml, data=data.yaml, epochs=50, time=None, patience=100, batch=-1, imgsz=640, save=True, save_period=2, cache=False, device=None, workers=8, project=None, name=train, exist_ok=False, pretrained=True, optimizer=auto, verbose=True, seed=0, deterministic=True, single_cls=False, rect=False, cos_lr=False, close_mosaic=10, resume=False, amp=True, fraction=1.0, profile=False, freeze=None, multi_scale=False, overlap_mask=True, mask_ratio=4, dropout=0.0, val=True, split=val, save_json=False, save_hybrid=False, conf=None, iou=0.7, max_det=300, half=False, dnn=False, plots=True, source=None, vid_stride=1, stream_buffer=False, visualize=False, augment=False, agnostic_nms=False, classes=None, retina_masks=False, embed=None, show=False, save_frames=False, save_txt=False, save_conf=False, save_crop=False, show_labels=True, show_conf=True, show_boxes=True, line_width=None, format=torchscript, keras=False, optimize=False, int8=False, dynamic=False, simplify=False, opset=None, workspace=4, nms=False, lr0=0.01, lrf=0.01, momentum=0.937, weight_decay=0.0005, warmup_epochs=3.0, warmup_momentum=0.8, warmup_bias_lr=0.1, box=7.5, cls=0.5, dfl=1.5, pose=12.0, kobj=1.0, label_smoothing=0.0, nbs=64, hsv_h=0.015, hsv_s=0.7, hsv_v=0.4, degrees=0.0, translate=0.1, scale=0.5, shear=0.0, perspective=0.0, flipud=0.0, fliplr=0.5, bgr=0.0, mosaic=1.0, mixup=0.0, copy_paste=0.0, auto_augment=randaugment, erasing=0.4, crop_fraction=1.0, cfg=None, tracker=botsort.yaml, save_dir=runs/detect/train\n",
      "Downloading https://ultralytics.com/assets/Arial.ttf to '/root/.config/Ultralytics/Arial.ttf'...\n"
     ]
    },
    {
     "name": "stderr",
     "output_type": "stream",
     "text": [
      "100%|██████████| 755k/755k [00:00<00:00, 14.9MB/s]\n",
      "2024-05-24 14:16:54,991\tINFO util.py:124 -- Outdated packages:\n",
      "  ipywidgets==7.7.1 found, needs ipywidgets>=8\n",
      "Run `pip install -U ipywidgets`, then restart the notebook server for rich notebook output.\n",
      "2024-05-24 14:16:56,414\tINFO util.py:124 -- Outdated packages:\n",
      "  ipywidgets==7.7.1 found, needs ipywidgets>=8\n",
      "Run `pip install -U ipywidgets`, then restart the notebook server for rich notebook output.\n"
     ]
    },
    {
     "name": "stdout",
     "output_type": "stream",
     "text": [
      "Overriding model.yaml nc=80 with nc=102\n",
      "\n",
      "                   from  n    params  module                                       arguments                     \n",
      "  0                  -1  1       464  ultralytics.nn.modules.conv.Conv             [3, 16, 3, 2]                 \n",
      "  1                  -1  1      4672  ultralytics.nn.modules.conv.Conv             [16, 32, 3, 2]                \n",
      "  2                  -1  1      7360  ultralytics.nn.modules.block.C2f             [32, 32, 1, True]             \n",
      "  3                  -1  1     18560  ultralytics.nn.modules.conv.Conv             [32, 64, 3, 2]                \n",
      "  4                  -1  2     49664  ultralytics.nn.modules.block.C2f             [64, 64, 2, True]             \n",
      "  5                  -1  1     73984  ultralytics.nn.modules.conv.Conv             [64, 128, 3, 2]               \n",
      "  6                  -1  2    197632  ultralytics.nn.modules.block.C2f             [128, 128, 2, True]           \n",
      "  7                  -1  1    295424  ultralytics.nn.modules.conv.Conv             [128, 256, 3, 2]              \n",
      "  8                  -1  1    460288  ultralytics.nn.modules.block.C2f             [256, 256, 1, True]           \n",
      "  9                  -1  1    164608  ultralytics.nn.modules.block.SPPF            [256, 256, 5]                 \n",
      " 10                  -1  1         0  torch.nn.modules.upsampling.Upsample         [None, 2, 'nearest']          \n",
      " 11             [-1, 6]  1         0  ultralytics.nn.modules.conv.Concat           [1]                           \n",
      " 12                  -1  1    148224  ultralytics.nn.modules.block.C2f             [384, 128, 1]                 \n",
      " 13                  -1  1         0  torch.nn.modules.upsampling.Upsample         [None, 2, 'nearest']          \n",
      " 14             [-1, 4]  1         0  ultralytics.nn.modules.conv.Concat           [1]                           \n",
      " 15                  -1  1     37248  ultralytics.nn.modules.block.C2f             [192, 64, 1]                  \n",
      " 16                  -1  1     36992  ultralytics.nn.modules.conv.Conv             [64, 64, 3, 2]                \n",
      " 17            [-1, 12]  1         0  ultralytics.nn.modules.conv.Concat           [1]                           \n",
      " 18                  -1  1    123648  ultralytics.nn.modules.block.C2f             [192, 128, 1]                 \n",
      " 19                  -1  1    147712  ultralytics.nn.modules.conv.Conv             [128, 128, 3, 2]              \n",
      " 20             [-1, 9]  1         0  ultralytics.nn.modules.conv.Concat           [1]                           \n",
      " 21                  -1  1    493056  ultralytics.nn.modules.block.C2f             [384, 256, 1]                 \n",
      " 22        [15, 18, 21]  1   1087210  ultralytics.nn.modules.head.Detect           [102, [64, 128, 256]]         \n",
      "YOLOv8n summary: 225 layers, 3346746 parameters, 3346730 gradients, 9.7 GFLOPs\n",
      "\n",
      "\u001b[34m\u001b[1mTensorBoard: \u001b[0mStart with 'tensorboard --logdir runs/detect/train', view at http://localhost:6006/\n"
     ]
    },
    {
     "name": "stderr",
     "output_type": "stream",
     "text": [
      "\u001b[34m\u001b[1mwandb\u001b[0m: Tracking run with wandb version 0.16.6\n",
      "\u001b[34m\u001b[1mwandb\u001b[0m: W&B syncing is set to \u001b[1m`offline`\u001b[0m in this directory.  \n",
      "\u001b[34m\u001b[1mwandb\u001b[0m: Run \u001b[1m`wandb online`\u001b[0m or set \u001b[1mWANDB_MODE=online\u001b[0m to enable cloud syncing.\n"
     ]
    },
    {
     "name": "stdout",
     "output_type": "stream",
     "text": [
      "Freezing layer 'model.22.dfl.conv.weight'\n",
      "\u001b[34m\u001b[1mAMP: \u001b[0mrunning Automatic Mixed Precision (AMP) checks with YOLOv8n...\n",
      "Downloading https://github.com/ultralytics/assets/releases/download/v8.2.0/yolov8n.pt to 'yolov8n.pt'...\n"
     ]
    },
    {
     "name": "stderr",
     "output_type": "stream",
     "text": [
      "100%|██████████| 6.23M/6.23M [00:00<00:00, 73.2MB/s]\n"
     ]
    },
    {
     "name": "stdout",
     "output_type": "stream",
     "text": [
      "\u001b[34m\u001b[1mAMP: \u001b[0mchecks passed ✅\n",
      "\u001b[34m\u001b[1mAutoBatch: \u001b[0mComputing optimal batch size for imgsz=640\n",
      "\u001b[34m\u001b[1mAutoBatch: \u001b[0mCUDA:0 (Tesla P100-PCIE-16GB) 15.89G total, 0.11G reserved, 0.07G allocated, 15.72G free\n",
      "      Params      GFLOPs  GPU_mem (GB)  forward (ms) backward (ms)                   input                  output\n",
      "     3346746       9.726         0.220         28.81         59.68        (1, 3, 640, 640)                    list\n",
      "     3346746       19.45         0.323         18.51         33.86        (2, 3, 640, 640)                    list\n",
      "     3346746       38.91         0.625         17.87         88.24        (4, 3, 640, 640)                    list\n",
      "     3346746       77.81         1.181         23.77         40.88        (8, 3, 640, 640)                    list\n",
      "     3346746       155.6         2.408         37.89         60.27       (16, 3, 640, 640)                    list\n",
      "\u001b[34m\u001b[1mAutoBatch: \u001b[0mUsing batch-size 63 for CUDA:0 9.46G/15.89G (60%) ✅\n"
     ]
    },
    {
     "name": "stderr",
     "output_type": "stream",
     "text": [
      "\u001b[34m\u001b[1mtrain: \u001b[0mScanning /kaggle/input/pestvisiondata/pestvision_data/synthetic_data/DeepImageBlendingData/run3/paddy-disease-classification/labels/train... 9091 images, 909 backgrounds, 0 corrupt: 100%|██████████| 10000/10000 [00:36<00:00, 270.78it/s]\n"
     ]
    },
    {
     "name": "stdout",
     "output_type": "stream",
     "text": [
      "\u001b[34m\u001b[1mtrain: \u001b[0mWARNING ⚠️ Cache directory /kaggle/input/pestvisiondata/pestvision_data/synthetic_data/DeepImageBlendingData/run3/paddy-disease-classification/labels is not writeable, cache not saved.\n",
      "\u001b[34m\u001b[1malbumentations: \u001b[0mBlur(p=0.01, blur_limit=(3, 7)), MedianBlur(p=0.01, blur_limit=(3, 7)), ToGray(p=0.01), CLAHE(p=0.01, clip_limit=(1, 4.0), tile_grid_size=(8, 8))\n"
     ]
    },
    {
     "name": "stderr",
     "output_type": "stream",
     "text": [
      "\u001b[34m\u001b[1mval: \u001b[0mScanning /kaggle/input/pestvisiondata/pestvision_data/synthetic_data/DeepImageBlendingData/run3/paddy-disease-classification/labels/val... 2073 images, 233 backgrounds, 0 corrupt: 100%|██████████| 2306/2306 [00:08<00:00, 259.90it/s]\n"
     ]
    },
    {
     "name": "stdout",
     "output_type": "stream",
     "text": [
      "\u001b[34m\u001b[1mval: \u001b[0mWARNING ⚠️ Cache directory /kaggle/input/pestvisiondata/pestvision_data/synthetic_data/DeepImageBlendingData/run3/paddy-disease-classification/labels is not writeable, cache not saved.\n",
      "Plotting labels to runs/detect/train/labels.jpg... \n",
      "\u001b[34m\u001b[1moptimizer:\u001b[0m 'optimizer=auto' found, ignoring 'lr0=0.01' and 'momentum=0.937' and determining best 'optimizer', 'lr0' and 'momentum' automatically... \n",
      "\u001b[34m\u001b[1moptimizer:\u001b[0m AdamW(lr=9.4e-05, momentum=0.9) with parameter groups 57 weight(decay=0.0), 64 weight(decay=0.0004921875), 63 bias(decay=0.0)\n",
      "\u001b[34m\u001b[1mTensorBoard: \u001b[0mmodel graph visualization added ✅\n",
      "Image sizes 640 train, 640 val\n",
      "Using 4 dataloader workers\n",
      "Logging results to \u001b[1mruns/detect/train\u001b[0m\n",
      "Starting training for 50 epochs...\n",
      "\n",
      "      Epoch    GPU_mem   box_loss   cls_loss   dfl_loss  Instances       Size\n"
     ]
    },
    {
     "name": "stderr",
     "output_type": "stream",
     "text": [
      "       1/50      10.2G      4.102      6.357      4.213        257        640: 100%|██████████| 159/159 [02:14<00:00,  1.18it/s]\n",
      "                 Class     Images  Instances      Box(P          R      mAP50  mAP50-95): 100%|██████████| 19/19 [00:17<00:00,  1.07it/s]"
     ]
    },
    {
     "name": "stdout",
     "output_type": "stream",
     "text": [
      "                   all       2306      11390   0.000537   2.91e-05    0.00027   7.05e-05\n"
     ]
    },
    {
     "name": "stderr",
     "output_type": "stream",
     "text": [
      "\n"
     ]
    },
    {
     "name": "stdout",
     "output_type": "stream",
     "text": [
      "\n",
      "      Epoch    GPU_mem   box_loss   cls_loss   dfl_loss  Instances       Size\n"
     ]
    },
    {
     "name": "stderr",
     "output_type": "stream",
     "text": [
      "       2/50      10.3G      3.368      5.922      3.823        357        640: 100%|██████████| 159/159 [02:14<00:00,  1.18it/s]\n",
      "                 Class     Images  Instances      Box(P          R      mAP50  mAP50-95): 100%|██████████| 19/19 [00:19<00:00,  1.05s/it]\n"
     ]
    },
    {
     "name": "stdout",
     "output_type": "stream",
     "text": [
      "                   all       2306      11390       0.38     0.0113    0.00297   0.000959\n",
      "\n",
      "      Epoch    GPU_mem   box_loss   cls_loss   dfl_loss  Instances       Size\n"
     ]
    },
    {
     "name": "stderr",
     "output_type": "stream",
     "text": [
      "       3/50      10.1G       2.83      5.242      3.163        364        640: 100%|██████████| 159/159 [02:13<00:00,  1.19it/s]\n",
      "                 Class     Images  Instances      Box(P          R      mAP50  mAP50-95): 100%|██████████| 19/19 [00:21<00:00,  1.11s/it]\n"
     ]
    },
    {
     "name": "stdout",
     "output_type": "stream",
     "text": [
      "                   all       2306      11390      0.367     0.0108    0.00328    0.00134\n",
      "\n",
      "      Epoch    GPU_mem   box_loss   cls_loss   dfl_loss  Instances       Size\n"
     ]
    },
    {
     "name": "stderr",
     "output_type": "stream",
     "text": [
      "       4/50      10.1G      2.596       4.72      2.718        402        640: 100%|██████████| 159/159 [02:14<00:00,  1.18it/s]\n",
      "                 Class     Images  Instances      Box(P          R      mAP50  mAP50-95): 100%|██████████| 19/19 [00:19<00:00,  1.05s/it]\n"
     ]
    },
    {
     "name": "stdout",
     "output_type": "stream",
     "text": [
      "                   all       2306      11390    0.00324      0.114    0.00385    0.00146\n",
      "\n",
      "      Epoch    GPU_mem   box_loss   cls_loss   dfl_loss  Instances       Size\n"
     ]
    },
    {
     "name": "stderr",
     "output_type": "stream",
     "text": [
      "       5/50      10.1G      2.458       4.46      2.504        344        640: 100%|██████████| 159/159 [02:14<00:00,  1.18it/s]\n",
      "                 Class     Images  Instances      Box(P          R      mAP50  mAP50-95): 100%|██████████| 19/19 [00:20<00:00,  1.07s/it]\n"
     ]
    },
    {
     "name": "stdout",
     "output_type": "stream",
     "text": [
      "                   all       2306      11390    0.00261      0.118    0.00399    0.00156\n",
      "\n",
      "      Epoch    GPU_mem   box_loss   cls_loss   dfl_loss  Instances       Size\n"
     ]
    },
    {
     "name": "stderr",
     "output_type": "stream",
     "text": [
      "       6/50      10.1G      2.338      4.287      2.382        260        640: 100%|██████████| 159/159 [02:12<00:00,  1.20it/s]\n",
      "                 Class     Images  Instances      Box(P          R      mAP50  mAP50-95): 100%|██████████| 19/19 [00:23<00:00,  1.26s/it]\n"
     ]
    },
    {
     "name": "stdout",
     "output_type": "stream",
     "text": [
      "                   all       2306      11390    0.00324      0.126    0.00421    0.00147\n",
      "\n",
      "      Epoch    GPU_mem   box_loss   cls_loss   dfl_loss  Instances       Size\n"
     ]
    },
    {
     "name": "stderr",
     "output_type": "stream",
     "text": [
      "       7/50      10.1G      2.247      4.193      2.293        373        640: 100%|██████████| 159/159 [02:14<00:00,  1.18it/s]\n",
      "                 Class     Images  Instances      Box(P          R      mAP50  mAP50-95): 100%|██████████| 19/19 [00:22<00:00,  1.17s/it]\n"
     ]
    },
    {
     "name": "stdout",
     "output_type": "stream",
     "text": [
      "                   all       2306      11390    0.00377      0.173    0.00719    0.00269\n",
      "\n",
      "      Epoch    GPU_mem   box_loss   cls_loss   dfl_loss  Instances       Size\n"
     ]
    },
    {
     "name": "stderr",
     "output_type": "stream",
     "text": [
      "       8/50      10.1G      2.167      4.132       2.24        324        640: 100%|██████████| 159/159 [02:14<00:00,  1.18it/s]\n",
      "                 Class     Images  Instances      Box(P          R      mAP50  mAP50-95): 100%|██████████| 19/19 [00:22<00:00,  1.16s/it]\n"
     ]
    },
    {
     "name": "stdout",
     "output_type": "stream",
     "text": [
      "                   all       2306      11390    0.00409      0.192     0.0082    0.00327\n",
      "\n",
      "      Epoch    GPU_mem   box_loss   cls_loss   dfl_loss  Instances       Size\n"
     ]
    },
    {
     "name": "stderr",
     "output_type": "stream",
     "text": [
      "       9/50      10.4G      2.115      4.063       2.19        317        640: 100%|██████████| 159/159 [02:13<00:00,  1.19it/s]\n",
      "                 Class     Images  Instances      Box(P          R      mAP50  mAP50-95): 100%|██████████| 19/19 [00:22<00:00,  1.19s/it]\n"
     ]
    },
    {
     "name": "stdout",
     "output_type": "stream",
     "text": [
      "                   all       2306      11390     0.0875      0.176    0.00738    0.00274\n",
      "\n",
      "      Epoch    GPU_mem   box_loss   cls_loss   dfl_loss  Instances       Size\n"
     ]
    },
    {
     "name": "stderr",
     "output_type": "stream",
     "text": [
      "      10/50      10.4G      2.083      4.008      2.151        326        640: 100%|██████████| 159/159 [02:14<00:00,  1.18it/s]\n",
      "                 Class     Images  Instances      Box(P          R      mAP50  mAP50-95): 100%|██████████| 19/19 [00:22<00:00,  1.16s/it]\n"
     ]
    },
    {
     "name": "stdout",
     "output_type": "stream",
     "text": [
      "                   all       2306      11390    0.00441      0.212    0.00976    0.00386\n",
      "\n",
      "      Epoch    GPU_mem   box_loss   cls_loss   dfl_loss  Instances       Size\n"
     ]
    },
    {
     "name": "stderr",
     "output_type": "stream",
     "text": [
      "      11/50      10.1G      2.057      3.972      2.119        325        640: 100%|██████████| 159/159 [02:15<00:00,  1.18it/s]\n",
      "                 Class     Images  Instances      Box(P          R      mAP50  mAP50-95): 100%|██████████| 19/19 [00:21<00:00,  1.13s/it]\n"
     ]
    },
    {
     "name": "stdout",
     "output_type": "stream",
     "text": [
      "                   all       2306      11390    0.00439      0.211    0.00925    0.00366\n",
      "\n",
      "      Epoch    GPU_mem   box_loss   cls_loss   dfl_loss  Instances       Size\n"
     ]
    },
    {
     "name": "stderr",
     "output_type": "stream",
     "text": [
      "      12/50      10.1G      2.026       3.93      2.086        304        640: 100%|██████████| 159/159 [02:15<00:00,  1.17it/s]\n",
      "                 Class     Images  Instances      Box(P          R      mAP50  mAP50-95): 100%|██████████| 19/19 [00:22<00:00,  1.18s/it]\n"
     ]
    },
    {
     "name": "stdout",
     "output_type": "stream",
     "text": [
      "                   all       2306      11390      0.371     0.0928     0.0105    0.00425\n",
      "\n",
      "      Epoch    GPU_mem   box_loss   cls_loss   dfl_loss  Instances       Size\n"
     ]
    },
    {
     "name": "stderr",
     "output_type": "stream",
     "text": [
      "      13/50      10.1G      2.002      3.893      2.066        311        640: 100%|██████████| 159/159 [02:16<00:00,  1.17it/s]\n",
      "                 Class     Images  Instances      Box(P          R      mAP50  mAP50-95): 100%|██████████| 19/19 [00:21<00:00,  1.15s/it]\n"
     ]
    },
    {
     "name": "stdout",
     "output_type": "stream",
     "text": [
      "                   all       2306      11390    0.00488      0.235     0.0106    0.00426\n",
      "\n",
      "      Epoch    GPU_mem   box_loss   cls_loss   dfl_loss  Instances       Size\n"
     ]
    },
    {
     "name": "stderr",
     "output_type": "stream",
     "text": [
      "      14/50      10.1G       1.99      3.863      2.045        287        640: 100%|██████████| 159/159 [02:15<00:00,  1.17it/s]\n",
      "                 Class     Images  Instances      Box(P          R      mAP50  mAP50-95): 100%|██████████| 19/19 [00:23<00:00,  1.23s/it]\n"
     ]
    },
    {
     "name": "stdout",
     "output_type": "stream",
     "text": [
      "                   all       2306      11390      0.404     0.0647      0.011      0.004\n",
      "\n",
      "      Epoch    GPU_mem   box_loss   cls_loss   dfl_loss  Instances       Size\n"
     ]
    },
    {
     "name": "stderr",
     "output_type": "stream",
     "text": [
      "      15/50      10.1G      1.975      3.842      2.033        266        640: 100%|██████████| 159/159 [02:15<00:00,  1.18it/s]\n",
      "                 Class     Images  Instances      Box(P          R      mAP50  mAP50-95): 100%|██████████| 19/19 [00:23<00:00,  1.22s/it]\n"
     ]
    },
    {
     "name": "stdout",
     "output_type": "stream",
     "text": [
      "                   all       2306      11390      0.216      0.133     0.0121    0.00478\n",
      "\n",
      "      Epoch    GPU_mem   box_loss   cls_loss   dfl_loss  Instances       Size\n"
     ]
    },
    {
     "name": "stderr",
     "output_type": "stream",
     "text": [
      "      16/50      10.1G       1.96      3.819      2.015        346        640: 100%|██████████| 159/159 [02:14<00:00,  1.18it/s]\n",
      "                 Class     Images  Instances      Box(P          R      mAP50  mAP50-95): 100%|██████████| 19/19 [00:23<00:00,  1.23s/it]\n"
     ]
    },
    {
     "name": "stdout",
     "output_type": "stream",
     "text": [
      "                   all       2306      11390       0.26      0.114     0.0131    0.00547\n",
      "\n",
      "      Epoch    GPU_mem   box_loss   cls_loss   dfl_loss  Instances       Size\n"
     ]
    },
    {
     "name": "stderr",
     "output_type": "stream",
     "text": [
      "      17/50      10.1G      1.948      3.793      2.003        314        640: 100%|██████████| 159/159 [02:13<00:00,  1.19it/s]\n",
      "                 Class     Images  Instances      Box(P          R      mAP50  mAP50-95): 100%|██████████| 19/19 [00:22<00:00,  1.19s/it]\n"
     ]
    },
    {
     "name": "stdout",
     "output_type": "stream",
     "text": [
      "                   all       2306      11390      0.417     0.0553     0.0143     0.0058\n",
      "\n",
      "      Epoch    GPU_mem   box_loss   cls_loss   dfl_loss  Instances       Size\n"
     ]
    },
    {
     "name": "stderr",
     "output_type": "stream",
     "text": [
      "      18/50      10.1G      1.928      3.758       1.99        341        640: 100%|██████████| 159/159 [02:14<00:00,  1.19it/s]\n",
      "                 Class     Images  Instances      Box(P          R      mAP50  mAP50-95): 100%|██████████| 19/19 [00:22<00:00,  1.20s/it]\n"
     ]
    },
    {
     "name": "stdout",
     "output_type": "stream",
     "text": [
      "                   all       2306      11390      0.302      0.132     0.0151    0.00629\n",
      "\n",
      "      Epoch    GPU_mem   box_loss   cls_loss   dfl_loss  Instances       Size\n"
     ]
    },
    {
     "name": "stderr",
     "output_type": "stream",
     "text": [
      "      19/50      10.1G      1.928      3.757      1.987        321        640: 100%|██████████| 159/159 [02:14<00:00,  1.18it/s]\n",
      "                 Class     Images  Instances      Box(P          R      mAP50  mAP50-95): 100%|██████████| 19/19 [00:22<00:00,  1.20s/it]\n"
     ]
    },
    {
     "name": "stdout",
     "output_type": "stream",
     "text": [
      "                   all       2306      11390      0.391     0.0656     0.0155    0.00651\n",
      "\n",
      "      Epoch    GPU_mem   box_loss   cls_loss   dfl_loss  Instances       Size\n"
     ]
    },
    {
     "name": "stderr",
     "output_type": "stream",
     "text": [
      "      20/50      10.4G      1.911      3.733      1.975        364        640: 100%|██████████| 159/159 [02:14<00:00,  1.18it/s]\n",
      "                 Class     Images  Instances      Box(P          R      mAP50  mAP50-95): 100%|██████████| 19/19 [00:22<00:00,  1.18s/it]\n"
     ]
    },
    {
     "name": "stdout",
     "output_type": "stream",
     "text": [
      "                   all       2306      11390      0.423     0.0651     0.0165    0.00701\n",
      "\n",
      "      Epoch    GPU_mem   box_loss   cls_loss   dfl_loss  Instances       Size\n"
     ]
    },
    {
     "name": "stderr",
     "output_type": "stream",
     "text": [
      "      21/50      10.1G      1.909      3.723      1.961        395        640: 100%|██████████| 159/159 [02:14<00:00,  1.19it/s]\n",
      "                 Class     Images  Instances      Box(P          R      mAP50  mAP50-95): 100%|██████████| 19/19 [00:22<00:00,  1.20s/it]\n"
     ]
    },
    {
     "name": "stdout",
     "output_type": "stream",
     "text": [
      "                   all       2306      11390      0.517     0.0447     0.0171    0.00747\n",
      "\n",
      "      Epoch    GPU_mem   box_loss   cls_loss   dfl_loss  Instances       Size\n"
     ]
    },
    {
     "name": "stderr",
     "output_type": "stream",
     "text": [
      "      22/50      10.1G      1.899      3.703       1.96        323        640: 100%|██████████| 159/159 [02:14<00:00,  1.18it/s]\n",
      "                 Class     Images  Instances      Box(P          R      mAP50  mAP50-95): 100%|██████████| 19/19 [00:22<00:00,  1.21s/it]\n"
     ]
    },
    {
     "name": "stdout",
     "output_type": "stream",
     "text": [
      "                   all       2306      11390      0.263      0.162     0.0176    0.00757\n",
      "\n",
      "      Epoch    GPU_mem   box_loss   cls_loss   dfl_loss  Instances       Size\n"
     ]
    },
    {
     "name": "stderr",
     "output_type": "stream",
     "text": [
      "      23/50      10.1G      1.892      3.696      1.954        322        640: 100%|██████████| 159/159 [02:14<00:00,  1.18it/s]\n",
      "                 Class     Images  Instances      Box(P          R      mAP50  mAP50-95): 100%|██████████| 19/19 [00:22<00:00,  1.20s/it]\n"
     ]
    },
    {
     "name": "stdout",
     "output_type": "stream",
     "text": [
      "                   all       2306      11390      0.513     0.0393     0.0193     0.0085\n",
      "\n",
      "      Epoch    GPU_mem   box_loss   cls_loss   dfl_loss  Instances       Size\n"
     ]
    },
    {
     "name": "stderr",
     "output_type": "stream",
     "text": [
      "      24/50      10.1G      1.885      3.664      1.943        371        640: 100%|██████████| 159/159 [02:15<00:00,  1.18it/s]\n",
      "                 Class     Images  Instances      Box(P          R      mAP50  mAP50-95): 100%|██████████| 19/19 [00:22<00:00,  1.17s/it]\n"
     ]
    },
    {
     "name": "stdout",
     "output_type": "stream",
     "text": [
      "                   all       2306      11390      0.566      0.042      0.018     0.0076\n",
      "\n",
      "      Epoch    GPU_mem   box_loss   cls_loss   dfl_loss  Instances       Size\n"
     ]
    },
    {
     "name": "stderr",
     "output_type": "stream",
     "text": [
      "      25/50      10.1G      1.877      3.656      1.942        313        640: 100%|██████████| 159/159 [02:14<00:00,  1.18it/s]\n",
      "                 Class     Images  Instances      Box(P          R      mAP50  mAP50-95): 100%|██████████| 19/19 [00:23<00:00,  1.21s/it]\n"
     ]
    },
    {
     "name": "stdout",
     "output_type": "stream",
     "text": [
      "                   all       2306      11390      0.455      0.066     0.0192    0.00825\n",
      "\n",
      "      Epoch    GPU_mem   box_loss   cls_loss   dfl_loss  Instances       Size\n"
     ]
    },
    {
     "name": "stderr",
     "output_type": "stream",
     "text": [
      "      26/50      10.1G      1.871      3.646      1.938        321        640: 100%|██████████| 159/159 [02:14<00:00,  1.18it/s]\n",
      "                 Class     Images  Instances      Box(P          R      mAP50  mAP50-95): 100%|██████████| 19/19 [00:23<00:00,  1.24s/it]\n"
     ]
    },
    {
     "name": "stdout",
     "output_type": "stream",
     "text": [
      "                   all       2306      11390      0.566     0.0367     0.0198    0.00828\n",
      "\n",
      "      Epoch    GPU_mem   box_loss   cls_loss   dfl_loss  Instances       Size\n"
     ]
    },
    {
     "name": "stderr",
     "output_type": "stream",
     "text": [
      "      27/50      10.1G      1.864      3.639      1.936        357        640: 100%|██████████| 159/159 [02:15<00:00,  1.18it/s]\n",
      "                 Class     Images  Instances      Box(P          R      mAP50  mAP50-95): 100%|██████████| 19/19 [00:22<00:00,  1.21s/it]\n"
     ]
    },
    {
     "name": "stdout",
     "output_type": "stream",
     "text": [
      "                   all       2306      11390      0.624     0.0333     0.0216    0.00956\n",
      "\n",
      "      Epoch    GPU_mem   box_loss   cls_loss   dfl_loss  Instances       Size\n"
     ]
    },
    {
     "name": "stderr",
     "output_type": "stream",
     "text": [
      "      28/50      10.1G      1.866      3.621      1.932        345        640: 100%|██████████| 159/159 [02:14<00:00,  1.18it/s]\n",
      "                 Class     Images  Instances      Box(P          R      mAP50  mAP50-95): 100%|██████████| 19/19 [00:23<00:00,  1.23s/it]\n"
     ]
    },
    {
     "name": "stdout",
     "output_type": "stream",
     "text": [
      "                   all       2306      11390      0.584     0.0385     0.0208    0.00892\n",
      "\n",
      "      Epoch    GPU_mem   box_loss   cls_loss   dfl_loss  Instances       Size\n"
     ]
    },
    {
     "name": "stderr",
     "output_type": "stream",
     "text": [
      "      29/50      10.1G      1.856      3.607      1.923        298        640: 100%|██████████| 159/159 [02:12<00:00,  1.20it/s]\n",
      "                 Class     Images  Instances      Box(P          R      mAP50  mAP50-95): 100%|██████████| 19/19 [00:22<00:00,  1.19s/it]\n"
     ]
    },
    {
     "name": "stdout",
     "output_type": "stream",
     "text": [
      "                   all       2306      11390      0.583      0.037     0.0237     0.0105\n",
      "\n",
      "      Epoch    GPU_mem   box_loss   cls_loss   dfl_loss  Instances       Size\n"
     ]
    },
    {
     "name": "stderr",
     "output_type": "stream",
     "text": [
      "      30/50      10.1G      1.847      3.598      1.918        399        640: 100%|██████████| 159/159 [02:10<00:00,  1.22it/s]\n",
      "                 Class     Images  Instances      Box(P          R      mAP50  mAP50-95): 100%|██████████| 19/19 [00:23<00:00,  1.22s/it]\n"
     ]
    },
    {
     "name": "stdout",
     "output_type": "stream",
     "text": [
      "                   all       2306      11390      0.583     0.0381     0.0244     0.0106\n",
      "\n",
      "      Epoch    GPU_mem   box_loss   cls_loss   dfl_loss  Instances       Size\n"
     ]
    },
    {
     "name": "stderr",
     "output_type": "stream",
     "text": [
      "      31/50      10.1G      1.853      3.596      1.915        419        640: 100%|██████████| 159/159 [02:10<00:00,  1.21it/s]\n",
      "                 Class     Images  Instances      Box(P          R      mAP50  mAP50-95): 100%|██████████| 19/19 [00:22<00:00,  1.20s/it]\n"
     ]
    },
    {
     "name": "stdout",
     "output_type": "stream",
     "text": [
      "                   all       2306      11390      0.582     0.0383     0.0236     0.0105\n",
      "\n",
      "      Epoch    GPU_mem   box_loss   cls_loss   dfl_loss  Instances       Size\n"
     ]
    },
    {
     "name": "stderr",
     "output_type": "stream",
     "text": [
      "      32/50      10.1G      1.848      3.587      1.908        364        640: 100%|██████████| 159/159 [02:10<00:00,  1.22it/s]\n",
      "                 Class     Images  Instances      Box(P          R      mAP50  mAP50-95): 100%|██████████| 19/19 [00:22<00:00,  1.21s/it]\n"
     ]
    },
    {
     "name": "stdout",
     "output_type": "stream",
     "text": [
      "                   all       2306      11390      0.586     0.0407     0.0225    0.00966\n",
      "\n",
      "      Epoch    GPU_mem   box_loss   cls_loss   dfl_loss  Instances       Size\n"
     ]
    },
    {
     "name": "stderr",
     "output_type": "stream",
     "text": [
      "      33/50      10.1G      1.846      3.567      1.904        398        640: 100%|██████████| 159/159 [02:10<00:00,  1.22it/s]\n",
      "                 Class     Images  Instances      Box(P          R      mAP50  mAP50-95): 100%|██████████| 19/19 [00:22<00:00,  1.16s/it]\n"
     ]
    },
    {
     "name": "stdout",
     "output_type": "stream",
     "text": [
      "                   all       2306      11390      0.569     0.0436     0.0245     0.0109\n",
      "\n",
      "      Epoch    GPU_mem   box_loss   cls_loss   dfl_loss  Instances       Size\n"
     ]
    },
    {
     "name": "stderr",
     "output_type": "stream",
     "text": [
      "      34/50      10.1G      1.841      3.568        1.9        374        640: 100%|██████████| 159/159 [02:11<00:00,  1.21it/s]\n",
      "                 Class     Images  Instances      Box(P          R      mAP50  mAP50-95): 100%|██████████| 19/19 [00:21<00:00,  1.16s/it]\n"
     ]
    },
    {
     "name": "stdout",
     "output_type": "stream",
     "text": [
      "                   all       2306      11390      0.571     0.0419     0.0232    0.00993\n",
      "\n",
      "      Epoch    GPU_mem   box_loss   cls_loss   dfl_loss  Instances       Size\n"
     ]
    },
    {
     "name": "stderr",
     "output_type": "stream",
     "text": [
      "      35/50      10.1G      1.832      3.553      1.902        404        640: 100%|██████████| 159/159 [02:12<00:00,  1.20it/s]\n",
      "                 Class     Images  Instances      Box(P          R      mAP50  mAP50-95): 100%|██████████| 19/19 [00:22<00:00,  1.16s/it]\n"
     ]
    },
    {
     "name": "stdout",
     "output_type": "stream",
     "text": [
      "                   all       2306      11390      0.571     0.0394     0.0254     0.0116\n",
      "\n",
      "      Epoch    GPU_mem   box_loss   cls_loss   dfl_loss  Instances       Size\n"
     ]
    },
    {
     "name": "stderr",
     "output_type": "stream",
     "text": [
      "      36/50      10.1G      1.831      3.553      1.901        333        640: 100%|██████████| 159/159 [02:10<00:00,  1.22it/s]\n",
      "                 Class     Images  Instances      Box(P          R      mAP50  mAP50-95): 100%|██████████| 19/19 [00:22<00:00,  1.17s/it]\n"
     ]
    },
    {
     "name": "stdout",
     "output_type": "stream",
     "text": [
      "                   all       2306      11390      0.563     0.0427      0.025     0.0111\n",
      "\n",
      "      Epoch    GPU_mem   box_loss   cls_loss   dfl_loss  Instances       Size\n"
     ]
    },
    {
     "name": "stderr",
     "output_type": "stream",
     "text": [
      "      37/50      10.1G      1.831      3.543      1.904        300        640: 100%|██████████| 159/159 [02:10<00:00,  1.22it/s]\n",
      "                 Class     Images  Instances      Box(P          R      mAP50  mAP50-95): 100%|██████████| 19/19 [00:23<00:00,  1.22s/it]\n"
     ]
    },
    {
     "name": "stdout",
     "output_type": "stream",
     "text": [
      "                   all       2306      11390      0.566     0.0429     0.0267     0.0122\n",
      "\n",
      "      Epoch    GPU_mem   box_loss   cls_loss   dfl_loss  Instances       Size\n"
     ]
    },
    {
     "name": "stderr",
     "output_type": "stream",
     "text": [
      "      38/50      10.1G      1.826      3.535      1.894        395        640: 100%|██████████| 159/159 [02:10<00:00,  1.22it/s]\n",
      "                 Class     Images  Instances      Box(P          R      mAP50  mAP50-95): 100%|██████████| 19/19 [00:22<00:00,  1.20s/it]\n"
     ]
    },
    {
     "name": "stdout",
     "output_type": "stream",
     "text": [
      "                   all       2306      11390      0.566      0.047     0.0272     0.0122\n",
      "\n",
      "      Epoch    GPU_mem   box_loss   cls_loss   dfl_loss  Instances       Size\n"
     ]
    },
    {
     "name": "stderr",
     "output_type": "stream",
     "text": [
      "      39/50      10.1G      1.832      3.532      1.893        360        640: 100%|██████████| 159/159 [02:11<00:00,  1.21it/s]\n",
      "                 Class     Images  Instances      Box(P          R      mAP50  mAP50-95): 100%|██████████| 19/19 [00:22<00:00,  1.20s/it]\n"
     ]
    },
    {
     "name": "stdout",
     "output_type": "stream",
     "text": [
      "                   all       2306      11390      0.562     0.0449     0.0283     0.0127\n",
      "\n",
      "      Epoch    GPU_mem   box_loss   cls_loss   dfl_loss  Instances       Size\n"
     ]
    },
    {
     "name": "stderr",
     "output_type": "stream",
     "text": [
      "      40/50      10.1G      1.822       3.53      1.888        349        640: 100%|██████████| 159/159 [02:10<00:00,  1.21it/s]\n",
      "                 Class     Images  Instances      Box(P          R      mAP50  mAP50-95): 100%|██████████| 19/19 [00:22<00:00,  1.17s/it]\n"
     ]
    },
    {
     "name": "stdout",
     "output_type": "stream",
     "text": [
      "                   all       2306      11390      0.549     0.0446     0.0287     0.0132\n",
      "Closing dataloader mosaic\n",
      "\u001b[34m\u001b[1malbumentations: \u001b[0mBlur(p=0.01, blur_limit=(3, 7)), MedianBlur(p=0.01, blur_limit=(3, 7)), ToGray(p=0.01), CLAHE(p=0.01, clip_limit=(1, 4.0), tile_grid_size=(8, 8))\n",
      "\n",
      "      Epoch    GPU_mem   box_loss   cls_loss   dfl_loss  Instances       Size\n"
     ]
    },
    {
     "name": "stderr",
     "output_type": "stream",
     "text": [
      "      41/50        11G      1.741      3.481       2.05        203        640: 100%|██████████| 159/159 [02:11<00:00,  1.21it/s]\n",
      "                 Class     Images  Instances      Box(P          R      mAP50  mAP50-95): 100%|██████████| 19/19 [00:21<00:00,  1.13s/it]\n"
     ]
    },
    {
     "name": "stdout",
     "output_type": "stream",
     "text": [
      "                   all       2306      11390      0.561     0.0485     0.0283     0.0136\n",
      "\n",
      "      Epoch    GPU_mem   box_loss   cls_loss   dfl_loss  Instances       Size\n"
     ]
    },
    {
     "name": "stderr",
     "output_type": "stream",
     "text": [
      "      42/50      10.4G      1.719      3.443       2.03        230        640: 100%|██████████| 159/159 [02:04<00:00,  1.28it/s]\n",
      "                 Class     Images  Instances      Box(P          R      mAP50  mAP50-95): 100%|██████████| 19/19 [00:22<00:00,  1.16s/it]\n"
     ]
    },
    {
     "name": "stdout",
     "output_type": "stream",
     "text": [
      "                   all       2306      11390      0.574     0.0487      0.029     0.0141\n",
      "\n",
      "      Epoch    GPU_mem   box_loss   cls_loss   dfl_loss  Instances       Size\n"
     ]
    },
    {
     "name": "stderr",
     "output_type": "stream",
     "text": [
      "      43/50      10.4G       1.71      3.429      2.022        216        640: 100%|██████████| 159/159 [02:03<00:00,  1.28it/s]\n",
      "                 Class     Images  Instances      Box(P          R      mAP50  mAP50-95): 100%|██████████| 19/19 [00:21<00:00,  1.11s/it]\n"
     ]
    },
    {
     "name": "stdout",
     "output_type": "stream",
     "text": [
      "                   all       2306      11390      0.565     0.0477     0.0295     0.0141\n",
      "\n",
      "      Epoch    GPU_mem   box_loss   cls_loss   dfl_loss  Instances       Size\n"
     ]
    },
    {
     "name": "stderr",
     "output_type": "stream",
     "text": [
      "      44/50      10.4G      1.712      3.417      2.011        226        640: 100%|██████████| 159/159 [02:06<00:00,  1.26it/s]\n",
      "                 Class     Images  Instances      Box(P          R      mAP50  mAP50-95): 100%|██████████| 19/19 [00:21<00:00,  1.15s/it]\n"
     ]
    },
    {
     "name": "stdout",
     "output_type": "stream",
     "text": [
      "                   all       2306      11390      0.573     0.0489     0.0292     0.0141\n",
      "\n",
      "      Epoch    GPU_mem   box_loss   cls_loss   dfl_loss  Instances       Size\n"
     ]
    },
    {
     "name": "stderr",
     "output_type": "stream",
     "text": [
      "      45/50      10.4G      1.705      3.409      2.013        211        640: 100%|██████████| 159/159 [02:06<00:00,  1.26it/s]\n",
      "                 Class     Images  Instances      Box(P          R      mAP50  mAP50-95): 100%|██████████| 19/19 [00:21<00:00,  1.15s/it]\n"
     ]
    },
    {
     "name": "stdout",
     "output_type": "stream",
     "text": [
      "                   all       2306      11390      0.574     0.0511     0.0293     0.0143\n",
      "\n",
      "      Epoch    GPU_mem   box_loss   cls_loss   dfl_loss  Instances       Size\n"
     ]
    },
    {
     "name": "stderr",
     "output_type": "stream",
     "text": [
      "      46/50      10.4G      1.705      3.407      2.016        238        640: 100%|██████████| 159/159 [02:03<00:00,  1.28it/s]\n",
      "                 Class     Images  Instances      Box(P          R      mAP50  mAP50-95): 100%|██████████| 19/19 [00:21<00:00,  1.14s/it]\n"
     ]
    },
    {
     "name": "stdout",
     "output_type": "stream",
     "text": [
      "                   all       2306      11390      0.575     0.0512     0.0299     0.0144\n",
      "\n",
      "      Epoch    GPU_mem   box_loss   cls_loss   dfl_loss  Instances       Size\n"
     ]
    },
    {
     "name": "stderr",
     "output_type": "stream",
     "text": [
      "      47/50      10.4G      1.704      3.404      2.012        198        640: 100%|██████████| 159/159 [02:03<00:00,  1.28it/s]\n",
      "                 Class     Images  Instances      Box(P          R      mAP50  mAP50-95): 100%|██████████| 19/19 [00:22<00:00,  1.16s/it]\n"
     ]
    },
    {
     "name": "stdout",
     "output_type": "stream",
     "text": [
      "                   all       2306      11390      0.573     0.0521     0.0302     0.0147\n",
      "\n",
      "      Epoch    GPU_mem   box_loss   cls_loss   dfl_loss  Instances       Size\n"
     ]
    },
    {
     "name": "stderr",
     "output_type": "stream",
     "text": [
      "      48/50      10.4G      1.699      3.398      2.014        276        640: 100%|██████████| 159/159 [02:04<00:00,  1.27it/s]\n",
      "                 Class     Images  Instances      Box(P          R      mAP50  mAP50-95): 100%|██████████| 19/19 [00:21<00:00,  1.14s/it]\n"
     ]
    },
    {
     "name": "stdout",
     "output_type": "stream",
     "text": [
      "                   all       2306      11390      0.573      0.052     0.0306     0.0149\n",
      "\n",
      "      Epoch    GPU_mem   box_loss   cls_loss   dfl_loss  Instances       Size\n"
     ]
    },
    {
     "name": "stderr",
     "output_type": "stream",
     "text": [
      "      49/50      10.4G      1.699      3.394      2.009        203        640: 100%|██████████| 159/159 [02:05<00:00,  1.27it/s]\n",
      "                 Class     Images  Instances      Box(P          R      mAP50  mAP50-95): 100%|██████████| 19/19 [00:22<00:00,  1.16s/it]\n"
     ]
    },
    {
     "name": "stdout",
     "output_type": "stream",
     "text": [
      "                   all       2306      11390      0.574     0.0525     0.0307      0.015\n",
      "\n",
      "      Epoch    GPU_mem   box_loss   cls_loss   dfl_loss  Instances       Size\n"
     ]
    },
    {
     "name": "stderr",
     "output_type": "stream",
     "text": [
      "      50/50      10.4G      1.705      3.394      2.008        226        640: 100%|██████████| 159/159 [02:05<00:00,  1.26it/s]\n",
      "                 Class     Images  Instances      Box(P          R      mAP50  mAP50-95): 100%|██████████| 19/19 [00:20<00:00,  1.10s/it]\n"
     ]
    },
    {
     "name": "stdout",
     "output_type": "stream",
     "text": [
      "                   all       2306      11390      0.563     0.0532     0.0309      0.015\n",
      "\n",
      "50 epochs completed in 2.178 hours.\n",
      "Optimizer stripped from runs/detect/train/weights/last.pt, 6.9MB\n",
      "Optimizer stripped from runs/detect/train/weights/best.pt, 6.9MB\n",
      "\n",
      "Validating runs/detect/train/weights/best.pt...\n",
      "Ultralytics YOLOv8.2.20 🚀 Python-3.10.13 torch-2.1.2 CUDA:0 (Tesla P100-PCIE-16GB, 16276MiB)\n",
      "YOLOv8n summary (fused): 168 layers, 3341330 parameters, 0 gradients, 9.6 GFLOPs\n"
     ]
    },
    {
     "name": "stderr",
     "output_type": "stream",
     "text": [
      "                 Class     Images  Instances      Box(P          R      mAP50  mAP50-95): 100%|██████████| 19/19 [00:22<00:00,  1.20s/it]\n"
     ]
    },
    {
     "name": "stdout",
     "output_type": "stream",
     "text": [
      "                   all       2306      11390      0.563     0.0532     0.0308      0.015\n",
      "                     1       2306         77          0          0    0.00712    0.00318\n",
      "                     2       2306         83          0          0    0.00793    0.00395\n",
      "                     3       2306         15          1          0          0          0\n",
      "                     4       2306        110        0.1    0.00909     0.0205      0.011\n",
      "                     5       2306         47          1          0     0.0186    0.00883\n",
      "                     6       2306         62          1          0     0.0109    0.00507\n",
      "                     7       2306         21          1          0          0          0\n",
      "                     8       2306         74          1          0     0.0145    0.00623\n",
      "                     9       2306         48          1          0     0.0085    0.00498\n",
      "                    10       2306         33          1          0          0          0\n",
      "                    11       2306        101          0          0    0.00909    0.00378\n",
      "                    12       2306         81          1          0    0.00733    0.00327\n",
      "                    13       2306         18          1          0          0          0\n",
      "                    14       2306         15          1          0          0          0\n",
      "                    15       2306        244     0.0618     0.0615     0.0244      0.011\n",
      "                    16       2306        515      0.104      0.427      0.109     0.0488\n",
      "                    17       2306        265      0.148      0.287     0.0944     0.0407\n",
      "                    18       2306         38          1          0   0.000808   0.000242\n",
      "                    19       2306        185     0.0959     0.0595     0.0419      0.018\n",
      "                    20       2306         98          0          0     0.0171     0.0091\n",
      "                    21       2306        110      0.129      0.109     0.0542      0.028\n",
      "                    22       2306        109      0.167       0.45      0.162     0.0832\n",
      "                    23       2306        257     0.0834      0.152     0.0495     0.0253\n",
      "                    24       2306        114     0.0801     0.0175     0.0323      0.016\n",
      "                    25       2306        530      0.141     0.0396     0.0387     0.0147\n",
      "                    26       2306        121          0          0    0.00883    0.00329\n",
      "                    27       2306        132     0.0169     0.0152     0.0226     0.0116\n",
      "                    28       2306         78          1          0     0.0059    0.00319\n",
      "                    29       2306         15          1          0          0          0\n",
      "                    30       2306         47          1          0    0.00335   0.000814\n",
      "                    31       2306         14          1          0    0.00417    0.00167\n",
      "                    32       2306         50          1          0     0.0179    0.00704\n",
      "                    33       2306         39          1          0     0.0203     0.0109\n",
      "                    34       2306         55          1          0    0.00351    0.00114\n",
      "                    35       2306         68          1          0    0.00987    0.00479\n",
      "                    36       2306         18          1          0    0.00463    0.00185\n",
      "                    37       2306         24          1          0     0.0523     0.0262\n",
      "                    38       2306        193      0.153      0.057     0.0616     0.0256\n",
      "                    39       2306        155          0          0     0.0195    0.00733\n",
      "                    40       2306        245     0.0574     0.0163     0.0271     0.0117\n",
      "                    41       2306         44          1          0    0.00986     0.0035\n",
      "                    42       2306         60          0          0     0.0137    0.00683\n",
      "                    43       2306         99          1          0     0.0119    0.00305\n",
      "                    44       2306         50          1          0     0.0105    0.00514\n",
      "                    45       2306         43          1          0    0.00515    0.00195\n",
      "                    46       2306        235      0.107     0.0468     0.0367     0.0151\n",
      "                    47       2306        124          1          0     0.0123    0.00565\n",
      "                    48       2306        212     0.0438    0.00943     0.0461     0.0196\n",
      "                    49       2306        348     0.0268    0.00575     0.0375     0.0147\n",
      "                    50       2306        155          0          0     0.0351     0.0154\n",
      "                    51       2306        283      0.139      0.194     0.0972     0.0532\n",
      "                    52       2306        573      0.148       0.26      0.106     0.0389\n",
      "                    53       2306          3          0          0          0          0\n",
      "                    54       2306         39          1          0     0.0441     0.0281\n",
      "                    55       2306         30          1          0    0.00336    0.00207\n",
      "                    56       2306         11          1          0          0          0\n",
      "                    57       2306         49          1          0    0.00241   0.000978\n",
      "                    58       2306         18          1          0          0          0\n",
      "                    59       2306         57          1          0    0.00396    0.00186\n",
      "                    62       2306          3          1          0          0          0\n",
      "                    63       2306         70     0.0243     0.0143     0.0235    0.00744\n",
      "                    65       2306         35          1          0     0.0209    0.00706\n",
      "                    66       2306         18          1          0    0.00174    0.00027\n",
      "                    67       2306        154      0.165      0.539      0.246      0.142\n",
      "                    68       2306        191      0.118      0.251      0.104      0.041\n",
      "                    69       2306         86      0.034     0.0233     0.0147    0.00693\n",
      "                    70       2306        139      0.164     0.0576      0.065     0.0269\n",
      "                    71       2306        729      0.113       0.21      0.085     0.0365\n",
      "                    72       2306         53      0.114      0.208     0.0748     0.0438\n",
      "                    73       2306          7          1          0          0          0\n",
      "                    74       2306         57      0.139      0.526      0.167     0.0701\n",
      "                    75       2306         28      0.079     0.0357     0.0241    0.00897\n",
      "                    77       2306         90          1          0     0.0129    0.00469\n",
      "                    78       2306         12          1          0          0          0\n",
      "                    79       2306         39          0          0    0.00149     0.0006\n",
      "                    80       2306         29          1          0     0.0129    0.00691\n",
      "                    82       2306         14          1          0    0.00564    0.00191\n",
      "                    83       2306         44      0.135     0.0227     0.0368     0.0246\n",
      "                    84       2306         28          1          0    0.00483    0.00389\n",
      "                    85       2306         88          1          0     0.0226    0.00851\n",
      "                    86       2306         19          1          0     0.0367     0.0205\n",
      "                    87       2306        213     0.0242    0.00939     0.0269     0.0126\n",
      "                    88       2306         85     0.0329     0.0471     0.0244     0.0106\n",
      "                    89       2306         12          1          0     0.0061    0.00391\n",
      "                    90       2306          7          1          0          0          0\n",
      "                    91       2306         15          1          0          0          0\n",
      "                    92       2306          3          0          0          0          0\n",
      "                    93       2306         35          1          0    0.00797    0.00329\n",
      "                    94       2306         11          0          0          0          0\n",
      "                    95       2306         59          1          0    0.00528    0.00231\n",
      "                    96       2306        102          1          0     0.0208    0.00639\n",
      "                    97       2306         41          1          0    0.00719    0.00239\n",
      "                    98       2306         48      0.272     0.0706      0.101      0.073\n",
      "                    99       2306          9          1          0          0          0\n",
      "                   100       2306         72       0.12       0.25     0.0962     0.0647\n",
      "                   101       2306         37      0.102      0.027    0.00959    0.00711\n",
      "                   102       2306       1771      0.142      0.649      0.256      0.126\n",
      "Speed: 0.2ms preprocess, 2.2ms inference, 0.0ms loss, 3.4ms postprocess per image\n",
      "Results saved to \u001b[1mruns/detect/train\u001b[0m\n"
     ]
    },
    {
     "name": "stderr",
     "output_type": "stream",
     "text": [
      "\u001b[34m\u001b[1mwandb\u001b[0m:                                                                                \n",
      "\u001b[34m\u001b[1mwandb\u001b[0m: \n",
      "\u001b[34m\u001b[1mwandb\u001b[0m: Run history:\n",
      "\u001b[34m\u001b[1mwandb\u001b[0m:                  lr/pg0 ▃▆███▇▇▇▇▇▇▆▆▆▆▆▅▅▅▅▅▄▄▄▄▄▄▃▃▃▃▃▂▂▂▂▂▁▁▁\n",
      "\u001b[34m\u001b[1mwandb\u001b[0m:                  lr/pg1 ▃▆███▇▇▇▇▇▇▆▆▆▆▆▅▅▅▅▅▄▄▄▄▄▄▃▃▃▃▃▂▂▂▂▂▁▁▁\n",
      "\u001b[34m\u001b[1mwandb\u001b[0m:                  lr/pg2 ▃▆███▇▇▇▇▇▇▆▆▆▆▆▅▅▅▅▅▄▄▄▄▄▄▃▃▃▃▃▂▂▂▂▂▁▁▁\n",
      "\u001b[34m\u001b[1mwandb\u001b[0m:        metrics/mAP50(B) ▁▂▂▂▂▃▃▃▃▃▃▃▄▄▄▄▅▅▅▅▅▆▆▆▆▆▇▆▇▇▇▇▇███████\n",
      "\u001b[34m\u001b[1mwandb\u001b[0m:     metrics/mAP50-95(B) ▁▁▂▂▂▂▃▂▃▃▃▃▄▄▄▄▄▅▅▅▅▅▅▆▆▆▆▆▆▇▇▇▇███████\n",
      "\u001b[34m\u001b[1mwandb\u001b[0m:    metrics/precision(B) ▁▅▅▁▁▁▁▂▁▅▁▆▄▆▄▅▇▄▇▇▇█████▇▇▇▇▇▇▇▇▇▇▇▇▇▇\n",
      "\u001b[34m\u001b[1mwandb\u001b[0m:       metrics/recall(B) ▁▁▁▄▅▆▇▆▇▄█▃▄▃▅▃▂▆▂▂▂▂▂▂▂▂▂▂▂▂▂▂▂▂▂▂▃▃▃▃\n",
      "\u001b[34m\u001b[1mwandb\u001b[0m:            model/GFLOPs ▁\n",
      "\u001b[34m\u001b[1mwandb\u001b[0m:        model/parameters ▁\n",
      "\u001b[34m\u001b[1mwandb\u001b[0m: model/speed_PyTorch(ms) ▁\n",
      "\u001b[34m\u001b[1mwandb\u001b[0m:          train/box_loss █▆▄▄▃▃▂▂▂▂▂▂▂▂▂▂▂▂▂▂▂▁▁▁▁▁▁▁▁▁▁▁▁▁▁▁▁▁▁▁\n",
      "\u001b[34m\u001b[1mwandb\u001b[0m:          train/cls_loss █▇▅▄▃▃▃▃▂▂▂▂▂▂▂▂▂▂▂▂▂▂▂▂▁▁▁▁▁▁▁▁▁▁▁▁▁▁▁▁\n",
      "\u001b[34m\u001b[1mwandb\u001b[0m:          train/dfl_loss █▇▅▃▂▂▂▂▂▂▂▁▁▁▁▁▁▁▁▁▁▁▁▁▁▁▁▁▁▁▁▁▁▁▁▁▁▁▁▁\n",
      "\u001b[34m\u001b[1mwandb\u001b[0m:            val/box_loss █▄▄▃▃▂▂▂▂▂▂▂▂▂▂▂▂▂▂▂▂▁▂▂▂▂▂▂▂▂▂▂▁▁▁▁▁▁▁▁\n",
      "\u001b[34m\u001b[1mwandb\u001b[0m:            val/cls_loss █▅▄▄▃▃▃▃▂▂▂▂▂▂▂▂▂▂▂▂▂▁▁▁▁▁▁▁▁▁▁▁▁▁▁▁▁▁▁▁\n",
      "\u001b[34m\u001b[1mwandb\u001b[0m:            val/dfl_loss █▆▅▄▃▃▂▂▂▂▂▂▂▂▂▂▂▂▁▂▂▁▂▁▂▂▂▂▁▁▁▁▁▁▁▁▁▁▁▁\n",
      "\u001b[34m\u001b[1mwandb\u001b[0m: \n",
      "\u001b[34m\u001b[1mwandb\u001b[0m: Run summary:\n",
      "\u001b[34m\u001b[1mwandb\u001b[0m:                  lr/pg0 0.0\n",
      "\u001b[34m\u001b[1mwandb\u001b[0m:                  lr/pg1 0.0\n",
      "\u001b[34m\u001b[1mwandb\u001b[0m:                  lr/pg2 0.0\n",
      "\u001b[34m\u001b[1mwandb\u001b[0m:        metrics/mAP50(B) 0.0308\n",
      "\u001b[34m\u001b[1mwandb\u001b[0m:     metrics/mAP50-95(B) 0.01498\n",
      "\u001b[34m\u001b[1mwandb\u001b[0m:    metrics/precision(B) 0.5627\n",
      "\u001b[34m\u001b[1mwandb\u001b[0m:       metrics/recall(B) 0.05316\n",
      "\u001b[34m\u001b[1mwandb\u001b[0m:            model/GFLOPs 9.726\n",
      "\u001b[34m\u001b[1mwandb\u001b[0m:        model/parameters 3346746\n",
      "\u001b[34m\u001b[1mwandb\u001b[0m: model/speed_PyTorch(ms) 2.195\n",
      "\u001b[34m\u001b[1mwandb\u001b[0m:          train/box_loss 1.70512\n",
      "\u001b[34m\u001b[1mwandb\u001b[0m:          train/cls_loss 3.39361\n",
      "\u001b[34m\u001b[1mwandb\u001b[0m:          train/dfl_loss 2.00784\n",
      "\u001b[34m\u001b[1mwandb\u001b[0m:            val/box_loss 1.67966\n",
      "\u001b[34m\u001b[1mwandb\u001b[0m:            val/cls_loss 3.25561\n",
      "\u001b[34m\u001b[1mwandb\u001b[0m:            val/dfl_loss 2.01044\n",
      "\u001b[34m\u001b[1mwandb\u001b[0m: \n",
      "\u001b[34m\u001b[1mwandb\u001b[0m: You can sync this run to the cloud by running:\n",
      "\u001b[34m\u001b[1mwandb\u001b[0m: \u001b[1mwandb sync /kaggle/working/wandb/offline-run-20240524_141709-s8hnx7oe\u001b[0m\n",
      "\u001b[34m\u001b[1mwandb\u001b[0m: Find logs at: \u001b[35m\u001b[1m./wandb/offline-run-20240524_141709-s8hnx7oe/logs\u001b[0m\n"
     ]
    },
    {
     "name": "stdout",
     "output_type": "stream",
     "text": [
      "Ultralytics YOLOv8.2.20 🚀 Python-3.10.13 torch-2.1.2 CUDA:0 (Tesla P100-PCIE-16GB, 16276MiB)\n",
      "YOLOv8n summary (fused): 168 layers, 3341330 parameters, 0 gradients, 9.6 GFLOPs\n"
     ]
    },
    {
     "name": "stderr",
     "output_type": "stream",
     "text": [
      "\u001b[34m\u001b[1mval: \u001b[0mScanning /kaggle/input/pestvisiondata/pestvision_data/synthetic_data/DeepImageBlendingData/run3/paddy-disease-classification/labels/val... 2073 images, 233 backgrounds, 0 corrupt: 100%|██████████| 2306/2306 [00:03<00:00, 730.18it/s]\n"
     ]
    },
    {
     "name": "stdout",
     "output_type": "stream",
     "text": [
      "\u001b[34m\u001b[1mval: \u001b[0mWARNING ⚠️ Cache directory /kaggle/input/pestvisiondata/pestvision_data/synthetic_data/DeepImageBlendingData/run3/paddy-disease-classification/labels is not writeable, cache not saved.\n"
     ]
    },
    {
     "name": "stderr",
     "output_type": "stream",
     "text": [
      "                 Class     Images  Instances      Box(P          R      mAP50  mAP50-95): 100%|██████████| 37/37 [00:25<00:00,  1.43it/s]\n"
     ]
    },
    {
     "name": "stdout",
     "output_type": "stream",
     "text": [
      "                   all       2306      11390      0.563     0.0532     0.0309      0.015\n",
      "                     1       2306         77          0          0    0.00711     0.0032\n",
      "                     2       2306         83          0          0    0.00791    0.00401\n",
      "                     3       2306         15          1          0          0          0\n",
      "                     4       2306        110        0.1    0.00909     0.0205     0.0109\n",
      "                     5       2306         47          1          0      0.018    0.00882\n",
      "                     6       2306         62          1          0      0.011     0.0051\n",
      "                     7       2306         21          1          0          0          0\n",
      "                     8       2306         74          1          0     0.0142    0.00602\n",
      "                     9       2306         48          1          0    0.00851    0.00499\n",
      "                    10       2306         33          1          0          0          0\n",
      "                    11       2306        101          0          0    0.00895    0.00375\n",
      "                    12       2306         81          1          0    0.00734     0.0033\n",
      "                    13       2306         18          1          0          0          0\n",
      "                    14       2306         15          1          0          0          0\n",
      "                    15       2306        244     0.0614     0.0615     0.0246      0.011\n",
      "                    16       2306        515      0.104      0.427      0.109     0.0488\n",
      "                    17       2306        265      0.148      0.287     0.0952     0.0407\n",
      "                    18       2306         38          1          0   0.000807   0.000242\n",
      "                    19       2306        185     0.0956     0.0588     0.0422     0.0182\n",
      "                    20       2306         98          0          0     0.0171    0.00907\n",
      "                    21       2306        110      0.131      0.109     0.0543     0.0276\n",
      "                    22       2306        109      0.168       0.45      0.162     0.0835\n",
      "                    23       2306        257      0.083      0.152     0.0493     0.0253\n",
      "                    24       2306        114      0.078     0.0175     0.0323     0.0161\n",
      "                    25       2306        530      0.141     0.0396     0.0386     0.0145\n",
      "                    26       2306        121          0          0    0.00899    0.00332\n",
      "                    27       2306        132     0.0167     0.0152     0.0224     0.0115\n",
      "                    28       2306         78          1          0    0.00589     0.0033\n",
      "                    29       2306         15          1          0          0          0\n",
      "                    30       2306         47          1          0    0.00336   0.000819\n",
      "                    31       2306         14          1          0    0.00416    0.00166\n",
      "                    32       2306         50          1          0     0.0178    0.00702\n",
      "                    33       2306         39          1          0     0.0204     0.0109\n",
      "                    34       2306         55          1          0    0.00348    0.00115\n",
      "                    35       2306         68          1          0     0.0102    0.00492\n",
      "                    36       2306         18          1          0    0.00464    0.00186\n",
      "                    37       2306         24          1          0     0.0524     0.0262\n",
      "                    38       2306        193      0.152      0.057     0.0617     0.0256\n",
      "                    39       2306        155          0          0     0.0194    0.00725\n",
      "                    40       2306        245     0.0555     0.0163      0.027     0.0118\n",
      "                    41       2306         44          1          0    0.00998    0.00355\n",
      "                    42       2306         60          0          0     0.0137    0.00684\n",
      "                    43       2306         99          1          0     0.0118    0.00301\n",
      "                    44       2306         50          1          0     0.0104    0.00513\n",
      "                    45       2306         43          1          0     0.0051    0.00189\n",
      "                    46       2306        235      0.104     0.0468     0.0367     0.0151\n",
      "                    47       2306        124          1          0     0.0123    0.00565\n",
      "                    48       2306        212     0.0644      0.014     0.0457     0.0197\n",
      "                    49       2306        348     0.0271    0.00575     0.0373     0.0147\n",
      "                    50       2306        155          0          0     0.0351     0.0154\n",
      "                    51       2306        283      0.139      0.194     0.0977     0.0534\n",
      "                    52       2306        573      0.147      0.258      0.106     0.0388\n",
      "                    53       2306          3          0          0          0          0\n",
      "                    54       2306         39          1          0     0.0437      0.028\n",
      "                    55       2306         30          1          0    0.00336    0.00208\n",
      "                    56       2306         11          1          0          0          0\n",
      "                    57       2306         49          1          0    0.00241   0.000978\n",
      "                    58       2306         18          1          0          0          0\n",
      "                    59       2306         57          1          0    0.00396    0.00183\n",
      "                    62       2306          3          1          0          0          0\n",
      "                    63       2306         70     0.0243     0.0143     0.0239    0.00749\n",
      "                    65       2306         35          1          0     0.0211    0.00713\n",
      "                    66       2306         18          1          0    0.00173   0.000269\n",
      "                    67       2306        154      0.165      0.539      0.246      0.142\n",
      "                    68       2306        191      0.117      0.251      0.104     0.0412\n",
      "                    69       2306         86     0.0336     0.0233     0.0148    0.00697\n",
      "                    70       2306        139      0.157     0.0576     0.0644     0.0269\n",
      "                    71       2306        729      0.111      0.209      0.085     0.0366\n",
      "                    72       2306         53      0.114      0.208     0.0743     0.0439\n",
      "                    73       2306          7          1          0          0          0\n",
      "                    74       2306         57      0.139      0.526      0.167     0.0703\n",
      "                    75       2306         28     0.0803     0.0357     0.0242    0.00923\n",
      "                    77       2306         90          1          0     0.0129    0.00472\n",
      "                    78       2306         12          1          0          0          0\n",
      "                    79       2306         39          0          0    0.00233   0.000684\n",
      "                    80       2306         29          1          0     0.0129     0.0069\n",
      "                    82       2306         14          1          0    0.00561     0.0019\n",
      "                    83       2306         44      0.135     0.0227     0.0371     0.0248\n",
      "                    84       2306         28          1          0    0.00483    0.00389\n",
      "                    85       2306         88          1          0     0.0225    0.00865\n",
      "                    86       2306         19          1          0       0.04     0.0222\n",
      "                    87       2306        213     0.0237    0.00939     0.0269     0.0128\n",
      "                    88       2306         85     0.0325     0.0471     0.0244     0.0105\n",
      "                    89       2306         12          1          0    0.00605    0.00394\n",
      "                    90       2306          7          1          0          0          0\n",
      "                    91       2306         15          1          0          0          0\n",
      "                    92       2306          3          0          0          0          0\n",
      "                    93       2306         35          1          0    0.00793    0.00327\n",
      "                    94       2306         11          0          0          0          0\n",
      "                    95       2306         59          1          0    0.00532    0.00233\n",
      "                    96       2306        102          1          0     0.0205    0.00634\n",
      "                    97       2306         41          1          0    0.00719    0.00247\n",
      "                    98       2306         48      0.275     0.0714      0.101     0.0726\n",
      "                    99       2306          9          1          0          0          0\n",
      "                   100       2306         72       0.12       0.25     0.0987     0.0664\n",
      "                   101       2306         37      0.103      0.027    0.00981    0.00704\n",
      "                   102       2306       1771      0.142       0.65      0.257      0.126\n",
      "Speed: 0.2ms preprocess, 2.4ms inference, 0.0ms loss, 3.1ms postprocess per image\n",
      "Results saved to \u001b[1mruns/detect/train2\u001b[0m\n"
     ]
    }
   ],
   "source": [
    "train('yolov8n.yaml', dset_paths[1], val_paths[1])"
   ]
  }
 ],
 "metadata": {
  "kaggle": {
   "accelerator": "gpu",
   "dataSources": [
    {
     "datasetId": 5067045,
     "sourceId": 8492734,
     "sourceType": "datasetVersion"
    },
    {
     "datasetId": 5072195,
     "sourceId": 8499657,
     "sourceType": "datasetVersion"
    }
   ],
   "dockerImageVersionId": 30698,
   "isGpuEnabled": true,
   "isInternetEnabled": true,
   "language": "python",
   "sourceType": "notebook"
  },
  "kernelspec": {
   "display_name": "Python 3",
   "language": "python",
   "name": "python3"
  },
  "language_info": {
   "codemirror_mode": {
    "name": "ipython",
    "version": 3
   },
   "file_extension": ".py",
   "mimetype": "text/x-python",
   "name": "python",
   "nbconvert_exporter": "python",
   "pygments_lexer": "ipython3",
   "version": "3.10.13"
  },
  "papermill": {
   "default_parameters": {},
   "duration": 8055.115169,
   "end_time": "2024-05-24T16:30:44.077262",
   "environment_variables": {},
   "exception": null,
   "input_path": "__notebook__.ipynb",
   "output_path": "__notebook__.ipynb",
   "parameters": {},
   "start_time": "2024-05-24T14:16:28.962093",
   "version": "2.5.0"
  }
 },
 "nbformat": 4,
 "nbformat_minor": 5
}

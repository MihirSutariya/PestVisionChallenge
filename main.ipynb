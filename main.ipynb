{
 "cells": [
  {
   "cell_type": "code",
   "execution_count": 1,
   "id": "5f3be640",
   "metadata": {
    "execution": {
     "iopub.execute_input": "2024-06-04T09:18:28.864896Z",
     "iopub.status.busy": "2024-06-04T09:18:28.863301Z",
     "iopub.status.idle": "2024-06-04T09:18:46.574714Z",
     "shell.execute_reply": "2024-06-04T09:18:46.573240Z"
    },
    "papermill": {
     "duration": 17.724081,
     "end_time": "2024-06-04T09:18:46.578104",
     "exception": false,
     "start_time": "2024-06-04T09:18:28.854023",
     "status": "completed"
    },
    "tags": []
   },
   "outputs": [
    {
     "name": "stdout",
     "output_type": "stream",
     "text": [
      "Collecting ultralytics\r\n",
      "  Downloading ultralytics-8.2.28-py3-none-any.whl.metadata (41 kB)\r\n",
      "\u001b[2K     \u001b[90m━━━━━━━━━━━━━━━━━━━━━━━━━━━━━━━━━━━━━━━━\u001b[0m \u001b[32m41.2/41.2 kB\u001b[0m \u001b[31m1.4 MB/s\u001b[0m eta \u001b[36m0:00:00\u001b[0m\r\n",
      "\u001b[?25hRequirement already satisfied: matplotlib>=3.3.0 in /opt/conda/lib/python3.10/site-packages (from ultralytics) (3.7.5)\r\n",
      "Requirement already satisfied: opencv-python>=4.6.0 in /opt/conda/lib/python3.10/site-packages (from ultralytics) (4.9.0.80)\r\n",
      "Requirement already satisfied: pillow>=7.1.2 in /opt/conda/lib/python3.10/site-packages (from ultralytics) (9.5.0)\r\n",
      "Requirement already satisfied: pyyaml>=5.3.1 in /opt/conda/lib/python3.10/site-packages (from ultralytics) (6.0.1)\r\n",
      "Requirement already satisfied: requests>=2.23.0 in /opt/conda/lib/python3.10/site-packages (from ultralytics) (2.31.0)\r\n",
      "Requirement already satisfied: scipy>=1.4.1 in /opt/conda/lib/python3.10/site-packages (from ultralytics) (1.11.4)\r\n",
      "Requirement already satisfied: torch>=1.8.0 in /opt/conda/lib/python3.10/site-packages (from ultralytics) (2.1.2+cpu)\r\n",
      "Requirement already satisfied: torchvision>=0.9.0 in /opt/conda/lib/python3.10/site-packages (from ultralytics) (0.16.2+cpu)\r\n",
      "Requirement already satisfied: tqdm>=4.64.0 in /opt/conda/lib/python3.10/site-packages (from ultralytics) (4.66.1)\r\n",
      "Requirement already satisfied: psutil in /opt/conda/lib/python3.10/site-packages (from ultralytics) (5.9.3)\r\n",
      "Requirement already satisfied: py-cpuinfo in /opt/conda/lib/python3.10/site-packages (from ultralytics) (9.0.0)\r\n",
      "Requirement already satisfied: pandas>=1.1.4 in /opt/conda/lib/python3.10/site-packages (from ultralytics) (2.2.2)\r\n",
      "Requirement already satisfied: seaborn>=0.11.0 in /opt/conda/lib/python3.10/site-packages (from ultralytics) (0.12.2)\r\n",
      "Collecting ultralytics-thop>=0.2.5 (from ultralytics)\r\n",
      "  Downloading ultralytics_thop-0.2.7-py3-none-any.whl.metadata (8.5 kB)\r\n",
      "Requirement already satisfied: contourpy>=1.0.1 in /opt/conda/lib/python3.10/site-packages (from matplotlib>=3.3.0->ultralytics) (1.2.0)\r\n",
      "Requirement already satisfied: cycler>=0.10 in /opt/conda/lib/python3.10/site-packages (from matplotlib>=3.3.0->ultralytics) (0.12.1)\r\n",
      "Requirement already satisfied: fonttools>=4.22.0 in /opt/conda/lib/python3.10/site-packages (from matplotlib>=3.3.0->ultralytics) (4.47.0)\r\n",
      "Requirement already satisfied: kiwisolver>=1.0.1 in /opt/conda/lib/python3.10/site-packages (from matplotlib>=3.3.0->ultralytics) (1.4.5)\r\n",
      "Requirement already satisfied: numpy<2,>=1.20 in /opt/conda/lib/python3.10/site-packages (from matplotlib>=3.3.0->ultralytics) (1.26.4)\r\n",
      "Requirement already satisfied: packaging>=20.0 in /opt/conda/lib/python3.10/site-packages (from matplotlib>=3.3.0->ultralytics) (21.3)\r\n",
      "Requirement already satisfied: pyparsing>=2.3.1 in /opt/conda/lib/python3.10/site-packages (from matplotlib>=3.3.0->ultralytics) (3.1.1)\r\n",
      "Requirement already satisfied: python-dateutil>=2.7 in /opt/conda/lib/python3.10/site-packages (from matplotlib>=3.3.0->ultralytics) (2.9.0.post0)\r\n",
      "Requirement already satisfied: pytz>=2020.1 in /opt/conda/lib/python3.10/site-packages (from pandas>=1.1.4->ultralytics) (2023.3.post1)\r\n",
      "Requirement already satisfied: tzdata>=2022.7 in /opt/conda/lib/python3.10/site-packages (from pandas>=1.1.4->ultralytics) (2023.4)\r\n",
      "Requirement already satisfied: charset-normalizer<4,>=2 in /opt/conda/lib/python3.10/site-packages (from requests>=2.23.0->ultralytics) (3.3.2)\r\n",
      "Requirement already satisfied: idna<4,>=2.5 in /opt/conda/lib/python3.10/site-packages (from requests>=2.23.0->ultralytics) (3.6)\r\n",
      "Requirement already satisfied: urllib3<3,>=1.21.1 in /opt/conda/lib/python3.10/site-packages (from requests>=2.23.0->ultralytics) (1.26.18)\r\n",
      "Requirement already satisfied: certifi>=2017.4.17 in /opt/conda/lib/python3.10/site-packages (from requests>=2.23.0->ultralytics) (2024.2.2)\r\n",
      "Requirement already satisfied: filelock in /opt/conda/lib/python3.10/site-packages (from torch>=1.8.0->ultralytics) (3.13.1)\r\n",
      "Requirement already satisfied: typing-extensions in /opt/conda/lib/python3.10/site-packages (from torch>=1.8.0->ultralytics) (4.9.0)\r\n",
      "Requirement already satisfied: sympy in /opt/conda/lib/python3.10/site-packages (from torch>=1.8.0->ultralytics) (1.12)\r\n",
      "Requirement already satisfied: networkx in /opt/conda/lib/python3.10/site-packages (from torch>=1.8.0->ultralytics) (3.2.1)\r\n",
      "Requirement already satisfied: jinja2 in /opt/conda/lib/python3.10/site-packages (from torch>=1.8.0->ultralytics) (3.1.2)\r\n",
      "Requirement already satisfied: fsspec in /opt/conda/lib/python3.10/site-packages (from torch>=1.8.0->ultralytics) (2024.2.0)\r\n",
      "Requirement already satisfied: six>=1.5 in /opt/conda/lib/python3.10/site-packages (from python-dateutil>=2.7->matplotlib>=3.3.0->ultralytics) (1.16.0)\r\n",
      "Requirement already satisfied: MarkupSafe>=2.0 in /opt/conda/lib/python3.10/site-packages (from jinja2->torch>=1.8.0->ultralytics) (2.1.3)\r\n",
      "Requirement already satisfied: mpmath>=0.19 in /opt/conda/lib/python3.10/site-packages (from sympy->torch>=1.8.0->ultralytics) (1.3.0)\r\n",
      "Downloading ultralytics-8.2.28-py3-none-any.whl (779 kB)\r\n",
      "\u001b[2K   \u001b[90m━━━━━━━━━━━━━━━━━━━━━━━━━━━━━━━━━━━━━━━━\u001b[0m \u001b[32m779.6/779.6 kB\u001b[0m \u001b[31m18.8 MB/s\u001b[0m eta \u001b[36m0:00:00\u001b[0m\r\n",
      "\u001b[?25hDownloading ultralytics_thop-0.2.7-py3-none-any.whl (25 kB)\r\n",
      "Installing collected packages: ultralytics-thop, ultralytics\r\n",
      "Successfully installed ultralytics-8.2.28 ultralytics-thop-0.2.7\r\n"
     ]
    }
   ],
   "source": [
    "# !conda env create -f /kaggle/input/condaenv/environment.yml\n",
    "# !conda init\n",
    "# !conda activate pestvision\n",
    "# !wget -P /kaggle/input/ https://storage.googleapis.com/npss-pestvision-data/pestvision_data.zip\n",
    "!pip install ultralytics"
   ]
  },
  {
   "cell_type": "code",
   "execution_count": 2,
   "id": "24bdc22b",
   "metadata": {
    "execution": {
     "iopub.execute_input": "2024-06-04T09:18:46.598314Z",
     "iopub.status.busy": "2024-06-04T09:18:46.597896Z",
     "iopub.status.idle": "2024-06-04T09:18:54.875728Z",
     "shell.execute_reply": "2024-06-04T09:18:54.874449Z"
    },
    "papermill": {
     "duration": 8.291421,
     "end_time": "2024-06-04T09:18:54.878668",
     "exception": false,
     "start_time": "2024-06-04T09:18:46.587247",
     "status": "completed"
    },
    "tags": []
   },
   "outputs": [
    {
     "name": "stderr",
     "output_type": "stream",
     "text": [
      "\u001b[34m\u001b[1mwandb\u001b[0m: \u001b[33mWARNING\u001b[0m This integration is tested and supported for ultralytics v8.0.238 and below.\n",
      "\u001b[34m\u001b[1mwandb\u001b[0m: \u001b[33mWARNING\u001b[0m             Please report any issues to https://github.com/wandb/wandb/issues with the tag `yolov8`.\n"
     ]
    }
   ],
   "source": [
    "import os\n",
    "os.environ['WANDB_DISABLED'] = 'true'\n",
    "import numpy as np\n",
    "import torch\n",
    "import yaml\n",
    "import imageio.v3 as imageio\n",
    "import matplotlib.pyplot as plt\n",
    "import matplotlib.patches as patches\n",
    "import json\n",
    "\n",
    "from abc import ABC, abstractmethod\n",
    "from ultralytics import YOLO\n",
    "import wandb\n",
    "from wandb.integration.ultralytics import add_wandb_callback\n",
    "\n",
    "from torch.utils.data import Dataset, DataLoader\n",
    "from torchvision import transforms, utils\n",
    "from glob import glob\n",
    "# from natsort import natsorted\n",
    "from PIL import Image\n",
    "import torchvision.transforms as T\n",
    "import xml.etree.ElementTree as ET\n",
    "from typing import List, Tuple, Optional, Callable, Dict, Any"
   ]
  },
  {
   "cell_type": "code",
   "execution_count": 3,
   "id": "6ee16972",
   "metadata": {
    "execution": {
     "iopub.execute_input": "2024-06-04T09:18:54.898383Z",
     "iopub.status.busy": "2024-06-04T09:18:54.897701Z",
     "iopub.status.idle": "2024-06-04T09:18:54.908500Z",
     "shell.execute_reply": "2024-06-04T09:18:54.907146Z"
    },
    "papermill": {
     "duration": 0.023496,
     "end_time": "2024-06-04T09:18:54.910973",
     "exception": false,
     "start_time": "2024-06-04T09:18:54.887477",
     "status": "completed"
    },
    "tags": []
   },
   "outputs": [
    {
     "name": "stdout",
     "output_type": "stream",
     "text": [
      "CUDA is not available. Using CPU.\n"
     ]
    }
   ],
   "source": [
    "root = '/kaggle/input/pestvisiondata/pestvision/pestvision_data'\n",
    "synth_dset_paths = ['synthetic_data/DeepImageBlendingData/run3/RiceLeafs/images/train',\n",
    "             'synthetic_data/DeepImageBlendingData/run3/paddy-disease-classification/images/train',\n",
    "             'synthetic_data/Libcom_HarmonizationData_PCTNet/run1/RiceLeafs/images/train',\n",
    "             'synthetic_data/Libcom_HarmonizationData_PCTNet/run1/paddy-disease-classification/images/train']\n",
    "synth_dset_paths = [os.path.join(root,i) for i in synth_dset_paths]\n",
    "val_paths = [\"/\".join(i.split('/')[:-1]+['val']) for i in synth_dset_paths]\n",
    "real_paths = ['/kaggle/input/realpestdet/data/images/train']\n",
    "\n",
    "if torch.cuda.is_available():\n",
    "    device = torch.device('cuda')\n",
    "    print(\"CUDA is available. Using GPU.\")\n",
    "else:\n",
    "    device = torch.device('cpu')\n",
    "    print(\"CUDA is not available. Using CPU.\")"
   ]
  },
  {
   "cell_type": "code",
   "execution_count": 4,
   "id": "353a848d",
   "metadata": {
    "execution": {
     "iopub.execute_input": "2024-06-04T09:18:54.930537Z",
     "iopub.status.busy": "2024-06-04T09:18:54.930068Z",
     "iopub.status.idle": "2024-06-04T09:18:54.940975Z",
     "shell.execute_reply": "2024-06-04T09:18:54.939566Z"
    },
    "papermill": {
     "duration": 0.023719,
     "end_time": "2024-06-04T09:18:54.943536",
     "exception": false,
     "start_time": "2024-06-04T09:18:54.919817",
     "status": "completed"
    },
    "tags": []
   },
   "outputs": [],
   "source": [
    "class AbstractPestDetection(ABC):\n",
    "    \"\"\"\n",
    "    Abstract class for pest detection\n",
    "    \"\"\"\n",
    "\n",
    "    def __init__(self, device):\n",
    "        self.device = device\n",
    "\n",
    "    @abstractmethod\n",
    "    def load_model(self, model_path):\n",
    "        pass\n",
    "\n",
    "    @abstractmethod\n",
    "    def train(self):\n",
    "        pass\n",
    "\n",
    "    # TODO: implement evaluate method\n",
    "    # @abstractmethod\n",
    "    # def evaluate(self):\n",
    "    #     pass\n",
    "\n",
    "\n",
    "class PestDetection_yolov8(AbstractPestDetection):\n",
    "    \"\"\"\n",
    "    YOLOv8 model for pest detection\n",
    "    \"\"\"\n",
    "\n",
    "    def __init__(self, device):\n",
    "        super().__init__(device)\n",
    "        self.model = None\n",
    "\n",
    "    def load_model(self, model_path=\"yolov8n.pt\"):\n",
    "        \"\"\"\n",
    "        Load the YOLOv8 model\n",
    "\n",
    "        Parameters:\n",
    "\n",
    "         model_path (str): path to the model checkpoint\n",
    "        \"\"\"\n",
    "        self.model = YOLO(model_path)\n",
    "\n",
    "    def train(self,**kwargs):\n",
    "\n",
    "        results = self.model.train(**kwargs)\n",
    "        self.model.val()\n",
    "\n",
    "        return results\n",
    "\n",
    "    # TODO: implment evaluate method\n",
    "    # def evaluate(self):\n",
    "    #     pass\n"
   ]
  },
  {
   "cell_type": "code",
   "execution_count": 5,
   "id": "7b86f3fc",
   "metadata": {
    "execution": {
     "iopub.execute_input": "2024-06-04T09:18:54.962639Z",
     "iopub.status.busy": "2024-06-04T09:18:54.962176Z",
     "iopub.status.idle": "2024-06-04T09:18:54.969660Z",
     "shell.execute_reply": "2024-06-04T09:18:54.968325Z"
    },
    "papermill": {
     "duration": 0.020017,
     "end_time": "2024-06-04T09:18:54.972148",
     "exception": false,
     "start_time": "2024-06-04T09:18:54.952131",
     "status": "completed"
    },
    "tags": []
   },
   "outputs": [],
   "source": [
    "def make_dsetconfig(train,val):\n",
    "\n",
    "    d_config = {\n",
    "        \"train\": train,\n",
    "        \"val\": val,\n",
    "\n",
    "        \"nc\": 102, # number of classes\n",
    "        \"names\": [str(i) for i in range(1,103)] \n",
    "    }\n",
    "    filename = 'data.yaml'\n",
    "    with open(filename, 'w') as file:\n",
    "        yaml.dump(d_config, file, default_flow_style=False)\n",
    "    return filename"
   ]
  },
  {
   "cell_type": "code",
   "execution_count": 6,
   "id": "e0f0e301",
   "metadata": {
    "execution": {
     "iopub.execute_input": "2024-06-04T09:18:54.991666Z",
     "iopub.status.busy": "2024-06-04T09:18:54.991195Z",
     "iopub.status.idle": "2024-06-04T09:18:54.998246Z",
     "shell.execute_reply": "2024-06-04T09:18:54.997070Z"
    },
    "papermill": {
     "duration": 0.019961,
     "end_time": "2024-06-04T09:18:55.000671",
     "exception": false,
     "start_time": "2024-06-04T09:18:54.980710",
     "status": "completed"
    },
    "tags": []
   },
   "outputs": [],
   "source": [
    "def train(checkpoint,train,val,resume = False):\n",
    "    model = PestDetection_yolov8(device)\n",
    "    model.load_model(checkpoint)\n",
    "    results = model.train(data=make_dsetconfig(train,val), epochs=50, imgsz=512, save_period=10,batch=-1, plots=True, resume = resume)"
   ]
  },
  {
   "cell_type": "code",
   "execution_count": 7,
   "id": "b1f502f2",
   "metadata": {
    "execution": {
     "iopub.execute_input": "2024-06-04T09:18:55.020512Z",
     "iopub.status.busy": "2024-06-04T09:18:55.020072Z",
     "iopub.status.idle": "2024-06-04T09:18:55.031722Z",
     "shell.execute_reply": "2024-06-04T09:18:55.030297Z"
    },
    "papermill": {
     "duration": 0.024966,
     "end_time": "2024-06-04T09:18:55.034613",
     "exception": false,
     "start_time": "2024-06-04T09:18:55.009647",
     "status": "completed"
    },
    "tags": []
   },
   "outputs": [],
   "source": [
    "import xml.etree.ElementTree as ET\n",
    "\n",
    "def convert_to_yolo_format(annotation_file,dest):\n",
    "    tree = ET.parse(annotation_file)\n",
    "    root = tree.getroot()\n",
    "    \n",
    "    \n",
    "    size = root.find('size')\n",
    "    image_width = int(size.find('width').text)\n",
    "    image_height = int(size.find('height').text)\n",
    "    \n",
    "    \n",
    "    for obj in root.iter('object'):\n",
    "        name = obj.find('name').text\n",
    "        bndbox = obj.find('bndbox')\n",
    "        \n",
    "        xmin = int(bndbox.find('xmin').text)\n",
    "        ymin = int(bndbox.find('ymin').text)\n",
    "        xmax = int(bndbox.find('xmax').text)\n",
    "        ymax = int(bndbox.find('ymax').text)\n",
    "        \n",
    "        \n",
    "        x_center = (xmin + xmax) / 2.0 / image_width\n",
    "        y_center = (ymin + ymax) / 2.0 / image_height\n",
    "        width = (xmax - xmin) / image_width\n",
    "        height = (ymax - ymin) / image_height\n",
    "        \n",
    "        yolo_format = f\"{name} {x_center:.6f} {y_center:.6f} {width:.6f} {height:.6f}\"\n",
    "        \n",
    "        \n",
    "        txt_filename = dest\n",
    "        with open(txt_filename, 'w') as txt_file:\n",
    "            txt_file.write(yolo_format + '\\n')"
   ]
  },
  {
   "cell_type": "code",
   "execution_count": 8,
   "id": "45225057",
   "metadata": {
    "execution": {
     "iopub.execute_input": "2024-06-04T09:18:55.055033Z",
     "iopub.status.busy": "2024-06-04T09:18:55.054534Z",
     "iopub.status.idle": "2024-06-04T09:18:55.061255Z",
     "shell.execute_reply": "2024-06-04T09:18:55.059872Z"
    },
    "papermill": {
     "duration": 0.020009,
     "end_time": "2024-06-04T09:18:55.063780",
     "exception": false,
     "start_time": "2024-06-04T09:18:55.043771",
     "status": "completed"
    },
    "tags": []
   },
   "outputs": [],
   "source": [
    "# annotations_path = '/kaggle/input/pestvisiondata/pestvision/pestvision_data/foreground_data/Detection_IP102/Annotations'\n",
    "# images_path = '/kaggle/input/pestvisiondata/pestvision/pestvision_data/foreground_data/Detection_IP102/JPEGImages'\n",
    "# label_path = 'data/labels/train/'\n",
    "# timage_path = 'data/images/train/'\n",
    "# if not os.path.isdir(label_path):\n",
    "#     os.makedirs(label_path)\n",
    "# if not os.path.isdir(timage_path):\n",
    "#     os.makedirs(timage_path)\n",
    "\n",
    "# i = 0\n",
    "# for filename in os.listdir(annotations_path):\n",
    "    \n",
    "#     if filename.endswith('.xml'):\n",
    "#         xml_file_path = os.path.join(annotations_path,filename)\n",
    "        \n",
    "#         convert_to_yolo_format(xml_file_path,os.path.join(label_path,filename.replace('.xml','.txt')))\n",
    "#         image = Image.open(os.path.join(images_path,filename.replace('.xml','.jpg')))\n",
    "#         image = image.resize((512,512))\n",
    "#         image.save(os.path.join(timage_path,filename.replace('.xml','.jpg')))\n",
    "#         i+=1\n",
    "# print('#################### completed:',i,'##############################')\n",
    "        \n",
    "\n"
   ]
  },
  {
   "cell_type": "code",
   "execution_count": 9,
   "id": "e77d8751",
   "metadata": {
    "execution": {
     "iopub.execute_input": "2024-06-04T09:18:55.084793Z",
     "iopub.status.busy": "2024-06-04T09:18:55.084295Z",
     "iopub.status.idle": "2024-06-04T09:18:55.090177Z",
     "shell.execute_reply": "2024-06-04T09:18:55.088774Z"
    },
    "papermill": {
     "duration": 0.019619,
     "end_time": "2024-06-04T09:18:55.092897",
     "exception": false,
     "start_time": "2024-06-04T09:18:55.073278",
     "status": "completed"
    },
    "tags": []
   },
   "outputs": [],
   "source": [
    "# train(\"yolov8n.pt\",'/kaggle/input/realpestdet/data/images/train', val_paths[1], False)"
   ]
  },
  {
   "cell_type": "code",
   "execution_count": 10,
   "id": "7f602885",
   "metadata": {
    "execution": {
     "iopub.execute_input": "2024-06-04T09:18:55.115565Z",
     "iopub.status.busy": "2024-06-04T09:18:55.115165Z",
     "iopub.status.idle": "2024-06-04T09:18:55.138539Z",
     "shell.execute_reply": "2024-06-04T09:18:55.137194Z"
    },
    "papermill": {
     "duration": 0.03878,
     "end_time": "2024-06-04T09:18:55.141219",
     "exception": false,
     "start_time": "2024-06-04T09:18:55.102439",
     "status": "completed"
    },
    "tags": []
   },
   "outputs": [],
   "source": [
    "def segment(image):\n",
    "    \n",
    "    segment_size = 512\n",
    "    if min(image.shape[0], image.shape[1])<512:\n",
    "        segment_size = min(image.shape[0], image.shape[1])\n",
    "    increment = int(segment_size*(3/4))\n",
    "\n",
    "    images = []\n",
    "    pos = []\n",
    "    \n",
    "    i = 0\n",
    "    while i+segment_size<image.shape[0]:\n",
    "        j = 0\n",
    "        while j+segment_size<image.shape[1]:\n",
    "            images.append(image[i:i+segment_size, j:j+segment_size])\n",
    "            pos.append([i,i+segment_size, j,j+segment_size])\n",
    "            j+=increment\n",
    "        i+=increment\n",
    "    \n",
    "    i=0\n",
    "    j=0\n",
    "    while j+segment_size<image.shape[1]:\n",
    "        images.append(image[image.shape[0]-segment_size:image.shape[0], j:j+segment_size])\n",
    "        pos.append([image.shape[0]-segment_size,image.shape[0], j,j+segment_size])\n",
    "        j+=increment\n",
    "    while i+segment_size<image.shape[0]:\n",
    "        images.append(image[i:i+segment_size,image.shape[1]-segment_size:image.shape[1]])\n",
    "        pos.append([i,i+segment_size,image.shape[1]-segment_size,image.shape[1]])\n",
    "        i+=increment\n",
    "    \n",
    "    images.append(image[image.shape[0]-segment_size:image.shape[0],image.shape[1]-segment_size:image.shape[1]])\n",
    "    pos.append([image.shape[0]-segment_size,image.shape[0],image.shape[1]-segment_size,image.shape[1]])\n",
    "    \n",
    "    return images, pos, segment_size\n",
    "    \n",
    "        \n",
    "\n",
    "def segment_eval(model, image):\n",
    "    s_images, pos, sz = segment(image) \n",
    "    h,w = image.shape[0], image.shape[1]\n",
    "    \n",
    "    boxes = torch.empty((0,4),dtype = torch.int)\n",
    "    confs = torch.empty((0))\n",
    "    class_ids = torch.empty((0), dtype=torch.int)\n",
    "    \n",
    "    for sample_i, sample_pos in zip(s_images, pos):\n",
    "        results = model.predict(sample_i)[0]\n",
    "    \n",
    "        sample_boxes = results.boxes.xyxy.clone()\n",
    "        sample_boxes[:,0] = sample_boxes[:,0]+sample_pos[2]\n",
    "        sample_boxes[:,1] = sample_boxes[:,1]+sample_pos[0]\n",
    "        sample_boxes[:,2] = sample_boxes[:,2]+sample_pos[2]\n",
    "        sample_boxes[:,3] = sample_boxes[:,3]+sample_pos[0]\n",
    "        boxes = torch.cat((boxes,sample_boxes),dim=0)\n",
    "        \n",
    "        sample_conf = results.boxes.conf\n",
    "        confs = torch.cat((confs,sample_conf),dim=0)\n",
    "        \n",
    "        sample_cids = results.boxes.cls\n",
    "        class_ids = torch.cat((class_ids, sample_cids),dim=0)\n",
    "    keep_indices = torch.ops.torchvision.nms(boxes, confs, 0.2)\n",
    "        \n",
    "    return boxes.to(torch.int)[keep_indices], confs[keep_indices], class_ids.to(torch.int)[keep_indices]"
   ]
  },
  {
   "cell_type": "code",
   "execution_count": 11,
   "id": "976ab3ee",
   "metadata": {
    "execution": {
     "iopub.execute_input": "2024-06-04T09:18:55.161521Z",
     "iopub.status.busy": "2024-06-04T09:18:55.161107Z",
     "iopub.status.idle": "2024-06-04T09:18:55.170896Z",
     "shell.execute_reply": "2024-06-04T09:18:55.169770Z"
    },
    "papermill": {
     "duration": 0.023194,
     "end_time": "2024-06-04T09:18:55.173638",
     "exception": false,
     "start_time": "2024-06-04T09:18:55.150444",
     "status": "completed"
    },
    "tags": []
   },
   "outputs": [],
   "source": [
    "def plot_image_with_boxes(image, boxes, confidences, class_ids, class_names):\n",
    "    \"\"\"\n",
    "    Plot image with bounding boxes.\n",
    "    \n",
    "    Args:\n",
    "    - image: numpy array representing the image\n",
    "    - boxes: list of bounding boxes in xyxy format\n",
    "    - confidences: list of confidence scores\n",
    "    - class_ids: list of class IDs\n",
    "    - class_names: list of class names\n",
    "    \"\"\"\n",
    "    plt.figure()\n",
    "    fig, ax = plt.subplots(1)\n",
    "    ax.imshow(image)\n",
    "\n",
    "    for box, confidence, class_id in zip(boxes, confidences, class_ids):\n",
    "        x1, y1, x2, y2 = box\n",
    "        box_width = x2 - x1\n",
    "        box_height = y2 - y1\n",
    "        \n",
    "        # Create a rectangle patch\n",
    "        rect = patches.Rectangle((x1, y1), box_width, box_height, linewidth=1, edgecolor='r', facecolor='none')\n",
    "        ax.add_patch(rect)\n",
    "\n",
    "        # Add class label and confidence score\n",
    "        class_name = class_names[class_id]\n",
    "        ax.text(x1, y1, f'{class_name} {confidence:.2f}', color='r', fontsize=8, backgroundcolor='none')\n",
    "\n",
    "    plt.show()"
   ]
  },
  {
   "cell_type": "code",
   "execution_count": 12,
   "id": "0efd2dda",
   "metadata": {
    "execution": {
     "iopub.execute_input": "2024-06-04T09:18:55.194316Z",
     "iopub.status.busy": "2024-06-04T09:18:55.193914Z",
     "iopub.status.idle": "2024-06-04T09:18:55.199257Z",
     "shell.execute_reply": "2024-06-04T09:18:55.198229Z"
    },
    "papermill": {
     "duration": 0.019014,
     "end_time": "2024-06-04T09:18:55.201914",
     "exception": false,
     "start_time": "2024-06-04T09:18:55.182900",
     "status": "completed"
    },
    "tags": []
   },
   "outputs": [],
   "source": [
    "# img = imageio.imread('/kaggle/input/pestvisiondata/images/images/c30ed669-c9be-4618-b2a8-eaadfc27d315.jpg')\n",
    "# model = PestDetection_yolov8(device)\n",
    "# model.load_model('/kaggle/input/yolo/other/exp1/11/last_syth_real.pt')\n",
    "# boxes, confs, class_ids = segment_eval(model.model, img)\n",
    "# plot_image_with_boxes(img,boxes,confs,class_ids,[str(i) for i in range(1,103)])\n",
    "\n"
   ]
  },
  {
   "cell_type": "code",
   "execution_count": 13,
   "id": "0579595a",
   "metadata": {
    "execution": {
     "iopub.execute_input": "2024-06-04T09:18:55.222569Z",
     "iopub.status.busy": "2024-06-04T09:18:55.222134Z",
     "iopub.status.idle": "2024-06-04T09:18:55.445663Z",
     "shell.execute_reply": "2024-06-04T09:18:55.444297Z"
    },
    "papermill": {
     "duration": 0.237362,
     "end_time": "2024-06-04T09:18:55.448794",
     "exception": false,
     "start_time": "2024-06-04T09:18:55.211432",
     "status": "completed"
    },
    "tags": []
   },
   "outputs": [
    {
     "name": "stdout",
     "output_type": "stream",
     "text": [
      "dict_keys(['id', 'name', 'supercategory'])\n",
      "dict_keys(['area', 'bbox', 'category_id', 'id', 'image_id', 'iscrowd', 'segmentation'])\n",
      "dict_keys(['file_name', 'id', 'width', 'height'])\n",
      "[1765]\n",
      "[[138.0, 115.0, 151.0, 84.0], [291.0, 136.0, 138.0, 65.0]]\n"
     ]
    }
   ],
   "source": [
    "train_path = '/kaggle/input/pest-new-real/Pest Data-3/train2017'\n",
    "anno_path = '/kaggle/input/pest-new-real/Pest Data-3/annotations/instances_train2017.json'\n",
    "\n",
    "with open(anno_path, 'r') as f:\n",
    "    anno = json.load(f)\n",
    "    \n",
    "print(anno['categories'][0].keys())\n",
    "print(anno['annotations'][0].keys())\n",
    "print(anno['images'][0].keys())\n",
    "print([i['id'] for i in anno['images'] if i['file_name']=='061.jpg'])\n",
    "print([j['bbox'] for j in anno['annotations'] if j['image_id']==1765])"
   ]
  },
  {
   "cell_type": "code",
   "execution_count": 14,
   "id": "64d269d6",
   "metadata": {
    "execution": {
     "iopub.execute_input": "2024-06-04T09:18:55.470020Z",
     "iopub.status.busy": "2024-06-04T09:18:55.468917Z",
     "iopub.status.idle": "2024-06-04T09:21:01.574046Z",
     "shell.execute_reply": "2024-06-04T09:21:01.572479Z"
    },
    "papermill": {
     "duration": 126.126915,
     "end_time": "2024-06-04T09:21:01.585103",
     "exception": false,
     "start_time": "2024-06-04T09:18:55.458188",
     "status": "completed"
    },
    "tags": []
   },
   "outputs": [
    {
     "name": "stdout",
     "output_type": "stream",
     "text": [
      "Successful: 2496\n"
     ]
    }
   ],
   "source": [
    "image_p = './data1/images/train'\n",
    "label_p = './data1/labels/train'\n",
    "\n",
    "if not os.path.exists(image_p):\n",
    "    os.makedirs(image_p)\n",
    "if not os.path.exists(label_p):\n",
    "    os.makedirs(label_p)\n",
    "\n",
    "# print(len(os.listdir(train_path)))\n",
    "cnt = 0\n",
    "for i in anno['images']:\n",
    "    if os.path.isfile(os.path.join(train_path,i['file_name'])):\n",
    "        img = Image.open(os.path.join(train_path,i['file_name']))\n",
    "        img.save(os.path.join(image_p,i['file_name']))\n",
    "\n",
    "        with open(os.path.join(label_p,i['file_name'].split('.')[0]+'.txt'), 'w') as f:\n",
    "            i_anno = [j for j in anno['annotations'] if j['image_id']==i['id']]\n",
    "            for j in i_anno:\n",
    "                cate = 0\n",
    "                x = (j['bbox'][0]+j['bbox'][2]/2)/i['width']\n",
    "                y = (j['bbox'][1]+j['bbox'][3]/2)/i['height']\n",
    "                w = j['bbox'][2]/i['width']\n",
    "                h = j['bbox'][3]/i['height']\n",
    "                f.write(' '.join(map(str,[cate,x,y,w,h]))+'\\n')\n",
    "        cnt+=1\n",
    "print('Successful:',cnt)"
   ]
  },
  {
   "cell_type": "code",
   "execution_count": 15,
   "id": "5e888622",
   "metadata": {
    "execution": {
     "iopub.execute_input": "2024-06-04T09:21:01.605608Z",
     "iopub.status.busy": "2024-06-04T09:21:01.605116Z",
     "iopub.status.idle": "2024-06-04T09:22:03.741017Z",
     "shell.execute_reply": "2024-06-04T09:22:03.739769Z"
    },
    "papermill": {
     "duration": 62.150274,
     "end_time": "2024-06-04T09:22:03.744362",
     "exception": false,
     "start_time": "2024-06-04T09:21:01.594088",
     "status": "completed"
    },
    "tags": []
   },
   "outputs": [],
   "source": [
    "import os\n",
    "import random\n",
    "import cv2\n",
    "import numpy as np\n",
    "\n",
    "\n",
    "def resize_and_pad(img, target_size):\n",
    "    h, w = img.shape[:2]\n",
    "    scale = min(target_size / h, target_size / w)\n",
    "    nh, nw = int(h * scale), int(w * scale)\n",
    "    img_resized = cv2.resize(img, (nw, nh))\n",
    "    bot_pad = target_size - nh\n",
    "    right_pad = target_size - nw\n",
    "    img_padded = cv2.copyMakeBorder(img_resized, 0, bot_pad, 0, right_pad, cv2.BORDER_CONSTANT, value=(0, 0, 0))\n",
    "    return img_padded, scale, bot_pad, right_pad\n",
    "\n",
    "def adjust_labels(labels, scale, bot_pad, right_pad, cell_size):\n",
    "    adjusted_labels = []\n",
    "    \n",
    "    for label in labels:\n",
    "        cls, cx, cy, w, h = label\n",
    "        cx = (cx*(cell_size-right_pad))/cell_size\n",
    "        cy = (cy*(cell_size-bot_pad))/cell_size\n",
    "        w = (w*(cell_size-right_pad))/cell_size\n",
    "        h = (h*(cell_size-bot_pad))/cell_size\n",
    "        adjusted_labels.append([cls, cx, cy , w , h])\n",
    "    return adjusted_labels\n",
    "\n",
    "def fuse(n, img_paths, label_paths, dest_image, dest_label, n_img):\n",
    "    if not os.path.exists(dest_image):\n",
    "        os.makedirs(dest_image)\n",
    "    if not os.path.exists(dest_label):\n",
    "        os.makedirs(dest_label)\n",
    "    target_size = 512\n",
    "    cell_size = target_size // n\n",
    "    \n",
    "    img_files = sorted([os.path.join(p, f) for p in img_paths for f in os.listdir(p) if f.endswith(('.png', '.jpg', '.jpeg'))])\n",
    "#     label_files = sorted([os.path.join(p, f) for p in label_paths for f in os.listdir(p) if f.endswith('.txt')])\n",
    "    \n",
    "    \n",
    "#     assert len(img_files) == len(label_files), \"Number of image and label files should be the same\"\n",
    "    \n",
    "#     for i in range(len(img_files)):\n",
    "    for i in range(n_img):\n",
    "        img_fused = np.zeros((target_size, target_size, 3), dtype=np.uint8)\n",
    "        all_labels = []\n",
    "        \n",
    "        selected_indices = random.sample(range(len(img_files)), n*n)\n",
    "        idx = 0\n",
    "        \n",
    "        for row in range(n):\n",
    "            for col in range(n):\n",
    "                img_path = img_files[selected_indices[idx]]\n",
    "#                 label_path = label_files[selected_indices[idx]]\n",
    "                \n",
    "                img = cv2.imread(img_path)\n",
    "                labels = [] #\n",
    "#                 with open(label_path, 'r') as f:\n",
    "#                     labels = [list(map(float, line.strip().split())) for line in f.readlines()]\n",
    "                \n",
    "                img_resized, scale, top_pad, right_pad = resize_and_pad(img, cell_size)\n",
    "                \n",
    "                start_y, start_x = row * cell_size, col * cell_size\n",
    "                img_fused[start_y:start_y + cell_size, start_x:start_x + cell_size] = img_resized[:cell_size, :cell_size]\n",
    "                \n",
    "                adjusted_labels = adjust_labels(labels, scale, top_pad, right_pad, cell_size)\n",
    "                for label in adjusted_labels:\n",
    "                    cls, cx, cy, w, h = label\n",
    "                    cx = (cx * cell_size + start_x) / target_size\n",
    "                    cy = (cy * cell_size + start_y) / target_size\n",
    "                    w /= n\n",
    "                    h /= n\n",
    "                    all_labels.append([0, cx, cy, w, h])\n",
    "                \n",
    "                idx += 1\n",
    "        \n",
    "        img_filename = os.path.join(dest_image, f'fused_{i}.jpg')\n",
    "        cv2.imwrite(img_filename, img_fused)\n",
    "        \n",
    "        label_filename = os.path.join(dest_label, f'fused_{i}.txt')\n",
    "        with open(label_filename, 'w') as f:\n",
    "            for label in all_labels:\n",
    "                f.write(' '.join(map(str, label)) + '\\n')\n",
    "\n",
    "# Example usage:back\n",
    "# fuse(1, ['/kaggle/input/realpestdet/data1/images/train'], ['/kaggle/input/realpestdet/data1/labels/train'],'online_real/images/train', 'online_real/labels/train')\n",
    "fuse(1, ['/kaggle/input/pestvisiondata/pestvision/pestvision_data/background_data/paddy_disease_classification/train/normal','/kaggle/input/pestvisiondata/pestvision/pestvision_data/background_data/paddy_disease_classification/train/dead_heart','/kaggle/input/pestvisiondata/pestvision/pestvision_data/background_data/RiceLeafs/train/blast','/kaggle/input/pestvisiondata/pestvision/pestvision_data/background_data/RiceLeafs/train/normal'], [],'background/images/train', 'background/labels/train',800)"
   ]
  },
  {
   "cell_type": "code",
   "execution_count": 16,
   "id": "f6ea0a60",
   "metadata": {
    "execution": {
     "iopub.execute_input": "2024-06-04T09:22:03.766539Z",
     "iopub.status.busy": "2024-06-04T09:22:03.766102Z",
     "iopub.status.idle": "2024-06-04T09:22:03.771372Z",
     "shell.execute_reply": "2024-06-04T09:22:03.770005Z"
    },
    "papermill": {
     "duration": 0.019029,
     "end_time": "2024-06-04T09:22:03.773979",
     "exception": false,
     "start_time": "2024-06-04T09:22:03.754950",
     "status": "completed"
    },
    "tags": []
   },
   "outputs": [],
   "source": [
    "# with open('data/labels/train/fused_72.txt','r') as f:\n",
    "#     data = f.readlines()\n",
    "# print(data)\n"
   ]
  }
 ],
 "metadata": {
  "kaggle": {
   "accelerator": "none",
   "dataSources": [
    {
     "databundleVersionId": 8633549,
     "datasetId": 5067045,
     "sourceId": 8492734,
     "sourceType": "datasetVersion"
    },
    {
     "databundleVersionId": 8739040,
     "datasetId": 5139886,
     "sourceId": 8592563,
     "sourceType": "datasetVersion"
    },
    {
     "databundleVersionId": 8661402,
     "datasetId": 5072195,
     "sourceId": 8519059,
     "sourceType": "datasetVersion"
    },
    {
     "databundleVersionId": 8748553,
     "datasetId": 5095802,
     "sourceId": 8601578,
     "sourceType": "datasetVersion"
    },
    {
     "databundleVersionId": 8684451,
     "modelInstanceId": 46883,
     "sourceId": 57563,
     "sourceType": "modelInstanceVersion"
    },
    {
     "databundleVersionId": 8684697,
     "modelInstanceId": 46883,
     "sourceId": 57573,
     "sourceType": "modelInstanceVersion"
    },
    {
     "databundleVersionId": 8699900,
     "modelInstanceId": 46883,
     "sourceId": 58338,
     "sourceType": "modelInstanceVersion"
    },
    {
     "databundleVersionId": 8675313,
     "modelInstanceId": 46883,
     "sourceId": 57064,
     "sourceType": "modelInstanceVersion"
    },
    {
     "databundleVersionId": 8680382,
     "modelInstanceId": 46883,
     "sourceId": 57345,
     "sourceType": "modelInstanceVersion"
    }
   ],
   "dockerImageVersionId": 30698,
   "isGpuEnabled": false,
   "isInternetEnabled": true,
   "language": "python",
   "sourceType": "notebook"
  },
  "kernelspec": {
   "display_name": "Python 3",
   "language": "python",
   "name": "python3"
  },
  "language_info": {
   "codemirror_mode": {
    "name": "ipython",
    "version": 3
   },
   "file_extension": ".py",
   "mimetype": "text/x-python",
   "name": "python",
   "nbconvert_exporter": "python",
   "pygments_lexer": "ipython3",
   "version": "3.10.13"
  },
  "papermill": {
   "default_parameters": {},
   "duration": 220.056795,
   "end_time": "2024-06-04T09:22:05.411295",
   "environment_variables": {},
   "exception": null,
   "input_path": "__notebook__.ipynb",
   "output_path": "__notebook__.ipynb",
   "parameters": {},
   "start_time": "2024-06-04T09:18:25.354500",
   "version": "2.5.0"
  }
 },
 "nbformat": 4,
 "nbformat_minor": 5
}

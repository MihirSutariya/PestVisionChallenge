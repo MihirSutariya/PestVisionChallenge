{
 "cells": [
  {
   "cell_type": "code",
   "execution_count": 1,
   "metadata": {},
   "outputs": [
    {
     "name": "stderr",
     "output_type": "stream",
     "text": [
      "/home/siddhibrahmbhatt/miniconda3/envs/Libcom/lib/python3.8/site-packages/tqdm/auto.py:21: TqdmWarning: IProgress not found. Please update jupyter and ipywidgets. See https://ipywidgets.readthedocs.io/en/stable/user_install.html\n",
      "  from .autonotebook import tqdm as notebook_tqdm\n"
     ]
    }
   ],
   "source": [
    "from data_utils.foreground_loader import IP102Dataset, ForegroundBlur, ForegroundRotate\n",
    "from data_utils.background_loader import PaddyDiseaseClassificationDataset, RiceLeafsDataset, BackgroundRandomCrop\n",
    "import torchvision.transforms as T\n",
    "from tqdm import tqdm\n",
    "import numpy as np\n"
   ]
  },
  {
   "cell_type": "code",
   "execution_count": 2,
   "metadata": {},
   "outputs": [
    {
     "name": "stdout",
     "output_type": "stream",
     "text": [
      "IP102 train size: 12104\n",
      "IP102 val size: 3069\n",
      "IP102 test size: 3796\n"
     ]
    }
   ],
   "source": [
    "ip102_dir = '/bucket/siddhi/pestvision_data/foreground_data/Detection_IP102'\n",
    "source_range_big = (40, 60)\n",
    "source_range_small = (60, 80)\n",
    "transform_BlurRotate = T.Compose(\n",
    "    [ForegroundBlur(blur_prob=0.35), ForegroundRotate(rotation_prob=0.35)]\n",
    ")\n",
    "\n",
    "ip102_dataset_train = IP102Dataset(dataset_dir= ip102_dir,\n",
    "                                   split='train',\n",
    "                                   source_image_range_big=source_range_big,\n",
    "                                   source_image_range_small=source_range_small,\n",
    "                                   transform=transform_BlurRotate)\n",
    "\n",
    "ip102_dataset_val = IP102Dataset(dataset_dir= ip102_dir,\n",
    "                                   split='val',\n",
    "                                   source_image_range_big=source_range_big,\n",
    "                                   source_image_range_small=source_range_small,\n",
    "                                   transform=transform_BlurRotate)\n",
    "\n",
    "ip102_dataset_test = IP102Dataset(dataset_dir= ip102_dir,\n",
    "                                   split='test',\n",
    "                                   source_image_range_big=source_range_big,\n",
    "                                   source_image_range_small=source_range_small,\n",
    "                                   transform=transform_BlurRotate)\n",
    "\n",
    "print(f'IP102 train size: {len(ip102_dataset_train)}')\n",
    "print(f'IP102 val size: {len(ip102_dataset_val)}')\n",
    "print(f'IP102 test size: {len(ip102_dataset_test)}')\n",
    "\n",
    "foreground_datasets = {'train': ip102_dataset_train, 'val': ip102_dataset_val, 'test': ip102_dataset_test}"
   ]
  },
  {
   "cell_type": "code",
   "execution_count": 3,
   "metadata": {},
   "outputs": [
    {
     "name": "stdout",
     "output_type": "stream",
     "text": [
      "Paddy Disease Classification train size: 6762\n",
      "Paddy Disease Classification val size: 1559\n",
      "Paddy Disease Classification test size: 2086\n"
     ]
    }
   ],
   "source": [
    "paddy_disease_classification_dir = '/bucket/siddhi/pestvision_data/background_data/paddy_disease_classification'\n",
    "background_transform = BackgroundRandomCrop(crop_prob=0.6)\n",
    "\n",
    "paddy_disease_classification_dataset_train= PaddyDiseaseClassificationDataset(dataset_dir=paddy_disease_classification_dir, \n",
    "                                                                              split=\"train\", transform=background_transform,\n",
    "                                                                              target_size=512)\n",
    "paddy_disease_classification_dataset_val= PaddyDiseaseClassificationDataset(dataset_dir=paddy_disease_classification_dir,\n",
    "                                                                            split=\"val\", transform=background_transform,\n",
    "                                                                            target_size=512)\n",
    "paddy_disease_classification_dataset_test= PaddyDiseaseClassificationDataset(dataset_dir=paddy_disease_classification_dir,\n",
    "                                                                             split=\"test\", transform=background_transform,\n",
    "                                                                             target_size=512)\n",
    "\n",
    "print(f'Paddy Disease Classification train size: {len(paddy_disease_classification_dataset_train)}')\n",
    "print(f'Paddy Disease Classification val size: {len(paddy_disease_classification_dataset_val)}')\n",
    "print(f'Paddy Disease Classification test size: {len(paddy_disease_classification_dataset_test)}')\n",
    "\n",
    "background_datasets = {'train': paddy_disease_classification_dataset_train, 'val': paddy_disease_classification_dataset_val, 'test': paddy_disease_classification_dataset_test}"
   ]
  },
  {
   "cell_type": "code",
   "execution_count": 4,
   "metadata": {},
   "outputs": [
    {
     "name": "stderr",
     "output_type": "stream",
     "text": [
      "100%|██████████| 10/10 [01:35<00:00,  9.57s/it]\n"
     ]
    }
   ],
   "source": [
    "from pest_blending import DeepImageBlending\n",
    "\n",
    "N_generate = 10\n",
    "\n",
    "deep_image_blending = DeepImageBlending(outputImagesDir='/home/siddhibrahmbhatt/code_siddhi/PestVisionChallenge/synthetic_data_generation/test_dib/images',\n",
    "                                        outputLabelsDir='/home/siddhibrahmbhatt/code_siddhi/PestVisionChallenge/synthetic_data_generation/test_dib/labels',\n",
    "                                        outputMetadataDir='/home/siddhibrahmbhatt/code_siddhi/PestVisionChallenge/synthetic_data_generation/test_dib/metadata',\n",
    "                                        device='cuda:0',\n",
    "                                        max_pests_per_image=5,\n",
    "                                        target_image_size=512,\n",
    "                                        source_image_range_big=source_range_big,\n",
    "                                        source_image_range_small=source_range_small,\n",
    "                                        num_steps1=10,\n",
    "                                        num_steps2=0)\n",
    "\n",
    "for i in tqdm(range(N_generate)):\n",
    "   \n",
    "   split_prob = np.random.rand()\n",
    "\n",
    "   if split_prob < 0.65:\n",
    "      split = 'train'\n",
    "   elif split_prob < 0.80:\n",
    "      split = 'val'\n",
    "   else: \n",
    "      split = 'test'\n",
    "\n",
    "   foreground_dataset = foreground_datasets[split]\n",
    "   background_dataset = background_datasets[split]\n",
    "\n",
    "   N_foreground, N_background = len(foreground_dataset), len(background_dataset)\n",
    "\n",
    "   deep_image_blending.generate_blended_image(foreground_dataset = foreground_dataset,\n",
    "                                              background_dataset = background_dataset,\n",
    "                                              N_foreground = N_foreground,\n",
    "                                              N_background = N_background,\n",
    "                                              split = split,\n",
    "                                              file_save_index=i)\n",
    "\n",
    "   "
   ]
  },
  {
   "cell_type": "code",
   "execution_count": 5,
   "metadata": {},
   "outputs": [
    {
     "name": "stderr",
     "output_type": "stream",
     "text": [
      "  0%|          | 0/10 [00:00<?, ?it/s]"
     ]
    },
    {
     "name": "stderr",
     "output_type": "stream",
     "text": [
      "100%|██████████| 10/10 [00:07<00:00,  1.41it/s]\n"
     ]
    }
   ],
   "source": [
    "from pest_blending import LibcomImageHarmonization\n",
    "\n",
    "N_generate = 10\n",
    "\n",
    "libcom_image_harmonization = LibcomImageHarmonization(outputImagesDir='/home/siddhibrahmbhatt/code_siddhi/PestVisionChallengeChallenge/synthetic_data_generation/test_ih/images',\n",
    "                                                      outputLabelsDir='/home/siddhibrahmbhatt/code_siddhi/PestVisionChallenge/synthetic_data_generation/test_ih/labels',\n",
    "                                                      outputMetadataDir='/home/siddhibrahmbhatt/code_siddhi/PestVisionChallenge/synthetic_data_generation/test_ih/metadata',\n",
    "                                                      outputTempDir='/home/siddhibrahmbhatt/code_siddhi/PestVisionChallenge/synthetic_data_generation/test_ih/temp_libcom',\n",
    "                                                      device=0,\n",
    "                                                      max_pests_per_image=5,\n",
    "                                                      target_image_size=512,\n",
    "                                                      source_image_range_big=source_range_big,\n",
    "                                                      source_image_range_small=source_range_small,\n",
    "                                                      model_type = \"PCTNet\")\n",
    "\n",
    "for i in tqdm(range(N_generate)):\n",
    "   \n",
    "   split_prob = np.random.rand()\n",
    "\n",
    "   if split_prob < 0.65:\n",
    "      split = 'train'\n",
    "   elif split_prob < 0.80:\n",
    "      split = 'val'\n",
    "   else: \n",
    "      split = 'test'\n",
    "\n",
    "   foreground_dataset = foreground_datasets[split]\n",
    "   background_dataset = background_datasets[split]\n",
    "\n",
    "   N_foreground, N_background = len(foreground_dataset), len(background_dataset)\n",
    "\n",
    "   libcom_image_harmonization.generate_blended_image(foreground_dataset = foreground_dataset,\n",
    "                                                        background_dataset = background_dataset,\n",
    "                                                        N_foreground = N_foreground,\n",
    "                                                        N_background = N_background,\n",
    "                                                        split = split,\n",
    "                                                        file_save_index=i)"
   ]
  }
 ],
 "metadata": {
  "kernelspec": {
   "display_name": "pestvision",
   "language": "python",
   "name": "python3"
  },
  "language_info": {
   "codemirror_mode": {
    "name": "ipython",
    "version": 3
   },
   "file_extension": ".py",
   "mimetype": "text/x-python",
   "name": "python",
   "nbconvert_exporter": "python",
   "pygments_lexer": "ipython3",
   "version": "3.8.5"
  }
 },
 "nbformat": 4,
 "nbformat_minor": 2
}

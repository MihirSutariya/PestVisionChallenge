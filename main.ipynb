{
 "cells": [
  {
   "cell_type": "code",
   "execution_count": 1,
   "id": "20717645",
   "metadata": {
    "execution": {
     "iopub.execute_input": "2024-06-07T08:22:59.150541Z",
     "iopub.status.busy": "2024-06-07T08:22:59.149991Z",
     "iopub.status.idle": "2024-06-07T08:23:14.604263Z",
     "shell.execute_reply": "2024-06-07T08:23:14.602851Z"
    },
    "papermill": {
     "duration": 15.4647,
     "end_time": "2024-06-07T08:23:14.607216",
     "exception": false,
     "start_time": "2024-06-07T08:22:59.142516",
     "status": "completed"
    },
    "tags": []
   },
   "outputs": [
    {
     "name": "stdout",
     "output_type": "stream",
     "text": [
      "Collecting ultralytics\r\n",
      "  Downloading ultralytics-8.2.28-py3-none-any.whl.metadata (41 kB)\r\n",
      "\u001b[2K     \u001b[90m━━━━━━━━━━━━━━━━━━━━━━━━━━━━━━━━━━━━━━━━\u001b[0m \u001b[32m41.2/41.2 kB\u001b[0m \u001b[31m1.4 MB/s\u001b[0m eta \u001b[36m0:00:00\u001b[0m\r\n",
      "\u001b[?25hRequirement already satisfied: matplotlib>=3.3.0 in /opt/conda/lib/python3.10/site-packages (from ultralytics) (3.7.5)\r\n",
      "Requirement already satisfied: opencv-python>=4.6.0 in /opt/conda/lib/python3.10/site-packages (from ultralytics) (4.9.0.80)\r\n",
      "Requirement already satisfied: pillow>=7.1.2 in /opt/conda/lib/python3.10/site-packages (from ultralytics) (9.5.0)\r\n",
      "Requirement already satisfied: pyyaml>=5.3.1 in /opt/conda/lib/python3.10/site-packages (from ultralytics) (6.0.1)\r\n",
      "Requirement already satisfied: requests>=2.23.0 in /opt/conda/lib/python3.10/site-packages (from ultralytics) (2.31.0)\r\n",
      "Requirement already satisfied: scipy>=1.4.1 in /opt/conda/lib/python3.10/site-packages (from ultralytics) (1.11.4)\r\n",
      "Requirement already satisfied: torch>=1.8.0 in /opt/conda/lib/python3.10/site-packages (from ultralytics) (2.1.2+cpu)\r\n",
      "Requirement already satisfied: torchvision>=0.9.0 in /opt/conda/lib/python3.10/site-packages (from ultralytics) (0.16.2+cpu)\r\n",
      "Requirement already satisfied: tqdm>=4.64.0 in /opt/conda/lib/python3.10/site-packages (from ultralytics) (4.66.1)\r\n",
      "Requirement already satisfied: psutil in /opt/conda/lib/python3.10/site-packages (from ultralytics) (5.9.3)\r\n",
      "Requirement already satisfied: py-cpuinfo in /opt/conda/lib/python3.10/site-packages (from ultralytics) (9.0.0)\r\n",
      "Requirement already satisfied: pandas>=1.1.4 in /opt/conda/lib/python3.10/site-packages (from ultralytics) (2.2.2)\r\n",
      "Requirement already satisfied: seaborn>=0.11.0 in /opt/conda/lib/python3.10/site-packages (from ultralytics) (0.12.2)\r\n",
      "Collecting ultralytics-thop>=0.2.5 (from ultralytics)\r\n",
      "  Downloading ultralytics_thop-0.2.7-py3-none-any.whl.metadata (8.5 kB)\r\n",
      "Requirement already satisfied: contourpy>=1.0.1 in /opt/conda/lib/python3.10/site-packages (from matplotlib>=3.3.0->ultralytics) (1.2.0)\r\n",
      "Requirement already satisfied: cycler>=0.10 in /opt/conda/lib/python3.10/site-packages (from matplotlib>=3.3.0->ultralytics) (0.12.1)\r\n",
      "Requirement already satisfied: fonttools>=4.22.0 in /opt/conda/lib/python3.10/site-packages (from matplotlib>=3.3.0->ultralytics) (4.47.0)\r\n",
      "Requirement already satisfied: kiwisolver>=1.0.1 in /opt/conda/lib/python3.10/site-packages (from matplotlib>=3.3.0->ultralytics) (1.4.5)\r\n",
      "Requirement already satisfied: numpy<2,>=1.20 in /opt/conda/lib/python3.10/site-packages (from matplotlib>=3.3.0->ultralytics) (1.26.4)\r\n",
      "Requirement already satisfied: packaging>=20.0 in /opt/conda/lib/python3.10/site-packages (from matplotlib>=3.3.0->ultralytics) (21.3)\r\n",
      "Requirement already satisfied: pyparsing>=2.3.1 in /opt/conda/lib/python3.10/site-packages (from matplotlib>=3.3.0->ultralytics) (3.1.1)\r\n",
      "Requirement already satisfied: python-dateutil>=2.7 in /opt/conda/lib/python3.10/site-packages (from matplotlib>=3.3.0->ultralytics) (2.9.0.post0)\r\n",
      "Requirement already satisfied: pytz>=2020.1 in /opt/conda/lib/python3.10/site-packages (from pandas>=1.1.4->ultralytics) (2023.3.post1)\r\n",
      "Requirement already satisfied: tzdata>=2022.7 in /opt/conda/lib/python3.10/site-packages (from pandas>=1.1.4->ultralytics) (2023.4)\r\n",
      "Requirement already satisfied: charset-normalizer<4,>=2 in /opt/conda/lib/python3.10/site-packages (from requests>=2.23.0->ultralytics) (3.3.2)\r\n",
      "Requirement already satisfied: idna<4,>=2.5 in /opt/conda/lib/python3.10/site-packages (from requests>=2.23.0->ultralytics) (3.6)\r\n",
      "Requirement already satisfied: urllib3<3,>=1.21.1 in /opt/conda/lib/python3.10/site-packages (from requests>=2.23.0->ultralytics) (1.26.18)\r\n",
      "Requirement already satisfied: certifi>=2017.4.17 in /opt/conda/lib/python3.10/site-packages (from requests>=2.23.0->ultralytics) (2024.2.2)\r\n",
      "Requirement already satisfied: filelock in /opt/conda/lib/python3.10/site-packages (from torch>=1.8.0->ultralytics) (3.13.1)\r\n",
      "Requirement already satisfied: typing-extensions in /opt/conda/lib/python3.10/site-packages (from torch>=1.8.0->ultralytics) (4.9.0)\r\n",
      "Requirement already satisfied: sympy in /opt/conda/lib/python3.10/site-packages (from torch>=1.8.0->ultralytics) (1.12)\r\n",
      "Requirement already satisfied: networkx in /opt/conda/lib/python3.10/site-packages (from torch>=1.8.0->ultralytics) (3.2.1)\r\n",
      "Requirement already satisfied: jinja2 in /opt/conda/lib/python3.10/site-packages (from torch>=1.8.0->ultralytics) (3.1.2)\r\n",
      "Requirement already satisfied: fsspec in /opt/conda/lib/python3.10/site-packages (from torch>=1.8.0->ultralytics) (2024.2.0)\r\n",
      "Requirement already satisfied: six>=1.5 in /opt/conda/lib/python3.10/site-packages (from python-dateutil>=2.7->matplotlib>=3.3.0->ultralytics) (1.16.0)\r\n",
      "Requirement already satisfied: MarkupSafe>=2.0 in /opt/conda/lib/python3.10/site-packages (from jinja2->torch>=1.8.0->ultralytics) (2.1.3)\r\n",
      "Requirement already satisfied: mpmath>=0.19 in /opt/conda/lib/python3.10/site-packages (from sympy->torch>=1.8.0->ultralytics) (1.3.0)\r\n",
      "Downloading ultralytics-8.2.28-py3-none-any.whl (779 kB)\r\n",
      "\u001b[2K   \u001b[90m━━━━━━━━━━━━━━━━━━━━━━━━━━━━━━━━━━━━━━━━\u001b[0m \u001b[32m779.6/779.6 kB\u001b[0m \u001b[31m12.5 MB/s\u001b[0m eta \u001b[36m0:00:00\u001b[0m\r\n",
      "\u001b[?25hDownloading ultralytics_thop-0.2.7-py3-none-any.whl (25 kB)\r\n",
      "Installing collected packages: ultralytics-thop, ultralytics\r\n",
      "Successfully installed ultralytics-8.2.28 ultralytics-thop-0.2.7\r\n"
     ]
    }
   ],
   "source": [
    "# !conda env create -f /kaggle/input/condaenv/environment.yml\n",
    "# !conda init\n",
    "# !conda activate pestvision\n",
    "# !wget -P /kaggle/input/ https://storage.googleapis.com/npss-pestvision-data/pestvision_data.zip\n",
    "!pip install ultralytics"
   ]
  },
  {
   "cell_type": "code",
   "execution_count": 2,
   "id": "ae718e21",
   "metadata": {
    "execution": {
     "iopub.execute_input": "2024-06-07T08:23:14.623703Z",
     "iopub.status.busy": "2024-06-07T08:23:14.623303Z",
     "iopub.status.idle": "2024-06-07T08:23:22.804825Z",
     "shell.execute_reply": "2024-06-07T08:23:22.803823Z"
    },
    "papermill": {
     "duration": 8.192964,
     "end_time": "2024-06-07T08:23:22.807451",
     "exception": false,
     "start_time": "2024-06-07T08:23:14.614487",
     "status": "completed"
    },
    "tags": []
   },
   "outputs": [
    {
     "name": "stderr",
     "output_type": "stream",
     "text": [
      "\u001b[34m\u001b[1mwandb\u001b[0m: \u001b[33mWARNING\u001b[0m This integration is tested and supported for ultralytics v8.0.238 and below.\n",
      "\u001b[34m\u001b[1mwandb\u001b[0m: \u001b[33mWARNING\u001b[0m             Please report any issues to https://github.com/wandb/wandb/issues with the tag `yolov8`.\n"
     ]
    }
   ],
   "source": [
    "import os\n",
    "os.environ['WANDB_DISABLED'] = 'true'\n",
    "import numpy as np\n",
    "import torch\n",
    "import yaml\n",
    "import imageio.v3 as imageio\n",
    "import matplotlib.pyplot as plt\n",
    "import matplotlib.patches as patches\n",
    "import json\n",
    "\n",
    "from abc import ABC, abstractmethod\n",
    "from ultralytics import YOLO\n",
    "import wandb\n",
    "from wandb.integration.ultralytics import add_wandb_callback\n",
    "\n",
    "from torch.utils.data import Dataset, DataLoader\n",
    "from torchvision import transforms, utils\n",
    "from glob import glob\n",
    "# from natsort import natsorted\n",
    "from PIL import Image\n",
    "import torchvision.transforms as T\n",
    "import xml.etree.ElementTree as ET\n",
    "from typing import List, Tuple, Optional, Callable, Dict, Any"
   ]
  },
  {
   "cell_type": "code",
   "execution_count": 3,
   "id": "224cb965",
   "metadata": {
    "execution": {
     "iopub.execute_input": "2024-06-07T08:23:22.822533Z",
     "iopub.status.busy": "2024-06-07T08:23:22.822051Z",
     "iopub.status.idle": "2024-06-07T08:23:22.830477Z",
     "shell.execute_reply": "2024-06-07T08:23:22.829292Z"
    },
    "papermill": {
     "duration": 0.01944,
     "end_time": "2024-06-07T08:23:22.833689",
     "exception": false,
     "start_time": "2024-06-07T08:23:22.814249",
     "status": "completed"
    },
    "tags": []
   },
   "outputs": [
    {
     "name": "stdout",
     "output_type": "stream",
     "text": [
      "CUDA is not available. Using CPU.\n"
     ]
    }
   ],
   "source": [
    "root = '/kaggle/input/pestvisiondata/pestvision/pestvision_data'\n",
    "synth_dset_paths = ['synthetic_data/DeepImageBlendingData/run3/RiceLeafs/images/train',\n",
    "             'synthetic_data/DeepImageBlendingData/run3/paddy-disease-classification/images/train',\n",
    "             'synthetic_data/Libcom_HarmonizationData_PCTNet/run1/RiceLeafs/images/train',\n",
    "             'synthetic_data/Libcom_HarmonizationData_PCTNet/run1/paddy-disease-classification/images/train']\n",
    "synth_dset_paths = [os.path.join(root,i) for i in synth_dset_paths]\n",
    "val_paths = [\"/\".join(i.split('/')[:-1]+['val']) for i in synth_dset_paths]\n",
    "real_paths = ['/kaggle/input/realpestdet/data/images/train']\n",
    "\n",
    "rval_paths = ['/kaggle/input/pestvision-val/real_dset/images/val']\n",
    "cust_paths = ['/kaggle/input/realpestdet/data/fuse2/images/train','/kaggle/input/realpestdet/data/fuse4/images/train','/kaggle/input/online-ip102/online_real/images/train','/kaggle/input/online-ip102/ip102/images/train']\n",
    "\n",
    "if torch.cuda.is_available():\n",
    "    device = torch.device('cuda')\n",
    "    print(\"CUDA is available. Using GPU.\")\n",
    "else:\n",
    "    device = torch.device('cpu')\n",
    "    print(\"CUDA is not available. Using CPU.\")"
   ]
  },
  {
   "cell_type": "code",
   "execution_count": 4,
   "id": "6c8c1b47",
   "metadata": {
    "execution": {
     "iopub.execute_input": "2024-06-07T08:23:22.848716Z",
     "iopub.status.busy": "2024-06-07T08:23:22.848372Z",
     "iopub.status.idle": "2024-06-07T08:23:22.857003Z",
     "shell.execute_reply": "2024-06-07T08:23:22.855984Z"
    },
    "papermill": {
     "duration": 0.018578,
     "end_time": "2024-06-07T08:23:22.859109",
     "exception": false,
     "start_time": "2024-06-07T08:23:22.840531",
     "status": "completed"
    },
    "tags": []
   },
   "outputs": [],
   "source": [
    "class AbstractPestDetection(ABC):\n",
    "    \"\"\"\n",
    "    Abstract class for pest detection\n",
    "    \"\"\"\n",
    "\n",
    "    def __init__(self, device):\n",
    "        self.device = device\n",
    "\n",
    "    @abstractmethod\n",
    "    def load_model(self, model_path):\n",
    "        pass\n",
    "\n",
    "    @abstractmethod\n",
    "    def train(self):\n",
    "        pass\n",
    "\n",
    "    # TODO: implement evaluate method\n",
    "    # @abstractmethod\n",
    "    # def evaluate(self):\n",
    "    #     pass\n",
    "\n",
    "\n",
    "class PestDetection_yolov8(AbstractPestDetection):\n",
    "    \"\"\"\n",
    "    YOLOv8 model for pest detection\n",
    "    \"\"\"\n",
    "\n",
    "    def __init__(self, device):\n",
    "        super().__init__(device)\n",
    "        self.model = None\n",
    "\n",
    "    def load_model(self, model_path=\"yolov8n.pt\"):\n",
    "        \"\"\"\n",
    "        Load the YOLOv8 model\n",
    "\n",
    "        Parameters:\n",
    "\n",
    "         model_path (str): path to the model checkpoint\n",
    "        \"\"\"\n",
    "        self.model = YOLO(model_path)\n",
    "\n",
    "    def train(self,**kwargs):\n",
    "\n",
    "        results = self.model.train(**kwargs)\n",
    "        self.model.val()\n",
    "\n",
    "        return results\n",
    "\n",
    "    # TODO: implment evaluate method\n",
    "    # def evaluate(self):\n",
    "    #     pass\n"
   ]
  },
  {
   "cell_type": "code",
   "execution_count": 5,
   "id": "8792555f",
   "metadata": {
    "execution": {
     "iopub.execute_input": "2024-06-07T08:23:22.873765Z",
     "iopub.status.busy": "2024-06-07T08:23:22.873420Z",
     "iopub.status.idle": "2024-06-07T08:23:22.879640Z",
     "shell.execute_reply": "2024-06-07T08:23:22.878463Z"
    },
    "papermill": {
     "duration": 0.016119,
     "end_time": "2024-06-07T08:23:22.881728",
     "exception": false,
     "start_time": "2024-06-07T08:23:22.865609",
     "status": "completed"
    },
    "tags": []
   },
   "outputs": [],
   "source": [
    "def make_dsetconfig(train,val):\n",
    "\n",
    "    d_config = {\n",
    "        \"train\": train,\n",
    "        \"val\": val,\n",
    "\n",
    "        \"nc\": 102, # number of classes\n",
    "        \"names\": [str(i) for i in range(102)] \n",
    "    }\n",
    "    filename = 'data.yaml'\n",
    "    with open(filename, 'w') as file:\n",
    "        yaml.dump(d_config, file, default_flow_style=False)\n",
    "    return filename"
   ]
  },
  {
   "cell_type": "code",
   "execution_count": 6,
   "id": "1ea323f7",
   "metadata": {
    "execution": {
     "iopub.execute_input": "2024-06-07T08:23:22.896323Z",
     "iopub.status.busy": "2024-06-07T08:23:22.895878Z",
     "iopub.status.idle": "2024-06-07T08:23:22.901841Z",
     "shell.execute_reply": "2024-06-07T08:23:22.900845Z"
    },
    "papermill": {
     "duration": 0.015945,
     "end_time": "2024-06-07T08:23:22.904165",
     "exception": false,
     "start_time": "2024-06-07T08:23:22.888220",
     "status": "completed"
    },
    "tags": []
   },
   "outputs": [],
   "source": [
    "def train(checkpoint,train,val,resume = False):\n",
    "    model = PestDetection_yolov8(device)\n",
    "    model.load_model(checkpoint)\n",
    "    results = model.train(data=make_dsetconfig(train,val), epochs=50, imgsz=512, save_period=10,batch=-1, plots=True, resume = resume)"
   ]
  },
  {
   "cell_type": "code",
   "execution_count": 7,
   "id": "f71b5204",
   "metadata": {
    "execution": {
     "iopub.execute_input": "2024-06-07T08:23:22.919665Z",
     "iopub.status.busy": "2024-06-07T08:23:22.918768Z",
     "iopub.status.idle": "2024-06-07T08:23:22.927446Z",
     "shell.execute_reply": "2024-06-07T08:23:22.926366Z"
    },
    "papermill": {
     "duration": 0.018947,
     "end_time": "2024-06-07T08:23:22.929965",
     "exception": false,
     "start_time": "2024-06-07T08:23:22.911018",
     "status": "completed"
    },
    "tags": []
   },
   "outputs": [],
   "source": [
    "import xml.etree.ElementTree as ET\n",
    "\n",
    "def convert_to_yolo_format(annotation_file,dest):\n",
    "    tree = ET.parse(annotation_file)\n",
    "    root = tree.getroot()\n",
    "    \n",
    "    \n",
    "    size = root.find('size')\n",
    "    image_width = int(size.find('width').text)\n",
    "    image_height = int(size.find('height').text)\n",
    "    \n",
    "    \n",
    "    for obj in root.iter('object'):\n",
    "        name = obj.find('name').text\n",
    "        bndbox = obj.find('bndbox')\n",
    "        \n",
    "        xmin = int(bndbox.find('xmin').text)\n",
    "        ymin = int(bndbox.find('ymin').text)\n",
    "        xmax = int(bndbox.find('xmax').text)\n",
    "        ymax = int(bndbox.find('ymax').text)\n",
    "        \n",
    "        \n",
    "        x_center = (xmin + xmax) / 2.0 / image_width\n",
    "        y_center = (ymin + ymax) / 2.0 / image_height\n",
    "        width = (xmax - xmin) / image_width\n",
    "        height = (ymax - ymin) / image_height\n",
    "        \n",
    "        yolo_format = f\"{name} {x_center:.6f} {y_center:.6f} {width:.6f} {height:.6f}\"\n",
    "        \n",
    "        \n",
    "        txt_filename = dest\n",
    "        with open(txt_filename, 'w') as txt_file:\n",
    "            txt_file.write(yolo_format + '\\n')"
   ]
  },
  {
   "cell_type": "code",
   "execution_count": 8,
   "id": "c7300f70",
   "metadata": {
    "execution": {
     "iopub.execute_input": "2024-06-07T08:23:22.945462Z",
     "iopub.status.busy": "2024-06-07T08:23:22.945075Z",
     "iopub.status.idle": "2024-06-07T08:23:22.950199Z",
     "shell.execute_reply": "2024-06-07T08:23:22.949173Z"
    },
    "papermill": {
     "duration": 0.015701,
     "end_time": "2024-06-07T08:23:22.952557",
     "exception": false,
     "start_time": "2024-06-07T08:23:22.936856",
     "status": "completed"
    },
    "tags": []
   },
   "outputs": [],
   "source": [
    "# annotations_path = '/kaggle/input/pestvisiondata/pestvision/pestvision_data/foreground_data/Detection_IP102/Annotations'\n",
    "# images_path = '/kaggle/input/pestvisiondata/pestvision/pestvision_data/foreground_data/Detection_IP102/JPEGImages'\n",
    "# label_path = 'data/labels/train/'\n",
    "# timage_path = 'data/images/train/'\n",
    "# if not os.path.isdir(label_path):\n",
    "#     os.makedirs(label_path)\n",
    "# if not os.path.isdir(timage_path):\n",
    "#     os.makedirs(timage_path)\n",
    "\n",
    "# i = 0\n",
    "# for filename in os.listdir(annotations_path):\n",
    "    \n",
    "#     if filename.endswith('.xml'):\n",
    "#         xml_file_path = os.path.join(annotations_path,filename)\n",
    "        \n",
    "#         convert_to_yolo_format(xml_file_path,os.path.join(label_path,filename.replace('.xml','.txt')))\n",
    "#         image = Image.open(os.path.join(images_path,filename.replace('.xml','.jpg')))\n",
    "#         image = image.resize((512,512))\n",
    "#         image.save(os.path.join(timage_path,filename.replace('.xml','.jpg')))\n",
    "#         i+=1\n",
    "# print('#################### completed:',i,'##############################')\n",
    "        \n",
    "\n"
   ]
  },
  {
   "cell_type": "code",
   "execution_count": 9,
   "id": "60cae069",
   "metadata": {
    "execution": {
     "iopub.execute_input": "2024-06-07T08:23:22.967182Z",
     "iopub.status.busy": "2024-06-07T08:23:22.966809Z",
     "iopub.status.idle": "2024-06-07T08:23:22.971493Z",
     "shell.execute_reply": "2024-06-07T08:23:22.970319Z"
    },
    "papermill": {
     "duration": 0.014575,
     "end_time": "2024-06-07T08:23:22.973702",
     "exception": false,
     "start_time": "2024-06-07T08:23:22.959127",
     "status": "completed"
    },
    "tags": []
   },
   "outputs": [],
   "source": [
    "# train(\"yolov8n.pt\",['/kaggle/input/realpestdet/data/fuse2/images/train','/kaggle/input/realpestdet/data/fuse4/images/train']+synth_dset_paths, rval_paths, False)"
   ]
  },
  {
   "cell_type": "code",
   "execution_count": 10,
   "id": "0ea86c62",
   "metadata": {
    "execution": {
     "iopub.execute_input": "2024-06-07T08:23:22.989500Z",
     "iopub.status.busy": "2024-06-07T08:23:22.988907Z",
     "iopub.status.idle": "2024-06-07T08:23:23.006435Z",
     "shell.execute_reply": "2024-06-07T08:23:23.005068Z"
    },
    "papermill": {
     "duration": 0.027492,
     "end_time": "2024-06-07T08:23:23.008807",
     "exception": false,
     "start_time": "2024-06-07T08:23:22.981315",
     "status": "completed"
    },
    "tags": []
   },
   "outputs": [],
   "source": [
    "def segment(image):\n",
    "    \n",
    "    segment_size = 512\n",
    "    if min(image.shape[0], image.shape[1])<512:\n",
    "        segment_size = min(image.shape[0], image.shape[1])\n",
    "    increment = int(segment_size*(3/4))\n",
    "\n",
    "    images = []\n",
    "    pos = []\n",
    "    \n",
    "    i = 0\n",
    "    while i+segment_size<image.shape[0]:\n",
    "        j = 0\n",
    "        while j+segment_size<image.shape[1]:\n",
    "            images.append(image[i:i+segment_size, j:j+segment_size])\n",
    "            pos.append([i,i+segment_size, j,j+segment_size])\n",
    "            j+=increment\n",
    "        i+=increment\n",
    "    \n",
    "    i=0\n",
    "    j=0\n",
    "    while j+segment_size<image.shape[1]:\n",
    "        images.append(image[image.shape[0]-segment_size:image.shape[0], j:j+segment_size])\n",
    "        pos.append([image.shape[0]-segment_size,image.shape[0], j,j+segment_size])\n",
    "        j+=increment\n",
    "    while i+segment_size<image.shape[0]:\n",
    "        images.append(image[i:i+segment_size,image.shape[1]-segment_size:image.shape[1]])\n",
    "        pos.append([i,i+segment_size,image.shape[1]-segment_size,image.shape[1]])\n",
    "        i+=increment\n",
    "    \n",
    "    images.append(image[image.shape[0]-segment_size:image.shape[0],image.shape[1]-segment_size:image.shape[1]])\n",
    "    pos.append([image.shape[0]-segment_size,image.shape[0],image.shape[1]-segment_size,image.shape[1]])\n",
    "    \n",
    "    return images, pos, segment_size\n",
    "    \n",
    "        \n",
    "\n",
    "def segment_eval(model, image):\n",
    "    s_images, pos, sz = segment(image) \n",
    "    h,w = image.shape[0], image.shape[1]\n",
    "    \n",
    "    boxes = torch.empty((0,4),dtype = torch.int)\n",
    "    confs = torch.empty((0))\n",
    "    class_ids = torch.empty((0), dtype=torch.int)\n",
    "    \n",
    "    for sample_i, sample_pos in zip(s_images, pos):\n",
    "        results = model.predict(sample_i)[0]\n",
    "    \n",
    "        sample_boxes = results.boxes.xyxy.clone()\n",
    "        sample_boxes[:,0] = sample_boxes[:,0]+sample_pos[2]\n",
    "        sample_boxes[:,1] = sample_boxes[:,1]+sample_pos[0]\n",
    "        sample_boxes[:,2] = sample_boxes[:,2]+sample_pos[2]\n",
    "        sample_boxes[:,3] = sample_boxes[:,3]+sample_pos[0]\n",
    "        boxes = torch.cat((boxes,sample_boxes),dim=0)\n",
    "        \n",
    "        sample_conf = results.boxes.conf\n",
    "        confs = torch.cat((confs,sample_conf),dim=0)\n",
    "        \n",
    "        sample_cids = results.boxes.cls\n",
    "        class_ids = torch.cat((class_ids, sample_cids),dim=0)\n",
    "    keep_indices = torch.ops.torchvision.nms(boxes, confs, 0.2)\n",
    "        \n",
    "    return boxes.to(torch.int)[keep_indices], confs[keep_indices], class_ids.to(torch.int)[keep_indices]"
   ]
  },
  {
   "cell_type": "code",
   "execution_count": 11,
   "id": "bce9e8f6",
   "metadata": {
    "execution": {
     "iopub.execute_input": "2024-06-07T08:23:23.024129Z",
     "iopub.status.busy": "2024-06-07T08:23:23.023537Z",
     "iopub.status.idle": "2024-06-07T08:23:23.031054Z",
     "shell.execute_reply": "2024-06-07T08:23:23.029977Z"
    },
    "papermill": {
     "duration": 0.018152,
     "end_time": "2024-06-07T08:23:23.033570",
     "exception": false,
     "start_time": "2024-06-07T08:23:23.015418",
     "status": "completed"
    },
    "tags": []
   },
   "outputs": [],
   "source": [
    "def plot_image_with_boxes(image, boxes, confidences, class_ids, class_names):\n",
    "    \"\"\"\n",
    "    Plot image with bounding boxes.\n",
    "    \n",
    "    Args:\n",
    "    - image: numpy array representing the image\n",
    "    - boxes: list of bounding boxes in xyxy format\n",
    "    - confidences: list of confidence scores\n",
    "    - class_ids: list of class IDs\n",
    "    - class_names: list of class names\n",
    "    \"\"\"\n",
    "    plt.figure()\n",
    "    fig, ax = plt.subplots(1)\n",
    "    ax.imshow(image)\n",
    "\n",
    "    for box, confidence, class_id in zip(boxes, confidences, class_ids):\n",
    "        x1, y1, x2, y2 = box\n",
    "        box_width = x2 - x1\n",
    "        box_height = y2 - y1\n",
    "        \n",
    "        # Create a rectangle patch\n",
    "        rect = patches.Rectangle((x1, y1), box_width, box_height, linewidth=1, edgecolor='r', facecolor='none')\n",
    "        ax.add_patch(rect)\n",
    "\n",
    "        # Add class label and confidence score\n",
    "        class_name = class_names[class_id]\n",
    "        ax.text(x1, y1, f'{class_name} {confidence:.2f}', color='r', fontsize=8, backgroundcolor='none')\n",
    "\n",
    "    plt.show()"
   ]
  },
  {
   "cell_type": "code",
   "execution_count": 12,
   "id": "304a51f3",
   "metadata": {
    "execution": {
     "iopub.execute_input": "2024-06-07T08:23:23.049347Z",
     "iopub.status.busy": "2024-06-07T08:23:23.048213Z",
     "iopub.status.idle": "2024-06-07T08:23:23.053575Z",
     "shell.execute_reply": "2024-06-07T08:23:23.052485Z"
    },
    "papermill": {
     "duration": 0.015677,
     "end_time": "2024-06-07T08:23:23.055996",
     "exception": false,
     "start_time": "2024-06-07T08:23:23.040319",
     "status": "completed"
    },
    "tags": []
   },
   "outputs": [],
   "source": [
    "# img = imageio.imread('/kaggle/input/pestvision-val/real_dset/images/val/0ed44c1f-4174-46ef-b06e-8edf544aa42f.jpg')\n",
    "# model = PestDetection_yolov8(device)\n",
    "# model.load_model('/kaggle/input/yolo/other/exp1/15/last.pt')\n",
    "# boxes, confs, class_ids = segment_eval(model.model, img)\n",
    "# plot_image_with_boxes(img,boxes,confs,class_ids,[str(i) for i in range(1,103)])\n",
    "\n"
   ]
  },
  {
   "cell_type": "code",
   "execution_count": 13,
   "id": "681b2371",
   "metadata": {
    "execution": {
     "iopub.execute_input": "2024-06-07T08:23:23.070889Z",
     "iopub.status.busy": "2024-06-07T08:23:23.070540Z",
     "iopub.status.idle": "2024-06-07T08:23:23.075538Z",
     "shell.execute_reply": "2024-06-07T08:23:23.074355Z"
    },
    "papermill": {
     "duration": 0.015104,
     "end_time": "2024-06-07T08:23:23.077762",
     "exception": false,
     "start_time": "2024-06-07T08:23:23.062658",
     "status": "completed"
    },
    "tags": []
   },
   "outputs": [],
   "source": [
    "# train_path = '/kaggle/input/pest-new-real/Pest Data-3/train2017'\n",
    "# anno_path = '/kaggle/input/pest-new-real/Pest Data-3/annotations/instances_train2017.json'\n",
    "\n",
    "# with open(anno_path, 'r') as f:\n",
    "#     anno = json.load(f)\n",
    "    \n",
    "# print(anno['categories'][0].keys())\n",
    "# print(anno['annotations'][0].keys())\n",
    "# print(anno['images'][0].keys())\n",
    "# print([i['id'] for i in anno['images'] if i['file_name']=='061.jpg'])\n",
    "# print([j['bbox'] for j in anno['annotations'] if j['image_id']==1765])"
   ]
  },
  {
   "cell_type": "code",
   "execution_count": 14,
   "id": "e8f094fc",
   "metadata": {
    "execution": {
     "iopub.execute_input": "2024-06-07T08:23:23.093561Z",
     "iopub.status.busy": "2024-06-07T08:23:23.093178Z",
     "iopub.status.idle": "2024-06-07T08:23:23.098632Z",
     "shell.execute_reply": "2024-06-07T08:23:23.097436Z"
    },
    "papermill": {
     "duration": 0.016668,
     "end_time": "2024-06-07T08:23:23.101142",
     "exception": false,
     "start_time": "2024-06-07T08:23:23.084474",
     "status": "completed"
    },
    "tags": []
   },
   "outputs": [],
   "source": [
    "# image_p = './data1/images/train'\n",
    "# label_p = './data1/labels/train'\n",
    "\n",
    "# if not os.path.exists(image_p):\n",
    "#     os.makedirs(image_p)\n",
    "# if not os.path.exists(label_p):\n",
    "#     os.makedirs(label_p)\n",
    "\n",
    "# # print(len(os.listdir(train_path)))\n",
    "# cnt = 0\n",
    "# for i in anno['images']:\n",
    "#     if os.path.isfile(os.path.join(train_path,i['file_name'])):\n",
    "#         img = Image.open(os.path.join(train_path,i['file_name']))\n",
    "#         img.save(os.path.join(image_p,i['file_name']))\n",
    "\n",
    "#         with open(os.path.join(label_p,i['file_name'].split('.')[0]+'.txt'), 'w') as f:\n",
    "#             i_anno = [j for j in anno['annotations'] if j['image_id']==i['id']]\n",
    "#             for j in i_anno:\n",
    "#                 cate = 0\n",
    "#                 x = (j['bbox'][0]+j['bbox'][2]/2)/i['width']\n",
    "#                 y = (j['bbox'][1]+j['bbox'][3]/2)/i['height']\n",
    "#                 w = j['bbox'][2]/i['width']\n",
    "#                 h = j['bbox'][3]/i['height']\n",
    "#                 f.write(' '.join(map(str,[cate,x,y,w,h]))+'\\n')\n",
    "#         cnt+=1\n",
    "# print('Successful:',cnt)"
   ]
  },
  {
   "cell_type": "code",
   "execution_count": 15,
   "id": "3472fb74",
   "metadata": {
    "execution": {
     "iopub.execute_input": "2024-06-07T08:23:23.116343Z",
     "iopub.status.busy": "2024-06-07T08:23:23.115936Z",
     "iopub.status.idle": "2024-06-07T10:18:23.000498Z",
     "shell.execute_reply": "2024-06-07T10:18:22.995468Z"
    },
    "papermill": {
     "duration": 6899.897884,
     "end_time": "2024-06-07T10:18:23.005860",
     "exception": false,
     "start_time": "2024-06-07T08:23:23.107976",
     "status": "completed"
    },
    "tags": []
   },
   "outputs": [],
   "source": [
    "import os\n",
    "import random\n",
    "import cv2\n",
    "import numpy as np\n",
    "\n",
    "\n",
    "def resize_and_pad(img, target_size):\n",
    "    h, w = img.shape[:2]\n",
    "    scale = min(target_size / h, target_size / w)\n",
    "    nh, nw = int(h * scale), int(w * scale)\n",
    "    img_resized = cv2.resize(img, (nw, nh))\n",
    "    bot_pad = target_size - nh\n",
    "    right_pad = target_size - nw\n",
    "    img_padded = cv2.copyMakeBorder(img_resized, 0, bot_pad, 0, right_pad, cv2.BORDER_CONSTANT, value=(0, 0, 0))\n",
    "    return img_padded, scale, bot_pad, right_pad\n",
    "\n",
    "def adjust_labels(labels, scale, bot_pad, right_pad, cell_size):\n",
    "    adjusted_labels = []\n",
    "    \n",
    "    for label in labels:\n",
    "        cls, cx, cy, w, h = label\n",
    "        cx = (cx*(cell_size-right_pad))/cell_size\n",
    "        cy = (cy*(cell_size-bot_pad))/cell_size\n",
    "        w = (w*(cell_size-right_pad))/cell_size\n",
    "        h = (h*(cell_size-bot_pad))/cell_size\n",
    "        adjusted_labels.append([cls, cx, cy , w , h])\n",
    "    return adjusted_labels\n",
    "\n",
    "def fuse(n, img_paths, label_paths, dest_image, dest_label, n_img):\n",
    "    if not os.path.exists(dest_image):\n",
    "        os.makedirs(dest_image)\n",
    "    if not os.path.exists(dest_label):\n",
    "        os.makedirs(dest_label)\n",
    "    target_size = 512\n",
    "    cell_size = target_size // n\n",
    "    \n",
    "    img_files = sorted([os.path.join(p, f) for p in img_paths for f in os.listdir(p) if f.endswith(('.png', '.jpg', '.jpeg'))])\n",
    "    label_files = sorted([os.path.join(p, f) for p in label_paths for f in os.listdir(p) if f.endswith('.txt')])\n",
    "    \n",
    "    \n",
    "    assert len(img_files) == len(label_files), \"Number of image and label files should be the same\"\n",
    "    \n",
    "#     for i in range(len(img_files)):\n",
    "    for i in range(n_img):\n",
    "        img_fused = np.zeros((target_size, target_size, 3), dtype=np.uint8)\n",
    "        all_labels = []\n",
    "        \n",
    "        selected_indices = random.sample(range(len(img_files)), n*n)\n",
    "        idx = 0\n",
    "        \n",
    "        for row in range(n):\n",
    "            for col in range(n):\n",
    "                img_path = img_files[selected_indices[idx]]\n",
    "                label_path = label_files[selected_indices[idx]]\n",
    "                \n",
    "                img = cv2.imread(img_path)\n",
    "                labels = [] #\n",
    "                with open(label_path, 'r') as f:\n",
    "                    labels = [list(map(float, line.strip().split())) for line in f.readlines()]\n",
    "                \n",
    "                img_resized, scale, top_pad, right_pad = resize_and_pad(img, cell_size)\n",
    "                \n",
    "                start_y, start_x = row * cell_size, col * cell_size\n",
    "                img_fused[start_y:start_y + cell_size, start_x:start_x + cell_size] = img_resized[:cell_size, :cell_size]\n",
    "                \n",
    "                adjusted_labels = adjust_labels(labels, scale, top_pad, right_pad, cell_size)\n",
    "                for label in adjusted_labels:\n",
    "                    cls, cx, cy, w, h = label\n",
    "                    cx = (cx * cell_size + start_x) / target_size\n",
    "                    cy = (cy * cell_size + start_y) / target_size\n",
    "                    w /= n\n",
    "                    h /= n\n",
    "                    all_labels.append([cls, cx, cy, w, h])\n",
    "                \n",
    "                idx += 1\n",
    "        \n",
    "        img_filename = os.path.join(dest_image, f'fused_{i}.jpg')\n",
    "        cv2.imwrite(img_filename, img_fused)\n",
    "        \n",
    "        label_filename = os.path.join(dest_label, f'fused_{i}.txt')\n",
    "        with open(label_filename, 'w') as f:\n",
    "            for label in all_labels:\n",
    "                f.write(' '.join(map(str, label)) + '\\n')\n",
    "\n",
    "# Example usage:back\n",
    "# fuse(1, ['/kaggle/input/realpestdet/data1/images/train'], ['/kaggle/input/realpestdet/data1/labels/train'],'online_real/images/train', 'online_real/labels/train',2000)\n",
    "# fuse(1, ['/kaggle/input/pestvisiondata/pestvision/pestvision_data/background_data/paddy_disease_classification/train/normal','/kaggle/input/pestvisiondata/pestvision/pestvision_data/background_data/paddy_disease_classification/train/dead_heart','/kaggle/input/pestvisiondata/pestvision/pestvision_data/background_data/RiceLeafs/train/blast','/kaggle/input/pestvisiondata/pestvision/pestvision_data/background_data/RiceLeafs/train/normal'], [],'background/images/train', 'background/labels/train',800)\n",
    "# fuse(1, ['/kaggle/input/realpestdet/data/images/train'], ['/kaggle/input/realpestdet/data/labels/train'],'ip102/images/train', 'ip102/labels/train',4000)\n",
    "fuse(2, ['/kaggle/input/realpestdet/background/images/train','/kaggle/input/online-ip102/ip102/images/train'], ['/kaggle/input/realpestdet/background/labels/train','/kaggle/input/online-ip102/ip102/labels/train'],'data/fuse2/images/train', 'data/fuse2/labels/train',13000)\n",
    "fuse(4, ['/kaggle/input/realpestdet/background/images/train','/kaggle/input/online-ip102/ip102/images/train'], ['/kaggle/input/realpestdet/background/labels/train','/kaggle/input/online-ip102/ip102/labels/train'],'data/fuse4/images/train', 'data/fuse4/labels/train',13000)\n",
    "fuse(8, ['/kaggle/input/realpestdet/background/images/train','/kaggle/input/online-ip102/ip102/images/train'], ['/kaggle/input/realpestdet/background/labels/train','/kaggle/input/online-ip102/ip102/labels/train'],'data/fuse8/images/train', 'data/fuse8/labels/train',13000)"
   ]
  },
  {
   "cell_type": "code",
   "execution_count": 16,
   "id": "45bfcc7f",
   "metadata": {
    "execution": {
     "iopub.execute_input": "2024-06-07T10:18:23.027836Z",
     "iopub.status.busy": "2024-06-07T10:18:23.025753Z",
     "iopub.status.idle": "2024-06-07T10:18:23.035815Z",
     "shell.execute_reply": "2024-06-07T10:18:23.034704Z"
    },
    "papermill": {
     "duration": 0.023472,
     "end_time": "2024-06-07T10:18:23.038176",
     "exception": false,
     "start_time": "2024-06-07T10:18:23.014704",
     "status": "completed"
    },
    "tags": []
   },
   "outputs": [],
   "source": [
    "# with open('data/labels/train/fused_72.txt','r') as f:\n",
    "#     data = f.readlines()\n",
    "# print(data)\n"
   ]
  },
  {
   "cell_type": "code",
   "execution_count": 17,
   "id": "5ac6192d",
   "metadata": {
    "execution": {
     "iopub.execute_input": "2024-06-07T10:18:23.054058Z",
     "iopub.status.busy": "2024-06-07T10:18:23.053160Z",
     "iopub.status.idle": "2024-06-07T10:18:23.064658Z",
     "shell.execute_reply": "2024-06-07T10:18:23.063258Z"
    },
    "papermill": {
     "duration": 0.022456,
     "end_time": "2024-06-07T10:18:23.067514",
     "exception": false,
     "start_time": "2024-06-07T10:18:23.045058",
     "status": "completed"
    },
    "tags": []
   },
   "outputs": [],
   "source": [
    "def plot_using_box(img_path, label_path):\n",
    "    img = np.array(Image.open(img_path), dtype = np.uint8)\n",
    "    with open(label_path,'r') as f:\n",
    "        lines = f.readlines()\n",
    "    labels = [[float(j) for j in i.split()] for i in lines]\n",
    "    adjusted_labels = []\n",
    "    H,W,C = img.shape\n",
    "    for i in labels:\n",
    "        x,y,w,h = i[1], i[2], i[3], i[4]\n",
    "        x1 = int((x-w/2)*W)\n",
    "        x2 = int((x+w/2)*W)        \n",
    "        y1 = int((y-h/2)*H)        \n",
    "        y2 = int((y+h/2)*H)\n",
    "        adjusted_labels.append([x1,y1,x2,y2])\n",
    "    plot_image_with_boxes(img, adjusted_labels, [1 for i in range(len(labels))], [0 for i in range(len(labels))], ['1' for i in range(len(labels))])\n",
    "    \n",
    "# plot_using_box('/kaggle/working/data/fuse4/images/train/fused_30.jpg','/kaggle/working/data/fuse4/labels/train/fused_30.txt')\n",
    "    "
   ]
  }
 ],
 "metadata": {
  "kaggle": {
   "accelerator": "none",
   "dataSources": [
    {
     "datasetId": 5139886,
     "sourceId": 8592563,
     "sourceType": "datasetVersion"
    },
    {
     "datasetId": 5147212,
     "sourceId": 8602666,
     "sourceType": "datasetVersion"
    },
    {
     "datasetId": 5148546,
     "sourceId": 8604487,
     "sourceType": "datasetVersion"
    },
    {
     "datasetId": 5095802,
     "isSourceIdPinned": true,
     "sourceId": 8602303,
     "sourceType": "datasetVersion"
    },
    {
     "modelInstanceId": 46883,
     "sourceId": 61060,
     "sourceType": "modelInstanceVersion"
    },
    {
     "modelInstanceId": 46883,
     "sourceId": 61067,
     "sourceType": "modelInstanceVersion"
    },
    {
     "modelInstanceId": 46883,
     "sourceId": 61508,
     "sourceType": "modelInstanceVersion"
    }
   ],
   "dockerImageVersionId": 30698,
   "isGpuEnabled": false,
   "isInternetEnabled": true,
   "language": "python",
   "sourceType": "notebook"
  },
  "kernelspec": {
   "display_name": "Python 3",
   "language": "python",
   "name": "python3"
  },
  "language_info": {
   "codemirror_mode": {
    "name": "ipython",
    "version": 3
   },
   "file_extension": ".py",
   "mimetype": "text/x-python",
   "name": "python",
   "nbconvert_exporter": "python",
   "pygments_lexer": "ipython3",
   "version": "3.10.13"
  },
  "papermill": {
   "default_parameters": {},
   "duration": 6929.662877,
   "end_time": "2024-06-07T10:18:25.832656",
   "environment_variables": {},
   "exception": null,
   "input_path": "__notebook__.ipynb",
   "output_path": "__notebook__.ipynb",
   "parameters": {},
   "start_time": "2024-06-07T08:22:56.169779",
   "version": "2.5.0"
  }
 },
 "nbformat": 4,
 "nbformat_minor": 5
}

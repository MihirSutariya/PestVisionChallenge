{
 "cells": [
  {
   "cell_type": "code",
   "execution_count": 1,
   "id": "5e67882b",
   "metadata": {
    "execution": {
     "iopub.execute_input": "2024-05-25T09:00:23.389063Z",
     "iopub.status.busy": "2024-05-25T09:00:23.388371Z",
     "iopub.status.idle": "2024-05-25T09:00:37.931942Z",
     "shell.execute_reply": "2024-05-25T09:00:37.930728Z"
    },
    "papermill": {
     "duration": 14.55083,
     "end_time": "2024-05-25T09:00:37.934352",
     "exception": false,
     "start_time": "2024-05-25T09:00:23.383522",
     "status": "completed"
    },
    "tags": []
   },
   "outputs": [
    {
     "name": "stdout",
     "output_type": "stream",
     "text": [
      "Collecting ultralytics\r\n",
      "  Downloading ultralytics-8.2.21-py3-none-any.whl.metadata (40 kB)\r\n",
      "\u001b[2K     \u001b[90m━━━━━━━━━━━━━━━━━━━━━━━━━━━━━━━━━━━━━━━━\u001b[0m \u001b[32m40.7/40.7 kB\u001b[0m \u001b[31m2.0 MB/s\u001b[0m eta \u001b[36m0:00:00\u001b[0m\r\n",
      "\u001b[?25hRequirement already satisfied: matplotlib>=3.3.0 in /opt/conda/lib/python3.10/site-packages (from ultralytics) (3.7.5)\r\n",
      "Requirement already satisfied: opencv-python>=4.6.0 in /opt/conda/lib/python3.10/site-packages (from ultralytics) (4.9.0.80)\r\n",
      "Requirement already satisfied: pillow>=7.1.2 in /opt/conda/lib/python3.10/site-packages (from ultralytics) (9.5.0)\r\n",
      "Requirement already satisfied: pyyaml>=5.3.1 in /opt/conda/lib/python3.10/site-packages (from ultralytics) (6.0.1)\r\n",
      "Requirement already satisfied: requests>=2.23.0 in /opt/conda/lib/python3.10/site-packages (from ultralytics) (2.31.0)\r\n",
      "Requirement already satisfied: scipy>=1.4.1 in /opt/conda/lib/python3.10/site-packages (from ultralytics) (1.11.4)\r\n",
      "Requirement already satisfied: torch>=1.8.0 in /opt/conda/lib/python3.10/site-packages (from ultralytics) (2.1.2)\r\n",
      "Requirement already satisfied: torchvision>=0.9.0 in /opt/conda/lib/python3.10/site-packages (from ultralytics) (0.16.2)\r\n",
      "Requirement already satisfied: tqdm>=4.64.0 in /opt/conda/lib/python3.10/site-packages (from ultralytics) (4.66.1)\r\n",
      "Requirement already satisfied: psutil in /opt/conda/lib/python3.10/site-packages (from ultralytics) (5.9.3)\r\n",
      "Requirement already satisfied: py-cpuinfo in /opt/conda/lib/python3.10/site-packages (from ultralytics) (9.0.0)\r\n",
      "Collecting thop>=0.1.1 (from ultralytics)\r\n",
      "  Downloading thop-0.1.1.post2209072238-py3-none-any.whl.metadata (2.7 kB)\r\n",
      "Requirement already satisfied: pandas>=1.1.4 in /opt/conda/lib/python3.10/site-packages (from ultralytics) (2.1.4)\r\n",
      "Requirement already satisfied: seaborn>=0.11.0 in /opt/conda/lib/python3.10/site-packages (from ultralytics) (0.12.2)\r\n",
      "Requirement already satisfied: contourpy>=1.0.1 in /opt/conda/lib/python3.10/site-packages (from matplotlib>=3.3.0->ultralytics) (1.2.0)\r\n",
      "Requirement already satisfied: cycler>=0.10 in /opt/conda/lib/python3.10/site-packages (from matplotlib>=3.3.0->ultralytics) (0.12.1)\r\n",
      "Requirement already satisfied: fonttools>=4.22.0 in /opt/conda/lib/python3.10/site-packages (from matplotlib>=3.3.0->ultralytics) (4.47.0)\r\n",
      "Requirement already satisfied: kiwisolver>=1.0.1 in /opt/conda/lib/python3.10/site-packages (from matplotlib>=3.3.0->ultralytics) (1.4.5)\r\n",
      "Requirement already satisfied: numpy<2,>=1.20 in /opt/conda/lib/python3.10/site-packages (from matplotlib>=3.3.0->ultralytics) (1.26.4)\r\n",
      "Requirement already satisfied: packaging>=20.0 in /opt/conda/lib/python3.10/site-packages (from matplotlib>=3.3.0->ultralytics) (21.3)\r\n",
      "Requirement already satisfied: pyparsing>=2.3.1 in /opt/conda/lib/python3.10/site-packages (from matplotlib>=3.3.0->ultralytics) (3.1.1)\r\n",
      "Requirement already satisfied: python-dateutil>=2.7 in /opt/conda/lib/python3.10/site-packages (from matplotlib>=3.3.0->ultralytics) (2.9.0.post0)\r\n",
      "Requirement already satisfied: pytz>=2020.1 in /opt/conda/lib/python3.10/site-packages (from pandas>=1.1.4->ultralytics) (2023.3.post1)\r\n",
      "Requirement already satisfied: tzdata>=2022.1 in /opt/conda/lib/python3.10/site-packages (from pandas>=1.1.4->ultralytics) (2023.4)\r\n",
      "Requirement already satisfied: charset-normalizer<4,>=2 in /opt/conda/lib/python3.10/site-packages (from requests>=2.23.0->ultralytics) (3.3.2)\r\n",
      "Requirement already satisfied: idna<4,>=2.5 in /opt/conda/lib/python3.10/site-packages (from requests>=2.23.0->ultralytics) (3.6)\r\n",
      "Requirement already satisfied: urllib3<3,>=1.21.1 in /opt/conda/lib/python3.10/site-packages (from requests>=2.23.0->ultralytics) (1.26.18)\r\n",
      "Requirement already satisfied: certifi>=2017.4.17 in /opt/conda/lib/python3.10/site-packages (from requests>=2.23.0->ultralytics) (2024.2.2)\r\n",
      "Requirement already satisfied: filelock in /opt/conda/lib/python3.10/site-packages (from torch>=1.8.0->ultralytics) (3.13.1)\r\n",
      "Requirement already satisfied: typing-extensions in /opt/conda/lib/python3.10/site-packages (from torch>=1.8.0->ultralytics) (4.9.0)\r\n",
      "Requirement already satisfied: sympy in /opt/conda/lib/python3.10/site-packages (from torch>=1.8.0->ultralytics) (1.12)\r\n",
      "Requirement already satisfied: networkx in /opt/conda/lib/python3.10/site-packages (from torch>=1.8.0->ultralytics) (3.2.1)\r\n",
      "Requirement already satisfied: jinja2 in /opt/conda/lib/python3.10/site-packages (from torch>=1.8.0->ultralytics) (3.1.2)\r\n",
      "Requirement already satisfied: fsspec in /opt/conda/lib/python3.10/site-packages (from torch>=1.8.0->ultralytics) (2024.2.0)\r\n",
      "Requirement already satisfied: six>=1.5 in /opt/conda/lib/python3.10/site-packages (from python-dateutil>=2.7->matplotlib>=3.3.0->ultralytics) (1.16.0)\r\n",
      "Requirement already satisfied: MarkupSafe>=2.0 in /opt/conda/lib/python3.10/site-packages (from jinja2->torch>=1.8.0->ultralytics) (2.1.3)\r\n",
      "Requirement already satisfied: mpmath>=0.19 in /opt/conda/lib/python3.10/site-packages (from sympy->torch>=1.8.0->ultralytics) (1.3.0)\r\n",
      "Downloading ultralytics-8.2.21-py3-none-any.whl (777 kB)\r\n",
      "\u001b[2K   \u001b[90m━━━━━━━━━━━━━━━━━━━━━━━━━━━━━━━━━━━━━━━━\u001b[0m \u001b[32m777.9/777.9 kB\u001b[0m \u001b[31m20.6 MB/s\u001b[0m eta \u001b[36m0:00:00\u001b[0m\r\n",
      "\u001b[?25hDownloading thop-0.1.1.post2209072238-py3-none-any.whl (15 kB)\r\n",
      "Installing collected packages: thop, ultralytics\r\n",
      "Successfully installed thop-0.1.1.post2209072238 ultralytics-8.2.21\r\n"
     ]
    }
   ],
   "source": [
    "# !conda env create -f /kaggle/input/condaenv/environment.yml\n",
    "# !conda init\n",
    "# !conda activate pestvision\n",
    "# !wget -P /kaggle/input/ https://storage.googleapis.com/npss-pestvision-data/pestvision_data.zip\n",
    "!pip install ultralytics"
   ]
  },
  {
   "cell_type": "code",
   "execution_count": 2,
   "id": "66760ad1",
   "metadata": {
    "execution": {
     "iopub.execute_input": "2024-05-25T09:00:37.945197Z",
     "iopub.status.busy": "2024-05-25T09:00:37.944626Z",
     "iopub.status.idle": "2024-05-25T09:00:41.459803Z",
     "shell.execute_reply": "2024-05-25T09:00:41.458895Z"
    },
    "papermill": {
     "duration": 3.522933,
     "end_time": "2024-05-25T09:00:41.462102",
     "exception": false,
     "start_time": "2024-05-25T09:00:37.939169",
     "status": "completed"
    },
    "tags": []
   },
   "outputs": [],
   "source": [
    "import os\n",
    "os.environ['WANDB_DISABLED'] = 'true'\n",
    "import numpy as np\n",
    "import torch\n",
    "import yaml"
   ]
  },
  {
   "cell_type": "code",
   "execution_count": 3,
   "id": "8b4aedb3",
   "metadata": {
    "execution": {
     "iopub.execute_input": "2024-05-25T09:00:41.472034Z",
     "iopub.status.busy": "2024-05-25T09:00:41.471405Z",
     "iopub.status.idle": "2024-05-25T09:00:41.477337Z",
     "shell.execute_reply": "2024-05-25T09:00:41.476384Z"
    },
    "papermill": {
     "duration": 0.012921,
     "end_time": "2024-05-25T09:00:41.479319",
     "exception": false,
     "start_time": "2024-05-25T09:00:41.466398",
     "status": "completed"
    },
    "tags": []
   },
   "outputs": [],
   "source": [
    "root = '/kaggle/input/pestvisiondata/pestvision_data/'\n",
    "dset_paths = ['synthetic_data/DeepImageBlendingData/run3/RiceLeafs/images/train',\n",
    "             'synthetic_data/DeepImageBlendingData/run3/paddy-disease-classification/images/train',\n",
    "             'synthetic_data/Libcom_HarmonizationData_PCTNet/run1/RiceLeafs/images/train',\n",
    "             'synthetic_data/Libcom_HarmonizationData_PCTNet/run1/paddy-disease-classification/images/train']\n",
    "dset_paths = [os.path.join(root,i) for i in dset_paths]\n",
    "val_paths = [\"/\".join(i.split('/')[:-1]+['val']) for i in dset_paths]"
   ]
  },
  {
   "cell_type": "code",
   "execution_count": 4,
   "id": "10283175",
   "metadata": {
    "execution": {
     "iopub.execute_input": "2024-05-25T09:00:41.488705Z",
     "iopub.status.busy": "2024-05-25T09:00:41.488413Z",
     "iopub.status.idle": "2024-05-25T09:00:42.866833Z",
     "shell.execute_reply": "2024-05-25T09:00:42.865922Z"
    },
    "papermill": {
     "duration": 1.385484,
     "end_time": "2024-05-25T09:00:42.868947",
     "exception": false,
     "start_time": "2024-05-25T09:00:41.483463",
     "status": "completed"
    },
    "tags": []
   },
   "outputs": [
    {
     "name": "stderr",
     "output_type": "stream",
     "text": [
      "\u001b[34m\u001b[1mwandb\u001b[0m: \u001b[33mWARNING\u001b[0m This integration is tested and supported for ultralytics v8.0.238 and below.\n",
      "\u001b[34m\u001b[1mwandb\u001b[0m: \u001b[33mWARNING\u001b[0m             Please report any issues to https://github.com/wandb/wandb/issues with the tag `yolov8`.\n"
     ]
    }
   ],
   "source": [
    "# object detection code base with abstract class\n",
    "\n",
    "import os\n",
    "from abc import ABC, abstractmethod\n",
    "from ultralytics import YOLO\n",
    "import wandb\n",
    "from wandb.integration.ultralytics import add_wandb_callback\n",
    "\n",
    "\n",
    "class AbstractPestDetection(ABC):\n",
    "    \"\"\"\n",
    "    Abstract class for pest detection\n",
    "    \"\"\"\n",
    "\n",
    "    def __init__(self, device):\n",
    "        self.device = device\n",
    "\n",
    "    @abstractmethod\n",
    "    def load_model(self, model_path):\n",
    "        pass\n",
    "\n",
    "    @abstractmethod\n",
    "    def train(self):\n",
    "        pass\n",
    "\n",
    "    # TODO: implement evaluate method\n",
    "    # @abstractmethod\n",
    "    # def evaluate(self):\n",
    "    #     pass\n",
    "\n",
    "\n",
    "class PestDetection_yolov8(AbstractPestDetection):\n",
    "    \"\"\"\n",
    "    YOLOv8 model for pest detection\n",
    "    \"\"\"\n",
    "\n",
    "    def __init__(self, device):\n",
    "        super().__init__(device)\n",
    "        self.model = None\n",
    "\n",
    "    def load_model(self, model_path):\n",
    "        \"\"\"\n",
    "        Load the YOLOv8 model\n",
    "\n",
    "        Parameters:\n",
    "\n",
    "         model_path (str): path to the model checkpoint\n",
    "        \"\"\"\n",
    "\n",
    "        self.model = YOLO(model_path)\n",
    "\n",
    "    def train(self,**kwargs):\n",
    "\n",
    "        results = self.model.train(**kwargs)\n",
    "        self.model.val()\n",
    "\n",
    "        return results\n",
    "\n",
    "    # TODO: implment evaluate method\n",
    "    # def evaluate(self):\n",
    "    #     pass\n"
   ]
  },
  {
   "cell_type": "code",
   "execution_count": 5,
   "id": "a6e03342",
   "metadata": {
    "execution": {
     "iopub.execute_input": "2024-05-25T09:00:42.878674Z",
     "iopub.status.busy": "2024-05-25T09:00:42.878362Z",
     "iopub.status.idle": "2024-05-25T09:00:42.883731Z",
     "shell.execute_reply": "2024-05-25T09:00:42.882892Z"
    },
    "papermill": {
     "duration": 0.012257,
     "end_time": "2024-05-25T09:00:42.885536",
     "exception": false,
     "start_time": "2024-05-25T09:00:42.873279",
     "status": "completed"
    },
    "tags": []
   },
   "outputs": [],
   "source": [
    "def make_dsetconfig(train,val):\n",
    "\n",
    "    d_config = {\n",
    "        \"train\": train,\n",
    "        \"val\": val,\n",
    "\n",
    "        \"nc\": 102, # number of classes\n",
    "        \"names\": [str(i) for i in range(1,103)] \n",
    "    }\n",
    "    filename = 'data.yaml'\n",
    "    with open(filename, 'w') as file:\n",
    "        yaml.dump(d_config, file, default_flow_style=False)\n",
    "    return filename"
   ]
  },
  {
   "cell_type": "code",
   "execution_count": 6,
   "id": "ae66cf10",
   "metadata": {
    "execution": {
     "iopub.execute_input": "2024-05-25T09:00:42.894854Z",
     "iopub.status.busy": "2024-05-25T09:00:42.894573Z",
     "iopub.status.idle": "2024-05-25T09:00:42.900406Z",
     "shell.execute_reply": "2024-05-25T09:00:42.899581Z"
    },
    "papermill": {
     "duration": 0.012632,
     "end_time": "2024-05-25T09:00:42.902280",
     "exception": false,
     "start_time": "2024-05-25T09:00:42.889648",
     "status": "completed"
    },
    "tags": []
   },
   "outputs": [],
   "source": [
    "def train(checkpoint,train,val):\n",
    "    if torch.cuda.is_available():\n",
    "        device = torch.device('cuda')\n",
    "        print(\"CUDA is available. Using GPU.\")\n",
    "    else:\n",
    "        device = torch.device('cpu')\n",
    "        print(\"CUDA is not available. Using CPU.\")\n",
    "    model = PestDetection_yolov8(device)\n",
    "    model.load_model(checkpoint)\n",
    "#     wandb_kwargs = {\"project\": None, \"entity\": None, \"group\": None, \"job_type\": None}\n",
    "    results = model.train(data=make_dsetconfig(train,val), epochs=50, imgsz=640, save_period=2,batch=-1, plots=True)"
   ]
  },
  {
   "cell_type": "code",
   "execution_count": 7,
   "id": "7efae44b",
   "metadata": {
    "execution": {
     "iopub.execute_input": "2024-05-25T09:00:42.912190Z",
     "iopub.status.busy": "2024-05-25T09:00:42.911405Z",
     "iopub.status.idle": "2024-05-25T11:04:59.785761Z",
     "shell.execute_reply": "2024-05-25T11:04:59.784471Z"
    },
    "papermill": {
     "duration": 7456.882298,
     "end_time": "2024-05-25T11:04:59.788843",
     "exception": false,
     "start_time": "2024-05-25T09:00:42.906545",
     "status": "completed"
    },
    "tags": []
   },
   "outputs": [
    {
     "name": "stdout",
     "output_type": "stream",
     "text": [
      "CUDA is available. Using GPU.\n",
      "Ultralytics YOLOv8.2.21 🚀 Python-3.10.13 torch-2.1.2 CUDA:0 (Tesla P100-PCIE-16GB, 16276MiB)\n",
      "\u001b[34m\u001b[1mengine/trainer: \u001b[0mtask=detect, mode=train, model=/kaggle/input/yolo/other/exp1/4/last-4.pt, data=data.yaml, epochs=50, time=None, patience=100, batch=-1, imgsz=640, save=True, save_period=2, cache=False, device=None, workers=8, project=None, name=train, exist_ok=False, pretrained=True, optimizer=auto, verbose=True, seed=0, deterministic=True, single_cls=False, rect=False, cos_lr=False, close_mosaic=10, resume=False, amp=True, fraction=1.0, profile=False, freeze=None, multi_scale=False, overlap_mask=True, mask_ratio=4, dropout=0.0, val=True, split=val, save_json=False, save_hybrid=False, conf=None, iou=0.7, max_det=300, half=False, dnn=False, plots=True, source=None, vid_stride=1, stream_buffer=False, visualize=False, augment=False, agnostic_nms=False, classes=None, retina_masks=False, embed=None, show=False, save_frames=False, save_txt=False, save_conf=False, save_crop=False, show_labels=True, show_conf=True, show_boxes=True, line_width=None, format=torchscript, keras=False, optimize=False, int8=False, dynamic=False, simplify=False, opset=None, workspace=4, nms=False, lr0=0.01, lrf=0.01, momentum=0.937, weight_decay=0.0005, warmup_epochs=3.0, warmup_momentum=0.8, warmup_bias_lr=0.1, box=7.5, cls=0.5, dfl=1.5, pose=12.0, kobj=1.0, label_smoothing=0.0, nbs=64, hsv_h=0.015, hsv_s=0.7, hsv_v=0.4, degrees=0.0, translate=0.1, scale=0.5, shear=0.0, perspective=0.0, flipud=0.0, fliplr=0.5, bgr=0.0, mosaic=1.0, mixup=0.0, copy_paste=0.0, auto_augment=randaugment, erasing=0.4, crop_fraction=1.0, cfg=None, tracker=botsort.yaml, save_dir=runs/detect/train\n",
      "Downloading https://ultralytics.com/assets/Arial.ttf to '/root/.config/Ultralytics/Arial.ttf'...\n"
     ]
    },
    {
     "name": "stderr",
     "output_type": "stream",
     "text": [
      "100%|██████████| 755k/755k [00:00<00:00, 21.2MB/s]\n",
      "2024-05-25 09:00:46,000\tINFO util.py:124 -- Outdated packages:\n",
      "  ipywidgets==7.7.1 found, needs ipywidgets>=8\n",
      "Run `pip install -U ipywidgets`, then restart the notebook server for rich notebook output.\n",
      "2024-05-25 09:00:47,467\tINFO util.py:124 -- Outdated packages:\n",
      "  ipywidgets==7.7.1 found, needs ipywidgets>=8\n",
      "Run `pip install -U ipywidgets`, then restart the notebook server for rich notebook output.\n"
     ]
    },
    {
     "name": "stdout",
     "output_type": "stream",
     "text": [
      "\n",
      "                   from  n    params  module                                       arguments                     \n",
      "  0                  -1  1       464  ultralytics.nn.modules.conv.Conv             [3, 16, 3, 2]                 \n",
      "  1                  -1  1      4672  ultralytics.nn.modules.conv.Conv             [16, 32, 3, 2]                \n",
      "  2                  -1  1      7360  ultralytics.nn.modules.block.C2f             [32, 32, 1, True]             \n",
      "  3                  -1  1     18560  ultralytics.nn.modules.conv.Conv             [32, 64, 3, 2]                \n",
      "  4                  -1  2     49664  ultralytics.nn.modules.block.C2f             [64, 64, 2, True]             \n",
      "  5                  -1  1     73984  ultralytics.nn.modules.conv.Conv             [64, 128, 3, 2]               \n",
      "  6                  -1  2    197632  ultralytics.nn.modules.block.C2f             [128, 128, 2, True]           \n",
      "  7                  -1  1    295424  ultralytics.nn.modules.conv.Conv             [128, 256, 3, 2]              \n",
      "  8                  -1  1    460288  ultralytics.nn.modules.block.C2f             [256, 256, 1, True]           \n",
      "  9                  -1  1    164608  ultralytics.nn.modules.block.SPPF            [256, 256, 5]                 \n",
      " 10                  -1  1         0  torch.nn.modules.upsampling.Upsample         [None, 2, 'nearest']          \n",
      " 11             [-1, 6]  1         0  ultralytics.nn.modules.conv.Concat           [1]                           \n",
      " 12                  -1  1    148224  ultralytics.nn.modules.block.C2f             [384, 128, 1]                 \n",
      " 13                  -1  1         0  torch.nn.modules.upsampling.Upsample         [None, 2, 'nearest']          \n",
      " 14             [-1, 4]  1         0  ultralytics.nn.modules.conv.Concat           [1]                           \n",
      " 15                  -1  1     37248  ultralytics.nn.modules.block.C2f             [192, 64, 1]                  \n",
      " 16                  -1  1     36992  ultralytics.nn.modules.conv.Conv             [64, 64, 3, 2]                \n",
      " 17            [-1, 12]  1         0  ultralytics.nn.modules.conv.Concat           [1]                           \n",
      " 18                  -1  1    123648  ultralytics.nn.modules.block.C2f             [192, 128, 1]                 \n",
      " 19                  -1  1    147712  ultralytics.nn.modules.conv.Conv             [128, 128, 3, 2]              \n",
      " 20             [-1, 9]  1         0  ultralytics.nn.modules.conv.Concat           [1]                           \n",
      " 21                  -1  1    493056  ultralytics.nn.modules.block.C2f             [384, 256, 1]                 \n",
      " 22        [15, 18, 21]  1   1087210  ultralytics.nn.modules.head.Detect           [102, [64, 128, 256]]         \n",
      "YOLOv8n summary: 225 layers, 3346746 parameters, 3346730 gradients, 9.7 GFLOPs\n",
      "\n",
      "Transferred 355/355 items from pretrained weights\n",
      "\u001b[34m\u001b[1mTensorBoard: \u001b[0mStart with 'tensorboard --logdir runs/detect/train', view at http://localhost:6006/\n"
     ]
    },
    {
     "name": "stderr",
     "output_type": "stream",
     "text": [
      "\u001b[34m\u001b[1mwandb\u001b[0m: Tracking run with wandb version 0.16.6\n",
      "\u001b[34m\u001b[1mwandb\u001b[0m: W&B syncing is set to \u001b[1m`offline`\u001b[0m in this directory.  \n",
      "\u001b[34m\u001b[1mwandb\u001b[0m: Run \u001b[1m`wandb online`\u001b[0m or set \u001b[1mWANDB_MODE=online\u001b[0m to enable cloud syncing.\n"
     ]
    },
    {
     "name": "stdout",
     "output_type": "stream",
     "text": [
      "Freezing layer 'model.22.dfl.conv.weight'\n",
      "\u001b[34m\u001b[1mAMP: \u001b[0mrunning Automatic Mixed Precision (AMP) checks with YOLOv8n...\n",
      "Downloading https://github.com/ultralytics/assets/releases/download/v8.2.0/yolov8n.pt to 'yolov8n.pt'...\n"
     ]
    },
    {
     "name": "stderr",
     "output_type": "stream",
     "text": [
      "100%|██████████| 6.23M/6.23M [00:00<00:00, 98.6MB/s]\n"
     ]
    },
    {
     "name": "stdout",
     "output_type": "stream",
     "text": [
      "\u001b[34m\u001b[1mAMP: \u001b[0mchecks passed ✅\n",
      "\u001b[34m\u001b[1mAutoBatch: \u001b[0mComputing optimal batch size for imgsz=640\n",
      "\u001b[34m\u001b[1mAutoBatch: \u001b[0mCUDA:0 (Tesla P100-PCIE-16GB) 15.89G total, 0.11G reserved, 0.07G allocated, 15.72G free\n",
      "      Params      GFLOPs  GPU_mem (GB)  forward (ms) backward (ms)                   input                  output\n",
      "     3346746       9.726         0.220            27         57.01        (1, 3, 640, 640)                    list\n",
      "     3346746       19.45         0.323         18.37         34.11        (2, 3, 640, 640)                    list\n",
      "     3346746       38.91         0.625         17.72         88.13        (4, 3, 640, 640)                    list\n",
      "     3346746       77.81         1.181         23.74         39.77        (8, 3, 640, 640)                    list\n",
      "     3346746       155.6         2.408         37.87         59.95       (16, 3, 640, 640)                    list\n",
      "\u001b[34m\u001b[1mAutoBatch: \u001b[0mUsing batch-size 63 for CUDA:0 9.46G/15.89G (60%) ✅\n"
     ]
    },
    {
     "name": "stderr",
     "output_type": "stream",
     "text": [
      "\u001b[34m\u001b[1mtrain: \u001b[0mScanning /kaggle/input/pestvisiondata/pestvision_data/synthetic_data/DeepImageBlendingData/run3/RiceLeafs/labels/train... 9107 images, 893 backgrounds, 0 corrupt: 100%|██████████| 10000/10000 [01:10<00:00, 142.05it/s]\n"
     ]
    },
    {
     "name": "stdout",
     "output_type": "stream",
     "text": [
      "\u001b[34m\u001b[1mtrain: \u001b[0mWARNING ⚠️ Cache directory /kaggle/input/pestvisiondata/pestvision_data/synthetic_data/DeepImageBlendingData/run3/RiceLeafs/labels is not writeable, cache not saved.\n",
      "\u001b[34m\u001b[1malbumentations: \u001b[0mBlur(p=0.01, blur_limit=(3, 7)), MedianBlur(p=0.01, blur_limit=(3, 7)), ToGray(p=0.01), CLAHE(p=0.01, clip_limit=(1, 4.0), tile_grid_size=(8, 8))\n"
     ]
    },
    {
     "name": "stderr",
     "output_type": "stream",
     "text": [
      "\u001b[34m\u001b[1mval: \u001b[0mScanning /kaggle/input/pestvisiondata/pestvision_data/synthetic_data/DeepImageBlendingData/run3/RiceLeafs/labels/val... 2094 images, 212 backgrounds, 0 corrupt: 100%|██████████| 2306/2306 [00:16<00:00, 138.55it/s]\n"
     ]
    },
    {
     "name": "stdout",
     "output_type": "stream",
     "text": [
      "\u001b[34m\u001b[1mval: \u001b[0mWARNING ⚠️ Cache directory /kaggle/input/pestvisiondata/pestvision_data/synthetic_data/DeepImageBlendingData/run3/RiceLeafs/labels is not writeable, cache not saved.\n",
      "Plotting labels to runs/detect/train/labels.jpg... \n",
      "\u001b[34m\u001b[1moptimizer:\u001b[0m 'optimizer=auto' found, ignoring 'lr0=0.01' and 'momentum=0.937' and determining best 'optimizer', 'lr0' and 'momentum' automatically... \n",
      "\u001b[34m\u001b[1moptimizer:\u001b[0m AdamW(lr=9.4e-05, momentum=0.9) with parameter groups 57 weight(decay=0.0), 64 weight(decay=0.0004921875), 63 bias(decay=0.0)\n",
      "\u001b[34m\u001b[1mTensorBoard: \u001b[0mmodel graph visualization added ✅\n",
      "Image sizes 640 train, 640 val\n",
      "Using 4 dataloader workers\n",
      "Logging results to \u001b[1mruns/detect/train\u001b[0m\n",
      "Starting training for 50 epochs...\n",
      "\n",
      "      Epoch    GPU_mem   box_loss   cls_loss   dfl_loss  Instances       Size\n"
     ]
    },
    {
     "name": "stderr",
     "output_type": "stream",
     "text": [
      "       1/50      10.6G      1.794      3.388      1.873        369        640: 100%|██████████| 159/159 [02:03<00:00,  1.29it/s]\n",
      "                 Class     Images  Instances      Box(P          R      mAP50  mAP50-95): 100%|██████████| 19/19 [00:20<00:00,  1.10s/it]\n"
     ]
    },
    {
     "name": "stdout",
     "output_type": "stream",
     "text": [
      "                   all       2306      11360      0.486     0.0687     0.0451     0.0234\n",
      "\n",
      "      Epoch    GPU_mem   box_loss   cls_loss   dfl_loss  Instances       Size\n"
     ]
    },
    {
     "name": "stderr",
     "output_type": "stream",
     "text": [
      "       2/50      10.3G      1.709      3.155      1.795        329        640: 100%|██████████| 159/159 [02:00<00:00,  1.32it/s]\n",
      "                 Class     Images  Instances      Box(P          R      mAP50  mAP50-95): 100%|██████████| 19/19 [00:19<00:00,  1.04s/it]\n"
     ]
    },
    {
     "name": "stdout",
     "output_type": "stream",
     "text": [
      "                   all       2306      11360      0.519     0.0795     0.0485     0.0242\n",
      "\n",
      "      Epoch    GPU_mem   box_loss   cls_loss   dfl_loss  Instances       Size\n"
     ]
    },
    {
     "name": "stderr",
     "output_type": "stream",
     "text": [
      "       3/50      10.1G      1.704      3.105      1.793        287        640: 100%|██████████| 159/159 [02:00<00:00,  1.32it/s]\n",
      "                 Class     Images  Instances      Box(P          R      mAP50  mAP50-95): 100%|██████████| 19/19 [00:19<00:00,  1.05s/it]\n"
     ]
    },
    {
     "name": "stdout",
     "output_type": "stream",
     "text": [
      "                   all       2306      11360      0.471     0.0922     0.0551      0.027\n",
      "\n",
      "      Epoch    GPU_mem   box_loss   cls_loss   dfl_loss  Instances       Size\n"
     ]
    },
    {
     "name": "stderr",
     "output_type": "stream",
     "text": [
      "       4/50      10.4G      1.695       3.06      1.783        308        640: 100%|██████████| 159/159 [02:02<00:00,  1.30it/s]\n",
      "                 Class     Images  Instances      Box(P          R      mAP50  mAP50-95): 100%|██████████| 19/19 [00:19<00:00,  1.02s/it]\n"
     ]
    },
    {
     "name": "stdout",
     "output_type": "stream",
     "text": [
      "                   all       2306      11360       0.44     0.0966     0.0625     0.0317\n",
      "\n",
      "      Epoch    GPU_mem   box_loss   cls_loss   dfl_loss  Instances       Size\n"
     ]
    },
    {
     "name": "stderr",
     "output_type": "stream",
     "text": [
      "       5/50      10.1G      1.687      3.027      1.778        307        640: 100%|██████████| 159/159 [02:01<00:00,  1.31it/s]\n",
      "                 Class     Images  Instances      Box(P          R      mAP50  mAP50-95): 100%|██████████| 19/19 [00:21<00:00,  1.12s/it]\n"
     ]
    },
    {
     "name": "stdout",
     "output_type": "stream",
     "text": [
      "                   all       2306      11360       0.47     0.0938     0.0619     0.0304\n",
      "\n",
      "      Epoch    GPU_mem   box_loss   cls_loss   dfl_loss  Instances       Size\n"
     ]
    },
    {
     "name": "stderr",
     "output_type": "stream",
     "text": [
      "       6/50      10.4G      1.682      3.001      1.768        384        640: 100%|██████████| 159/159 [02:02<00:00,  1.30it/s]\n",
      "                 Class     Images  Instances      Box(P          R      mAP50  mAP50-95): 100%|██████████| 19/19 [00:19<00:00,  1.03s/it]\n"
     ]
    },
    {
     "name": "stdout",
     "output_type": "stream",
     "text": [
      "                   all       2306      11360      0.391      0.105      0.069     0.0345\n",
      "\n",
      "      Epoch    GPU_mem   box_loss   cls_loss   dfl_loss  Instances       Size\n"
     ]
    },
    {
     "name": "stderr",
     "output_type": "stream",
     "text": [
      "       7/50      10.1G       1.68      2.981      1.769        400        640: 100%|██████████| 159/159 [02:01<00:00,  1.30it/s]\n",
      "                 Class     Images  Instances      Box(P          R      mAP50  mAP50-95): 100%|██████████| 19/19 [00:19<00:00,  1.03s/it]\n"
     ]
    },
    {
     "name": "stdout",
     "output_type": "stream",
     "text": [
      "                   all       2306      11360      0.394      0.102      0.065      0.028\n",
      "\n",
      "      Epoch    GPU_mem   box_loss   cls_loss   dfl_loss  Instances       Size\n"
     ]
    },
    {
     "name": "stderr",
     "output_type": "stream",
     "text": [
      "       8/50      10.1G      1.673       2.96      1.767        332        640: 100%|██████████| 159/159 [02:01<00:00,  1.30it/s]\n",
      "                 Class     Images  Instances      Box(P          R      mAP50  mAP50-95): 100%|██████████| 19/19 [00:20<00:00,  1.06s/it]\n"
     ]
    },
    {
     "name": "stdout",
     "output_type": "stream",
     "text": [
      "                   all       2306      11360      0.433      0.111     0.0723     0.0362\n",
      "\n",
      "      Epoch    GPU_mem   box_loss   cls_loss   dfl_loss  Instances       Size\n"
     ]
    },
    {
     "name": "stderr",
     "output_type": "stream",
     "text": [
      "       9/50      10.1G      1.663      2.945      1.753        381        640: 100%|██████████| 159/159 [02:02<00:00,  1.30it/s]\n",
      "                 Class     Images  Instances      Box(P          R      mAP50  mAP50-95): 100%|██████████| 19/19 [00:20<00:00,  1.06s/it]\n"
     ]
    },
    {
     "name": "stdout",
     "output_type": "stream",
     "text": [
      "                   all       2306      11360      0.398      0.113     0.0713     0.0339\n",
      "\n",
      "      Epoch    GPU_mem   box_loss   cls_loss   dfl_loss  Instances       Size\n"
     ]
    },
    {
     "name": "stderr",
     "output_type": "stream",
     "text": [
      "      10/50      10.1G      1.661      2.932      1.754        302        640: 100%|██████████| 159/159 [02:02<00:00,  1.30it/s]\n",
      "                 Class     Images  Instances      Box(P          R      mAP50  mAP50-95): 100%|██████████| 19/19 [00:20<00:00,  1.07s/it]\n"
     ]
    },
    {
     "name": "stdout",
     "output_type": "stream",
     "text": [
      "                   all       2306      11360      0.391      0.119     0.0729     0.0363\n",
      "\n",
      "      Epoch    GPU_mem   box_loss   cls_loss   dfl_loss  Instances       Size\n"
     ]
    },
    {
     "name": "stderr",
     "output_type": "stream",
     "text": [
      "      11/50      10.1G      1.663      2.912      1.753        308        640: 100%|██████████| 159/159 [02:02<00:00,  1.30it/s]\n",
      "                 Class     Images  Instances      Box(P          R      mAP50  mAP50-95): 100%|██████████| 19/19 [00:20<00:00,  1.08s/it]\n"
     ]
    },
    {
     "name": "stdout",
     "output_type": "stream",
     "text": [
      "                   all       2306      11360       0.37      0.123     0.0758     0.0375\n",
      "\n",
      "      Epoch    GPU_mem   box_loss   cls_loss   dfl_loss  Instances       Size\n"
     ]
    },
    {
     "name": "stderr",
     "output_type": "stream",
     "text": [
      "      12/50      10.1G       1.66      2.909      1.746        387        640: 100%|██████████| 159/159 [02:04<00:00,  1.28it/s]\n",
      "                 Class     Images  Instances      Box(P          R      mAP50  mAP50-95): 100%|██████████| 19/19 [00:19<00:00,  1.04s/it]\n"
     ]
    },
    {
     "name": "stdout",
     "output_type": "stream",
     "text": [
      "                   all       2306      11360      0.352      0.123     0.0782     0.0364\n",
      "\n",
      "      Epoch    GPU_mem   box_loss   cls_loss   dfl_loss  Instances       Size\n"
     ]
    },
    {
     "name": "stderr",
     "output_type": "stream",
     "text": [
      "      13/50      10.1G      1.654        2.9      1.753        414        640: 100%|██████████| 159/159 [02:04<00:00,  1.28it/s]\n",
      "                 Class     Images  Instances      Box(P          R      mAP50  mAP50-95): 100%|██████████| 19/19 [00:19<00:00,  1.03s/it]\n"
     ]
    },
    {
     "name": "stdout",
     "output_type": "stream",
     "text": [
      "                   all       2306      11360      0.358      0.127     0.0779     0.0376\n",
      "\n",
      "      Epoch    GPU_mem   box_loss   cls_loss   dfl_loss  Instances       Size\n"
     ]
    },
    {
     "name": "stderr",
     "output_type": "stream",
     "text": [
      "      14/50      10.1G      1.656      2.892       1.75        441        640: 100%|██████████| 159/159 [02:03<00:00,  1.29it/s]\n",
      "                 Class     Images  Instances      Box(P          R      mAP50  mAP50-95): 100%|██████████| 19/19 [00:20<00:00,  1.07s/it]\n"
     ]
    },
    {
     "name": "stdout",
     "output_type": "stream",
     "text": [
      "                   all       2306      11360      0.391      0.121     0.0789      0.038\n",
      "\n",
      "      Epoch    GPU_mem   box_loss   cls_loss   dfl_loss  Instances       Size\n"
     ]
    },
    {
     "name": "stderr",
     "output_type": "stream",
     "text": [
      "      15/50      10.1G       1.65      2.882      1.753        309        640: 100%|██████████| 159/159 [02:02<00:00,  1.30it/s]\n",
      "                 Class     Images  Instances      Box(P          R      mAP50  mAP50-95): 100%|██████████| 19/19 [00:19<00:00,  1.05s/it]\n"
     ]
    },
    {
     "name": "stdout",
     "output_type": "stream",
     "text": [
      "                   all       2306      11360      0.376      0.129     0.0806     0.0391\n",
      "\n",
      "      Epoch    GPU_mem   box_loss   cls_loss   dfl_loss  Instances       Size\n"
     ]
    },
    {
     "name": "stderr",
     "output_type": "stream",
     "text": [
      "      16/50      10.1G      1.651      2.869      1.754        352        640: 100%|██████████| 159/159 [02:00<00:00,  1.32it/s]\n",
      "                 Class     Images  Instances      Box(P          R      mAP50  mAP50-95): 100%|██████████| 19/19 [00:20<00:00,  1.08s/it]\n"
     ]
    },
    {
     "name": "stdout",
     "output_type": "stream",
     "text": [
      "                   all       2306      11360      0.447      0.115     0.0798     0.0375\n",
      "\n",
      "      Epoch    GPU_mem   box_loss   cls_loss   dfl_loss  Instances       Size\n"
     ]
    },
    {
     "name": "stderr",
     "output_type": "stream",
     "text": [
      "      17/50      10.1G      1.647      2.862      1.738        308        640: 100%|██████████| 159/159 [02:02<00:00,  1.30it/s]\n",
      "                 Class     Images  Instances      Box(P          R      mAP50  mAP50-95): 100%|██████████| 19/19 [00:20<00:00,  1.07s/it]\n"
     ]
    },
    {
     "name": "stdout",
     "output_type": "stream",
     "text": [
      "                   all       2306      11360      0.352      0.129     0.0803     0.0379\n",
      "\n",
      "      Epoch    GPU_mem   box_loss   cls_loss   dfl_loss  Instances       Size\n"
     ]
    },
    {
     "name": "stderr",
     "output_type": "stream",
     "text": [
      "      18/50      10.1G      1.643      2.856       1.74        347        640: 100%|██████████| 159/159 [02:03<00:00,  1.29it/s]\n",
      "                 Class     Images  Instances      Box(P          R      mAP50  mAP50-95): 100%|██████████| 19/19 [00:21<00:00,  1.12s/it]\n"
     ]
    },
    {
     "name": "stdout",
     "output_type": "stream",
     "text": [
      "                   all       2306      11360      0.376       0.13     0.0856     0.0416\n",
      "\n",
      "      Epoch    GPU_mem   box_loss   cls_loss   dfl_loss  Instances       Size\n"
     ]
    },
    {
     "name": "stderr",
     "output_type": "stream",
     "text": [
      "      19/50      10.1G      1.641       2.85      1.737        414        640: 100%|██████████| 159/159 [02:04<00:00,  1.28it/s]\n",
      "                 Class     Images  Instances      Box(P          R      mAP50  mAP50-95): 100%|██████████| 19/19 [00:19<00:00,  1.03s/it]\n"
     ]
    },
    {
     "name": "stdout",
     "output_type": "stream",
     "text": [
      "                   all       2306      11360      0.332      0.123     0.0827     0.0415\n",
      "\n",
      "      Epoch    GPU_mem   box_loss   cls_loss   dfl_loss  Instances       Size\n"
     ]
    },
    {
     "name": "stderr",
     "output_type": "stream",
     "text": [
      "      20/50      10.4G      1.634      2.842      1.738        376        640: 100%|██████████| 159/159 [02:02<00:00,  1.30it/s]\n",
      "                 Class     Images  Instances      Box(P          R      mAP50  mAP50-95): 100%|██████████| 19/19 [00:20<00:00,  1.07s/it]\n"
     ]
    },
    {
     "name": "stdout",
     "output_type": "stream",
     "text": [
      "                   all       2306      11360      0.325      0.135     0.0848     0.0417\n",
      "\n",
      "      Epoch    GPU_mem   box_loss   cls_loss   dfl_loss  Instances       Size\n"
     ]
    },
    {
     "name": "stderr",
     "output_type": "stream",
     "text": [
      "      21/50      10.1G      1.637      2.827      1.737        335        640: 100%|██████████| 159/159 [02:03<00:00,  1.28it/s]\n",
      "                 Class     Images  Instances      Box(P          R      mAP50  mAP50-95): 100%|██████████| 19/19 [00:19<00:00,  1.05s/it]\n"
     ]
    },
    {
     "name": "stdout",
     "output_type": "stream",
     "text": [
      "                   all       2306      11360      0.367       0.13     0.0859     0.0429\n",
      "\n",
      "      Epoch    GPU_mem   box_loss   cls_loss   dfl_loss  Instances       Size\n"
     ]
    },
    {
     "name": "stderr",
     "output_type": "stream",
     "text": [
      "      22/50      10.1G      1.633      2.827      1.735        327        640: 100%|██████████| 159/159 [02:03<00:00,  1.29it/s]\n",
      "                 Class     Images  Instances      Box(P          R      mAP50  mAP50-95): 100%|██████████| 19/19 [00:20<00:00,  1.06s/it]\n"
     ]
    },
    {
     "name": "stdout",
     "output_type": "stream",
     "text": [
      "                   all       2306      11360      0.338       0.13     0.0856     0.0421\n",
      "\n",
      "      Epoch    GPU_mem   box_loss   cls_loss   dfl_loss  Instances       Size\n"
     ]
    },
    {
     "name": "stderr",
     "output_type": "stream",
     "text": [
      "      23/50      10.1G      1.636      2.821      1.731        360        640: 100%|██████████| 159/159 [02:04<00:00,  1.28it/s]\n",
      "                 Class     Images  Instances      Box(P          R      mAP50  mAP50-95): 100%|██████████| 19/19 [00:20<00:00,  1.06s/it]\n"
     ]
    },
    {
     "name": "stdout",
     "output_type": "stream",
     "text": [
      "                   all       2306      11360      0.354       0.13     0.0848      0.041\n",
      "\n",
      "      Epoch    GPU_mem   box_loss   cls_loss   dfl_loss  Instances       Size\n"
     ]
    },
    {
     "name": "stderr",
     "output_type": "stream",
     "text": [
      "      24/50      10.1G       1.63      2.818      1.735        371        640: 100%|██████████| 159/159 [02:03<00:00,  1.29it/s]\n",
      "                 Class     Images  Instances      Box(P          R      mAP50  mAP50-95): 100%|██████████| 19/19 [00:20<00:00,  1.06s/it]\n"
     ]
    },
    {
     "name": "stdout",
     "output_type": "stream",
     "text": [
      "                   all       2306      11360      0.325      0.139     0.0889     0.0432\n",
      "\n",
      "      Epoch    GPU_mem   box_loss   cls_loss   dfl_loss  Instances       Size\n"
     ]
    },
    {
     "name": "stderr",
     "output_type": "stream",
     "text": [
      "      25/50      10.1G      1.628      2.816      1.734        338        640: 100%|██████████| 159/159 [02:03<00:00,  1.29it/s]\n",
      "                 Class     Images  Instances      Box(P          R      mAP50  mAP50-95): 100%|██████████| 19/19 [00:20<00:00,  1.10s/it]\n"
     ]
    },
    {
     "name": "stdout",
     "output_type": "stream",
     "text": [
      "                   all       2306      11360      0.359      0.135     0.0869     0.0429\n",
      "\n",
      "      Epoch    GPU_mem   box_loss   cls_loss   dfl_loss  Instances       Size\n"
     ]
    },
    {
     "name": "stderr",
     "output_type": "stream",
     "text": [
      "      26/50      10.1G      1.631      2.814      1.735        321        640: 100%|██████████| 159/159 [02:04<00:00,  1.27it/s]\n",
      "                 Class     Images  Instances      Box(P          R      mAP50  mAP50-95): 100%|██████████| 19/19 [00:20<00:00,  1.08s/it]\n"
     ]
    },
    {
     "name": "stdout",
     "output_type": "stream",
     "text": [
      "                   all       2306      11360      0.312      0.136     0.0876     0.0424\n",
      "\n",
      "      Epoch    GPU_mem   box_loss   cls_loss   dfl_loss  Instances       Size\n"
     ]
    },
    {
     "name": "stderr",
     "output_type": "stream",
     "text": [
      "      27/50      10.1G       1.63      2.808      1.734        359        640: 100%|██████████| 159/159 [02:03<00:00,  1.29it/s]\n",
      "                 Class     Images  Instances      Box(P          R      mAP50  mAP50-95): 100%|██████████| 19/19 [00:20<00:00,  1.07s/it]\n"
     ]
    },
    {
     "name": "stdout",
     "output_type": "stream",
     "text": [
      "                   all       2306      11360      0.335      0.137     0.0908     0.0445\n",
      "\n",
      "      Epoch    GPU_mem   box_loss   cls_loss   dfl_loss  Instances       Size\n"
     ]
    },
    {
     "name": "stderr",
     "output_type": "stream",
     "text": [
      "      28/50      10.1G      1.628      2.798      1.727        406        640: 100%|██████████| 159/159 [02:03<00:00,  1.28it/s]\n",
      "                 Class     Images  Instances      Box(P          R      mAP50  mAP50-95): 100%|██████████| 19/19 [00:20<00:00,  1.07s/it]\n"
     ]
    },
    {
     "name": "stdout",
     "output_type": "stream",
     "text": [
      "                   all       2306      11360      0.308      0.141     0.0907      0.045\n",
      "\n",
      "      Epoch    GPU_mem   box_loss   cls_loss   dfl_loss  Instances       Size\n"
     ]
    },
    {
     "name": "stderr",
     "output_type": "stream",
     "text": [
      "      29/50      10.1G      1.627      2.796       1.73        281        640: 100%|██████████| 159/159 [02:04<00:00,  1.27it/s]\n",
      "                 Class     Images  Instances      Box(P          R      mAP50  mAP50-95): 100%|██████████| 19/19 [00:19<00:00,  1.01s/it]\n"
     ]
    },
    {
     "name": "stdout",
     "output_type": "stream",
     "text": [
      "                   all       2306      11360      0.342      0.136     0.0913     0.0452\n",
      "\n",
      "      Epoch    GPU_mem   box_loss   cls_loss   dfl_loss  Instances       Size\n"
     ]
    },
    {
     "name": "stderr",
     "output_type": "stream",
     "text": [
      "      30/50      10.1G      1.626      2.788      1.731        276        640: 100%|██████████| 159/159 [02:03<00:00,  1.29it/s]\n",
      "                 Class     Images  Instances      Box(P          R      mAP50  mAP50-95): 100%|██████████| 19/19 [00:20<00:00,  1.06s/it]\n"
     ]
    },
    {
     "name": "stdout",
     "output_type": "stream",
     "text": [
      "                   all       2306      11360      0.343      0.136     0.0915     0.0452\n",
      "\n",
      "      Epoch    GPU_mem   box_loss   cls_loss   dfl_loss  Instances       Size\n"
     ]
    },
    {
     "name": "stderr",
     "output_type": "stream",
     "text": [
      "      31/50      10.1G      1.623      2.785      1.724        415        640: 100%|██████████| 159/159 [02:04<00:00,  1.28it/s]\n",
      "                 Class     Images  Instances      Box(P          R      mAP50  mAP50-95): 100%|██████████| 19/19 [00:20<00:00,  1.05s/it]\n"
     ]
    },
    {
     "name": "stdout",
     "output_type": "stream",
     "text": [
      "                   all       2306      11360      0.336      0.137     0.0916     0.0456\n",
      "\n",
      "      Epoch    GPU_mem   box_loss   cls_loss   dfl_loss  Instances       Size\n"
     ]
    },
    {
     "name": "stderr",
     "output_type": "stream",
     "text": [
      "      32/50      10.1G      1.621      2.786      1.728        349        640: 100%|██████████| 159/159 [02:04<00:00,  1.27it/s]\n",
      "                 Class     Images  Instances      Box(P          R      mAP50  mAP50-95): 100%|██████████| 19/19 [00:19<00:00,  1.05s/it]\n"
     ]
    },
    {
     "name": "stdout",
     "output_type": "stream",
     "text": [
      "                   all       2306      11360      0.333       0.14     0.0918     0.0459\n",
      "\n",
      "      Epoch    GPU_mem   box_loss   cls_loss   dfl_loss  Instances       Size\n"
     ]
    },
    {
     "name": "stderr",
     "output_type": "stream",
     "text": [
      "      33/50      10.1G      1.617      2.775      1.723        407        640: 100%|██████████| 159/159 [02:04<00:00,  1.28it/s]\n",
      "                 Class     Images  Instances      Box(P          R      mAP50  mAP50-95): 100%|██████████| 19/19 [00:20<00:00,  1.08s/it]\n"
     ]
    },
    {
     "name": "stdout",
     "output_type": "stream",
     "text": [
      "                   all       2306      11360      0.332      0.141     0.0928     0.0463\n",
      "\n",
      "      Epoch    GPU_mem   box_loss   cls_loss   dfl_loss  Instances       Size\n"
     ]
    },
    {
     "name": "stderr",
     "output_type": "stream",
     "text": [
      "      34/50      10.1G      1.621      2.772      1.719        352        640: 100%|██████████| 159/159 [02:04<00:00,  1.28it/s]\n",
      "                 Class     Images  Instances      Box(P          R      mAP50  mAP50-95): 100%|██████████| 19/19 [00:20<00:00,  1.07s/it]\n"
     ]
    },
    {
     "name": "stdout",
     "output_type": "stream",
     "text": [
      "                   all       2306      11360      0.351      0.136     0.0926      0.046\n",
      "\n",
      "      Epoch    GPU_mem   box_loss   cls_loss   dfl_loss  Instances       Size\n"
     ]
    },
    {
     "name": "stderr",
     "output_type": "stream",
     "text": [
      "      35/50      10.1G      1.614      2.774      1.723        361        640: 100%|██████████| 159/159 [02:04<00:00,  1.28it/s]\n",
      "                 Class     Images  Instances      Box(P          R      mAP50  mAP50-95): 100%|██████████| 19/19 [00:20<00:00,  1.07s/it]\n"
     ]
    },
    {
     "name": "stdout",
     "output_type": "stream",
     "text": [
      "                   all       2306      11360      0.316      0.138     0.0933     0.0463\n",
      "\n",
      "      Epoch    GPU_mem   box_loss   cls_loss   dfl_loss  Instances       Size\n"
     ]
    },
    {
     "name": "stderr",
     "output_type": "stream",
     "text": [
      "      36/50      10.1G      1.616      2.766       1.72        321        640: 100%|██████████| 159/159 [02:06<00:00,  1.26it/s]\n",
      "                 Class     Images  Instances      Box(P          R      mAP50  mAP50-95): 100%|██████████| 19/19 [00:21<00:00,  1.11s/it]\n"
     ]
    },
    {
     "name": "stdout",
     "output_type": "stream",
     "text": [
      "                   all       2306      11360       0.33       0.14     0.0935     0.0464\n",
      "\n",
      "      Epoch    GPU_mem   box_loss   cls_loss   dfl_loss  Instances       Size\n"
     ]
    },
    {
     "name": "stderr",
     "output_type": "stream",
     "text": [
      "      37/50      10.1G      1.615      2.768       1.72        397        640: 100%|██████████| 159/159 [02:06<00:00,  1.26it/s]\n",
      "                 Class     Images  Instances      Box(P          R      mAP50  mAP50-95): 100%|██████████| 19/19 [00:19<00:00,  1.03s/it]\n"
     ]
    },
    {
     "name": "stdout",
     "output_type": "stream",
     "text": [
      "                   all       2306      11360      0.334      0.142     0.0958     0.0476\n",
      "\n",
      "      Epoch    GPU_mem   box_loss   cls_loss   dfl_loss  Instances       Size\n"
     ]
    },
    {
     "name": "stderr",
     "output_type": "stream",
     "text": [
      "      38/50      10.1G      1.612      2.756       1.72        283        640: 100%|██████████| 159/159 [02:04<00:00,  1.28it/s]\n",
      "                 Class     Images  Instances      Box(P          R      mAP50  mAP50-95): 100%|██████████| 19/19 [00:20<00:00,  1.06s/it]\n"
     ]
    },
    {
     "name": "stdout",
     "output_type": "stream",
     "text": [
      "                   all       2306      11360      0.316      0.146     0.0942     0.0465\n",
      "\n",
      "      Epoch    GPU_mem   box_loss   cls_loss   dfl_loss  Instances       Size\n"
     ]
    },
    {
     "name": "stderr",
     "output_type": "stream",
     "text": [
      "      39/50      10.1G      1.611      2.759      1.716        266        640: 100%|██████████| 159/159 [02:04<00:00,  1.28it/s]\n",
      "                 Class     Images  Instances      Box(P          R      mAP50  mAP50-95): 100%|██████████| 19/19 [00:19<00:00,  1.04s/it]\n"
     ]
    },
    {
     "name": "stdout",
     "output_type": "stream",
     "text": [
      "                   all       2306      11360      0.337      0.144     0.0945     0.0467\n",
      "\n",
      "      Epoch    GPU_mem   box_loss   cls_loss   dfl_loss  Instances       Size\n"
     ]
    },
    {
     "name": "stderr",
     "output_type": "stream",
     "text": [
      "      40/50      10.1G      1.614      2.756      1.715        387        640: 100%|██████████| 159/159 [02:03<00:00,  1.29it/s]\n",
      "                 Class     Images  Instances      Box(P          R      mAP50  mAP50-95): 100%|██████████| 19/19 [00:19<00:00,  1.04s/it]\n"
     ]
    },
    {
     "name": "stdout",
     "output_type": "stream",
     "text": [
      "                   all       2306      11360       0.33      0.142     0.0941     0.0466\n",
      "Closing dataloader mosaic\n",
      "\u001b[34m\u001b[1malbumentations: \u001b[0mBlur(p=0.01, blur_limit=(3, 7)), MedianBlur(p=0.01, blur_limit=(3, 7)), ToGray(p=0.01), CLAHE(p=0.01, clip_limit=(1, 4.0), tile_grid_size=(8, 8))\n",
      "\n",
      "      Epoch    GPU_mem   box_loss   cls_loss   dfl_loss  Instances       Size\n"
     ]
    },
    {
     "name": "stderr",
     "output_type": "stream",
     "text": [
      "      41/50      10.8G      1.555      2.621       1.87        218        640: 100%|██████████| 159/159 [02:01<00:00,  1.31it/s]\n",
      "                 Class     Images  Instances      Box(P          R      mAP50  mAP50-95): 100%|██████████| 19/19 [00:19<00:00,  1.01s/it]\n"
     ]
    },
    {
     "name": "stdout",
     "output_type": "stream",
     "text": [
      "                   all       2306      11360      0.326      0.145     0.0947     0.0475\n",
      "\n",
      "      Epoch    GPU_mem   box_loss   cls_loss   dfl_loss  Instances       Size\n"
     ]
    },
    {
     "name": "stderr",
     "output_type": "stream",
     "text": [
      "      42/50      10.3G      1.546      2.594       1.86        245        640: 100%|██████████| 159/159 [01:53<00:00,  1.40it/s]\n",
      "                 Class     Images  Instances      Box(P          R      mAP50  mAP50-95): 100%|██████████| 19/19 [00:20<00:00,  1.05s/it]\n"
     ]
    },
    {
     "name": "stdout",
     "output_type": "stream",
     "text": [
      "                   all       2306      11360      0.322      0.143     0.0945      0.048\n",
      "\n",
      "      Epoch    GPU_mem   box_loss   cls_loss   dfl_loss  Instances       Size\n"
     ]
    },
    {
     "name": "stderr",
     "output_type": "stream",
     "text": [
      "      43/50      10.3G      1.544      2.594       1.87        250        640: 100%|██████████| 159/159 [01:54<00:00,  1.39it/s]\n",
      "                 Class     Images  Instances      Box(P          R      mAP50  mAP50-95): 100%|██████████| 19/19 [00:19<00:00,  1.03s/it]\n"
     ]
    },
    {
     "name": "stdout",
     "output_type": "stream",
     "text": [
      "                   all       2306      11360      0.324      0.143     0.0953     0.0486\n",
      "\n",
      "      Epoch    GPU_mem   box_loss   cls_loss   dfl_loss  Instances       Size\n"
     ]
    },
    {
     "name": "stderr",
     "output_type": "stream",
     "text": [
      "      44/50      10.3G      1.542      2.586      1.861        237        640: 100%|██████████| 159/159 [01:54<00:00,  1.38it/s]\n",
      "                 Class     Images  Instances      Box(P          R      mAP50  mAP50-95): 100%|██████████| 19/19 [00:19<00:00,  1.02s/it]\n"
     ]
    },
    {
     "name": "stdout",
     "output_type": "stream",
     "text": [
      "                   all       2306      11360      0.325      0.148     0.0964     0.0496\n",
      "\n",
      "      Epoch    GPU_mem   box_loss   cls_loss   dfl_loss  Instances       Size\n"
     ]
    },
    {
     "name": "stderr",
     "output_type": "stream",
     "text": [
      "      45/50      10.3G      1.539      2.585      1.868        238        640: 100%|██████████| 159/159 [01:55<00:00,  1.38it/s]\n",
      "                 Class     Images  Instances      Box(P          R      mAP50  mAP50-95): 100%|██████████| 19/19 [00:19<00:00,  1.01s/it]\n"
     ]
    },
    {
     "name": "stdout",
     "output_type": "stream",
     "text": [
      "                   all       2306      11360      0.322      0.147     0.0957     0.0491\n",
      "\n",
      "      Epoch    GPU_mem   box_loss   cls_loss   dfl_loss  Instances       Size\n"
     ]
    },
    {
     "name": "stderr",
     "output_type": "stream",
     "text": [
      "      46/50      10.3G       1.54      2.584      1.856        211        640: 100%|██████████| 159/159 [01:54<00:00,  1.39it/s]\n",
      "                 Class     Images  Instances      Box(P          R      mAP50  mAP50-95): 100%|██████████| 19/19 [00:19<00:00,  1.04s/it]\n"
     ]
    },
    {
     "name": "stdout",
     "output_type": "stream",
     "text": [
      "                   all       2306      11360      0.322      0.147     0.0958      0.049\n",
      "\n",
      "      Epoch    GPU_mem   box_loss   cls_loss   dfl_loss  Instances       Size\n"
     ]
    },
    {
     "name": "stderr",
     "output_type": "stream",
     "text": [
      "      47/50      10.3G      1.538      2.579      1.859        220        640: 100%|██████████| 159/159 [01:55<00:00,  1.38it/s]\n",
      "                 Class     Images  Instances      Box(P          R      mAP50  mAP50-95): 100%|██████████| 19/19 [00:19<00:00,  1.03s/it]\n"
     ]
    },
    {
     "name": "stdout",
     "output_type": "stream",
     "text": [
      "                   all       2306      11360      0.336      0.149     0.0967     0.0497\n",
      "\n",
      "      Epoch    GPU_mem   box_loss   cls_loss   dfl_loss  Instances       Size\n"
     ]
    },
    {
     "name": "stderr",
     "output_type": "stream",
     "text": [
      "      48/50      10.3G      1.536      2.573      1.855        241        640: 100%|██████████| 159/159 [01:54<00:00,  1.39it/s]\n",
      "                 Class     Images  Instances      Box(P          R      mAP50  mAP50-95): 100%|██████████| 19/19 [00:19<00:00,  1.02s/it]\n"
     ]
    },
    {
     "name": "stdout",
     "output_type": "stream",
     "text": [
      "                   all       2306      11360      0.336      0.148     0.0964     0.0497\n",
      "\n",
      "      Epoch    GPU_mem   box_loss   cls_loss   dfl_loss  Instances       Size\n"
     ]
    },
    {
     "name": "stderr",
     "output_type": "stream",
     "text": [
      "      49/50      10.3G      1.537      2.574      1.865        276        640: 100%|██████████| 159/159 [01:54<00:00,  1.39it/s]\n",
      "                 Class     Images  Instances      Box(P          R      mAP50  mAP50-95): 100%|██████████| 19/19 [00:19<00:00,  1.04s/it]\n"
     ]
    },
    {
     "name": "stdout",
     "output_type": "stream",
     "text": [
      "                   all       2306      11360      0.335      0.148     0.0969     0.0498\n",
      "\n",
      "      Epoch    GPU_mem   box_loss   cls_loss   dfl_loss  Instances       Size\n"
     ]
    },
    {
     "name": "stderr",
     "output_type": "stream",
     "text": [
      "      50/50      10.3G      1.535      2.572      1.858        216        640: 100%|██████████| 159/159 [01:54<00:00,  1.39it/s]\n",
      "                 Class     Images  Instances      Box(P          R      mAP50  mAP50-95): 100%|██████████| 19/19 [00:19<00:00,  1.02s/it]\n"
     ]
    },
    {
     "name": "stdout",
     "output_type": "stream",
     "text": [
      "                   all       2306      11360      0.338      0.151     0.0971     0.0496\n",
      "\n",
      "50 epochs completed in 2.004 hours.\n",
      "Optimizer stripped from runs/detect/train/weights/last.pt, 6.9MB\n",
      "Optimizer stripped from runs/detect/train/weights/best.pt, 6.9MB\n",
      "\n",
      "Validating runs/detect/train/weights/best.pt...\n",
      "Ultralytics YOLOv8.2.21 🚀 Python-3.10.13 torch-2.1.2 CUDA:0 (Tesla P100-PCIE-16GB, 16276MiB)\n",
      "YOLOv8n summary (fused): 168 layers, 3341330 parameters, 0 gradients, 9.6 GFLOPs\n"
     ]
    },
    {
     "name": "stderr",
     "output_type": "stream",
     "text": [
      "                 Class     Images  Instances      Box(P          R      mAP50  mAP50-95): 100%|██████████| 19/19 [00:21<00:00,  1.16s/it]\n"
     ]
    },
    {
     "name": "stdout",
     "output_type": "stream",
     "text": [
      "                   all       2306      11360      0.335       0.15     0.0967     0.0496\n",
      "                     1       2306        116       0.23      0.233      0.134     0.0687\n",
      "                     2       2306         78      0.264     0.0256     0.0535     0.0302\n",
      "                     3       2306          9          1          0    0.00487    0.00277\n",
      "                     4       2306         97      0.112     0.0619      0.048     0.0254\n",
      "                     5       2306         42      0.199      0.154      0.113      0.036\n",
      "                     6       2306         63     0.0577     0.0159     0.0283     0.0137\n",
      "                     7       2306         20          1          0    0.00159   0.000648\n",
      "                     8       2306         71          0          0     0.0122    0.00624\n",
      "                     9       2306         59          1          0     0.0669      0.039\n",
      "                    10       2306         38          1          0    0.00606    0.00297\n",
      "                    11       2306         97     0.0477     0.0412     0.0328     0.0166\n",
      "                    12       2306         78          0          0     0.0357     0.0169\n",
      "                    13       2306         16          1          0     0.0141    0.00897\n",
      "                    14       2306         20          0          0     0.0274    0.00891\n",
      "                    15       2306        252      0.236      0.385      0.193     0.0808\n",
      "                    16       2306        491      0.191      0.591      0.371       0.19\n",
      "                    17       2306        265      0.231       0.37      0.267      0.117\n",
      "                    18       2306         20          1          0    0.00666     0.0029\n",
      "                    19       2306        180      0.119      0.222     0.0868     0.0465\n",
      "                    20       2306         88     0.0706     0.0455     0.0387     0.0198\n",
      "                    21       2306        103      0.228     0.0971      0.121     0.0697\n",
      "                    22       2306         91      0.284      0.769      0.352      0.191\n",
      "                    23       2306        260      0.216      0.377      0.226      0.103\n",
      "                    24       2306        117     0.0886      0.162     0.0636     0.0369\n",
      "                    25       2306        471      0.172      0.265      0.132     0.0532\n",
      "                    26       2306        111     0.0951      0.216     0.0759     0.0378\n",
      "                    27       2306        134      0.133      0.216      0.125     0.0718\n",
      "                    28       2306         67          0          0     0.0266     0.0139\n",
      "                    29       2306         14          1          0    0.00195   0.000679\n",
      "                    30       2306         33          0          0     0.0106    0.00487\n",
      "                    31       2306         14     0.0706     0.0714     0.0633     0.0195\n",
      "                    32       2306         50      0.389        0.3      0.207     0.0945\n",
      "                    33       2306         36      0.612      0.132      0.214      0.114\n",
      "                    34       2306         42          0          0      0.016    0.00529\n",
      "                    35       2306         86      0.236     0.0698     0.0602       0.02\n",
      "                    36       2306         11          1          0     0.0174    0.00747\n",
      "                    37       2306         21          1          0    0.00454    0.00213\n",
      "                    38       2306        211      0.238      0.499      0.304      0.131\n",
      "                    39       2306        135       0.12      0.237     0.0781     0.0391\n",
      "                    40       2306        245      0.161      0.273      0.134     0.0673\n",
      "                    41       2306         37          1          0     0.0107    0.00332\n",
      "                    42       2306         58          0          0     0.0445     0.0227\n",
      "                    43       2306         84          0          0     0.0114    0.00486\n",
      "                    44       2306         48      0.202      0.312      0.156     0.0841\n",
      "                    45       2306         60          0          0     0.0141    0.00733\n",
      "                    46       2306        250      0.132      0.124     0.0749     0.0341\n",
      "                    47       2306        127      0.106     0.0132     0.0549     0.0297\n",
      "                    48       2306        239       0.19      0.121     0.0941     0.0432\n",
      "                    49       2306        314      0.172      0.197      0.108     0.0455\n",
      "                    50       2306        141     0.0735     0.0284     0.0544     0.0252\n",
      "                    51       2306        254      0.199      0.398      0.217      0.113\n",
      "                    52       2306        530       0.21      0.534      0.235      0.111\n",
      "                    53       2306          3          1          0          0          0\n",
      "                    54       2306         43      0.148      0.326      0.173      0.106\n",
      "                    55       2306         30          0          0     0.0195     0.0126\n",
      "                    56       2306         15          1          0    0.00235    0.00102\n",
      "                    57       2306         24          1          0    0.00954    0.00453\n",
      "                    58       2306         18          1          0     0.0153    0.00605\n",
      "                    59       2306         66          0          0     0.0198    0.00883\n",
      "                    62       2306          2          0          0          0          0\n",
      "                    63       2306         65       0.17      0.446       0.27     0.0757\n",
      "                    65       2306         30     0.0745     0.0333    0.00896    0.00358\n",
      "                    66       2306         19      0.136     0.0357     0.0997     0.0615\n",
      "                    67       2306        174      0.346      0.713        0.6      0.379\n",
      "                    68       2306        223      0.233      0.283      0.218     0.0926\n",
      "                    69       2306         78      0.129      0.372      0.159      0.106\n",
      "                    70       2306        134      0.196      0.522      0.259      0.141\n",
      "                    71       2306        760      0.227      0.639      0.307      0.162\n",
      "                    72       2306         62      0.156      0.242      0.125      0.102\n",
      "                    73       2306         13          1          0    0.00258    0.00133\n",
      "                    74       2306         71      0.209      0.394      0.176     0.0838\n",
      "                    75       2306         36      0.108     0.0556     0.0398     0.0133\n",
      "                    77       2306         95      0.113     0.0177     0.0314     0.0123\n",
      "                    78       2306         18          1          0     0.0121     0.0054\n",
      "                    79       2306         43     0.0454     0.0233     0.0228     0.0089\n",
      "                    80       2306         26      0.107     0.0769      0.083     0.0449\n",
      "                    82       2306         28          0          0     0.0378      0.015\n",
      "                    83       2306         36     0.0828     0.0833     0.0679     0.0591\n",
      "                    84       2306         35       0.16     0.0857     0.0759     0.0444\n",
      "                    85       2306         69      0.214      0.203      0.138     0.0644\n",
      "                    86       2306         17          1          0     0.0072    0.00403\n",
      "                    87       2306        240      0.104      0.188     0.0825      0.045\n",
      "                    88       2306         91      0.115      0.121     0.0794     0.0387\n",
      "                    89       2306         18          1          0    0.00172    0.00102\n",
      "                    90       2306         10          1          0    0.00437    0.00205\n",
      "                    91       2306         15          1          0      0.025    0.00923\n",
      "                    92       2306          3          0          0     0.0984     0.0303\n",
      "                    93       2306         48      0.173     0.0625     0.0735     0.0581\n",
      "                    94       2306         12          1          0    0.00308    0.00189\n",
      "                    95       2306         93       0.19      0.215      0.148     0.0752\n",
      "                    96       2306        105      0.258        0.4      0.209     0.0752\n",
      "                    97       2306         36          0          0    0.00726    0.00403\n",
      "                    98       2306         33      0.204      0.182     0.0813     0.0497\n",
      "                    99       2306          5          1          0    0.00613    0.00266\n",
      "                   100       2306         77      0.143      0.351      0.177       0.14\n",
      "                   101       2306         45     0.0957      0.178     0.0659     0.0407\n",
      "                   102       2306       1802      0.278      0.751      0.488      0.281\n",
      "Speed: 0.2ms preprocess, 2.2ms inference, 0.0ms loss, 2.1ms postprocess per image\n",
      "Results saved to \u001b[1mruns/detect/train\u001b[0m\n"
     ]
    },
    {
     "name": "stderr",
     "output_type": "stream",
     "text": [
      "\u001b[34m\u001b[1mwandb\u001b[0m:                                                                                \n",
      "\u001b[34m\u001b[1mwandb\u001b[0m: \n",
      "\u001b[34m\u001b[1mwandb\u001b[0m: Run history:\n",
      "\u001b[34m\u001b[1mwandb\u001b[0m:                  lr/pg0 ▃▆███▇▇▇▇▇▇▆▆▆▆▆▅▅▅▅▅▄▄▄▄▄▄▃▃▃▃▃▂▂▂▂▂▁▁▁\n",
      "\u001b[34m\u001b[1mwandb\u001b[0m:                  lr/pg1 ▃▆███▇▇▇▇▇▇▆▆▆▆▆▅▅▅▅▅▄▄▄▄▄▄▃▃▃▃▃▂▂▂▂▂▁▁▁\n",
      "\u001b[34m\u001b[1mwandb\u001b[0m:                  lr/pg2 ▃▆███▇▇▇▇▇▇▆▆▆▆▆▅▅▅▅▅▄▄▄▄▄▄▃▃▃▃▃▂▂▂▂▂▁▁▁\n",
      "\u001b[34m\u001b[1mwandb\u001b[0m:        metrics/mAP50(B) ▁▁▂▃▄▄▅▅▅▅▅▆▆▆▆▆▇▆▆▇▇▇▇▇▇▇▇▇████████████\n",
      "\u001b[34m\u001b[1mwandb\u001b[0m:     metrics/mAP50-95(B) ▁▁▂▃▄▂▄▄▅▄▅▅▅▅▆▆▆▆▆▆▆▇▇▇▇▇▇▇▇▇▇▇▇███████\n",
      "\u001b[34m\u001b[1mwandb\u001b[0m:    metrics/precision(B) ▇█▆▅▄▄▅▄▃▂▃▄▆▂▃▂▃▂▃▂▁▂▁▂▂▂▂▂▂▂▁▂▂▁▂▂▁▂▂▂\n",
      "\u001b[34m\u001b[1mwandb\u001b[0m:       metrics/recall(B) ▁▂▃▃▄▄▅▅▆▆▆▆▅▆▆▆▆▆▆▇▇▇▇▇▇▇▇▇▇▇█▇█▇▇█████\n",
      "\u001b[34m\u001b[1mwandb\u001b[0m:            model/GFLOPs ▁\n",
      "\u001b[34m\u001b[1mwandb\u001b[0m:        model/parameters ▁\n",
      "\u001b[34m\u001b[1mwandb\u001b[0m: model/speed_PyTorch(ms) ▁\n",
      "\u001b[34m\u001b[1mwandb\u001b[0m:          train/box_loss █▆▆▅▅▅▅▄▄▄▄▄▄▄▄▄▄▄▄▄▄▄▄▃▃▃▃▃▃▃▃▃▂▁▁▁▁▁▁▁\n",
      "\u001b[34m\u001b[1mwandb\u001b[0m:          train/cls_loss █▆▆▅▅▅▄▄▄▄▄▄▄▃▃▃▃▃▃▃▃▃▃▃▃▃▃▃▃▃▃▃▁▁▁▁▁▁▁▁\n",
      "\u001b[34m\u001b[1mwandb\u001b[0m:          train/dfl_loss █▅▄▄▃▃▃▃▃▂▃▃▃▂▂▂▂▂▂▂▂▂▁▂▁▂▁▁▁▁▁▁█▇██▇▇▇▇\n",
      "\u001b[34m\u001b[1mwandb\u001b[0m:            val/box_loss ▃▄▃▃▃█▃▅▃▅▄▃▅▅▃▂▂▂▃▃▃▃▂▃▂▂▂▃▂▂▃▃▂▁▁▁▁▁▁▁\n",
      "\u001b[34m\u001b[1mwandb\u001b[0m:            val/cls_loss █▇▆▅▅▅▄▄▄▄▄▃▃▃▃▃▂▃▃▂▂▂▂▂▂▂▂▂▂▂▂▂▁▁▁▁▁▁▁▁\n",
      "\u001b[34m\u001b[1mwandb\u001b[0m:            val/dfl_loss ▂▄▃▃▃█▃▅▃▅▄▃▄▄▃▂▂▂▃▃▃▃▂▃▂▂▂▂▂▂▃▃▂▁▁▁▁▁▁▁\n",
      "\u001b[34m\u001b[1mwandb\u001b[0m: \n",
      "\u001b[34m\u001b[1mwandb\u001b[0m: Run summary:\n",
      "\u001b[34m\u001b[1mwandb\u001b[0m:                  lr/pg0 0.0\n",
      "\u001b[34m\u001b[1mwandb\u001b[0m:                  lr/pg1 0.0\n",
      "\u001b[34m\u001b[1mwandb\u001b[0m:                  lr/pg2 0.0\n",
      "\u001b[34m\u001b[1mwandb\u001b[0m:        metrics/mAP50(B) 0.09671\n",
      "\u001b[34m\u001b[1mwandb\u001b[0m:     metrics/mAP50-95(B) 0.04963\n",
      "\u001b[34m\u001b[1mwandb\u001b[0m:    metrics/precision(B) 0.33509\n",
      "\u001b[34m\u001b[1mwandb\u001b[0m:       metrics/recall(B) 0.15008\n",
      "\u001b[34m\u001b[1mwandb\u001b[0m:            model/GFLOPs 9.726\n",
      "\u001b[34m\u001b[1mwandb\u001b[0m:        model/parameters 3346746\n",
      "\u001b[34m\u001b[1mwandb\u001b[0m: model/speed_PyTorch(ms) 2.203\n",
      "\u001b[34m\u001b[1mwandb\u001b[0m:          train/box_loss 1.53511\n",
      "\u001b[34m\u001b[1mwandb\u001b[0m:          train/cls_loss 2.57182\n",
      "\u001b[34m\u001b[1mwandb\u001b[0m:          train/dfl_loss 1.85835\n",
      "\u001b[34m\u001b[1mwandb\u001b[0m:            val/box_loss 1.55996\n",
      "\u001b[34m\u001b[1mwandb\u001b[0m:            val/cls_loss 2.55737\n",
      "\u001b[34m\u001b[1mwandb\u001b[0m:            val/dfl_loss 1.9082\n",
      "\u001b[34m\u001b[1mwandb\u001b[0m: \n",
      "\u001b[34m\u001b[1mwandb\u001b[0m: You can sync this run to the cloud by running:\n",
      "\u001b[34m\u001b[1mwandb\u001b[0m: \u001b[1mwandb sync /kaggle/working/wandb/offline-run-20240525_090100-rtmstdkd\u001b[0m\n",
      "\u001b[34m\u001b[1mwandb\u001b[0m: Find logs at: \u001b[35m\u001b[1m./wandb/offline-run-20240525_090100-rtmstdkd/logs\u001b[0m\n"
     ]
    },
    {
     "name": "stdout",
     "output_type": "stream",
     "text": [
      "Ultralytics YOLOv8.2.21 🚀 Python-3.10.13 torch-2.1.2 CUDA:0 (Tesla P100-PCIE-16GB, 16276MiB)\n",
      "YOLOv8n summary (fused): 168 layers, 3341330 parameters, 0 gradients, 9.6 GFLOPs\n"
     ]
    },
    {
     "name": "stderr",
     "output_type": "stream",
     "text": [
      "\u001b[34m\u001b[1mval: \u001b[0mScanning /kaggle/input/pestvisiondata/pestvision_data/synthetic_data/DeepImageBlendingData/run3/RiceLeafs/labels/val... 2094 images, 212 backgrounds, 0 corrupt: 100%|██████████| 2306/2306 [00:02<00:00, 792.08it/s]"
     ]
    },
    {
     "name": "stdout",
     "output_type": "stream",
     "text": [
      "\u001b[34m\u001b[1mval: \u001b[0mWARNING ⚠️ Cache directory /kaggle/input/pestvisiondata/pestvision_data/synthetic_data/DeepImageBlendingData/run3/RiceLeafs/labels is not writeable, cache not saved.\n"
     ]
    },
    {
     "name": "stderr",
     "output_type": "stream",
     "text": [
      "\n",
      "                 Class     Images  Instances      Box(P          R      mAP50  mAP50-95): 100%|██████████| 37/37 [00:24<00:00,  1.53it/s]\n"
     ]
    },
    {
     "name": "stdout",
     "output_type": "stream",
     "text": [
      "                   all       2306      11360      0.335      0.149     0.0968     0.0498\n",
      "                     1       2306        116       0.23      0.233      0.132     0.0681\n",
      "                     2       2306         78      0.265     0.0256     0.0534     0.0301\n",
      "                     3       2306          9          1          0    0.00501    0.00285\n",
      "                     4       2306         97     0.0966     0.0515     0.0472     0.0248\n",
      "                     5       2306         42      0.196      0.151      0.113      0.036\n",
      "                     6       2306         63     0.0603     0.0159     0.0284     0.0138\n",
      "                     7       2306         20          1          0    0.00159   0.000646\n",
      "                     8       2306         71          0          0      0.012     0.0062\n",
      "                     9       2306         59          1          0     0.0682     0.0401\n",
      "                    10       2306         38          1          0    0.00606    0.00301\n",
      "                    11       2306         97     0.0477     0.0412      0.033     0.0169\n",
      "                    12       2306         78          0          0     0.0357     0.0167\n",
      "                    13       2306         16          1          0      0.014    0.00893\n",
      "                    14       2306         20          0          0     0.0267    0.00998\n",
      "                    15       2306        252      0.235      0.387      0.191     0.0809\n",
      "                    16       2306        491       0.19      0.589      0.371       0.19\n",
      "                    17       2306        265      0.232       0.37      0.267      0.117\n",
      "                    18       2306         20          1          0    0.00661    0.00288\n",
      "                    19       2306        180      0.119      0.222     0.0867     0.0465\n",
      "                    20       2306         88     0.0705     0.0455     0.0392     0.0197\n",
      "                    21       2306        103       0.23     0.0971      0.119     0.0684\n",
      "                    22       2306         91      0.283      0.769      0.356      0.194\n",
      "                    23       2306        260      0.219      0.377      0.225      0.102\n",
      "                    24       2306        117     0.0896      0.162     0.0633     0.0367\n",
      "                    25       2306        471      0.171      0.261      0.131     0.0532\n",
      "                    26       2306        111     0.0936      0.216     0.0765      0.038\n",
      "                    27       2306        134       0.13      0.209      0.125     0.0696\n",
      "                    28       2306         67          0          0     0.0267     0.0139\n",
      "                    29       2306         14          1          0    0.00195   0.000676\n",
      "                    30       2306         33          0          0     0.0106    0.00486\n",
      "                    31       2306         14     0.0706     0.0714     0.0629     0.0194\n",
      "                    32       2306         50      0.389        0.3      0.207     0.0946\n",
      "                    33       2306         36      0.607       0.13      0.213      0.113\n",
      "                    34       2306         42          0          0     0.0161    0.00529\n",
      "                    35       2306         86      0.266     0.0814     0.0631     0.0204\n",
      "                    36       2306         11          1          0     0.0174    0.00745\n",
      "                    37       2306         21          1          0    0.00456    0.00215\n",
      "                    38       2306        211      0.238      0.504      0.305      0.133\n",
      "                    39       2306        135      0.119      0.237     0.0785     0.0392\n",
      "                    40       2306        245      0.161      0.273      0.134     0.0669\n",
      "                    41       2306         37          1          0      0.011     0.0034\n",
      "                    42       2306         58          0          0     0.0458     0.0236\n",
      "                    43       2306         84          0          0     0.0115    0.00488\n",
      "                    44       2306         48      0.192      0.297      0.158     0.0856\n",
      "                    45       2306         60          0          0     0.0141    0.00738\n",
      "                    46       2306        250      0.133      0.124     0.0747     0.0339\n",
      "                    47       2306        127      0.124     0.0157      0.055     0.0298\n",
      "                    48       2306        239      0.191      0.121     0.0938     0.0431\n",
      "                    49       2306        314      0.174      0.201      0.108     0.0456\n",
      "                    50       2306        141     0.0733     0.0284     0.0543     0.0254\n",
      "                    51       2306        254      0.199      0.398      0.216      0.113\n",
      "                    52       2306        530      0.209      0.534      0.237      0.111\n",
      "                    53       2306          3          1          0          0          0\n",
      "                    54       2306         43       0.15      0.326      0.172      0.105\n",
      "                    55       2306         30          0          0     0.0194     0.0126\n",
      "                    56       2306         15          1          0    0.00235    0.00106\n",
      "                    57       2306         24          1          0    0.00988    0.00458\n",
      "                    58       2306         18          1          0     0.0153    0.00599\n",
      "                    59       2306         66          0          0     0.0196    0.00878\n",
      "                    62       2306          2          0          0          0          0\n",
      "                    63       2306         65      0.172      0.446       0.27     0.0754\n",
      "                    65       2306         30     0.0748     0.0333    0.00895    0.00359\n",
      "                    66       2306         19     0.0875      0.023        0.1     0.0618\n",
      "                    67       2306        174      0.344      0.718        0.6       0.38\n",
      "                    68       2306        223       0.23      0.283      0.217     0.0933\n",
      "                    69       2306         78       0.13      0.372      0.159      0.106\n",
      "                    70       2306        134      0.191      0.515      0.253      0.141\n",
      "                    71       2306        760      0.227      0.639      0.308      0.162\n",
      "                    72       2306         62      0.155      0.242      0.127      0.108\n",
      "                    73       2306         13          1          0    0.00262    0.00136\n",
      "                    74       2306         71       0.21      0.394      0.177     0.0844\n",
      "                    75       2306         36      0.108     0.0556     0.0397      0.013\n",
      "                    77       2306         95      0.105     0.0162     0.0314     0.0125\n",
      "                    78       2306         18          1          0     0.0122    0.00541\n",
      "                    79       2306         43     0.0472     0.0233     0.0222    0.00915\n",
      "                    80       2306         26      0.107     0.0769     0.0828     0.0448\n",
      "                    82       2306         28          0          0     0.0377     0.0155\n",
      "                    83       2306         36     0.0835     0.0833     0.0679     0.0591\n",
      "                    84       2306         35      0.158     0.0857     0.0754     0.0441\n",
      "                    85       2306         69      0.213      0.203      0.138     0.0646\n",
      "                    86       2306         17          1          0      0.007    0.00399\n",
      "                    87       2306        240      0.104      0.188     0.0824     0.0447\n",
      "                    88       2306         91      0.115      0.121       0.08     0.0391\n",
      "                    89       2306         18          1          0    0.00172    0.00102\n",
      "                    90       2306         10          1          0    0.00439     0.0022\n",
      "                    91       2306         15          1          0     0.0253    0.00932\n",
      "                    92       2306          3          0          0      0.104     0.0319\n",
      "                    93       2306         48      0.172     0.0625     0.0736     0.0576\n",
      "                    94       2306         12          1          0    0.00311     0.0019\n",
      "                    95       2306         93      0.187      0.204      0.151     0.0778\n",
      "                    96       2306        105      0.257        0.4       0.21     0.0752\n",
      "                    97       2306         36          0          0    0.00727    0.00403\n",
      "                    98       2306         33      0.212      0.182     0.0804     0.0492\n",
      "                    99       2306          5          1          0    0.00622     0.0027\n",
      "                   100       2306         77      0.138      0.338      0.176       0.14\n",
      "                   101       2306         45     0.0952      0.178     0.0662     0.0412\n",
      "                   102       2306       1802      0.279      0.749      0.489      0.281\n",
      "Speed: 0.2ms preprocess, 2.5ms inference, 0.0ms loss, 2.4ms postprocess per image\n",
      "Results saved to \u001b[1mruns/detect/train2\u001b[0m\n"
     ]
    }
   ],
   "source": [
    "train('/kaggle/input/yolo/other/exp1/4/last-4.pt', dset_paths[0], val_paths[0])"
   ]
  }
 ],
 "metadata": {
  "kaggle": {
   "accelerator": "gpu",
   "dataSources": [
    {
     "datasetId": 5067045,
     "sourceId": 8492734,
     "sourceType": "datasetVersion"
    },
    {
     "datasetId": 5072195,
     "sourceId": 8499657,
     "sourceType": "datasetVersion"
    },
    {
     "modelInstanceId": 46883,
     "sourceId": 56034,
     "sourceType": "modelInstanceVersion"
    }
   ],
   "dockerImageVersionId": 30698,
   "isGpuEnabled": true,
   "isInternetEnabled": true,
   "language": "python",
   "sourceType": "notebook"
  },
  "kernelspec": {
   "display_name": "Python 3",
   "language": "python",
   "name": "python3"
  },
  "language_info": {
   "codemirror_mode": {
    "name": "ipython",
    "version": 3
   },
   "file_extension": ".py",
   "mimetype": "text/x-python",
   "name": "python",
   "nbconvert_exporter": "python",
   "pygments_lexer": "ipython3",
   "version": "3.10.13"
  },
  "papermill": {
   "default_parameters": {},
   "duration": 7484.337063,
   "end_time": "2024-05-25T11:05:04.927611",
   "environment_variables": {},
   "exception": null,
   "input_path": "__notebook__.ipynb",
   "output_path": "__notebook__.ipynb",
   "parameters": {},
   "start_time": "2024-05-25T09:00:20.590548",
   "version": "2.5.0"
  }
 },
 "nbformat": 4,
 "nbformat_minor": 5
}

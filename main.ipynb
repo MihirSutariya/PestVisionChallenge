{
 "cells": [
  {
   "cell_type": "code",
   "execution_count": 1,
   "id": "ff046d80",
   "metadata": {
    "execution": {
     "iopub.execute_input": "2024-05-25T06:28:37.974113Z",
     "iopub.status.busy": "2024-05-25T06:28:37.973697Z",
     "iopub.status.idle": "2024-05-25T06:28:52.427804Z",
     "shell.execute_reply": "2024-05-25T06:28:52.426881Z"
    },
    "papermill": {
     "duration": 14.461711,
     "end_time": "2024-05-25T06:28:52.430152",
     "exception": false,
     "start_time": "2024-05-25T06:28:37.968441",
     "status": "completed"
    },
    "tags": []
   },
   "outputs": [
    {
     "name": "stdout",
     "output_type": "stream",
     "text": [
      "Collecting ultralytics\r\n",
      "  Downloading ultralytics-8.2.21-py3-none-any.whl.metadata (40 kB)\r\n",
      "\u001b[2K     \u001b[90m━━━━━━━━━━━━━━━━━━━━━━━━━━━━━━━━━━━━━━━━\u001b[0m \u001b[32m40.7/40.7 kB\u001b[0m \u001b[31m2.3 MB/s\u001b[0m eta \u001b[36m0:00:00\u001b[0m\r\n",
      "\u001b[?25hRequirement already satisfied: matplotlib>=3.3.0 in /opt/conda/lib/python3.10/site-packages (from ultralytics) (3.7.5)\r\n",
      "Requirement already satisfied: opencv-python>=4.6.0 in /opt/conda/lib/python3.10/site-packages (from ultralytics) (4.9.0.80)\r\n",
      "Requirement already satisfied: pillow>=7.1.2 in /opt/conda/lib/python3.10/site-packages (from ultralytics) (9.5.0)\r\n",
      "Requirement already satisfied: pyyaml>=5.3.1 in /opt/conda/lib/python3.10/site-packages (from ultralytics) (6.0.1)\r\n",
      "Requirement already satisfied: requests>=2.23.0 in /opt/conda/lib/python3.10/site-packages (from ultralytics) (2.31.0)\r\n",
      "Requirement already satisfied: scipy>=1.4.1 in /opt/conda/lib/python3.10/site-packages (from ultralytics) (1.11.4)\r\n",
      "Requirement already satisfied: torch>=1.8.0 in /opt/conda/lib/python3.10/site-packages (from ultralytics) (2.1.2)\r\n",
      "Requirement already satisfied: torchvision>=0.9.0 in /opt/conda/lib/python3.10/site-packages (from ultralytics) (0.16.2)\r\n",
      "Requirement already satisfied: tqdm>=4.64.0 in /opt/conda/lib/python3.10/site-packages (from ultralytics) (4.66.1)\r\n",
      "Requirement already satisfied: psutil in /opt/conda/lib/python3.10/site-packages (from ultralytics) (5.9.3)\r\n",
      "Requirement already satisfied: py-cpuinfo in /opt/conda/lib/python3.10/site-packages (from ultralytics) (9.0.0)\r\n",
      "Collecting thop>=0.1.1 (from ultralytics)\r\n",
      "  Downloading thop-0.1.1.post2209072238-py3-none-any.whl.metadata (2.7 kB)\r\n",
      "Requirement already satisfied: pandas>=1.1.4 in /opt/conda/lib/python3.10/site-packages (from ultralytics) (2.1.4)\r\n",
      "Requirement already satisfied: seaborn>=0.11.0 in /opt/conda/lib/python3.10/site-packages (from ultralytics) (0.12.2)\r\n",
      "Requirement already satisfied: contourpy>=1.0.1 in /opt/conda/lib/python3.10/site-packages (from matplotlib>=3.3.0->ultralytics) (1.2.0)\r\n",
      "Requirement already satisfied: cycler>=0.10 in /opt/conda/lib/python3.10/site-packages (from matplotlib>=3.3.0->ultralytics) (0.12.1)\r\n",
      "Requirement already satisfied: fonttools>=4.22.0 in /opt/conda/lib/python3.10/site-packages (from matplotlib>=3.3.0->ultralytics) (4.47.0)\r\n",
      "Requirement already satisfied: kiwisolver>=1.0.1 in /opt/conda/lib/python3.10/site-packages (from matplotlib>=3.3.0->ultralytics) (1.4.5)\r\n",
      "Requirement already satisfied: numpy<2,>=1.20 in /opt/conda/lib/python3.10/site-packages (from matplotlib>=3.3.0->ultralytics) (1.26.4)\r\n",
      "Requirement already satisfied: packaging>=20.0 in /opt/conda/lib/python3.10/site-packages (from matplotlib>=3.3.0->ultralytics) (21.3)\r\n",
      "Requirement already satisfied: pyparsing>=2.3.1 in /opt/conda/lib/python3.10/site-packages (from matplotlib>=3.3.0->ultralytics) (3.1.1)\r\n",
      "Requirement already satisfied: python-dateutil>=2.7 in /opt/conda/lib/python3.10/site-packages (from matplotlib>=3.3.0->ultralytics) (2.9.0.post0)\r\n",
      "Requirement already satisfied: pytz>=2020.1 in /opt/conda/lib/python3.10/site-packages (from pandas>=1.1.4->ultralytics) (2023.3.post1)\r\n",
      "Requirement already satisfied: tzdata>=2022.1 in /opt/conda/lib/python3.10/site-packages (from pandas>=1.1.4->ultralytics) (2023.4)\r\n",
      "Requirement already satisfied: charset-normalizer<4,>=2 in /opt/conda/lib/python3.10/site-packages (from requests>=2.23.0->ultralytics) (3.3.2)\r\n",
      "Requirement already satisfied: idna<4,>=2.5 in /opt/conda/lib/python3.10/site-packages (from requests>=2.23.0->ultralytics) (3.6)\r\n",
      "Requirement already satisfied: urllib3<3,>=1.21.1 in /opt/conda/lib/python3.10/site-packages (from requests>=2.23.0->ultralytics) (1.26.18)\r\n",
      "Requirement already satisfied: certifi>=2017.4.17 in /opt/conda/lib/python3.10/site-packages (from requests>=2.23.0->ultralytics) (2024.2.2)\r\n",
      "Requirement already satisfied: filelock in /opt/conda/lib/python3.10/site-packages (from torch>=1.8.0->ultralytics) (3.13.1)\r\n",
      "Requirement already satisfied: typing-extensions in /opt/conda/lib/python3.10/site-packages (from torch>=1.8.0->ultralytics) (4.9.0)\r\n",
      "Requirement already satisfied: sympy in /opt/conda/lib/python3.10/site-packages (from torch>=1.8.0->ultralytics) (1.12)\r\n",
      "Requirement already satisfied: networkx in /opt/conda/lib/python3.10/site-packages (from torch>=1.8.0->ultralytics) (3.2.1)\r\n",
      "Requirement already satisfied: jinja2 in /opt/conda/lib/python3.10/site-packages (from torch>=1.8.0->ultralytics) (3.1.2)\r\n",
      "Requirement already satisfied: fsspec in /opt/conda/lib/python3.10/site-packages (from torch>=1.8.0->ultralytics) (2024.2.0)\r\n",
      "Requirement already satisfied: six>=1.5 in /opt/conda/lib/python3.10/site-packages (from python-dateutil>=2.7->matplotlib>=3.3.0->ultralytics) (1.16.0)\r\n",
      "Requirement already satisfied: MarkupSafe>=2.0 in /opt/conda/lib/python3.10/site-packages (from jinja2->torch>=1.8.0->ultralytics) (2.1.3)\r\n",
      "Requirement already satisfied: mpmath>=0.19 in /opt/conda/lib/python3.10/site-packages (from sympy->torch>=1.8.0->ultralytics) (1.3.0)\r\n",
      "Downloading ultralytics-8.2.21-py3-none-any.whl (777 kB)\r\n",
      "\u001b[2K   \u001b[90m━━━━━━━━━━━━━━━━━━━━━━━━━━━━━━━━━━━━━━━━\u001b[0m \u001b[32m777.9/777.9 kB\u001b[0m \u001b[31m28.1 MB/s\u001b[0m eta \u001b[36m0:00:00\u001b[0m\r\n",
      "\u001b[?25hDownloading thop-0.1.1.post2209072238-py3-none-any.whl (15 kB)\r\n",
      "Installing collected packages: thop, ultralytics\r\n",
      "Successfully installed thop-0.1.1.post2209072238 ultralytics-8.2.21\r\n"
     ]
    }
   ],
   "source": [
    "# !conda env create -f /kaggle/input/condaenv/environment.yml\n",
    "# !conda init\n",
    "# !conda activate pestvision\n",
    "# !wget -P /kaggle/input/ https://storage.googleapis.com/npss-pestvision-data/pestvision_data.zip\n",
    "!pip install ultralytics"
   ]
  },
  {
   "cell_type": "code",
   "execution_count": 2,
   "id": "555c415e",
   "metadata": {
    "execution": {
     "iopub.execute_input": "2024-05-25T06:28:52.440557Z",
     "iopub.status.busy": "2024-05-25T06:28:52.440230Z",
     "iopub.status.idle": "2024-05-25T06:28:55.871324Z",
     "shell.execute_reply": "2024-05-25T06:28:55.870493Z"
    },
    "papermill": {
     "duration": 3.438841,
     "end_time": "2024-05-25T06:28:55.873696",
     "exception": false,
     "start_time": "2024-05-25T06:28:52.434855",
     "status": "completed"
    },
    "tags": []
   },
   "outputs": [],
   "source": [
    "import os\n",
    "os.environ['WANDB_DISABLED'] = 'true'\n",
    "import numpy as np\n",
    "import torch\n",
    "import yaml"
   ]
  },
  {
   "cell_type": "code",
   "execution_count": 3,
   "id": "0b6c7602",
   "metadata": {
    "execution": {
     "iopub.execute_input": "2024-05-25T06:28:55.883876Z",
     "iopub.status.busy": "2024-05-25T06:28:55.883236Z",
     "iopub.status.idle": "2024-05-25T06:28:55.888845Z",
     "shell.execute_reply": "2024-05-25T06:28:55.888037Z"
    },
    "papermill": {
     "duration": 0.012599,
     "end_time": "2024-05-25T06:28:55.890759",
     "exception": false,
     "start_time": "2024-05-25T06:28:55.878160",
     "status": "completed"
    },
    "tags": []
   },
   "outputs": [],
   "source": [
    "root = '/kaggle/input/pestvisiondata/pestvision_data/'\n",
    "dset_paths = ['synthetic_data/DeepImageBlendingData/run3/RiceLeafs/images/train',\n",
    "             'synthetic_data/DeepImageBlendingData/run3/paddy-disease-classification/images/train',\n",
    "             'synthetic_data/Libcom_HarmonizationData_PCTNet/run1/RiceLeafs/images/train',\n",
    "             'synthetic_data/Libcom_HarmonizationData_PCTNet/run1/paddy-disease-classification/images/train']\n",
    "dset_paths = [os.path.join(root,i) for i in dset_paths]\n",
    "val_paths = [\"/\".join(i.split('/')[:-1]+['val']) for i in dset_paths]"
   ]
  },
  {
   "cell_type": "code",
   "execution_count": 4,
   "id": "dd05d201",
   "metadata": {
    "execution": {
     "iopub.execute_input": "2024-05-25T06:28:55.900017Z",
     "iopub.status.busy": "2024-05-25T06:28:55.899766Z",
     "iopub.status.idle": "2024-05-25T06:28:57.263455Z",
     "shell.execute_reply": "2024-05-25T06:28:57.262417Z"
    },
    "papermill": {
     "duration": 1.371112,
     "end_time": "2024-05-25T06:28:57.265917",
     "exception": false,
     "start_time": "2024-05-25T06:28:55.894805",
     "status": "completed"
    },
    "tags": []
   },
   "outputs": [
    {
     "name": "stderr",
     "output_type": "stream",
     "text": [
      "\u001b[34m\u001b[1mwandb\u001b[0m: \u001b[33mWARNING\u001b[0m This integration is tested and supported for ultralytics v8.0.238 and below.\n",
      "\u001b[34m\u001b[1mwandb\u001b[0m: \u001b[33mWARNING\u001b[0m             Please report any issues to https://github.com/wandb/wandb/issues with the tag `yolov8`.\n"
     ]
    }
   ],
   "source": [
    "# object detection code base with abstract class\n",
    "\n",
    "import os\n",
    "from abc import ABC, abstractmethod\n",
    "from ultralytics import YOLO\n",
    "import wandb\n",
    "from wandb.integration.ultralytics import add_wandb_callback\n",
    "\n",
    "\n",
    "class AbstractPestDetection(ABC):\n",
    "    \"\"\"\n",
    "    Abstract class for pest detection\n",
    "    \"\"\"\n",
    "\n",
    "    def __init__(self, device):\n",
    "        self.device = device\n",
    "\n",
    "    @abstractmethod\n",
    "    def load_model(self, model_path):\n",
    "        pass\n",
    "\n",
    "    @abstractmethod\n",
    "    def train(self):\n",
    "        pass\n",
    "\n",
    "    # TODO: implement evaluate method\n",
    "    # @abstractmethod\n",
    "    # def evaluate(self):\n",
    "    #     pass\n",
    "\n",
    "\n",
    "class PestDetection_yolov8(AbstractPestDetection):\n",
    "    \"\"\"\n",
    "    YOLOv8 model for pest detection\n",
    "    \"\"\"\n",
    "\n",
    "    def __init__(self, device):\n",
    "        super().__init__(device)\n",
    "        self.model = None\n",
    "\n",
    "    def load_model(self, model_path):\n",
    "        \"\"\"\n",
    "        Load the YOLOv8 model\n",
    "\n",
    "        Parameters:\n",
    "\n",
    "         model_path (str): path to the model checkpoint\n",
    "        \"\"\"\n",
    "\n",
    "        self.model = YOLO(model_path)\n",
    "\n",
    "    def train(self,**kwargs):\n",
    "\n",
    "        results = self.model.train(**kwargs)\n",
    "        self.model.val()\n",
    "\n",
    "        return results\n",
    "\n",
    "    # TODO: implment evaluate method\n",
    "    # def evaluate(self):\n",
    "    #     pass\n"
   ]
  },
  {
   "cell_type": "code",
   "execution_count": 5,
   "id": "e724ec89",
   "metadata": {
    "execution": {
     "iopub.execute_input": "2024-05-25T06:28:57.276299Z",
     "iopub.status.busy": "2024-05-25T06:28:57.275921Z",
     "iopub.status.idle": "2024-05-25T06:28:57.281622Z",
     "shell.execute_reply": "2024-05-25T06:28:57.280779Z"
    },
    "papermill": {
     "duration": 0.012976,
     "end_time": "2024-05-25T06:28:57.283611",
     "exception": false,
     "start_time": "2024-05-25T06:28:57.270635",
     "status": "completed"
    },
    "tags": []
   },
   "outputs": [],
   "source": [
    "def make_dsetconfig(train,val):\n",
    "\n",
    "    d_config = {\n",
    "        \"train\": train,\n",
    "        \"val\": val,\n",
    "\n",
    "        \"nc\": 102, # number of classes\n",
    "        \"names\": [str(i) for i in range(1,103)] \n",
    "    }\n",
    "    filename = 'data.yaml'\n",
    "    with open(filename, 'w') as file:\n",
    "        yaml.dump(d_config, file, default_flow_style=False)\n",
    "    return filename"
   ]
  },
  {
   "cell_type": "code",
   "execution_count": 6,
   "id": "99da70b3",
   "metadata": {
    "execution": {
     "iopub.execute_input": "2024-05-25T06:28:57.293615Z",
     "iopub.status.busy": "2024-05-25T06:28:57.292913Z",
     "iopub.status.idle": "2024-05-25T06:28:57.298926Z",
     "shell.execute_reply": "2024-05-25T06:28:57.298052Z"
    },
    "papermill": {
     "duration": 0.012914,
     "end_time": "2024-05-25T06:28:57.300799",
     "exception": false,
     "start_time": "2024-05-25T06:28:57.287885",
     "status": "completed"
    },
    "tags": []
   },
   "outputs": [],
   "source": [
    "def train(checkpoint,train,val):\n",
    "    if torch.cuda.is_available():\n",
    "        device = torch.device('cuda')\n",
    "        print(\"CUDA is available. Using GPU.\")\n",
    "    else:\n",
    "        device = torch.device('cpu')\n",
    "        print(\"CUDA is not available. Using CPU.\")\n",
    "    model = PestDetection_yolov8(device)\n",
    "    model.load_model(checkpoint)\n",
    "#     wandb_kwargs = {\"project\": None, \"entity\": None, \"group\": None, \"job_type\": None}\n",
    "    results = model.train(data=make_dsetconfig(train,val), epochs=50, imgsz=640, save_period=2,batch=-1, plots=True)"
   ]
  },
  {
   "cell_type": "code",
   "execution_count": 7,
   "id": "3bcf668f",
   "metadata": {
    "execution": {
     "iopub.execute_input": "2024-05-25T06:28:57.310936Z",
     "iopub.status.busy": "2024-05-25T06:28:57.310650Z",
     "iopub.status.idle": "2024-05-25T08:22:40.697323Z",
     "shell.execute_reply": "2024-05-25T08:22:40.696178Z"
    },
    "papermill": {
     "duration": 6823.394294,
     "end_time": "2024-05-25T08:22:40.699335",
     "exception": false,
     "start_time": "2024-05-25T06:28:57.305041",
     "status": "completed"
    },
    "tags": []
   },
   "outputs": [
    {
     "name": "stdout",
     "output_type": "stream",
     "text": [
      "CUDA is available. Using GPU.\n",
      "Ultralytics YOLOv8.2.21 🚀 Python-3.10.13 torch-2.1.2 CUDA:0 (Tesla P100-PCIE-16GB, 16276MiB)\n",
      "\u001b[34m\u001b[1mengine/trainer: \u001b[0mtask=detect, mode=train, model=/kaggle/input/yolo/other/exp1/3/last-2.pt, data=data.yaml, epochs=50, time=None, patience=100, batch=-1, imgsz=640, save=True, save_period=2, cache=False, device=None, workers=8, project=None, name=train, exist_ok=False, pretrained=True, optimizer=auto, verbose=True, seed=0, deterministic=True, single_cls=False, rect=False, cos_lr=False, close_mosaic=10, resume=False, amp=True, fraction=1.0, profile=False, freeze=None, multi_scale=False, overlap_mask=True, mask_ratio=4, dropout=0.0, val=True, split=val, save_json=False, save_hybrid=False, conf=None, iou=0.7, max_det=300, half=False, dnn=False, plots=True, source=None, vid_stride=1, stream_buffer=False, visualize=False, augment=False, agnostic_nms=False, classes=None, retina_masks=False, embed=None, show=False, save_frames=False, save_txt=False, save_conf=False, save_crop=False, show_labels=True, show_conf=True, show_boxes=True, line_width=None, format=torchscript, keras=False, optimize=False, int8=False, dynamic=False, simplify=False, opset=None, workspace=4, nms=False, lr0=0.01, lrf=0.01, momentum=0.937, weight_decay=0.0005, warmup_epochs=3.0, warmup_momentum=0.8, warmup_bias_lr=0.1, box=7.5, cls=0.5, dfl=1.5, pose=12.0, kobj=1.0, label_smoothing=0.0, nbs=64, hsv_h=0.015, hsv_s=0.7, hsv_v=0.4, degrees=0.0, translate=0.1, scale=0.5, shear=0.0, perspective=0.0, flipud=0.0, fliplr=0.5, bgr=0.0, mosaic=1.0, mixup=0.0, copy_paste=0.0, auto_augment=randaugment, erasing=0.4, crop_fraction=1.0, cfg=None, tracker=botsort.yaml, save_dir=runs/detect/train\n",
      "Downloading https://ultralytics.com/assets/Arial.ttf to '/root/.config/Ultralytics/Arial.ttf'...\n"
     ]
    },
    {
     "name": "stderr",
     "output_type": "stream",
     "text": [
      "100%|██████████| 755k/755k [00:00<00:00, 36.5MB/s]\n",
      "2024-05-25 06:29:00,830\tINFO util.py:124 -- Outdated packages:\n",
      "  ipywidgets==7.7.1 found, needs ipywidgets>=8\n",
      "Run `pip install -U ipywidgets`, then restart the notebook server for rich notebook output.\n",
      "2024-05-25 06:29:02,217\tINFO util.py:124 -- Outdated packages:\n",
      "  ipywidgets==7.7.1 found, needs ipywidgets>=8\n",
      "Run `pip install -U ipywidgets`, then restart the notebook server for rich notebook output.\n"
     ]
    },
    {
     "name": "stdout",
     "output_type": "stream",
     "text": [
      "\n",
      "                   from  n    params  module                                       arguments                     \n",
      "  0                  -1  1       464  ultralytics.nn.modules.conv.Conv             [3, 16, 3, 2]                 \n",
      "  1                  -1  1      4672  ultralytics.nn.modules.conv.Conv             [16, 32, 3, 2]                \n",
      "  2                  -1  1      7360  ultralytics.nn.modules.block.C2f             [32, 32, 1, True]             \n",
      "  3                  -1  1     18560  ultralytics.nn.modules.conv.Conv             [32, 64, 3, 2]                \n",
      "  4                  -1  2     49664  ultralytics.nn.modules.block.C2f             [64, 64, 2, True]             \n",
      "  5                  -1  1     73984  ultralytics.nn.modules.conv.Conv             [64, 128, 3, 2]               \n",
      "  6                  -1  2    197632  ultralytics.nn.modules.block.C2f             [128, 128, 2, True]           \n",
      "  7                  -1  1    295424  ultralytics.nn.modules.conv.Conv             [128, 256, 3, 2]              \n",
      "  8                  -1  1    460288  ultralytics.nn.modules.block.C2f             [256, 256, 1, True]           \n",
      "  9                  -1  1    164608  ultralytics.nn.modules.block.SPPF            [256, 256, 5]                 \n",
      " 10                  -1  1         0  torch.nn.modules.upsampling.Upsample         [None, 2, 'nearest']          \n",
      " 11             [-1, 6]  1         0  ultralytics.nn.modules.conv.Concat           [1]                           \n",
      " 12                  -1  1    148224  ultralytics.nn.modules.block.C2f             [384, 128, 1]                 \n",
      " 13                  -1  1         0  torch.nn.modules.upsampling.Upsample         [None, 2, 'nearest']          \n",
      " 14             [-1, 4]  1         0  ultralytics.nn.modules.conv.Concat           [1]                           \n",
      " 15                  -1  1     37248  ultralytics.nn.modules.block.C2f             [192, 64, 1]                  \n",
      " 16                  -1  1     36992  ultralytics.nn.modules.conv.Conv             [64, 64, 3, 2]                \n",
      " 17            [-1, 12]  1         0  ultralytics.nn.modules.conv.Concat           [1]                           \n",
      " 18                  -1  1    123648  ultralytics.nn.modules.block.C2f             [192, 128, 1]                 \n",
      " 19                  -1  1    147712  ultralytics.nn.modules.conv.Conv             [128, 128, 3, 2]              \n",
      " 20             [-1, 9]  1         0  ultralytics.nn.modules.conv.Concat           [1]                           \n",
      " 21                  -1  1    493056  ultralytics.nn.modules.block.C2f             [384, 256, 1]                 \n",
      " 22        [15, 18, 21]  1   1087210  ultralytics.nn.modules.head.Detect           [102, [64, 128, 256]]         \n",
      "YOLOv8n summary: 225 layers, 3346746 parameters, 3346730 gradients, 9.7 GFLOPs\n",
      "\n",
      "Transferred 355/355 items from pretrained weights\n",
      "\u001b[34m\u001b[1mTensorBoard: \u001b[0mStart with 'tensorboard --logdir runs/detect/train', view at http://localhost:6006/\n"
     ]
    },
    {
     "name": "stderr",
     "output_type": "stream",
     "text": [
      "\u001b[34m\u001b[1mwandb\u001b[0m: Tracking run with wandb version 0.16.6\n",
      "\u001b[34m\u001b[1mwandb\u001b[0m: W&B syncing is set to \u001b[1m`offline`\u001b[0m in this directory.  \n",
      "\u001b[34m\u001b[1mwandb\u001b[0m: Run \u001b[1m`wandb online`\u001b[0m or set \u001b[1mWANDB_MODE=online\u001b[0m to enable cloud syncing.\n"
     ]
    },
    {
     "name": "stdout",
     "output_type": "stream",
     "text": [
      "Freezing layer 'model.22.dfl.conv.weight'\n",
      "\u001b[34m\u001b[1mAMP: \u001b[0mrunning Automatic Mixed Precision (AMP) checks with YOLOv8n...\n",
      "Downloading https://github.com/ultralytics/assets/releases/download/v8.2.0/yolov8n.pt to 'yolov8n.pt'...\n"
     ]
    },
    {
     "name": "stderr",
     "output_type": "stream",
     "text": [
      "100%|██████████| 6.23M/6.23M [00:00<00:00, 168MB/s]\n"
     ]
    },
    {
     "name": "stdout",
     "output_type": "stream",
     "text": [
      "\u001b[34m\u001b[1mAMP: \u001b[0mchecks passed ✅\n",
      "\u001b[34m\u001b[1mAutoBatch: \u001b[0mComputing optimal batch size for imgsz=640\n",
      "\u001b[34m\u001b[1mAutoBatch: \u001b[0mCUDA:0 (Tesla P100-PCIE-16GB) 15.89G total, 0.11G reserved, 0.07G allocated, 15.72G free\n",
      "      Params      GFLOPs  GPU_mem (GB)  forward (ms) backward (ms)                   input                  output\n",
      "     3346746       9.726         0.220            28         56.34        (1, 3, 640, 640)                    list\n",
      "     3346746       19.45         0.323         18.43         34.34        (2, 3, 640, 640)                    list\n",
      "     3346746       38.91         0.625         17.98         88.08        (4, 3, 640, 640)                    list\n",
      "     3346746       77.81         1.181         23.92         40.33        (8, 3, 640, 640)                    list\n",
      "     3346746       155.6         2.408         38.04         60.41       (16, 3, 640, 640)                    list\n",
      "\u001b[34m\u001b[1mAutoBatch: \u001b[0mUsing batch-size 63 for CUDA:0 9.46G/15.89G (60%) ✅\n"
     ]
    },
    {
     "name": "stderr",
     "output_type": "stream",
     "text": [
      "\u001b[34m\u001b[1mtrain: \u001b[0mScanning /kaggle/input/pestvisiondata/pestvision_data/synthetic_data/Libcom_HarmonizationData_PCTNet/run1/RiceLeafs/labels/train... 8922 images, 868 backgrounds, 0 corrupt: 100%|██████████| 9790/9790 [00:32<00:00, 297.09it/s]\n"
     ]
    },
    {
     "name": "stdout",
     "output_type": "stream",
     "text": [
      "\u001b[34m\u001b[1mtrain: \u001b[0mWARNING ⚠️ Cache directory /kaggle/input/pestvisiondata/pestvision_data/synthetic_data/Libcom_HarmonizationData_PCTNet/run1/RiceLeafs/labels is not writeable, cache not saved.\n",
      "\u001b[34m\u001b[1malbumentations: \u001b[0mBlur(p=0.01, blur_limit=(3, 7)), MedianBlur(p=0.01, blur_limit=(3, 7)), ToGray(p=0.01), CLAHE(p=0.01, clip_limit=(1, 4.0), tile_grid_size=(8, 8))\n"
     ]
    },
    {
     "name": "stderr",
     "output_type": "stream",
     "text": [
      "\u001b[34m\u001b[1mval: \u001b[0mScanning /kaggle/input/pestvisiondata/pestvision_data/synthetic_data/Libcom_HarmonizationData_PCTNet/run1/RiceLeafs/labels/val... 2057 images, 206 backgrounds, 0 corrupt: 100%|██████████| 2263/2263 [00:08<00:00, 271.01it/s]\n"
     ]
    },
    {
     "name": "stdout",
     "output_type": "stream",
     "text": [
      "\u001b[34m\u001b[1mval: \u001b[0mWARNING ⚠️ Cache directory /kaggle/input/pestvisiondata/pestvision_data/synthetic_data/Libcom_HarmonizationData_PCTNet/run1/RiceLeafs/labels is not writeable, cache not saved.\n",
      "Plotting labels to runs/detect/train/labels.jpg... \n",
      "\u001b[34m\u001b[1moptimizer:\u001b[0m 'optimizer=auto' found, ignoring 'lr0=0.01' and 'momentum=0.937' and determining best 'optimizer', 'lr0' and 'momentum' automatically... \n",
      "\u001b[34m\u001b[1moptimizer:\u001b[0m AdamW(lr=9.4e-05, momentum=0.9) with parameter groups 57 weight(decay=0.0), 64 weight(decay=0.0004921875), 63 bias(decay=0.0)\n",
      "\u001b[34m\u001b[1mTensorBoard: \u001b[0mmodel graph visualization added ✅\n",
      "Image sizes 640 train, 640 val\n",
      "Using 4 dataloader workers\n",
      "Logging results to \u001b[1mruns/detect/train\u001b[0m\n",
      "Starting training for 50 epochs...\n",
      "\n",
      "      Epoch    GPU_mem   box_loss   cls_loss   dfl_loss  Instances       Size\n"
     ]
    },
    {
     "name": "stderr",
     "output_type": "stream",
     "text": [
      "       1/50      10.4G      1.811      3.317       1.88        208        640: 100%|██████████| 156/156 [01:57<00:00,  1.33it/s]\n",
      "                 Class     Images  Instances      Box(P          R      mAP50  mAP50-95): 100%|██████████| 18/18 [00:19<00:00,  1.11s/it]\n"
     ]
    },
    {
     "name": "stdout",
     "output_type": "stream",
     "text": [
      "                   all       2263      11149      0.528     0.0696     0.0406       0.02\n",
      "\n",
      "      Epoch    GPU_mem   box_loss   cls_loss   dfl_loss  Instances       Size\n"
     ]
    },
    {
     "name": "stderr",
     "output_type": "stream",
     "text": [
      "       2/50      10.3G       1.69      3.103      1.783        218        640: 100%|██████████| 156/156 [01:54<00:00,  1.36it/s]\n",
      "                 Class     Images  Instances      Box(P          R      mAP50  mAP50-95): 100%|██████████| 18/18 [00:19<00:00,  1.06s/it]\n"
     ]
    },
    {
     "name": "stdout",
     "output_type": "stream",
     "text": [
      "                   all       2263      11149      0.493     0.0743     0.0416     0.0188\n",
      "\n",
      "      Epoch    GPU_mem   box_loss   cls_loss   dfl_loss  Instances       Size\n"
     ]
    },
    {
     "name": "stderr",
     "output_type": "stream",
     "text": [
      "       3/50      10.1G      1.677      3.059      1.769        159        640: 100%|██████████| 156/156 [01:54<00:00,  1.36it/s]\n",
      "                 Class     Images  Instances      Box(P          R      mAP50  mAP50-95): 100%|██████████| 18/18 [00:19<00:00,  1.08s/it]\n"
     ]
    },
    {
     "name": "stdout",
     "output_type": "stream",
     "text": [
      "                   all       2263      11149      0.473      0.083     0.0411     0.0175\n",
      "\n",
      "      Epoch    GPU_mem   box_loss   cls_loss   dfl_loss  Instances       Size\n"
     ]
    },
    {
     "name": "stderr",
     "output_type": "stream",
     "text": [
      "       4/50      10.1G       1.67      3.033      1.768        201        640: 100%|██████████| 156/156 [01:53<00:00,  1.37it/s]\n",
      "                 Class     Images  Instances      Box(P          R      mAP50  mAP50-95): 100%|██████████| 18/18 [00:19<00:00,  1.09s/it]\n"
     ]
    },
    {
     "name": "stdout",
     "output_type": "stream",
     "text": [
      "                   all       2263      11149      0.468     0.0888     0.0498     0.0236\n",
      "\n",
      "      Epoch    GPU_mem   box_loss   cls_loss   dfl_loss  Instances       Size\n"
     ]
    },
    {
     "name": "stderr",
     "output_type": "stream",
     "text": [
      "       5/50      10.1G      1.657      3.009      1.762        192        640: 100%|██████████| 156/156 [01:54<00:00,  1.37it/s]\n",
      "                 Class     Images  Instances      Box(P          R      mAP50  mAP50-95): 100%|██████████| 18/18 [00:19<00:00,  1.07s/it]\n"
     ]
    },
    {
     "name": "stdout",
     "output_type": "stream",
     "text": [
      "                   all       2263      11149      0.502     0.0867     0.0514     0.0253\n",
      "\n",
      "      Epoch    GPU_mem   box_loss   cls_loss   dfl_loss  Instances       Size\n"
     ]
    },
    {
     "name": "stderr",
     "output_type": "stream",
     "text": [
      "       6/50      10.1G      1.658      2.995       1.76        171        640: 100%|██████████| 156/156 [01:54<00:00,  1.36it/s]\n",
      "                 Class     Images  Instances      Box(P          R      mAP50  mAP50-95): 100%|██████████| 18/18 [00:19<00:00,  1.09s/it]\n"
     ]
    },
    {
     "name": "stdout",
     "output_type": "stream",
     "text": [
      "                   all       2263      11149      0.471     0.0883     0.0484     0.0201\n",
      "\n",
      "      Epoch    GPU_mem   box_loss   cls_loss   dfl_loss  Instances       Size\n"
     ]
    },
    {
     "name": "stderr",
     "output_type": "stream",
     "text": [
      "       7/50      10.1G      1.651       2.97      1.749        202        640: 100%|██████████| 156/156 [01:56<00:00,  1.34it/s]\n",
      "                 Class     Images  Instances      Box(P          R      mAP50  mAP50-95): 100%|██████████| 18/18 [00:19<00:00,  1.06s/it]\n"
     ]
    },
    {
     "name": "stdout",
     "output_type": "stream",
     "text": [
      "                   all       2263      11149      0.456     0.0957     0.0563     0.0276\n",
      "\n",
      "      Epoch    GPU_mem   box_loss   cls_loss   dfl_loss  Instances       Size\n"
     ]
    },
    {
     "name": "stderr",
     "output_type": "stream",
     "text": [
      "       8/50      10.1G      1.644       2.96      1.752        208        640: 100%|██████████| 156/156 [01:54<00:00,  1.36it/s]\n",
      "                 Class     Images  Instances      Box(P          R      mAP50  mAP50-95): 100%|██████████| 18/18 [00:19<00:00,  1.10s/it]\n"
     ]
    },
    {
     "name": "stdout",
     "output_type": "stream",
     "text": [
      "                   all       2263      11149      0.531     0.0884     0.0492     0.0209\n",
      "\n",
      "      Epoch    GPU_mem   box_loss   cls_loss   dfl_loss  Instances       Size\n"
     ]
    },
    {
     "name": "stderr",
     "output_type": "stream",
     "text": [
      "       9/50      10.1G      1.643      2.946      1.744        207        640: 100%|██████████| 156/156 [01:54<00:00,  1.36it/s]\n",
      "                 Class     Images  Instances      Box(P          R      mAP50  mAP50-95): 100%|██████████| 18/18 [00:19<00:00,  1.06s/it]\n"
     ]
    },
    {
     "name": "stdout",
     "output_type": "stream",
     "text": [
      "                   all       2263      11149      0.477     0.0956     0.0565      0.026\n",
      "\n",
      "      Epoch    GPU_mem   box_loss   cls_loss   dfl_loss  Instances       Size\n"
     ]
    },
    {
     "name": "stderr",
     "output_type": "stream",
     "text": [
      "      10/50      10.1G      1.635      2.927      1.742        209        640: 100%|██████████| 156/156 [01:54<00:00,  1.37it/s]\n",
      "                 Class     Images  Instances      Box(P          R      mAP50  mAP50-95): 100%|██████████| 18/18 [00:18<00:00,  1.02s/it]\n"
     ]
    },
    {
     "name": "stdout",
     "output_type": "stream",
     "text": [
      "                   all       2263      11149       0.42     0.0993     0.0587     0.0279\n",
      "\n",
      "      Epoch    GPU_mem   box_loss   cls_loss   dfl_loss  Instances       Size\n"
     ]
    },
    {
     "name": "stderr",
     "output_type": "stream",
     "text": [
      "      11/50      10.1G      1.633      2.923      1.738        165        640: 100%|██████████| 156/156 [01:54<00:00,  1.37it/s]\n",
      "                 Class     Images  Instances      Box(P          R      mAP50  mAP50-95): 100%|██████████| 18/18 [00:18<00:00,  1.03s/it]\n"
     ]
    },
    {
     "name": "stdout",
     "output_type": "stream",
     "text": [
      "                   all       2263      11149      0.487     0.0946     0.0574     0.0279\n",
      "\n",
      "      Epoch    GPU_mem   box_loss   cls_loss   dfl_loss  Instances       Size\n"
     ]
    },
    {
     "name": "stderr",
     "output_type": "stream",
     "text": [
      "      12/50      10.1G      1.629      2.914      1.735        183        640: 100%|██████████| 156/156 [01:54<00:00,  1.36it/s]\n",
      "                 Class     Images  Instances      Box(P          R      mAP50  mAP50-95): 100%|██████████| 18/18 [00:19<00:00,  1.06s/it]\n"
     ]
    },
    {
     "name": "stdout",
     "output_type": "stream",
     "text": [
      "                   all       2263      11149      0.449     0.0989     0.0592     0.0266\n",
      "\n",
      "      Epoch    GPU_mem   box_loss   cls_loss   dfl_loss  Instances       Size\n"
     ]
    },
    {
     "name": "stderr",
     "output_type": "stream",
     "text": [
      "      13/50      10.1G      1.628      2.888      1.732        201        640: 100%|██████████| 156/156 [01:54<00:00,  1.37it/s]\n",
      "                 Class     Images  Instances      Box(P          R      mAP50  mAP50-95): 100%|██████████| 18/18 [00:18<00:00,  1.04s/it]\n"
     ]
    },
    {
     "name": "stdout",
     "output_type": "stream",
     "text": [
      "                   all       2263      11149      0.467      0.104     0.0599     0.0271\n",
      "\n",
      "      Epoch    GPU_mem   box_loss   cls_loss   dfl_loss  Instances       Size\n"
     ]
    },
    {
     "name": "stderr",
     "output_type": "stream",
     "text": [
      "      14/50      10.1G      1.627      2.885      1.737        202        640: 100%|██████████| 156/156 [01:53<00:00,  1.37it/s]\n",
      "                 Class     Images  Instances      Box(P          R      mAP50  mAP50-95): 100%|██████████| 18/18 [00:19<00:00,  1.07s/it]\n"
     ]
    },
    {
     "name": "stdout",
     "output_type": "stream",
     "text": [
      "                   all       2263      11149       0.48     0.0972     0.0613     0.0295\n",
      "\n",
      "      Epoch    GPU_mem   box_loss   cls_loss   dfl_loss  Instances       Size\n"
     ]
    },
    {
     "name": "stderr",
     "output_type": "stream",
     "text": [
      "      15/50      10.1G      1.618      2.877      1.727        174        640: 100%|██████████| 156/156 [01:54<00:00,  1.37it/s]\n",
      "                 Class     Images  Instances      Box(P          R      mAP50  mAP50-95): 100%|██████████| 18/18 [00:18<00:00,  1.04s/it]\n"
     ]
    },
    {
     "name": "stdout",
     "output_type": "stream",
     "text": [
      "                   all       2263      11149      0.475      0.103     0.0646     0.0308\n",
      "\n",
      "      Epoch    GPU_mem   box_loss   cls_loss   dfl_loss  Instances       Size\n"
     ]
    },
    {
     "name": "stderr",
     "output_type": "stream",
     "text": [
      "      16/50      10.1G      1.626      2.873      1.732        152        640: 100%|██████████| 156/156 [01:54<00:00,  1.36it/s]\n",
      "                 Class     Images  Instances      Box(P          R      mAP50  mAP50-95): 100%|██████████| 18/18 [00:18<00:00,  1.03s/it]\n"
     ]
    },
    {
     "name": "stdout",
     "output_type": "stream",
     "text": [
      "                   all       2263      11149      0.473      0.104     0.0623     0.0278\n",
      "\n",
      "      Epoch    GPU_mem   box_loss   cls_loss   dfl_loss  Instances       Size\n"
     ]
    },
    {
     "name": "stderr",
     "output_type": "stream",
     "text": [
      "      17/50      10.1G      1.616      2.853      1.731        214        640: 100%|██████████| 156/156 [01:54<00:00,  1.36it/s]\n",
      "                 Class     Images  Instances      Box(P          R      mAP50  mAP50-95): 100%|██████████| 18/18 [00:18<00:00,  1.01s/it]\n"
     ]
    },
    {
     "name": "stdout",
     "output_type": "stream",
     "text": [
      "                   all       2263      11149      0.448      0.111     0.0629     0.0282\n",
      "\n",
      "      Epoch    GPU_mem   box_loss   cls_loss   dfl_loss  Instances       Size\n"
     ]
    },
    {
     "name": "stderr",
     "output_type": "stream",
     "text": [
      "      18/50      10.1G      1.622      2.847      1.724        178        640: 100%|██████████| 156/156 [01:51<00:00,  1.40it/s]\n",
      "                 Class     Images  Instances      Box(P          R      mAP50  mAP50-95): 100%|██████████| 18/18 [00:18<00:00,  1.03s/it]\n"
     ]
    },
    {
     "name": "stdout",
     "output_type": "stream",
     "text": [
      "                   all       2263      11149      0.472      0.112     0.0683     0.0335\n",
      "\n",
      "      Epoch    GPU_mem   box_loss   cls_loss   dfl_loss  Instances       Size\n"
     ]
    },
    {
     "name": "stderr",
     "output_type": "stream",
     "text": [
      "      19/50      10.1G      1.609      2.837      1.723        177        640: 100%|██████████| 156/156 [01:53<00:00,  1.38it/s]\n",
      "                 Class     Images  Instances      Box(P          R      mAP50  mAP50-95): 100%|██████████| 18/18 [00:18<00:00,  1.03s/it]\n"
     ]
    },
    {
     "name": "stdout",
     "output_type": "stream",
     "text": [
      "                   all       2263      11149      0.454      0.113     0.0698     0.0337\n",
      "\n",
      "      Epoch    GPU_mem   box_loss   cls_loss   dfl_loss  Instances       Size\n"
     ]
    },
    {
     "name": "stderr",
     "output_type": "stream",
     "text": [
      "      20/50      10.1G      1.607      2.838      1.718        220        640: 100%|██████████| 156/156 [01:52<00:00,  1.38it/s]\n",
      "                 Class     Images  Instances      Box(P          R      mAP50  mAP50-95): 100%|██████████| 18/18 [00:18<00:00,  1.04s/it]\n"
     ]
    },
    {
     "name": "stdout",
     "output_type": "stream",
     "text": [
      "                   all       2263      11149       0.46      0.115       0.07     0.0325\n",
      "\n",
      "      Epoch    GPU_mem   box_loss   cls_loss   dfl_loss  Instances       Size\n"
     ]
    },
    {
     "name": "stderr",
     "output_type": "stream",
     "text": [
      "      21/50      10.1G      1.604      2.817      1.715        173        640: 100%|██████████| 156/156 [01:52<00:00,  1.38it/s]\n",
      "                 Class     Images  Instances      Box(P          R      mAP50  mAP50-95): 100%|██████████| 18/18 [00:17<00:00,  1.02it/s]\n"
     ]
    },
    {
     "name": "stdout",
     "output_type": "stream",
     "text": [
      "                   all       2263      11149      0.442      0.108     0.0715     0.0344\n",
      "\n",
      "      Epoch    GPU_mem   box_loss   cls_loss   dfl_loss  Instances       Size\n"
     ]
    },
    {
     "name": "stderr",
     "output_type": "stream",
     "text": [
      "      22/50      10.1G      1.605      2.817      1.715        167        640: 100%|██████████| 156/156 [01:51<00:00,  1.39it/s]\n",
      "                 Class     Images  Instances      Box(P          R      mAP50  mAP50-95): 100%|██████████| 18/18 [00:18<00:00,  1.02s/it]\n"
     ]
    },
    {
     "name": "stdout",
     "output_type": "stream",
     "text": [
      "                   all       2263      11149      0.448       0.11     0.0714     0.0341\n",
      "\n",
      "      Epoch    GPU_mem   box_loss   cls_loss   dfl_loss  Instances       Size\n"
     ]
    },
    {
     "name": "stderr",
     "output_type": "stream",
     "text": [
      "      23/50      10.1G        1.6       2.82      1.716        175        640: 100%|██████████| 156/156 [01:51<00:00,  1.40it/s]\n",
      "                 Class     Images  Instances      Box(P          R      mAP50  mAP50-95): 100%|██████████| 18/18 [00:18<00:00,  1.03s/it]\n"
     ]
    },
    {
     "name": "stdout",
     "output_type": "stream",
     "text": [
      "                   all       2263      11149      0.399       0.12     0.0725     0.0344\n",
      "\n",
      "      Epoch    GPU_mem   box_loss   cls_loss   dfl_loss  Instances       Size\n"
     ]
    },
    {
     "name": "stderr",
     "output_type": "stream",
     "text": [
      "      24/50      10.1G      1.595      2.808      1.714        203        640: 100%|██████████| 156/156 [01:52<00:00,  1.38it/s]\n",
      "                 Class     Images  Instances      Box(P          R      mAP50  mAP50-95): 100%|██████████| 18/18 [00:18<00:00,  1.00s/it]\n"
     ]
    },
    {
     "name": "stdout",
     "output_type": "stream",
     "text": [
      "                   all       2263      11149      0.434      0.115      0.072     0.0343\n",
      "\n",
      "      Epoch    GPU_mem   box_loss   cls_loss   dfl_loss  Instances       Size\n"
     ]
    },
    {
     "name": "stderr",
     "output_type": "stream",
     "text": [
      "      25/50      10.1G      1.603      2.799      1.713        191        640: 100%|██████████| 156/156 [01:51<00:00,  1.40it/s]\n",
      "                 Class     Images  Instances      Box(P          R      mAP50  mAP50-95): 100%|██████████| 18/18 [00:18<00:00,  1.04s/it]\n"
     ]
    },
    {
     "name": "stdout",
     "output_type": "stream",
     "text": [
      "                   all       2263      11149      0.418      0.124     0.0722      0.034\n",
      "\n",
      "      Epoch    GPU_mem   box_loss   cls_loss   dfl_loss  Instances       Size\n"
     ]
    },
    {
     "name": "stderr",
     "output_type": "stream",
     "text": [
      "      26/50      10.1G      1.595       2.79      1.716        189        640: 100%|██████████| 156/156 [01:51<00:00,  1.40it/s]\n",
      "                 Class     Images  Instances      Box(P          R      mAP50  mAP50-95): 100%|██████████| 18/18 [00:18<00:00,  1.02s/it]\n"
     ]
    },
    {
     "name": "stdout",
     "output_type": "stream",
     "text": [
      "                   all       2263      11149        0.4      0.124      0.073     0.0345\n",
      "\n",
      "      Epoch    GPU_mem   box_loss   cls_loss   dfl_loss  Instances       Size\n"
     ]
    },
    {
     "name": "stderr",
     "output_type": "stream",
     "text": [
      "      27/50      10.3G      1.595      2.791      1.715        183        640: 100%|██████████| 156/156 [01:51<00:00,  1.40it/s]\n",
      "                 Class     Images  Instances      Box(P          R      mAP50  mAP50-95): 100%|██████████| 18/18 [00:18<00:00,  1.02s/it]\n"
     ]
    },
    {
     "name": "stdout",
     "output_type": "stream",
     "text": [
      "                   all       2263      11149       0.41      0.121     0.0751     0.0348\n",
      "\n",
      "      Epoch    GPU_mem   box_loss   cls_loss   dfl_loss  Instances       Size\n"
     ]
    },
    {
     "name": "stderr",
     "output_type": "stream",
     "text": [
      "      28/50      10.1G      1.595      2.779      1.703        154        640: 100%|██████████| 156/156 [01:52<00:00,  1.39it/s]\n",
      "                 Class     Images  Instances      Box(P          R      mAP50  mAP50-95): 100%|██████████| 18/18 [00:18<00:00,  1.04s/it]\n"
     ]
    },
    {
     "name": "stdout",
     "output_type": "stream",
     "text": [
      "                   all       2263      11149      0.405      0.124     0.0745     0.0347\n",
      "\n",
      "      Epoch    GPU_mem   box_loss   cls_loss   dfl_loss  Instances       Size\n"
     ]
    },
    {
     "name": "stderr",
     "output_type": "stream",
     "text": [
      "      29/50      10.1G      1.593      2.774      1.708        184        640: 100%|██████████| 156/156 [01:52<00:00,  1.38it/s]\n",
      "                 Class     Images  Instances      Box(P          R      mAP50  mAP50-95): 100%|██████████| 18/18 [00:18<00:00,  1.03s/it]\n"
     ]
    },
    {
     "name": "stdout",
     "output_type": "stream",
     "text": [
      "                   all       2263      11149      0.399      0.121     0.0733     0.0326\n",
      "\n",
      "      Epoch    GPU_mem   box_loss   cls_loss   dfl_loss  Instances       Size\n"
     ]
    },
    {
     "name": "stderr",
     "output_type": "stream",
     "text": [
      "      30/50      10.1G      1.594      2.772      1.709        191        640: 100%|██████████| 156/156 [01:52<00:00,  1.38it/s]\n",
      "                 Class     Images  Instances      Box(P          R      mAP50  mAP50-95): 100%|██████████| 18/18 [00:17<00:00,  1.01it/s]\n"
     ]
    },
    {
     "name": "stdout",
     "output_type": "stream",
     "text": [
      "                   all       2263      11149      0.396      0.128     0.0751     0.0345\n",
      "\n",
      "      Epoch    GPU_mem   box_loss   cls_loss   dfl_loss  Instances       Size\n"
     ]
    },
    {
     "name": "stderr",
     "output_type": "stream",
     "text": [
      "      31/50      10.1G      1.588      2.776      1.709        165        640: 100%|██████████| 156/156 [01:53<00:00,  1.38it/s]\n",
      "                 Class     Images  Instances      Box(P          R      mAP50  mAP50-95): 100%|██████████| 18/18 [00:18<00:00,  1.03s/it]\n"
     ]
    },
    {
     "name": "stdout",
     "output_type": "stream",
     "text": [
      "                   all       2263      11149      0.393      0.122     0.0769     0.0367\n",
      "\n",
      "      Epoch    GPU_mem   box_loss   cls_loss   dfl_loss  Instances       Size\n"
     ]
    },
    {
     "name": "stderr",
     "output_type": "stream",
     "text": [
      "      32/50      10.1G       1.59       2.76      1.703        164        640: 100%|██████████| 156/156 [01:55<00:00,  1.36it/s]\n",
      "                 Class     Images  Instances      Box(P          R      mAP50  mAP50-95): 100%|██████████| 18/18 [00:17<00:00,  1.01it/s]\n"
     ]
    },
    {
     "name": "stdout",
     "output_type": "stream",
     "text": [
      "                   all       2263      11149        0.4      0.127     0.0783     0.0381\n",
      "\n",
      "      Epoch    GPU_mem   box_loss   cls_loss   dfl_loss  Instances       Size\n"
     ]
    },
    {
     "name": "stderr",
     "output_type": "stream",
     "text": [
      "      33/50      10.1G      1.586      2.757      1.696        194        640: 100%|██████████| 156/156 [01:53<00:00,  1.37it/s]\n",
      "                 Class     Images  Instances      Box(P          R      mAP50  mAP50-95): 100%|██████████| 18/18 [00:18<00:00,  1.04s/it]\n"
     ]
    },
    {
     "name": "stdout",
     "output_type": "stream",
     "text": [
      "                   all       2263      11149      0.383      0.129      0.077     0.0364\n",
      "\n",
      "      Epoch    GPU_mem   box_loss   cls_loss   dfl_loss  Instances       Size\n"
     ]
    },
    {
     "name": "stderr",
     "output_type": "stream",
     "text": [
      "      34/50      10.3G      1.587      2.752      1.708        186        640: 100%|██████████| 156/156 [01:53<00:00,  1.37it/s]\n",
      "                 Class     Images  Instances      Box(P          R      mAP50  mAP50-95): 100%|██████████| 18/18 [00:18<00:00,  1.02s/it]\n"
     ]
    },
    {
     "name": "stdout",
     "output_type": "stream",
     "text": [
      "                   all       2263      11149      0.391      0.132     0.0774     0.0351\n",
      "\n",
      "      Epoch    GPU_mem   box_loss   cls_loss   dfl_loss  Instances       Size\n"
     ]
    },
    {
     "name": "stderr",
     "output_type": "stream",
     "text": [
      "      35/50      10.1G      1.587      2.751      1.706        182        640: 100%|██████████| 156/156 [01:53<00:00,  1.38it/s]\n",
      "                 Class     Images  Instances      Box(P          R      mAP50  mAP50-95): 100%|██████████| 18/18 [00:18<00:00,  1.05s/it]\n"
     ]
    },
    {
     "name": "stdout",
     "output_type": "stream",
     "text": [
      "                   all       2263      11149        0.4      0.131     0.0805     0.0383\n",
      "\n",
      "      Epoch    GPU_mem   box_loss   cls_loss   dfl_loss  Instances       Size\n"
     ]
    },
    {
     "name": "stderr",
     "output_type": "stream",
     "text": [
      "      36/50      10.1G      1.587       2.75      1.704        159        640: 100%|██████████| 156/156 [01:53<00:00,  1.38it/s]\n",
      "                 Class     Images  Instances      Box(P          R      mAP50  mAP50-95): 100%|██████████| 18/18 [00:18<00:00,  1.05s/it]\n"
     ]
    },
    {
     "name": "stdout",
     "output_type": "stream",
     "text": [
      "                   all       2263      11149      0.403      0.128     0.0778     0.0359\n",
      "\n",
      "      Epoch    GPU_mem   box_loss   cls_loss   dfl_loss  Instances       Size\n"
     ]
    },
    {
     "name": "stderr",
     "output_type": "stream",
     "text": [
      "      37/50      10.1G      1.582      2.748      1.701        163        640: 100%|██████████| 156/156 [01:53<00:00,  1.38it/s]\n",
      "                 Class     Images  Instances      Box(P          R      mAP50  mAP50-95): 100%|██████████| 18/18 [00:18<00:00,  1.00s/it]\n"
     ]
    },
    {
     "name": "stdout",
     "output_type": "stream",
     "text": [
      "                   all       2263      11149      0.382      0.129     0.0793     0.0367\n",
      "\n",
      "      Epoch    GPU_mem   box_loss   cls_loss   dfl_loss  Instances       Size\n"
     ]
    },
    {
     "name": "stderr",
     "output_type": "stream",
     "text": [
      "      38/50      10.3G      1.581      2.741      1.695        222        640: 100%|██████████| 156/156 [01:53<00:00,  1.37it/s]\n",
      "                 Class     Images  Instances      Box(P          R      mAP50  mAP50-95): 100%|██████████| 18/18 [00:17<00:00,  1.02it/s]\n"
     ]
    },
    {
     "name": "stdout",
     "output_type": "stream",
     "text": [
      "                   all       2263      11149      0.407      0.133     0.0805     0.0383\n",
      "\n",
      "      Epoch    GPU_mem   box_loss   cls_loss   dfl_loss  Instances       Size\n"
     ]
    },
    {
     "name": "stderr",
     "output_type": "stream",
     "text": [
      "      39/50      10.1G      1.579      2.736        1.7        188        640: 100%|██████████| 156/156 [01:52<00:00,  1.39it/s]\n",
      "                 Class     Images  Instances      Box(P          R      mAP50  mAP50-95): 100%|██████████| 18/18 [00:18<00:00,  1.01s/it]\n"
     ]
    },
    {
     "name": "stdout",
     "output_type": "stream",
     "text": [
      "                   all       2263      11149      0.387       0.13     0.0796     0.0375\n",
      "\n",
      "      Epoch    GPU_mem   box_loss   cls_loss   dfl_loss  Instances       Size\n"
     ]
    },
    {
     "name": "stderr",
     "output_type": "stream",
     "text": [
      "      40/50      10.1G      1.576      2.728      1.696        148        640: 100%|██████████| 156/156 [01:54<00:00,  1.36it/s]\n",
      "                 Class     Images  Instances      Box(P          R      mAP50  mAP50-95): 100%|██████████| 18/18 [00:18<00:00,  1.04s/it]\n"
     ]
    },
    {
     "name": "stdout",
     "output_type": "stream",
     "text": [
      "                   all       2263      11149      0.406      0.134     0.0815     0.0376\n",
      "Closing dataloader mosaic\n",
      "\u001b[34m\u001b[1malbumentations: \u001b[0mBlur(p=0.01, blur_limit=(3, 7)), MedianBlur(p=0.01, blur_limit=(3, 7)), ToGray(p=0.01), CLAHE(p=0.01, clip_limit=(1, 4.0), tile_grid_size=(8, 8))\n",
      "\n",
      "      Epoch    GPU_mem   box_loss   cls_loss   dfl_loss  Instances       Size\n"
     ]
    },
    {
     "name": "stderr",
     "output_type": "stream",
     "text": [
      "      41/50        11G       1.54      2.648      1.822        107        640: 100%|██████████| 156/156 [01:53<00:00,  1.38it/s]\n",
      "                 Class     Images  Instances      Box(P          R      mAP50  mAP50-95): 100%|██████████| 18/18 [00:18<00:00,  1.02s/it]\n"
     ]
    },
    {
     "name": "stdout",
     "output_type": "stream",
     "text": [
      "                   all       2263      11149      0.379      0.133     0.0815     0.0395\n",
      "\n",
      "      Epoch    GPU_mem   box_loss   cls_loss   dfl_loss  Instances       Size\n"
     ]
    },
    {
     "name": "stderr",
     "output_type": "stream",
     "text": [
      "      42/50      10.3G      1.525      2.633      1.823        125        640: 100%|██████████| 156/156 [01:50<00:00,  1.41it/s]\n",
      "                 Class     Images  Instances      Box(P          R      mAP50  mAP50-95): 100%|██████████| 18/18 [00:17<00:00,  1.03it/s]\n"
     ]
    },
    {
     "name": "stdout",
     "output_type": "stream",
     "text": [
      "                   all       2263      11149      0.378      0.135     0.0826     0.0406\n",
      "\n",
      "      Epoch    GPU_mem   box_loss   cls_loss   dfl_loss  Instances       Size\n"
     ]
    },
    {
     "name": "stderr",
     "output_type": "stream",
     "text": [
      "      43/50      10.3G       1.52      2.623      1.812        126        640: 100%|██████████| 156/156 [01:45<00:00,  1.48it/s]\n",
      "                 Class     Images  Instances      Box(P          R      mAP50  mAP50-95): 100%|██████████| 18/18 [00:17<00:00,  1.03it/s]\n"
     ]
    },
    {
     "name": "stdout",
     "output_type": "stream",
     "text": [
      "                   all       2263      11149      0.377      0.138     0.0847     0.0418\n",
      "\n",
      "      Epoch    GPU_mem   box_loss   cls_loss   dfl_loss  Instances       Size\n"
     ]
    },
    {
     "name": "stderr",
     "output_type": "stream",
     "text": [
      "      44/50      10.3G      1.518      2.618      1.812        122        640: 100%|██████████| 156/156 [01:44<00:00,  1.49it/s]\n",
      "                 Class     Images  Instances      Box(P          R      mAP50  mAP50-95): 100%|██████████| 18/18 [00:18<00:00,  1.05s/it]\n"
     ]
    },
    {
     "name": "stdout",
     "output_type": "stream",
     "text": [
      "                   all       2263      11149       0.39      0.138     0.0846     0.0423\n",
      "\n",
      "      Epoch    GPU_mem   box_loss   cls_loss   dfl_loss  Instances       Size\n"
     ]
    },
    {
     "name": "stderr",
     "output_type": "stream",
     "text": [
      "      45/50      10.3G      1.513      2.614      1.802        110        640: 100%|██████████| 156/156 [01:44<00:00,  1.49it/s]\n",
      "                 Class     Images  Instances      Box(P          R      mAP50  mAP50-95): 100%|██████████| 18/18 [00:18<00:00,  1.05s/it]\n"
     ]
    },
    {
     "name": "stdout",
     "output_type": "stream",
     "text": [
      "                   all       2263      11149      0.374      0.137     0.0837     0.0414\n",
      "\n",
      "      Epoch    GPU_mem   box_loss   cls_loss   dfl_loss  Instances       Size\n"
     ]
    },
    {
     "name": "stderr",
     "output_type": "stream",
     "text": [
      "      46/50      10.3G      1.517      2.609      1.814        117        640: 100%|██████████| 156/156 [01:46<00:00,  1.47it/s]\n",
      "                 Class     Images  Instances      Box(P          R      mAP50  mAP50-95): 100%|██████████| 18/18 [00:17<00:00,  1.00it/s]\n"
     ]
    },
    {
     "name": "stdout",
     "output_type": "stream",
     "text": [
      "                   all       2263      11149      0.377      0.136     0.0845     0.0418\n",
      "\n",
      "      Epoch    GPU_mem   box_loss   cls_loss   dfl_loss  Instances       Size\n"
     ]
    },
    {
     "name": "stderr",
     "output_type": "stream",
     "text": [
      "      47/50      10.3G      1.514      2.611      1.814         97        640: 100%|██████████| 156/156 [01:44<00:00,  1.49it/s]\n",
      "                 Class     Images  Instances      Box(P          R      mAP50  mAP50-95): 100%|██████████| 18/18 [00:17<00:00,  1.02it/s]\n"
     ]
    },
    {
     "name": "stdout",
     "output_type": "stream",
     "text": [
      "                   all       2263      11149      0.377      0.139     0.0855     0.0425\n",
      "\n",
      "      Epoch    GPU_mem   box_loss   cls_loss   dfl_loss  Instances       Size\n"
     ]
    },
    {
     "name": "stderr",
     "output_type": "stream",
     "text": [
      "      48/50      10.3G      1.514      2.605      1.803        108        640: 100%|██████████| 156/156 [01:44<00:00,  1.49it/s]\n",
      "                 Class     Images  Instances      Box(P          R      mAP50  mAP50-95): 100%|██████████| 18/18 [00:17<00:00,  1.02it/s]\n"
     ]
    },
    {
     "name": "stdout",
     "output_type": "stream",
     "text": [
      "                   all       2263      11149      0.375      0.138     0.0858     0.0427\n",
      "\n",
      "      Epoch    GPU_mem   box_loss   cls_loss   dfl_loss  Instances       Size\n"
     ]
    },
    {
     "name": "stderr",
     "output_type": "stream",
     "text": [
      "      49/50      10.3G      1.514      2.605      1.806        121        640: 100%|██████████| 156/156 [01:44<00:00,  1.50it/s]\n",
      "                 Class     Images  Instances      Box(P          R      mAP50  mAP50-95): 100%|██████████| 18/18 [00:18<00:00,  1.05s/it]\n"
     ]
    },
    {
     "name": "stdout",
     "output_type": "stream",
     "text": [
      "                   all       2263      11149      0.366      0.138      0.086     0.0429\n",
      "\n",
      "      Epoch    GPU_mem   box_loss   cls_loss   dfl_loss  Instances       Size\n"
     ]
    },
    {
     "name": "stderr",
     "output_type": "stream",
     "text": [
      "      50/50      10.3G      1.509        2.6      1.809        140        640: 100%|██████████| 156/156 [01:44<00:00,  1.49it/s]\n",
      "                 Class     Images  Instances      Box(P          R      mAP50  mAP50-95): 100%|██████████| 18/18 [00:18<00:00,  1.02s/it]\n"
     ]
    },
    {
     "name": "stdout",
     "output_type": "stream",
     "text": [
      "                   all       2263      11149      0.365      0.137     0.0858     0.0427\n",
      "\n",
      "50 epochs completed in 1.846 hours.\n",
      "Optimizer stripped from runs/detect/train/weights/last.pt, 6.9MB\n",
      "Optimizer stripped from runs/detect/train/weights/best.pt, 6.9MB\n",
      "\n",
      "Validating runs/detect/train/weights/best.pt...\n",
      "Ultralytics YOLOv8.2.21 🚀 Python-3.10.13 torch-2.1.2 CUDA:0 (Tesla P100-PCIE-16GB, 16276MiB)\n",
      "YOLOv8n summary (fused): 168 layers, 3341330 parameters, 0 gradients, 9.6 GFLOPs\n"
     ]
    },
    {
     "name": "stderr",
     "output_type": "stream",
     "text": [
      "                 Class     Images  Instances      Box(P          R      mAP50  mAP50-95): 100%|██████████| 18/18 [00:20<00:00,  1.13s/it]\n"
     ]
    },
    {
     "name": "stdout",
     "output_type": "stream",
     "text": [
      "                   all       2263      11149      0.366      0.138     0.0857     0.0427\n",
      "                     1       2263        107       0.22      0.234      0.103     0.0519\n",
      "                     2       2263         62     0.0804     0.0484     0.0477     0.0194\n",
      "                     3       2263         13          1          0   0.000649   0.000454\n",
      "                     4       2263         93      0.109     0.0645     0.0574     0.0337\n",
      "                     5       2263         50          0          0     0.0251     0.0128\n",
      "                     6       2263         62     0.0603     0.0323     0.0319     0.0145\n",
      "                     7       2263         15          1          0          0          0\n",
      "                     8       2263         56     0.0353     0.0179     0.0123     0.0072\n",
      "                     9       2263         49          1          0     0.0188     0.0114\n",
      "                    10       2263         25          1          0    0.00483    0.00225\n",
      "                    11       2263         86     0.0502     0.0349     0.0312     0.0197\n",
      "                    12       2263         61      0.127     0.0984     0.0704     0.0297\n",
      "                    13       2263         11          1          0     0.0367     0.0223\n",
      "                    14       2263         29          0          0     0.0311     0.0111\n",
      "                    15       2263        243      0.166      0.422      0.162     0.0775\n",
      "                    16       2263        495      0.181      0.766      0.432      0.226\n",
      "                    17       2263        192      0.237      0.505      0.331      0.142\n",
      "                    18       2263         24          0          0    0.00854    0.00421\n",
      "                    19       2263        178      0.101      0.169     0.0682     0.0337\n",
      "                    20       2263         96     0.0154     0.0104     0.0329     0.0205\n",
      "                    21       2263        120      0.122     0.0333      0.076     0.0453\n",
      "                    22       2263        107      0.206      0.626      0.314      0.149\n",
      "                    23       2263        230      0.165      0.409      0.226      0.116\n",
      "                    24       2263        125     0.0811      0.112     0.0655     0.0374\n",
      "                    25       2263        509      0.218      0.424      0.222      0.101\n",
      "                    26       2263        117     0.0792      0.256     0.0935     0.0538\n",
      "                    27       2263        130     0.0946      0.223     0.0785     0.0482\n",
      "                    28       2263         72       0.17     0.0417     0.0872       0.03\n",
      "                    29       2263         20          1          0    0.00493    0.00202\n",
      "                    30       2263         47          1          0     0.0231    0.00928\n",
      "                    31       2263         24      0.351     0.0912      0.097     0.0663\n",
      "                    32       2263         40      0.444      0.125      0.216     0.0896\n",
      "                    33       2263         45          0          0     0.0377     0.0183\n",
      "                    34       2263         64      0.102     0.0312      0.034     0.0067\n",
      "                    35       2263         79      0.143     0.0253      0.101     0.0375\n",
      "                    36       2263          8          1          0    0.00347    0.00194\n",
      "                    37       2263         19          1          0    0.00245     0.0013\n",
      "                    38       2263        215      0.222      0.395      0.221     0.0993\n",
      "                    39       2263        139      0.101      0.151     0.0489     0.0242\n",
      "                    40       2263        243      0.175        0.3      0.138     0.0692\n",
      "                    41       2263         45          1          0    0.00587    0.00178\n",
      "                    42       2263         59     0.0463     0.0339     0.0303     0.0125\n",
      "                    43       2263         87          0          0     0.0164    0.00585\n",
      "                    44       2263         49     0.0696     0.0612     0.0384     0.0162\n",
      "                    45       2263         58          1          0      0.019    0.00894\n",
      "                    46       2263        242      0.103      0.149     0.0662     0.0304\n",
      "                    47       2263        141     0.0877     0.0142     0.0528     0.0247\n",
      "                    48       2263        215      0.136      0.116     0.0722     0.0294\n",
      "                    49       2263        315      0.138      0.187     0.0868     0.0358\n",
      "                    50       2263        149      0.114     0.0604     0.0505     0.0226\n",
      "                    51       2263        282      0.188      0.457      0.215      0.107\n",
      "                    52       2263        523      0.157      0.576      0.189     0.0781\n",
      "                    53       2263          1          0          0          0          0\n",
      "                    54       2263         36     0.0898      0.139     0.0368     0.0224\n",
      "                    55       2263         37          1          0     0.0198     0.0115\n",
      "                    56       2263         18          1          0    0.00411    0.00293\n",
      "                    57       2263         30          1          0     0.0218     0.0117\n",
      "                    58       2263         29          1          0     0.0241     0.0118\n",
      "                    59       2263         48      0.112     0.0417     0.0377     0.0127\n",
      "                    62       2263          2          0          0          0          0\n",
      "                    63       2263         83      0.165      0.265      0.125     0.0438\n",
      "                    65       2263         25          0          0     0.0135    0.00609\n",
      "                    66       2263         11          0          0     0.0305     0.0197\n",
      "                    67       2263        157        0.3      0.637      0.533      0.337\n",
      "                    68       2263        195      0.262      0.344      0.255      0.122\n",
      "                    69       2263         98     0.0814      0.408      0.154     0.0805\n",
      "                    70       2263        119      0.123      0.345      0.124     0.0669\n",
      "                    71       2263        738        0.2      0.749      0.339      0.179\n",
      "                    72       2263         56       0.21       0.25     0.0987     0.0716\n",
      "                    73       2263         11          1          0          0          0\n",
      "                    74       2263         55      0.163      0.509       0.24     0.0887\n",
      "                    75       2263         26          0          0     0.0128    0.00484\n",
      "                    77       2263        108          0          0     0.0274    0.00991\n",
      "                    78       2263         13          1          0     0.0476     0.0156\n",
      "                    79       2263         38          0          0     0.0339     0.0144\n",
      "                    80       2263         27     0.0548      0.037     0.0506      0.032\n",
      "                    82       2263         20          1          0      0.015    0.00651\n",
      "                    83       2263         38      0.184     0.0789     0.0491     0.0335\n",
      "                    84       2263         21          1          0      0.015    0.00664\n",
      "                    85       2263         80      0.306     0.0375     0.0971     0.0436\n",
      "                    86       2263         19          1          0    0.00757    0.00441\n",
      "                    87       2263        265      0.116      0.155     0.0779     0.0367\n",
      "                    88       2263         91      0.149      0.176     0.0822     0.0308\n",
      "                    89       2263         18          1          0    0.00278    0.00178\n",
      "                    90       2263         11          1          0     0.0782     0.0522\n",
      "                    91       2263         21          1          0    0.00527    0.00241\n",
      "                    92       2263          4          1          0      0.103      0.036\n",
      "                    93       2263         43      0.111      0.093     0.0488     0.0214\n",
      "                    94       2263          6          1          0    0.00544    0.00124\n",
      "                    95       2263         65      0.123      0.262     0.0946     0.0403\n",
      "                    96       2263         86      0.233      0.302      0.151      0.049\n",
      "                    97       2263         43          1          0     0.0726     0.0212\n",
      "                    98       2263         34          0          0     0.0326     0.0208\n",
      "                    99       2263         10          1          0    0.00176   0.000529\n",
      "                   100       2263         78      0.115       0.41      0.226      0.176\n",
      "                   101       2263         35     0.0545     0.0286     0.0246     0.0177\n",
      "                   102       2263       1735      0.235      0.787      0.459      0.255\n",
      "Speed: 0.2ms preprocess, 2.2ms inference, 0.0ms loss, 2.6ms postprocess per image\n",
      "Results saved to \u001b[1mruns/detect/train\u001b[0m\n"
     ]
    },
    {
     "name": "stderr",
     "output_type": "stream",
     "text": [
      "\u001b[34m\u001b[1mwandb\u001b[0m:                                                                                \n",
      "\u001b[34m\u001b[1mwandb\u001b[0m: \n",
      "\u001b[34m\u001b[1mwandb\u001b[0m: Run history:\n",
      "\u001b[34m\u001b[1mwandb\u001b[0m:                  lr/pg0 ▃▆███▇▇▇▇▇▇▆▆▆▆▆▅▅▅▅▅▄▄▄▄▄▄▃▃▃▃▃▂▂▂▂▂▁▁▁\n",
      "\u001b[34m\u001b[1mwandb\u001b[0m:                  lr/pg1 ▃▆███▇▇▇▇▇▇▆▆▆▆▆▅▅▅▅▅▄▄▄▄▄▄▃▃▃▃▃▂▂▂▂▂▁▁▁\n",
      "\u001b[34m\u001b[1mwandb\u001b[0m:                  lr/pg2 ▃▆███▇▇▇▇▇▇▆▆▆▆▆▅▅▅▅▅▄▄▄▄▄▄▃▃▃▃▃▂▂▂▂▂▁▁▁\n",
      "\u001b[34m\u001b[1mwandb\u001b[0m:        metrics/mAP50(B) ▁▁▁▂▂▃▂▃▄▄▄▄▄▄▅▆▆▆▆▆▆▆▆▆▇▇▇▇▇▇▇▇▇███████\n",
      "\u001b[34m\u001b[1mwandb\u001b[0m:     metrics/mAP50-95(B) ▂▁▁▃▂▄▂▃▄▄▄▄▄▄▅▅▆▆▆▆▆▆▆▅▆▇▆▆▆▆▇▇▇▇██████\n",
      "\u001b[34m\u001b[1mwandb\u001b[0m:    metrics/precision(B) █▆▆▅▅▅█▆▆▅▅▆▆▄▆▅▄▄▂▄▂▃▃▂▂▂▂▂▃▂▃▂▂▂▁▂▁▁▁▁\n",
      "\u001b[34m\u001b[1mwandb\u001b[0m:       metrics/recall(B) ▁▁▂▃▃▄▃▄▄▄▄▄▄▅▅▅▅▅▆▆▆▆▇▆▆▇▇▇▇▇▇▇▇███████\n",
      "\u001b[34m\u001b[1mwandb\u001b[0m:            model/GFLOPs ▁\n",
      "\u001b[34m\u001b[1mwandb\u001b[0m:        model/parameters ▁\n",
      "\u001b[34m\u001b[1mwandb\u001b[0m: model/speed_PyTorch(ms) ▁\n",
      "\u001b[34m\u001b[1mwandb\u001b[0m:          train/box_loss █▅▅▅▄▄▄▄▄▄▄▄▄▃▄▃▃▃▃▃▃▃▃▃▃▃▃▃▃▃▃▃▂▁▁▁▁▁▁▁\n",
      "\u001b[34m\u001b[1mwandb\u001b[0m:          train/cls_loss █▆▅▅▅▅▅▄▄▄▄▄▄▃▃▃▃▃▃▃▃▃▃▃▃▃▃▂▂▂▂▂▁▁▁▁▁▁▁▁\n",
      "\u001b[34m\u001b[1mwandb\u001b[0m:          train/dfl_loss █▄▄▄▃▃▃▃▃▃▂▃▂▂▂▂▂▂▂▂▂▂▁▁▂▁▁▂▁▁▁▁▆▆▅▅▆▆▅▅\n",
      "\u001b[34m\u001b[1mwandb\u001b[0m:            val/box_loss ▂▄▇▃█▂█▅▂▅▄▃▆▅▂▃▃▃▃▄▃▄▄▆▃▂▃▅▄▄▃▄▂▂▁▁▁▁▁▁\n",
      "\u001b[34m\u001b[1mwandb\u001b[0m:            val/cls_loss ▇▇█▆▆▄▆▄▄▄▄▄▄▄▃▃▃▃▃▃▂▂▂▃▂▂▂▂▂▂▂▂▂▁▁▁▁▁▁▁\n",
      "\u001b[34m\u001b[1mwandb\u001b[0m:            val/dfl_loss ▂▄▆▃▇▂█▅▂▅▄▃▆▅▂▂▃▃▃▃▃▄▄▆▃▂▃▅▄▄▃▄▂▂▁▁▁▁▁▁\n",
      "\u001b[34m\u001b[1mwandb\u001b[0m: \n",
      "\u001b[34m\u001b[1mwandb\u001b[0m: Run summary:\n",
      "\u001b[34m\u001b[1mwandb\u001b[0m:                  lr/pg0 0.0\n",
      "\u001b[34m\u001b[1mwandb\u001b[0m:                  lr/pg1 0.0\n",
      "\u001b[34m\u001b[1mwandb\u001b[0m:                  lr/pg2 0.0\n",
      "\u001b[34m\u001b[1mwandb\u001b[0m:        metrics/mAP50(B) 0.08571\n",
      "\u001b[34m\u001b[1mwandb\u001b[0m:     metrics/mAP50-95(B) 0.04271\n",
      "\u001b[34m\u001b[1mwandb\u001b[0m:    metrics/precision(B) 0.36583\n",
      "\u001b[34m\u001b[1mwandb\u001b[0m:       metrics/recall(B) 0.1377\n",
      "\u001b[34m\u001b[1mwandb\u001b[0m:            model/GFLOPs 9.726\n",
      "\u001b[34m\u001b[1mwandb\u001b[0m:        model/parameters 3346746\n",
      "\u001b[34m\u001b[1mwandb\u001b[0m: model/speed_PyTorch(ms) 2.153\n",
      "\u001b[34m\u001b[1mwandb\u001b[0m:          train/box_loss 1.50895\n",
      "\u001b[34m\u001b[1mwandb\u001b[0m:          train/cls_loss 2.60039\n",
      "\u001b[34m\u001b[1mwandb\u001b[0m:          train/dfl_loss 1.80934\n",
      "\u001b[34m\u001b[1mwandb\u001b[0m:            val/box_loss 1.59847\n",
      "\u001b[34m\u001b[1mwandb\u001b[0m:            val/cls_loss 2.54583\n",
      "\u001b[34m\u001b[1mwandb\u001b[0m:            val/dfl_loss 1.95272\n",
      "\u001b[34m\u001b[1mwandb\u001b[0m: \n",
      "\u001b[34m\u001b[1mwandb\u001b[0m: You can sync this run to the cloud by running:\n",
      "\u001b[34m\u001b[1mwandb\u001b[0m: \u001b[1mwandb sync /kaggle/working/wandb/offline-run-20240525_062914-gq3952i2\u001b[0m\n",
      "\u001b[34m\u001b[1mwandb\u001b[0m: Find logs at: \u001b[35m\u001b[1m./wandb/offline-run-20240525_062914-gq3952i2/logs\u001b[0m\n"
     ]
    },
    {
     "name": "stdout",
     "output_type": "stream",
     "text": [
      "Ultralytics YOLOv8.2.21 🚀 Python-3.10.13 torch-2.1.2 CUDA:0 (Tesla P100-PCIE-16GB, 16276MiB)\n",
      "YOLOv8n summary (fused): 168 layers, 3341330 parameters, 0 gradients, 9.6 GFLOPs\n"
     ]
    },
    {
     "name": "stderr",
     "output_type": "stream",
     "text": [
      "\u001b[34m\u001b[1mval: \u001b[0mScanning /kaggle/input/pestvisiondata/pestvision_data/synthetic_data/Libcom_HarmonizationData_PCTNet/run1/RiceLeafs/labels/val... 2057 images, 206 backgrounds, 0 corrupt: 100%|██████████| 2263/2263 [00:04<00:00, 558.63it/s]\n"
     ]
    },
    {
     "name": "stdout",
     "output_type": "stream",
     "text": [
      "\u001b[34m\u001b[1mval: \u001b[0mWARNING ⚠️ Cache directory /kaggle/input/pestvisiondata/pestvision_data/synthetic_data/Libcom_HarmonizationData_PCTNet/run1/RiceLeafs/labels is not writeable, cache not saved.\n"
     ]
    },
    {
     "name": "stderr",
     "output_type": "stream",
     "text": [
      "                 Class     Images  Instances      Box(P          R      mAP50  mAP50-95): 100%|██████████| 36/36 [00:22<00:00,  1.57it/s]\n"
     ]
    },
    {
     "name": "stdout",
     "output_type": "stream",
     "text": [
      "                   all       2263      11149      0.366      0.138      0.086     0.0429\n",
      "                     1       2263        107      0.219      0.234      0.103      0.052\n",
      "                     2       2263         62     0.0801     0.0484     0.0473     0.0194\n",
      "                     3       2263         13          1          0   0.000652   0.000456\n",
      "                     4       2263         93       0.11     0.0645     0.0573     0.0336\n",
      "                     5       2263         50          0          0     0.0252     0.0126\n",
      "                     6       2263         62     0.0604     0.0323     0.0316     0.0145\n",
      "                     7       2263         15          1          0          0          0\n",
      "                     8       2263         56      0.036     0.0179     0.0123    0.00731\n",
      "                     9       2263         49          1          0     0.0188     0.0114\n",
      "                    10       2263         25          1          0    0.00484    0.00225\n",
      "                    11       2263         86     0.0503     0.0349     0.0312     0.0196\n",
      "                    12       2263         61      0.127     0.0984     0.0709     0.0299\n",
      "                    13       2263         11          1          0     0.0394     0.0241\n",
      "                    14       2263         29          0          0     0.0305      0.011\n",
      "                    15       2263        243      0.164       0.42      0.162     0.0773\n",
      "                    16       2263        495       0.18      0.764      0.432      0.226\n",
      "                    17       2263        192      0.241      0.505       0.33      0.142\n",
      "                    18       2263         24          0          0    0.00857    0.00423\n",
      "                    19       2263        178      0.102      0.169     0.0692     0.0343\n",
      "                    20       2263         96     0.0154     0.0104     0.0315     0.0194\n",
      "                    21       2263        120      0.123     0.0333     0.0755     0.0447\n",
      "                    22       2263        107      0.206      0.626       0.31       0.15\n",
      "                    23       2263        230      0.165      0.409      0.226      0.116\n",
      "                    24       2263        125     0.0814      0.112     0.0655     0.0375\n",
      "                    25       2263        509      0.219      0.426      0.222      0.101\n",
      "                    26       2263        117     0.0772      0.256     0.0935     0.0539\n",
      "                    27       2263        130     0.0965      0.223     0.0818     0.0509\n",
      "                    28       2263         72      0.164     0.0417     0.0871     0.0304\n",
      "                    29       2263         20          1          0     0.0049    0.00201\n",
      "                    30       2263         47          1          0      0.023    0.00929\n",
      "                    31       2263         24       0.34     0.0862      0.097     0.0662\n",
      "                    32       2263         40      0.442      0.125      0.217     0.0885\n",
      "                    33       2263         45          0          0     0.0372     0.0182\n",
      "                    34       2263         64      0.101     0.0312     0.0338    0.00654\n",
      "                    35       2263         79      0.144     0.0253     0.0999     0.0378\n",
      "                    36       2263          8          1          0    0.00352    0.00198\n",
      "                    37       2263         19          1          0    0.00248    0.00132\n",
      "                    38       2263        215      0.223      0.395      0.221        0.1\n",
      "                    39       2263        139        0.1      0.151     0.0489      0.024\n",
      "                    40       2263        243      0.175        0.3      0.138     0.0687\n",
      "                    41       2263         45          1          0    0.00578    0.00176\n",
      "                    42       2263         59     0.0475     0.0339     0.0303     0.0125\n",
      "                    43       2263         87          0          0     0.0164    0.00591\n",
      "                    44       2263         49     0.0697     0.0612     0.0384     0.0163\n",
      "                    45       2263         58          1          0     0.0192    0.00895\n",
      "                    46       2263        242      0.105      0.153     0.0662     0.0305\n",
      "                    47       2263        141     0.0881     0.0142     0.0529     0.0247\n",
      "                    48       2263        215      0.137      0.116     0.0727     0.0295\n",
      "                    49       2263        315      0.138      0.187     0.0867     0.0357\n",
      "                    50       2263        149      0.113     0.0604     0.0512     0.0226\n",
      "                    51       2263        282      0.187      0.457      0.215      0.107\n",
      "                    52       2263        523      0.157      0.577      0.188     0.0777\n",
      "                    53       2263          1          0          0          0          0\n",
      "                    54       2263         36     0.0901      0.139     0.0369     0.0225\n",
      "                    55       2263         37          1          0     0.0197     0.0115\n",
      "                    56       2263         18          1          0    0.00411    0.00288\n",
      "                    57       2263         30          1          0      0.022     0.0118\n",
      "                    58       2263         29          1          0     0.0243     0.0118\n",
      "                    59       2263         48      0.111     0.0417     0.0378     0.0127\n",
      "                    62       2263          2          0          0          0          0\n",
      "                    63       2263         83      0.165      0.265      0.126     0.0439\n",
      "                    65       2263         25          0          0     0.0132    0.00608\n",
      "                    66       2263         11          0          0       0.03     0.0195\n",
      "                    67       2263        157      0.298      0.637      0.532      0.336\n",
      "                    68       2263        195      0.257      0.344      0.256      0.121\n",
      "                    69       2263         98     0.0831      0.418      0.154     0.0804\n",
      "                    70       2263        119      0.121      0.336      0.122     0.0656\n",
      "                    71       2263        738        0.2      0.749      0.339      0.179\n",
      "                    72       2263         56      0.214       0.25     0.0982     0.0726\n",
      "                    73       2263         11          1          0          0          0\n",
      "                    74       2263         55      0.165      0.509      0.241     0.0883\n",
      "                    75       2263         26          0          0     0.0128    0.00484\n",
      "                    77       2263        108          0          0     0.0275    0.00993\n",
      "                    78       2263         13          1          0     0.0458     0.0152\n",
      "                    79       2263         38          0          0     0.0345     0.0148\n",
      "                    80       2263         27     0.0551      0.037     0.0509     0.0321\n",
      "                    82       2263         20          1          0     0.0148    0.00651\n",
      "                    83       2263         38      0.188     0.0789     0.0491     0.0336\n",
      "                    84       2263         21          1          0     0.0153    0.00665\n",
      "                    85       2263         80      0.306     0.0375     0.0968     0.0435\n",
      "                    86       2263         19          1          0    0.00799    0.00495\n",
      "                    87       2263        265      0.116      0.155     0.0783     0.0369\n",
      "                    88       2263         91      0.151      0.176     0.0825     0.0309\n",
      "                    89       2263         18          1          0     0.0028    0.00179\n",
      "                    90       2263         11          1          0     0.0938     0.0631\n",
      "                    91       2263         21          1          0    0.00525    0.00241\n",
      "                    92       2263          4          1          0      0.102     0.0357\n",
      "                    93       2263         43      0.111      0.093     0.0487     0.0214\n",
      "                    94       2263          6          1          0    0.00589    0.00133\n",
      "                    95       2263         65      0.124      0.262     0.0945     0.0402\n",
      "                    96       2263         86      0.226      0.302      0.153     0.0502\n",
      "                    97       2263         43          1          0     0.0726     0.0211\n",
      "                    98       2263         34          0          0     0.0326     0.0208\n",
      "                    99       2263         10          1          0     0.0018    0.00054\n",
      "                   100       2263         78      0.115       0.41       0.23      0.179\n",
      "                   101       2263         35     0.0547     0.0286     0.0252      0.018\n",
      "                   102       2263       1735      0.236      0.785      0.459      0.255\n",
      "Speed: 0.2ms preprocess, 2.5ms inference, 0.0ms loss, 2.1ms postprocess per image\n",
      "Results saved to \u001b[1mruns/detect/train2\u001b[0m\n"
     ]
    }
   ],
   "source": [
    "train('/kaggle/input/yolo/other/exp1/3/last-2.pt', dset_paths[2], val_paths[2])"
   ]
  }
 ],
 "metadata": {
  "kaggle": {
   "accelerator": "gpu",
   "dataSources": [
    {
     "datasetId": 5067045,
     "sourceId": 8492734,
     "sourceType": "datasetVersion"
    },
    {
     "datasetId": 5072195,
     "sourceId": 8499657,
     "sourceType": "datasetVersion"
    },
    {
     "modelInstanceId": 46883,
     "sourceId": 55983,
     "sourceType": "modelInstanceVersion"
    }
   ],
   "dockerImageVersionId": 30698,
   "isGpuEnabled": true,
   "isInternetEnabled": true,
   "language": "python",
   "sourceType": "notebook"
  },
  "kernelspec": {
   "display_name": "Python 3",
   "language": "python",
   "name": "python3"
  },
  "language_info": {
   "codemirror_mode": {
    "name": "ipython",
    "version": 3
   },
   "file_extension": ".py",
   "mimetype": "text/x-python",
   "name": "python",
   "nbconvert_exporter": "python",
   "pygments_lexer": "ipython3",
   "version": "3.10.13"
  },
  "papermill": {
   "default_parameters": {},
   "duration": 6850.478903,
   "end_time": "2024-05-25T08:22:45.758161",
   "environment_variables": {},
   "exception": null,
   "input_path": "__notebook__.ipynb",
   "output_path": "__notebook__.ipynb",
   "parameters": {},
   "start_time": "2024-05-25T06:28:35.279258",
   "version": "2.5.0"
  }
 },
 "nbformat": 4,
 "nbformat_minor": 5
}

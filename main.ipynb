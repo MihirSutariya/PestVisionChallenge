{
 "cells": [
  {
   "cell_type": "code",
   "execution_count": 1,
   "id": "ba49f9e4",
   "metadata": {
    "execution": {
     "iopub.execute_input": "2024-05-24T17:07:30.366092Z",
     "iopub.status.busy": "2024-05-24T17:07:30.365683Z",
     "iopub.status.idle": "2024-05-24T17:07:47.003906Z",
     "shell.execute_reply": "2024-05-24T17:07:47.002629Z"
    },
    "papermill": {
     "duration": 16.646203,
     "end_time": "2024-05-24T17:07:47.006577",
     "exception": false,
     "start_time": "2024-05-24T17:07:30.360374",
     "status": "completed"
    },
    "tags": []
   },
   "outputs": [
    {
     "name": "stdout",
     "output_type": "stream",
     "text": [
      "Collecting ultralytics\r\n",
      "  Downloading ultralytics-8.2.21-py3-none-any.whl.metadata (40 kB)\r\n",
      "\u001b[2K     \u001b[90m━━━━━━━━━━━━━━━━━━━━━━━━━━━━━━━━━━━━━━━━\u001b[0m \u001b[32m40.7/40.7 kB\u001b[0m \u001b[31m1.4 MB/s\u001b[0m eta \u001b[36m0:00:00\u001b[0m\r\n",
      "\u001b[?25hRequirement already satisfied: matplotlib>=3.3.0 in /opt/conda/lib/python3.10/site-packages (from ultralytics) (3.7.5)\r\n",
      "Requirement already satisfied: opencv-python>=4.6.0 in /opt/conda/lib/python3.10/site-packages (from ultralytics) (4.9.0.80)\r\n",
      "Requirement already satisfied: pillow>=7.1.2 in /opt/conda/lib/python3.10/site-packages (from ultralytics) (9.5.0)\r\n",
      "Requirement already satisfied: pyyaml>=5.3.1 in /opt/conda/lib/python3.10/site-packages (from ultralytics) (6.0.1)\r\n",
      "Requirement already satisfied: requests>=2.23.0 in /opt/conda/lib/python3.10/site-packages (from ultralytics) (2.31.0)\r\n",
      "Requirement already satisfied: scipy>=1.4.1 in /opt/conda/lib/python3.10/site-packages (from ultralytics) (1.11.4)\r\n",
      "Requirement already satisfied: torch>=1.8.0 in /opt/conda/lib/python3.10/site-packages (from ultralytics) (2.1.2)\r\n",
      "Requirement already satisfied: torchvision>=0.9.0 in /opt/conda/lib/python3.10/site-packages (from ultralytics) (0.16.2)\r\n",
      "Requirement already satisfied: tqdm>=4.64.0 in /opt/conda/lib/python3.10/site-packages (from ultralytics) (4.66.1)\r\n",
      "Requirement already satisfied: psutil in /opt/conda/lib/python3.10/site-packages (from ultralytics) (5.9.3)\r\n",
      "Requirement already satisfied: py-cpuinfo in /opt/conda/lib/python3.10/site-packages (from ultralytics) (9.0.0)\r\n",
      "Collecting thop>=0.1.1 (from ultralytics)\r\n",
      "  Downloading thop-0.1.1.post2209072238-py3-none-any.whl.metadata (2.7 kB)\r\n",
      "Requirement already satisfied: pandas>=1.1.4 in /opt/conda/lib/python3.10/site-packages (from ultralytics) (2.1.4)\r\n",
      "Requirement already satisfied: seaborn>=0.11.0 in /opt/conda/lib/python3.10/site-packages (from ultralytics) (0.12.2)\r\n",
      "Requirement already satisfied: contourpy>=1.0.1 in /opt/conda/lib/python3.10/site-packages (from matplotlib>=3.3.0->ultralytics) (1.2.0)\r\n",
      "Requirement already satisfied: cycler>=0.10 in /opt/conda/lib/python3.10/site-packages (from matplotlib>=3.3.0->ultralytics) (0.12.1)\r\n",
      "Requirement already satisfied: fonttools>=4.22.0 in /opt/conda/lib/python3.10/site-packages (from matplotlib>=3.3.0->ultralytics) (4.47.0)\r\n",
      "Requirement already satisfied: kiwisolver>=1.0.1 in /opt/conda/lib/python3.10/site-packages (from matplotlib>=3.3.0->ultralytics) (1.4.5)\r\n",
      "Requirement already satisfied: numpy<2,>=1.20 in /opt/conda/lib/python3.10/site-packages (from matplotlib>=3.3.0->ultralytics) (1.26.4)\r\n",
      "Requirement already satisfied: packaging>=20.0 in /opt/conda/lib/python3.10/site-packages (from matplotlib>=3.3.0->ultralytics) (21.3)\r\n",
      "Requirement already satisfied: pyparsing>=2.3.1 in /opt/conda/lib/python3.10/site-packages (from matplotlib>=3.3.0->ultralytics) (3.1.1)\r\n",
      "Requirement already satisfied: python-dateutil>=2.7 in /opt/conda/lib/python3.10/site-packages (from matplotlib>=3.3.0->ultralytics) (2.9.0.post0)\r\n",
      "Requirement already satisfied: pytz>=2020.1 in /opt/conda/lib/python3.10/site-packages (from pandas>=1.1.4->ultralytics) (2023.3.post1)\r\n",
      "Requirement already satisfied: tzdata>=2022.1 in /opt/conda/lib/python3.10/site-packages (from pandas>=1.1.4->ultralytics) (2023.4)\r\n",
      "Requirement already satisfied: charset-normalizer<4,>=2 in /opt/conda/lib/python3.10/site-packages (from requests>=2.23.0->ultralytics) (3.3.2)\r\n",
      "Requirement already satisfied: idna<4,>=2.5 in /opt/conda/lib/python3.10/site-packages (from requests>=2.23.0->ultralytics) (3.6)\r\n",
      "Requirement already satisfied: urllib3<3,>=1.21.1 in /opt/conda/lib/python3.10/site-packages (from requests>=2.23.0->ultralytics) (1.26.18)\r\n",
      "Requirement already satisfied: certifi>=2017.4.17 in /opt/conda/lib/python3.10/site-packages (from requests>=2.23.0->ultralytics) (2024.2.2)\r\n",
      "Requirement already satisfied: filelock in /opt/conda/lib/python3.10/site-packages (from torch>=1.8.0->ultralytics) (3.13.1)\r\n",
      "Requirement already satisfied: typing-extensions in /opt/conda/lib/python3.10/site-packages (from torch>=1.8.0->ultralytics) (4.9.0)\r\n",
      "Requirement already satisfied: sympy in /opt/conda/lib/python3.10/site-packages (from torch>=1.8.0->ultralytics) (1.12)\r\n",
      "Requirement already satisfied: networkx in /opt/conda/lib/python3.10/site-packages (from torch>=1.8.0->ultralytics) (3.2.1)\r\n",
      "Requirement already satisfied: jinja2 in /opt/conda/lib/python3.10/site-packages (from torch>=1.8.0->ultralytics) (3.1.2)\r\n",
      "Requirement already satisfied: fsspec in /opt/conda/lib/python3.10/site-packages (from torch>=1.8.0->ultralytics) (2024.2.0)\r\n",
      "Requirement already satisfied: six>=1.5 in /opt/conda/lib/python3.10/site-packages (from python-dateutil>=2.7->matplotlib>=3.3.0->ultralytics) (1.16.0)\r\n",
      "Requirement already satisfied: MarkupSafe>=2.0 in /opt/conda/lib/python3.10/site-packages (from jinja2->torch>=1.8.0->ultralytics) (2.1.3)\r\n",
      "Requirement already satisfied: mpmath>=0.19 in /opt/conda/lib/python3.10/site-packages (from sympy->torch>=1.8.0->ultralytics) (1.3.0)\r\n",
      "Downloading ultralytics-8.2.21-py3-none-any.whl (777 kB)\r\n",
      "\u001b[2K   \u001b[90m━━━━━━━━━━━━━━━━━━━━━━━━━━━━━━━━━━━━━━━━\u001b[0m \u001b[32m777.9/777.9 kB\u001b[0m \u001b[31m13.4 MB/s\u001b[0m eta \u001b[36m0:00:00\u001b[0m\r\n",
      "\u001b[?25hDownloading thop-0.1.1.post2209072238-py3-none-any.whl (15 kB)\r\n",
      "Installing collected packages: thop, ultralytics\r\n",
      "Successfully installed thop-0.1.1.post2209072238 ultralytics-8.2.21\r\n"
     ]
    }
   ],
   "source": [
    "# !conda env create -f /kaggle/input/condaenv/environment.yml\n",
    "# !conda init\n",
    "# !conda activate pestvision\n",
    "# !wget -P /kaggle/input/ https://storage.googleapis.com/npss-pestvision-data/pestvision_data.zip\n",
    "!pip install ultralytics"
   ]
  },
  {
   "cell_type": "code",
   "execution_count": 2,
   "id": "e20df26a",
   "metadata": {
    "execution": {
     "iopub.execute_input": "2024-05-24T17:07:47.019758Z",
     "iopub.status.busy": "2024-05-24T17:07:47.018789Z",
     "iopub.status.idle": "2024-05-24T17:07:51.046834Z",
     "shell.execute_reply": "2024-05-24T17:07:51.045768Z"
    },
    "papermill": {
     "duration": 4.037633,
     "end_time": "2024-05-24T17:07:51.049603",
     "exception": false,
     "start_time": "2024-05-24T17:07:47.011970",
     "status": "completed"
    },
    "tags": []
   },
   "outputs": [],
   "source": [
    "import os\n",
    "os.environ['WANDB_DISABLED'] = 'true'\n",
    "import numpy as np\n",
    "import torch\n",
    "import yaml"
   ]
  },
  {
   "cell_type": "code",
   "execution_count": 3,
   "id": "7a3edf62",
   "metadata": {
    "execution": {
     "iopub.execute_input": "2024-05-24T17:07:51.061165Z",
     "iopub.status.busy": "2024-05-24T17:07:51.060727Z",
     "iopub.status.idle": "2024-05-24T17:07:51.066700Z",
     "shell.execute_reply": "2024-05-24T17:07:51.065810Z"
    },
    "papermill": {
     "duration": 0.014143,
     "end_time": "2024-05-24T17:07:51.068775",
     "exception": false,
     "start_time": "2024-05-24T17:07:51.054632",
     "status": "completed"
    },
    "tags": []
   },
   "outputs": [],
   "source": [
    "root = '/kaggle/input/pestvisiondata/pestvision_data/'\n",
    "dset_paths = ['synthetic_data/DeepImageBlendingData/run3/RiceLeafs/images/train',\n",
    "             'synthetic_data/DeepImageBlendingData/run3/paddy-disease-classification/images/train',\n",
    "             'synthetic_data/Libcom_HarmonizationData_PCTNet/run1/RiceLeafs/images/train',\n",
    "             'synthetic_data/Libcom_HarmonizationData_PCTNet/run1/paddy-disease-classification/images/train']\n",
    "dset_paths = [os.path.join(root,i) for i in dset_paths]\n",
    "val_paths = [\"/\".join(i.split('/')[:-1]+['val']) for i in dset_paths]"
   ]
  },
  {
   "cell_type": "code",
   "execution_count": 4,
   "id": "246dd212",
   "metadata": {
    "execution": {
     "iopub.execute_input": "2024-05-24T17:07:51.079746Z",
     "iopub.status.busy": "2024-05-24T17:07:51.079399Z",
     "iopub.status.idle": "2024-05-24T17:07:52.550067Z",
     "shell.execute_reply": "2024-05-24T17:07:52.549112Z"
    },
    "papermill": {
     "duration": 1.47889,
     "end_time": "2024-05-24T17:07:52.552520",
     "exception": false,
     "start_time": "2024-05-24T17:07:51.073630",
     "status": "completed"
    },
    "tags": []
   },
   "outputs": [
    {
     "name": "stderr",
     "output_type": "stream",
     "text": [
      "\u001b[34m\u001b[1mwandb\u001b[0m: \u001b[33mWARNING\u001b[0m This integration is tested and supported for ultralytics v8.0.238 and below.\n",
      "\u001b[34m\u001b[1mwandb\u001b[0m: \u001b[33mWARNING\u001b[0m             Please report any issues to https://github.com/wandb/wandb/issues with the tag `yolov8`.\n"
     ]
    }
   ],
   "source": [
    "# object detection code base with abstract class\n",
    "\n",
    "import os\n",
    "from abc import ABC, abstractmethod\n",
    "from ultralytics import YOLO\n",
    "import wandb\n",
    "from wandb.integration.ultralytics import add_wandb_callback\n",
    "\n",
    "\n",
    "class AbstractPestDetection(ABC):\n",
    "    \"\"\"\n",
    "    Abstract class for pest detection\n",
    "    \"\"\"\n",
    "\n",
    "    def __init__(self, device):\n",
    "        self.device = device\n",
    "\n",
    "    @abstractmethod\n",
    "    def load_model(self, model_path):\n",
    "        pass\n",
    "\n",
    "    @abstractmethod\n",
    "    def train(self):\n",
    "        pass\n",
    "\n",
    "    # TODO: implement evaluate method\n",
    "    # @abstractmethod\n",
    "    # def evaluate(self):\n",
    "    #     pass\n",
    "\n",
    "\n",
    "class PestDetection_yolov8(AbstractPestDetection):\n",
    "    \"\"\"\n",
    "    YOLOv8 model for pest detection\n",
    "    \"\"\"\n",
    "\n",
    "    def __init__(self, device):\n",
    "        super().__init__(device)\n",
    "        self.model = None\n",
    "\n",
    "    def load_model(self, model_path):\n",
    "        \"\"\"\n",
    "        Load the YOLOv8 model\n",
    "\n",
    "        Parameters:\n",
    "\n",
    "         model_path (str): path to the model checkpoint\n",
    "        \"\"\"\n",
    "\n",
    "        self.model = YOLO(model_path)\n",
    "\n",
    "    def train(self,**kwargs):\n",
    "\n",
    "        results = self.model.train(**kwargs)\n",
    "        self.model.val()\n",
    "\n",
    "        return results\n",
    "\n",
    "    # TODO: implment evaluate method\n",
    "    # def evaluate(self):\n",
    "    #     pass\n"
   ]
  },
  {
   "cell_type": "code",
   "execution_count": 5,
   "id": "f6a6f3de",
   "metadata": {
    "execution": {
     "iopub.execute_input": "2024-05-24T17:07:52.563842Z",
     "iopub.status.busy": "2024-05-24T17:07:52.563505Z",
     "iopub.status.idle": "2024-05-24T17:07:52.569330Z",
     "shell.execute_reply": "2024-05-24T17:07:52.568424Z"
    },
    "papermill": {
     "duration": 0.014061,
     "end_time": "2024-05-24T17:07:52.571422",
     "exception": false,
     "start_time": "2024-05-24T17:07:52.557361",
     "status": "completed"
    },
    "tags": []
   },
   "outputs": [],
   "source": [
    "def make_dsetconfig(train,val):\n",
    "\n",
    "    d_config = {\n",
    "        \"train\": train,\n",
    "        \"val\": val,\n",
    "\n",
    "        \"nc\": 102, # number of classes\n",
    "        \"names\": [str(i) for i in range(1,103)] \n",
    "    }\n",
    "    filename = 'data.yaml'\n",
    "    with open(filename, 'w') as file:\n",
    "        yaml.dump(d_config, file, default_flow_style=False)\n",
    "    return filename"
   ]
  },
  {
   "cell_type": "code",
   "execution_count": 6,
   "id": "00a228a4",
   "metadata": {
    "execution": {
     "iopub.execute_input": "2024-05-24T17:07:52.581977Z",
     "iopub.status.busy": "2024-05-24T17:07:52.581626Z",
     "iopub.status.idle": "2024-05-24T17:07:52.588142Z",
     "shell.execute_reply": "2024-05-24T17:07:52.587122Z"
    },
    "papermill": {
     "duration": 0.014481,
     "end_time": "2024-05-24T17:07:52.590439",
     "exception": false,
     "start_time": "2024-05-24T17:07:52.575958",
     "status": "completed"
    },
    "tags": []
   },
   "outputs": [],
   "source": [
    "def train(checkpoint,train,val):\n",
    "    if torch.cuda.is_available():\n",
    "        device = torch.device('cuda')\n",
    "        print(\"CUDA is available. Using GPU.\")\n",
    "    else:\n",
    "        device = torch.device('cpu')\n",
    "        print(\"CUDA is not available. Using CPU.\")\n",
    "    model = PestDetection_yolov8(device)\n",
    "    model.load_model(checkpoint)\n",
    "#     wandb_kwargs = {\"project\": None, \"entity\": None, \"group\": None, \"job_type\": None}\n",
    "    results = model.train(data=make_dsetconfig(train,val), epochs=50, imgsz=640, save_period=2,batch=-1, plots=True)"
   ]
  },
  {
   "cell_type": "code",
   "execution_count": 7,
   "id": "fc92d1e1",
   "metadata": {
    "execution": {
     "iopub.execute_input": "2024-05-24T17:07:52.602324Z",
     "iopub.status.busy": "2024-05-24T17:07:52.601445Z",
     "iopub.status.idle": "2024-05-24T19:23:16.918578Z",
     "shell.execute_reply": "2024-05-24T19:23:16.916893Z"
    },
    "papermill": {
     "duration": 8124.32613,
     "end_time": "2024-05-24T19:23:16.921425",
     "exception": false,
     "start_time": "2024-05-24T17:07:52.595295",
     "status": "completed"
    },
    "tags": []
   },
   "outputs": [
    {
     "name": "stdout",
     "output_type": "stream",
     "text": [
      "CUDA is available. Using GPU.\n",
      "Ultralytics YOLOv8.2.21 🚀 Python-3.10.13 torch-2.1.2 CUDA:0 (Tesla P100-PCIE-16GB, 16276MiB)\n",
      "\u001b[34m\u001b[1mengine/trainer: \u001b[0mtask=detect, mode=train, model=/kaggle/input/yolo/other/exp1/1/last.pt, data=data.yaml, epochs=50, time=None, patience=100, batch=-1, imgsz=640, save=True, save_period=2, cache=False, device=None, workers=8, project=None, name=train, exist_ok=False, pretrained=True, optimizer=auto, verbose=True, seed=0, deterministic=True, single_cls=False, rect=False, cos_lr=False, close_mosaic=10, resume=False, amp=True, fraction=1.0, profile=False, freeze=None, multi_scale=False, overlap_mask=True, mask_ratio=4, dropout=0.0, val=True, split=val, save_json=False, save_hybrid=False, conf=None, iou=0.7, max_det=300, half=False, dnn=False, plots=True, source=None, vid_stride=1, stream_buffer=False, visualize=False, augment=False, agnostic_nms=False, classes=None, retina_masks=False, embed=None, show=False, save_frames=False, save_txt=False, save_conf=False, save_crop=False, show_labels=True, show_conf=True, show_boxes=True, line_width=None, format=torchscript, keras=False, optimize=False, int8=False, dynamic=False, simplify=False, opset=None, workspace=4, nms=False, lr0=0.01, lrf=0.01, momentum=0.937, weight_decay=0.0005, warmup_epochs=3.0, warmup_momentum=0.8, warmup_bias_lr=0.1, box=7.5, cls=0.5, dfl=1.5, pose=12.0, kobj=1.0, label_smoothing=0.0, nbs=64, hsv_h=0.015, hsv_s=0.7, hsv_v=0.4, degrees=0.0, translate=0.1, scale=0.5, shear=0.0, perspective=0.0, flipud=0.0, fliplr=0.5, bgr=0.0, mosaic=1.0, mixup=0.0, copy_paste=0.0, auto_augment=randaugment, erasing=0.4, crop_fraction=1.0, cfg=None, tracker=botsort.yaml, save_dir=runs/detect/train\n",
      "Downloading https://ultralytics.com/assets/Arial.ttf to '/root/.config/Ultralytics/Arial.ttf'...\n"
     ]
    },
    {
     "name": "stderr",
     "output_type": "stream",
     "text": [
      "100%|██████████| 755k/755k [00:00<00:00, 15.5MB/s]\n",
      "2024-05-24 17:07:55,459\tINFO util.py:124 -- Outdated packages:\n",
      "  ipywidgets==7.7.1 found, needs ipywidgets>=8\n",
      "Run `pip install -U ipywidgets`, then restart the notebook server for rich notebook output.\n",
      "2024-05-24 17:07:57,030\tINFO util.py:124 -- Outdated packages:\n",
      "  ipywidgets==7.7.1 found, needs ipywidgets>=8\n",
      "Run `pip install -U ipywidgets`, then restart the notebook server for rich notebook output.\n"
     ]
    },
    {
     "name": "stdout",
     "output_type": "stream",
     "text": [
      "\n",
      "                   from  n    params  module                                       arguments                     \n",
      "  0                  -1  1       464  ultralytics.nn.modules.conv.Conv             [3, 16, 3, 2]                 \n",
      "  1                  -1  1      4672  ultralytics.nn.modules.conv.Conv             [16, 32, 3, 2]                \n",
      "  2                  -1  1      7360  ultralytics.nn.modules.block.C2f             [32, 32, 1, True]             \n",
      "  3                  -1  1     18560  ultralytics.nn.modules.conv.Conv             [32, 64, 3, 2]                \n",
      "  4                  -1  2     49664  ultralytics.nn.modules.block.C2f             [64, 64, 2, True]             \n",
      "  5                  -1  1     73984  ultralytics.nn.modules.conv.Conv             [64, 128, 3, 2]               \n",
      "  6                  -1  2    197632  ultralytics.nn.modules.block.C2f             [128, 128, 2, True]           \n",
      "  7                  -1  1    295424  ultralytics.nn.modules.conv.Conv             [128, 256, 3, 2]              \n",
      "  8                  -1  1    460288  ultralytics.nn.modules.block.C2f             [256, 256, 1, True]           \n",
      "  9                  -1  1    164608  ultralytics.nn.modules.block.SPPF            [256, 256, 5]                 \n",
      " 10                  -1  1         0  torch.nn.modules.upsampling.Upsample         [None, 2, 'nearest']          \n",
      " 11             [-1, 6]  1         0  ultralytics.nn.modules.conv.Concat           [1]                           \n",
      " 12                  -1  1    148224  ultralytics.nn.modules.block.C2f             [384, 128, 1]                 \n",
      " 13                  -1  1         0  torch.nn.modules.upsampling.Upsample         [None, 2, 'nearest']          \n",
      " 14             [-1, 4]  1         0  ultralytics.nn.modules.conv.Concat           [1]                           \n",
      " 15                  -1  1     37248  ultralytics.nn.modules.block.C2f             [192, 64, 1]                  \n",
      " 16                  -1  1     36992  ultralytics.nn.modules.conv.Conv             [64, 64, 3, 2]                \n",
      " 17            [-1, 12]  1         0  ultralytics.nn.modules.conv.Concat           [1]                           \n",
      " 18                  -1  1    123648  ultralytics.nn.modules.block.C2f             [192, 128, 1]                 \n",
      " 19                  -1  1    147712  ultralytics.nn.modules.conv.Conv             [128, 128, 3, 2]              \n",
      " 20             [-1, 9]  1         0  ultralytics.nn.modules.conv.Concat           [1]                           \n",
      " 21                  -1  1    493056  ultralytics.nn.modules.block.C2f             [384, 256, 1]                 \n",
      " 22        [15, 18, 21]  1   1087210  ultralytics.nn.modules.head.Detect           [102, [64, 128, 256]]         \n",
      "YOLOv8n summary: 225 layers, 3346746 parameters, 3346730 gradients, 9.7 GFLOPs\n",
      "\n",
      "Transferred 355/355 items from pretrained weights\n",
      "\u001b[34m\u001b[1mTensorBoard: \u001b[0mStart with 'tensorboard --logdir runs/detect/train', view at http://localhost:6006/\n"
     ]
    },
    {
     "name": "stderr",
     "output_type": "stream",
     "text": [
      "\u001b[34m\u001b[1mwandb\u001b[0m: Tracking run with wandb version 0.16.6\n",
      "\u001b[34m\u001b[1mwandb\u001b[0m: W&B syncing is set to \u001b[1m`offline`\u001b[0m in this directory.  \n",
      "\u001b[34m\u001b[1mwandb\u001b[0m: Run \u001b[1m`wandb online`\u001b[0m or set \u001b[1mWANDB_MODE=online\u001b[0m to enable cloud syncing.\n"
     ]
    },
    {
     "name": "stdout",
     "output_type": "stream",
     "text": [
      "Freezing layer 'model.22.dfl.conv.weight'\n",
      "\u001b[34m\u001b[1mAMP: \u001b[0mrunning Automatic Mixed Precision (AMP) checks with YOLOv8n...\n",
      "Downloading https://github.com/ultralytics/assets/releases/download/v8.2.0/yolov8n.pt to 'yolov8n.pt'...\n"
     ]
    },
    {
     "name": "stderr",
     "output_type": "stream",
     "text": [
      "100%|██████████| 6.23M/6.23M [00:00<00:00, 75.4MB/s]\n"
     ]
    },
    {
     "name": "stdout",
     "output_type": "stream",
     "text": [
      "\u001b[34m\u001b[1mAMP: \u001b[0mchecks passed ✅\n",
      "\u001b[34m\u001b[1mAutoBatch: \u001b[0mComputing optimal batch size for imgsz=640\n",
      "\u001b[34m\u001b[1mAutoBatch: \u001b[0mCUDA:0 (Tesla P100-PCIE-16GB) 15.89G total, 0.11G reserved, 0.07G allocated, 15.72G free\n",
      "      Params      GFLOPs  GPU_mem (GB)  forward (ms) backward (ms)                   input                  output\n",
      "     3346746       9.726         0.220         31.63         65.08        (1, 3, 640, 640)                    list\n",
      "     3346746       19.45         0.323         20.63         37.11        (2, 3, 640, 640)                    list\n",
      "     3346746       38.91         0.625         20.44         96.11        (4, 3, 640, 640)                    list\n",
      "     3346746       77.81         1.181         24.28         40.85        (8, 3, 640, 640)                    list\n",
      "     3346746       155.6         2.408         37.97         60.98       (16, 3, 640, 640)                    list\n",
      "\u001b[34m\u001b[1mAutoBatch: \u001b[0mUsing batch-size 63 for CUDA:0 9.46G/15.89G (60%) ✅\n"
     ]
    },
    {
     "name": "stderr",
     "output_type": "stream",
     "text": [
      "\u001b[34m\u001b[1mtrain: \u001b[0mScanning /kaggle/input/pestvisiondata/pestvision_data/synthetic_data/Libcom_HarmonizationData_PCTNet/run1/paddy-disease-classification/labels/train... 8846 images, 893 backgrounds, 0 corrupt: 100%|██████████| 9739/9739 [01:01<00:00, 159.18it/s]\n"
     ]
    },
    {
     "name": "stdout",
     "output_type": "stream",
     "text": [
      "\u001b[34m\u001b[1mtrain: \u001b[0mWARNING ⚠️ Cache directory /kaggle/input/pestvisiondata/pestvision_data/synthetic_data/Libcom_HarmonizationData_PCTNet/run1/paddy-disease-classification/labels is not writeable, cache not saved.\n",
      "\u001b[34m\u001b[1malbumentations: \u001b[0mBlur(p=0.01, blur_limit=(3, 7)), MedianBlur(p=0.01, blur_limit=(3, 7)), ToGray(p=0.01), CLAHE(p=0.01, clip_limit=(1, 4.0), tile_grid_size=(8, 8))\n"
     ]
    },
    {
     "name": "stderr",
     "output_type": "stream",
     "text": [
      "\u001b[34m\u001b[1mval: \u001b[0mScanning /kaggle/input/pestvisiondata/pestvision_data/synthetic_data/Libcom_HarmonizationData_PCTNet/run1/paddy-disease-classification/labels/val... 1992 images, 202 backgrounds, 0 corrupt: 100%|██████████| 2194/2194 [00:14<00:00, 154.46it/s]\n"
     ]
    },
    {
     "name": "stdout",
     "output_type": "stream",
     "text": [
      "\u001b[34m\u001b[1mval: \u001b[0mWARNING ⚠️ Cache directory /kaggle/input/pestvisiondata/pestvision_data/synthetic_data/Libcom_HarmonizationData_PCTNet/run1/paddy-disease-classification/labels is not writeable, cache not saved.\n",
      "Plotting labels to runs/detect/train/labels.jpg... \n",
      "\u001b[34m\u001b[1moptimizer:\u001b[0m 'optimizer=auto' found, ignoring 'lr0=0.01' and 'momentum=0.937' and determining best 'optimizer', 'lr0' and 'momentum' automatically... \n",
      "\u001b[34m\u001b[1moptimizer:\u001b[0m AdamW(lr=9.4e-05, momentum=0.9) with parameter groups 57 weight(decay=0.0), 64 weight(decay=0.0004921875), 63 bias(decay=0.0)\n",
      "\u001b[34m\u001b[1mTensorBoard: \u001b[0mmodel graph visualization added ✅\n",
      "Image sizes 640 train, 640 val\n",
      "Using 4 dataloader workers\n",
      "Logging results to \u001b[1mruns/detect/train\u001b[0m\n",
      "Starting training for 50 epochs...\n",
      "\n",
      "      Epoch    GPU_mem   box_loss   cls_loss   dfl_loss  Instances       Size\n"
     ]
    },
    {
     "name": "stderr",
     "output_type": "stream",
     "text": [
      "       1/50      10.2G      2.104      4.135      2.138        233        640: 100%|██████████| 155/155 [02:15<00:00,  1.14it/s]\n",
      "                 Class     Images  Instances      Box(P          R      mAP50  mAP50-95): 100%|██████████| 18/18 [00:22<00:00,  1.26s/it]\n"
     ]
    },
    {
     "name": "stdout",
     "output_type": "stream",
     "text": [
      "                   all       2194      11058      0.155      0.201     0.0148    0.00673\n",
      "\n",
      "      Epoch    GPU_mem   box_loss   cls_loss   dfl_loss  Instances       Size\n"
     ]
    },
    {
     "name": "stderr",
     "output_type": "stream",
     "text": [
      "       2/50      10.3G      1.897      3.728       1.95        290        640: 100%|██████████| 155/155 [02:09<00:00,  1.20it/s]\n",
      "                 Class     Images  Instances      Box(P          R      mAP50  mAP50-95): 100%|██████████| 18/18 [00:23<00:00,  1.29s/it]\n"
     ]
    },
    {
     "name": "stdout",
     "output_type": "stream",
     "text": [
      "                   all       2194      11058      0.587     0.0316     0.0194    0.00848\n",
      "\n",
      "      Epoch    GPU_mem   box_loss   cls_loss   dfl_loss  Instances       Size\n"
     ]
    },
    {
     "name": "stderr",
     "output_type": "stream",
     "text": [
      "       3/50      10.3G      1.851      3.625      1.926        190        640: 100%|██████████| 155/155 [02:08<00:00,  1.20it/s]\n",
      "                 Class     Images  Instances      Box(P          R      mAP50  mAP50-95): 100%|██████████| 18/18 [00:22<00:00,  1.24s/it]\n"
     ]
    },
    {
     "name": "stdout",
     "output_type": "stream",
     "text": [
      "                   all       2194      11058      0.583     0.0412     0.0218    0.00985\n",
      "\n",
      "      Epoch    GPU_mem   box_loss   cls_loss   dfl_loss  Instances       Size\n"
     ]
    },
    {
     "name": "stderr",
     "output_type": "stream",
     "text": [
      "       4/50      10.1G      1.821      3.544      1.894        247        640: 100%|██████████| 155/155 [02:09<00:00,  1.20it/s]\n",
      "                 Class     Images  Instances      Box(P          R      mAP50  mAP50-95): 100%|██████████| 18/18 [00:22<00:00,  1.24s/it]\n"
     ]
    },
    {
     "name": "stdout",
     "output_type": "stream",
     "text": [
      "                   all       2194      11058      0.556     0.0445     0.0227    0.00996\n",
      "\n",
      "      Epoch    GPU_mem   box_loss   cls_loss   dfl_loss  Instances       Size\n"
     ]
    },
    {
     "name": "stderr",
     "output_type": "stream",
     "text": [
      "       5/50      10.3G      1.803      3.501      1.881        277        640: 100%|██████████| 155/155 [02:09<00:00,  1.19it/s]\n",
      "                 Class     Images  Instances      Box(P          R      mAP50  mAP50-95): 100%|██████████| 18/18 [00:22<00:00,  1.23s/it]\n"
     ]
    },
    {
     "name": "stdout",
     "output_type": "stream",
     "text": [
      "                   all       2194      11058      0.564     0.0506     0.0246     0.0115\n",
      "\n",
      "      Epoch    GPU_mem   box_loss   cls_loss   dfl_loss  Instances       Size\n"
     ]
    },
    {
     "name": "stderr",
     "output_type": "stream",
     "text": [
      "       6/50      10.3G       1.79      3.452      1.865        234        640: 100%|██████████| 155/155 [02:10<00:00,  1.19it/s]\n",
      "                 Class     Images  Instances      Box(P          R      mAP50  mAP50-95): 100%|██████████| 18/18 [00:23<00:00,  1.28s/it]\n"
     ]
    },
    {
     "name": "stdout",
     "output_type": "stream",
     "text": [
      "                   all       2194      11058      0.547      0.053      0.025     0.0109\n",
      "\n",
      "      Epoch    GPU_mem   box_loss   cls_loss   dfl_loss  Instances       Size\n"
     ]
    },
    {
     "name": "stderr",
     "output_type": "stream",
     "text": [
      "       7/50      10.3G      1.781      3.431       1.86        282        640: 100%|██████████| 155/155 [02:10<00:00,  1.19it/s]\n",
      "                 Class     Images  Instances      Box(P          R      mAP50  mAP50-95): 100%|██████████| 18/18 [00:22<00:00,  1.25s/it]\n"
     ]
    },
    {
     "name": "stdout",
     "output_type": "stream",
     "text": [
      "                   all       2194      11058      0.553     0.0514     0.0278     0.0128\n",
      "\n",
      "      Epoch    GPU_mem   box_loss   cls_loss   dfl_loss  Instances       Size\n"
     ]
    },
    {
     "name": "stderr",
     "output_type": "stream",
     "text": [
      "       8/50      10.3G      1.771      3.387      1.857        312        640: 100%|██████████| 155/155 [02:10<00:00,  1.18it/s]\n",
      "                 Class     Images  Instances      Box(P          R      mAP50  mAP50-95): 100%|██████████| 18/18 [00:22<00:00,  1.27s/it]\n"
     ]
    },
    {
     "name": "stdout",
     "output_type": "stream",
     "text": [
      "                   all       2194      11058      0.553     0.0487     0.0261     0.0109\n",
      "\n",
      "      Epoch    GPU_mem   box_loss   cls_loss   dfl_loss  Instances       Size\n"
     ]
    },
    {
     "name": "stderr",
     "output_type": "stream",
     "text": [
      "       9/50      10.3G      1.761      3.364      1.838        280        640: 100%|██████████| 155/155 [02:12<00:00,  1.17it/s]\n",
      "                 Class     Images  Instances      Box(P          R      mAP50  mAP50-95): 100%|██████████| 18/18 [00:22<00:00,  1.24s/it]\n"
     ]
    },
    {
     "name": "stdout",
     "output_type": "stream",
     "text": [
      "                   all       2194      11058      0.537     0.0661     0.0298      0.014\n",
      "\n",
      "      Epoch    GPU_mem   box_loss   cls_loss   dfl_loss  Instances       Size\n"
     ]
    },
    {
     "name": "stderr",
     "output_type": "stream",
     "text": [
      "      10/50      10.3G      1.755       3.34      1.843        334        640: 100%|██████████| 155/155 [02:12<00:00,  1.17it/s]\n",
      "                 Class     Images  Instances      Box(P          R      mAP50  mAP50-95): 100%|██████████| 18/18 [00:21<00:00,  1.21s/it]\n"
     ]
    },
    {
     "name": "stdout",
     "output_type": "stream",
     "text": [
      "                   all       2194      11058      0.569     0.0502     0.0319     0.0146\n",
      "\n",
      "      Epoch    GPU_mem   box_loss   cls_loss   dfl_loss  Instances       Size\n"
     ]
    },
    {
     "name": "stderr",
     "output_type": "stream",
     "text": [
      "      11/50      10.3G       1.75      3.324      1.828        259        640: 100%|██████████| 155/155 [02:14<00:00,  1.15it/s]\n",
      "                 Class     Images  Instances      Box(P          R      mAP50  mAP50-95): 100%|██████████| 18/18 [00:22<00:00,  1.24s/it]\n"
     ]
    },
    {
     "name": "stdout",
     "output_type": "stream",
     "text": [
      "                   all       2194      11058      0.556     0.0599      0.031     0.0136\n",
      "\n",
      "      Epoch    GPU_mem   box_loss   cls_loss   dfl_loss  Instances       Size\n"
     ]
    },
    {
     "name": "stderr",
     "output_type": "stream",
     "text": [
      "      12/50      10.3G      1.738      3.306      1.826        310        640: 100%|██████████| 155/155 [02:14<00:00,  1.15it/s]\n",
      "                 Class     Images  Instances      Box(P          R      mAP50  mAP50-95): 100%|██████████| 18/18 [00:22<00:00,  1.23s/it]\n"
     ]
    },
    {
     "name": "stdout",
     "output_type": "stream",
     "text": [
      "                   all       2194      11058       0.58     0.0582     0.0342     0.0157\n",
      "\n",
      "      Epoch    GPU_mem   box_loss   cls_loss   dfl_loss  Instances       Size\n"
     ]
    },
    {
     "name": "stderr",
     "output_type": "stream",
     "text": [
      "      13/50      10.3G      1.732      3.282      1.819        307        640: 100%|██████████| 155/155 [02:14<00:00,  1.16it/s]\n",
      "                 Class     Images  Instances      Box(P          R      mAP50  mAP50-95): 100%|██████████| 18/18 [00:22<00:00,  1.26s/it]\n"
     ]
    },
    {
     "name": "stdout",
     "output_type": "stream",
     "text": [
      "                   all       2194      11058      0.556     0.0592     0.0355     0.0169\n",
      "\n",
      "      Epoch    GPU_mem   box_loss   cls_loss   dfl_loss  Instances       Size\n"
     ]
    },
    {
     "name": "stderr",
     "output_type": "stream",
     "text": [
      "      14/50      10.3G      1.729      3.264      1.815        296        640: 100%|██████████| 155/155 [02:14<00:00,  1.15it/s]\n",
      "                 Class     Images  Instances      Box(P          R      mAP50  mAP50-95): 100%|██████████| 18/18 [00:22<00:00,  1.25s/it]\n"
     ]
    },
    {
     "name": "stdout",
     "output_type": "stream",
     "text": [
      "                   all       2194      11058      0.567     0.0584     0.0356     0.0155\n",
      "\n",
      "      Epoch    GPU_mem   box_loss   cls_loss   dfl_loss  Instances       Size\n"
     ]
    },
    {
     "name": "stderr",
     "output_type": "stream",
     "text": [
      "      15/50      10.3G      1.726      3.262      1.814        321        640: 100%|██████████| 155/155 [02:15<00:00,  1.15it/s]\n",
      "                 Class     Images  Instances      Box(P          R      mAP50  mAP50-95): 100%|██████████| 18/18 [00:21<00:00,  1.22s/it]\n"
     ]
    },
    {
     "name": "stdout",
     "output_type": "stream",
     "text": [
      "                   all       2194      11058      0.547     0.0651     0.0344     0.0146\n",
      "\n",
      "      Epoch    GPU_mem   box_loss   cls_loss   dfl_loss  Instances       Size\n"
     ]
    },
    {
     "name": "stderr",
     "output_type": "stream",
     "text": [
      "      16/50      10.3G      1.726      3.241      1.812        212        640: 100%|██████████| 155/155 [02:14<00:00,  1.15it/s]\n",
      "                 Class     Images  Instances      Box(P          R      mAP50  mAP50-95): 100%|██████████| 18/18 [00:22<00:00,  1.26s/it]\n"
     ]
    },
    {
     "name": "stdout",
     "output_type": "stream",
     "text": [
      "                   all       2194      11058       0.53     0.0719     0.0389     0.0175\n",
      "\n",
      "      Epoch    GPU_mem   box_loss   cls_loss   dfl_loss  Instances       Size\n"
     ]
    },
    {
     "name": "stderr",
     "output_type": "stream",
     "text": [
      "      17/50      10.3G      1.719      3.236      1.807        267        640: 100%|██████████| 155/155 [02:14<00:00,  1.15it/s]\n",
      "                 Class     Images  Instances      Box(P          R      mAP50  mAP50-95): 100%|██████████| 18/18 [00:23<00:00,  1.29s/it]\n"
     ]
    },
    {
     "name": "stdout",
     "output_type": "stream",
     "text": [
      "                   all       2194      11058       0.52     0.0701     0.0386     0.0174\n",
      "\n",
      "      Epoch    GPU_mem   box_loss   cls_loss   dfl_loss  Instances       Size\n"
     ]
    },
    {
     "name": "stderr",
     "output_type": "stream",
     "text": [
      "      18/50      10.3G      1.719      3.223      1.808        278        640: 100%|██████████| 155/155 [02:14<00:00,  1.15it/s]\n",
      "                 Class     Images  Instances      Box(P          R      mAP50  mAP50-95): 100%|██████████| 18/18 [00:23<00:00,  1.30s/it]\n"
     ]
    },
    {
     "name": "stdout",
     "output_type": "stream",
     "text": [
      "                   all       2194      11058      0.537     0.0692     0.0412     0.0187\n",
      "\n",
      "      Epoch    GPU_mem   box_loss   cls_loss   dfl_loss  Instances       Size\n"
     ]
    },
    {
     "name": "stderr",
     "output_type": "stream",
     "text": [
      "      19/50      10.3G      1.711      3.219      1.801        192        640: 100%|██████████| 155/155 [02:14<00:00,  1.15it/s]\n",
      "                 Class     Images  Instances      Box(P          R      mAP50  mAP50-95): 100%|██████████| 18/18 [00:23<00:00,  1.29s/it]\n"
     ]
    },
    {
     "name": "stdout",
     "output_type": "stream",
     "text": [
      "                   all       2194      11058      0.549     0.0732     0.0419     0.0195\n",
      "\n",
      "      Epoch    GPU_mem   box_loss   cls_loss   dfl_loss  Instances       Size\n"
     ]
    },
    {
     "name": "stderr",
     "output_type": "stream",
     "text": [
      "      20/50      10.3G      1.713       3.21      1.808        221        640: 100%|██████████| 155/155 [02:14<00:00,  1.15it/s]\n",
      "                 Class     Images  Instances      Box(P          R      mAP50  mAP50-95): 100%|██████████| 18/18 [00:22<00:00,  1.27s/it]\n"
     ]
    },
    {
     "name": "stdout",
     "output_type": "stream",
     "text": [
      "                   all       2194      11058       0.53     0.0778     0.0426     0.0196\n",
      "\n",
      "      Epoch    GPU_mem   box_loss   cls_loss   dfl_loss  Instances       Size\n"
     ]
    },
    {
     "name": "stderr",
     "output_type": "stream",
     "text": [
      "      21/50      10.3G      1.705      3.198        1.8        295        640: 100%|██████████| 155/155 [02:14<00:00,  1.15it/s]\n",
      "                 Class     Images  Instances      Box(P          R      mAP50  mAP50-95): 100%|██████████| 18/18 [00:22<00:00,  1.27s/it]\n"
     ]
    },
    {
     "name": "stdout",
     "output_type": "stream",
     "text": [
      "                   all       2194      11058      0.551     0.0742     0.0431     0.0194\n",
      "\n",
      "      Epoch    GPU_mem   box_loss   cls_loss   dfl_loss  Instances       Size\n"
     ]
    },
    {
     "name": "stderr",
     "output_type": "stream",
     "text": [
      "      22/50      10.3G      1.701      3.191      1.796        267        640: 100%|██████████| 155/155 [02:14<00:00,  1.15it/s]\n",
      "                 Class     Images  Instances      Box(P          R      mAP50  mAP50-95): 100%|██████████| 18/18 [00:22<00:00,  1.26s/it]\n"
     ]
    },
    {
     "name": "stdout",
     "output_type": "stream",
     "text": [
      "                   all       2194      11058      0.589     0.0697     0.0432     0.0203\n",
      "\n",
      "      Epoch    GPU_mem   box_loss   cls_loss   dfl_loss  Instances       Size\n"
     ]
    },
    {
     "name": "stderr",
     "output_type": "stream",
     "text": [
      "      23/50      10.3G      1.698      3.176      1.796        239        640: 100%|██████████| 155/155 [02:14<00:00,  1.15it/s]\n",
      "                 Class     Images  Instances      Box(P          R      mAP50  mAP50-95): 100%|██████████| 18/18 [00:22<00:00,  1.26s/it]\n"
     ]
    },
    {
     "name": "stdout",
     "output_type": "stream",
     "text": [
      "                   all       2194      11058      0.526      0.079     0.0454     0.0205\n",
      "\n",
      "      Epoch    GPU_mem   box_loss   cls_loss   dfl_loss  Instances       Size\n"
     ]
    },
    {
     "name": "stderr",
     "output_type": "stream",
     "text": [
      "      24/50      10.3G      1.696       3.17      1.791        322        640: 100%|██████████| 155/155 [02:14<00:00,  1.15it/s]\n",
      "                 Class     Images  Instances      Box(P          R      mAP50  mAP50-95): 100%|██████████| 18/18 [00:23<00:00,  1.28s/it]\n"
     ]
    },
    {
     "name": "stdout",
     "output_type": "stream",
     "text": [
      "                   all       2194      11058       0.55     0.0762     0.0455      0.021\n",
      "\n",
      "      Epoch    GPU_mem   box_loss   cls_loss   dfl_loss  Instances       Size\n"
     ]
    },
    {
     "name": "stderr",
     "output_type": "stream",
     "text": [
      "      25/50      10.3G      1.696      3.167      1.788        281        640: 100%|██████████| 155/155 [02:14<00:00,  1.15it/s]\n",
      "                 Class     Images  Instances      Box(P          R      mAP50  mAP50-95): 100%|██████████| 18/18 [00:22<00:00,  1.25s/it]\n"
     ]
    },
    {
     "name": "stdout",
     "output_type": "stream",
     "text": [
      "                   all       2194      11058      0.508      0.081     0.0462     0.0218\n",
      "\n",
      "      Epoch    GPU_mem   box_loss   cls_loss   dfl_loss  Instances       Size\n"
     ]
    },
    {
     "name": "stderr",
     "output_type": "stream",
     "text": [
      "      26/50      10.3G      1.695      3.157      1.789        283        640: 100%|██████████| 155/155 [02:14<00:00,  1.15it/s]\n",
      "                 Class     Images  Instances      Box(P          R      mAP50  mAP50-95): 100%|██████████| 18/18 [00:22<00:00,  1.26s/it]\n"
     ]
    },
    {
     "name": "stdout",
     "output_type": "stream",
     "text": [
      "                   all       2194      11058      0.535     0.0852     0.0468     0.0214\n",
      "\n",
      "      Epoch    GPU_mem   box_loss   cls_loss   dfl_loss  Instances       Size\n"
     ]
    },
    {
     "name": "stderr",
     "output_type": "stream",
     "text": [
      "      27/50      10.3G      1.689      3.145      1.787        330        640: 100%|██████████| 155/155 [02:14<00:00,  1.15it/s]\n",
      "                 Class     Images  Instances      Box(P          R      mAP50  mAP50-95): 100%|██████████| 18/18 [00:23<00:00,  1.28s/it]\n"
     ]
    },
    {
     "name": "stdout",
     "output_type": "stream",
     "text": [
      "                   all       2194      11058      0.537     0.0794     0.0478     0.0223\n",
      "\n",
      "      Epoch    GPU_mem   box_loss   cls_loss   dfl_loss  Instances       Size\n"
     ]
    },
    {
     "name": "stderr",
     "output_type": "stream",
     "text": [
      "      28/50      10.3G      1.687      3.141      1.786        314        640: 100%|██████████| 155/155 [02:15<00:00,  1.15it/s]\n",
      "                 Class     Images  Instances      Box(P          R      mAP50  mAP50-95): 100%|██████████| 18/18 [00:22<00:00,  1.24s/it]\n"
     ]
    },
    {
     "name": "stdout",
     "output_type": "stream",
     "text": [
      "                   all       2194      11058      0.502     0.0824     0.0488     0.0228\n",
      "\n",
      "      Epoch    GPU_mem   box_loss   cls_loss   dfl_loss  Instances       Size\n"
     ]
    },
    {
     "name": "stderr",
     "output_type": "stream",
     "text": [
      "      29/50      10.3G      1.683      3.131      1.778        237        640: 100%|██████████| 155/155 [02:15<00:00,  1.15it/s]\n",
      "                 Class     Images  Instances      Box(P          R      mAP50  mAP50-95): 100%|██████████| 18/18 [00:22<00:00,  1.26s/it]\n"
     ]
    },
    {
     "name": "stdout",
     "output_type": "stream",
     "text": [
      "                   all       2194      11058      0.525     0.0812     0.0492     0.0232\n",
      "\n",
      "      Epoch    GPU_mem   box_loss   cls_loss   dfl_loss  Instances       Size\n"
     ]
    },
    {
     "name": "stderr",
     "output_type": "stream",
     "text": [
      "      30/50      10.1G      1.678      3.128      1.779        280        640: 100%|██████████| 155/155 [02:15<00:00,  1.14it/s]\n",
      "                 Class     Images  Instances      Box(P          R      mAP50  mAP50-95): 100%|██████████| 18/18 [00:22<00:00,  1.25s/it]\n"
     ]
    },
    {
     "name": "stdout",
     "output_type": "stream",
     "text": [
      "                   all       2194      11058       0.52     0.0807       0.05     0.0232\n",
      "\n",
      "      Epoch    GPU_mem   box_loss   cls_loss   dfl_loss  Instances       Size\n"
     ]
    },
    {
     "name": "stderr",
     "output_type": "stream",
     "text": [
      "      31/50      10.3G      1.683      3.124      1.783        304        640: 100%|██████████| 155/155 [02:14<00:00,  1.15it/s]\n",
      "                 Class     Images  Instances      Box(P          R      mAP50  mAP50-95): 100%|██████████| 18/18 [00:22<00:00,  1.28s/it]\n"
     ]
    },
    {
     "name": "stdout",
     "output_type": "stream",
     "text": [
      "                   all       2194      11058      0.498     0.0837     0.0507     0.0241\n",
      "\n",
      "      Epoch    GPU_mem   box_loss   cls_loss   dfl_loss  Instances       Size\n"
     ]
    },
    {
     "name": "stderr",
     "output_type": "stream",
     "text": [
      "      32/50      10.3G      1.679      3.106      1.779        309        640: 100%|██████████| 155/155 [02:14<00:00,  1.15it/s]\n",
      "                 Class     Images  Instances      Box(P          R      mAP50  mAP50-95): 100%|██████████| 18/18 [00:23<00:00,  1.29s/it]\n"
     ]
    },
    {
     "name": "stdout",
     "output_type": "stream",
     "text": [
      "                   all       2194      11058      0.499     0.0861     0.0496     0.0232\n",
      "\n",
      "      Epoch    GPU_mem   box_loss   cls_loss   dfl_loss  Instances       Size\n"
     ]
    },
    {
     "name": "stderr",
     "output_type": "stream",
     "text": [
      "      33/50      10.3G      1.673       3.11      1.769        303        640: 100%|██████████| 155/155 [02:14<00:00,  1.15it/s]\n",
      "                 Class     Images  Instances      Box(P          R      mAP50  mAP50-95): 100%|██████████| 18/18 [00:22<00:00,  1.26s/it]\n"
     ]
    },
    {
     "name": "stdout",
     "output_type": "stream",
     "text": [
      "                   all       2194      11058      0.501     0.0854     0.0498     0.0228\n",
      "\n",
      "      Epoch    GPU_mem   box_loss   cls_loss   dfl_loss  Instances       Size\n"
     ]
    },
    {
     "name": "stderr",
     "output_type": "stream",
     "text": [
      "      34/50      10.3G      1.676      3.103       1.77        301        640: 100%|██████████| 155/155 [02:15<00:00,  1.14it/s]\n",
      "                 Class     Images  Instances      Box(P          R      mAP50  mAP50-95): 100%|██████████| 18/18 [00:21<00:00,  1.20s/it]\n"
     ]
    },
    {
     "name": "stdout",
     "output_type": "stream",
     "text": [
      "                   all       2194      11058      0.495      0.087      0.052     0.0243\n",
      "\n",
      "      Epoch    GPU_mem   box_loss   cls_loss   dfl_loss  Instances       Size\n"
     ]
    },
    {
     "name": "stderr",
     "output_type": "stream",
     "text": [
      "      35/50      10.3G      1.675      3.092      1.767        312        640: 100%|██████████| 155/155 [02:14<00:00,  1.15it/s]\n",
      "                 Class     Images  Instances      Box(P          R      mAP50  mAP50-95): 100%|██████████| 18/18 [00:22<00:00,  1.26s/it]\n"
     ]
    },
    {
     "name": "stdout",
     "output_type": "stream",
     "text": [
      "                   all       2194      11058      0.493     0.0842     0.0513     0.0235\n",
      "\n",
      "      Epoch    GPU_mem   box_loss   cls_loss   dfl_loss  Instances       Size\n"
     ]
    },
    {
     "name": "stderr",
     "output_type": "stream",
     "text": [
      "      36/50      10.3G      1.673       3.09      1.771        267        640: 100%|██████████| 155/155 [02:16<00:00,  1.14it/s]\n",
      "                 Class     Images  Instances      Box(P          R      mAP50  mAP50-95): 100%|██████████| 18/18 [00:22<00:00,  1.23s/it]\n"
     ]
    },
    {
     "name": "stdout",
     "output_type": "stream",
     "text": [
      "                   all       2194      11058      0.484     0.0844     0.0511     0.0233\n",
      "\n",
      "      Epoch    GPU_mem   box_loss   cls_loss   dfl_loss  Instances       Size\n"
     ]
    },
    {
     "name": "stderr",
     "output_type": "stream",
     "text": [
      "      37/50      10.3G      1.667      3.089      1.769        296        640: 100%|██████████| 155/155 [02:15<00:00,  1.15it/s]\n",
      "                 Class     Images  Instances      Box(P          R      mAP50  mAP50-95): 100%|██████████| 18/18 [00:22<00:00,  1.25s/it]\n"
     ]
    },
    {
     "name": "stdout",
     "output_type": "stream",
     "text": [
      "                   all       2194      11058      0.486     0.0846     0.0513     0.0235\n",
      "\n",
      "      Epoch    GPU_mem   box_loss   cls_loss   dfl_loss  Instances       Size\n"
     ]
    },
    {
     "name": "stderr",
     "output_type": "stream",
     "text": [
      "      38/50      10.3G      1.668      3.085      1.771        224        640: 100%|██████████| 155/155 [02:14<00:00,  1.15it/s]\n",
      "                 Class     Images  Instances      Box(P          R      mAP50  mAP50-95): 100%|██████████| 18/18 [00:23<00:00,  1.29s/it]\n"
     ]
    },
    {
     "name": "stdout",
     "output_type": "stream",
     "text": [
      "                   all       2194      11058      0.467     0.0865     0.0518     0.0239\n",
      "\n",
      "      Epoch    GPU_mem   box_loss   cls_loss   dfl_loss  Instances       Size\n"
     ]
    },
    {
     "name": "stderr",
     "output_type": "stream",
     "text": [
      "      39/50      10.1G      1.666      3.076      1.763        232        640: 100%|██████████| 155/155 [02:14<00:00,  1.15it/s]\n",
      "                 Class     Images  Instances      Box(P          R      mAP50  mAP50-95): 100%|██████████| 18/18 [00:23<00:00,  1.30s/it]\n"
     ]
    },
    {
     "name": "stdout",
     "output_type": "stream",
     "text": [
      "                   all       2194      11058       0.48     0.0883     0.0527     0.0244\n",
      "\n",
      "      Epoch    GPU_mem   box_loss   cls_loss   dfl_loss  Instances       Size\n"
     ]
    },
    {
     "name": "stderr",
     "output_type": "stream",
     "text": [
      "      40/50      10.3G      1.664      3.076      1.764        293        640: 100%|██████████| 155/155 [02:14<00:00,  1.15it/s]\n",
      "                 Class     Images  Instances      Box(P          R      mAP50  mAP50-95): 100%|██████████| 18/18 [00:22<00:00,  1.25s/it]\n"
     ]
    },
    {
     "name": "stdout",
     "output_type": "stream",
     "text": [
      "                   all       2194      11058      0.481      0.087     0.0535     0.0251\n",
      "Closing dataloader mosaic\n",
      "\u001b[34m\u001b[1malbumentations: \u001b[0mBlur(p=0.01, blur_limit=(3, 7)), MedianBlur(p=0.01, blur_limit=(3, 7)), ToGray(p=0.01), CLAHE(p=0.01, clip_limit=(1, 4.0), tile_grid_size=(8, 8))\n",
      "\n",
      "      Epoch    GPU_mem   box_loss   cls_loss   dfl_loss  Instances       Size\n"
     ]
    },
    {
     "name": "stderr",
     "output_type": "stream",
     "text": [
      "      41/50        11G      1.617      2.997       1.89        166        640: 100%|██████████| 155/155 [02:13<00:00,  1.16it/s]\n",
      "                 Class     Images  Instances      Box(P          R      mAP50  mAP50-95): 100%|██████████| 18/18 [00:21<00:00,  1.18s/it]\n"
     ]
    },
    {
     "name": "stdout",
     "output_type": "stream",
     "text": [
      "                   all       2194      11058      0.457      0.093     0.0536     0.0264\n",
      "\n",
      "      Epoch    GPU_mem   box_loss   cls_loss   dfl_loss  Instances       Size\n"
     ]
    },
    {
     "name": "stderr",
     "output_type": "stream",
     "text": [
      "      42/50      10.3G        1.6      2.971      1.886        181        640: 100%|██████████| 155/155 [02:05<00:00,  1.23it/s]\n",
      "                 Class     Images  Instances      Box(P          R      mAP50  mAP50-95): 100%|██████████| 18/18 [00:21<00:00,  1.21s/it]\n"
     ]
    },
    {
     "name": "stdout",
     "output_type": "stream",
     "text": [
      "                   all       2194      11058      0.439     0.0924     0.0544     0.0274\n",
      "\n",
      "      Epoch    GPU_mem   box_loss   cls_loss   dfl_loss  Instances       Size\n"
     ]
    },
    {
     "name": "stderr",
     "output_type": "stream",
     "text": [
      "      43/50      10.3G      1.597      2.966      1.873        183        640: 100%|██████████| 155/155 [02:05<00:00,  1.24it/s]\n",
      "                 Class     Images  Instances      Box(P          R      mAP50  mAP50-95): 100%|██████████| 18/18 [00:22<00:00,  1.24s/it]\n"
     ]
    },
    {
     "name": "stdout",
     "output_type": "stream",
     "text": [
      "                   all       2194      11058      0.437     0.0953     0.0546     0.0274\n",
      "\n",
      "      Epoch    GPU_mem   box_loss   cls_loss   dfl_loss  Instances       Size\n"
     ]
    },
    {
     "name": "stderr",
     "output_type": "stream",
     "text": [
      "      44/50      10.3G      1.592      2.952      1.874        211        640: 100%|██████████| 155/155 [02:05<00:00,  1.24it/s]\n",
      "                 Class     Images  Instances      Box(P          R      mAP50  mAP50-95): 100%|██████████| 18/18 [00:22<00:00,  1.26s/it]\n"
     ]
    },
    {
     "name": "stdout",
     "output_type": "stream",
     "text": [
      "                   all       2194      11058       0.41     0.0965     0.0556      0.028\n",
      "\n",
      "      Epoch    GPU_mem   box_loss   cls_loss   dfl_loss  Instances       Size\n"
     ]
    },
    {
     "name": "stderr",
     "output_type": "stream",
     "text": [
      "      45/50      10.3G       1.59      2.951       1.87        170        640: 100%|██████████| 155/155 [02:05<00:00,  1.23it/s]\n",
      "                 Class     Images  Instances      Box(P          R      mAP50  mAP50-95): 100%|██████████| 18/18 [00:22<00:00,  1.24s/it]\n"
     ]
    },
    {
     "name": "stdout",
     "output_type": "stream",
     "text": [
      "                   all       2194      11058      0.444     0.0943     0.0559     0.0286\n",
      "\n",
      "      Epoch    GPU_mem   box_loss   cls_loss   dfl_loss  Instances       Size\n"
     ]
    },
    {
     "name": "stderr",
     "output_type": "stream",
     "text": [
      "      46/50      10.3G       1.59      2.951      1.876        190        640: 100%|██████████| 155/155 [02:04<00:00,  1.24it/s]\n",
      "                 Class     Images  Instances      Box(P          R      mAP50  mAP50-95): 100%|██████████| 18/18 [00:23<00:00,  1.29s/it]\n"
     ]
    },
    {
     "name": "stdout",
     "output_type": "stream",
     "text": [
      "                   all       2194      11058      0.451      0.093      0.056     0.0285\n",
      "\n",
      "      Epoch    GPU_mem   box_loss   cls_loss   dfl_loss  Instances       Size\n"
     ]
    },
    {
     "name": "stderr",
     "output_type": "stream",
     "text": [
      "      47/50      10.3G      1.587      2.946      1.872        162        640: 100%|██████████| 155/155 [02:06<00:00,  1.23it/s]\n",
      "                 Class     Images  Instances      Box(P          R      mAP50  mAP50-95): 100%|██████████| 18/18 [00:22<00:00,  1.26s/it]\n"
     ]
    },
    {
     "name": "stdout",
     "output_type": "stream",
     "text": [
      "                   all       2194      11058      0.439     0.0944     0.0558     0.0283\n",
      "\n",
      "      Epoch    GPU_mem   box_loss   cls_loss   dfl_loss  Instances       Size\n"
     ]
    },
    {
     "name": "stderr",
     "output_type": "stream",
     "text": [
      "      48/50      10.3G      1.584      2.939      1.869        190        640: 100%|██████████| 155/155 [02:05<00:00,  1.23it/s]\n",
      "                 Class     Images  Instances      Box(P          R      mAP50  mAP50-95): 100%|██████████| 18/18 [00:22<00:00,  1.23s/it]\n"
     ]
    },
    {
     "name": "stdout",
     "output_type": "stream",
     "text": [
      "                   all       2194      11058      0.438     0.0952     0.0563     0.0284\n",
      "\n",
      "      Epoch    GPU_mem   box_loss   cls_loss   dfl_loss  Instances       Size\n"
     ]
    },
    {
     "name": "stderr",
     "output_type": "stream",
     "text": [
      "      49/50      10.3G      1.585      2.941       1.87        152        640: 100%|██████████| 155/155 [02:06<00:00,  1.23it/s]\n",
      "                 Class     Images  Instances      Box(P          R      mAP50  mAP50-95): 100%|██████████| 18/18 [00:21<00:00,  1.21s/it]\n"
     ]
    },
    {
     "name": "stdout",
     "output_type": "stream",
     "text": [
      "                   all       2194      11058      0.428     0.0954     0.0563     0.0284\n",
      "\n",
      "      Epoch    GPU_mem   box_loss   cls_loss   dfl_loss  Instances       Size\n"
     ]
    },
    {
     "name": "stderr",
     "output_type": "stream",
     "text": [
      "      50/50      10.3G      1.584      2.934      1.868        169        640: 100%|██████████| 155/155 [02:05<00:00,  1.23it/s]\n",
      "                 Class     Images  Instances      Box(P          R      mAP50  mAP50-95): 100%|██████████| 18/18 [00:22<00:00,  1.25s/it]\n"
     ]
    },
    {
     "name": "stdout",
     "output_type": "stream",
     "text": [
      "                   all       2194      11058      0.438     0.0964     0.0562     0.0285\n",
      "\n",
      "50 epochs completed in 2.189 hours.\n",
      "Optimizer stripped from runs/detect/train/weights/last.pt, 6.9MB\n",
      "Optimizer stripped from runs/detect/train/weights/best.pt, 6.9MB\n",
      "\n",
      "Validating runs/detect/train/weights/best.pt...\n",
      "Ultralytics YOLOv8.2.21 🚀 Python-3.10.13 torch-2.1.2 CUDA:0 (Tesla P100-PCIE-16GB, 16276MiB)\n",
      "YOLOv8n summary (fused): 168 layers, 3341330 parameters, 0 gradients, 9.6 GFLOPs\n"
     ]
    },
    {
     "name": "stderr",
     "output_type": "stream",
     "text": [
      "                 Class     Images  Instances      Box(P          R      mAP50  mAP50-95): 100%|██████████| 18/18 [00:25<00:00,  1.41s/it]\n"
     ]
    },
    {
     "name": "stdout",
     "output_type": "stream",
     "text": [
      "                   all       2194      11058      0.443     0.0943     0.0559     0.0286\n",
      "                     1       2194         93      0.132     0.0753     0.0736     0.0364\n",
      "                     2       2194         74          0          0     0.0274     0.0121\n",
      "                     3       2194         11          1          0    0.00305    0.00157\n",
      "                     4       2194         93       0.11     0.0864     0.0398     0.0251\n",
      "                     5       2194         46          0          0     0.0172    0.00847\n",
      "                     6       2194         52          0          0     0.0337     0.0166\n",
      "                     7       2194         14          1          0     0.0124    0.00893\n",
      "                     8       2194         63     0.0384     0.0159     0.0098    0.00542\n",
      "                     9       2194         42          1          0    0.00767    0.00468\n",
      "                    10       2194         34          1          0    0.00192    0.00109\n",
      "                    11       2194         87     0.0238     0.0115     0.0281     0.0156\n",
      "                    12       2194         72          0          0     0.0528     0.0272\n",
      "                    13       2194         16          1          0    0.00696    0.00412\n",
      "                    14       2194         26          1          0     0.0367    0.00982\n",
      "                    15       2194        265      0.149      0.298      0.119     0.0606\n",
      "                    16       2194        496      0.124      0.665      0.257       0.13\n",
      "                    17       2194        250      0.168      0.308      0.141     0.0638\n",
      "                    18       2194         25          1          0    0.00407    0.00164\n",
      "                    19       2194        190     0.0734      0.137     0.0574     0.0265\n",
      "                    20       2194        100      0.011     0.0107     0.0261     0.0153\n",
      "                    21       2194        123     0.0688     0.0163     0.0597     0.0334\n",
      "                    22       2194         97      0.173      0.691      0.307      0.142\n",
      "                    23       2194        260      0.116      0.196      0.108     0.0439\n",
      "                    24       2194        119     0.0758     0.0924     0.0439     0.0231\n",
      "                    25       2194        525      0.158      0.379      0.157     0.0721\n",
      "                    26       2194        120     0.0599      0.133     0.0464      0.024\n",
      "                    27       2194        125     0.0796      0.144     0.0534     0.0283\n",
      "                    28       2194         90          1          0     0.0676     0.0282\n",
      "                    29       2194         12          1          0          0          0\n",
      "                    30       2194         45          1          0     0.0127    0.00548\n",
      "                    31       2194         15          1          0     0.0142    0.00574\n",
      "                    32       2194         36          1          0     0.0258     0.0113\n",
      "                    33       2194         30          1          0     0.0241     0.0119\n",
      "                    34       2194         45          0          0      0.017     0.0039\n",
      "                    35       2194         68          0          0     0.0352     0.0103\n",
      "                    36       2194         22          1          0    0.00952    0.00527\n",
      "                    37       2194         22          1          0    0.00247    0.00074\n",
      "                    38       2194        184      0.154      0.163      0.102     0.0468\n",
      "                    39       2194        140     0.0467     0.0357     0.0302     0.0138\n",
      "                    40       2194        225      0.127      0.142     0.0661     0.0319\n",
      "                    41       2194         38          1          0    0.00497     0.0013\n",
      "                    42       2194         61          0          0     0.0157    0.00758\n",
      "                    43       2194         96          1          0     0.0078    0.00316\n",
      "                    44       2194         42      0.222     0.0476     0.0526     0.0275\n",
      "                    45       2194         53          1          0     0.0225      0.012\n",
      "                    46       2194        237     0.0669     0.0678     0.0422     0.0187\n",
      "                    47       2194        139          0          0     0.0324     0.0174\n",
      "                    48       2194        182     0.0302    0.00549     0.0336     0.0152\n",
      "                    49       2194        318      0.119     0.0943     0.0731     0.0292\n",
      "                    50       2194        136          0          0     0.0307     0.0133\n",
      "                    51       2194        258       0.15      0.279      0.128     0.0622\n",
      "                    52       2194        524      0.136      0.452      0.147     0.0593\n",
      "                    53       2194          1          0          0          0          0\n",
      "                    54       2194         36        0.2      0.194      0.139     0.0937\n",
      "                    55       2194         30          1          0      0.019    0.00961\n",
      "                    56       2194         14          1          0     0.0108    0.00477\n",
      "                    57       2194         25          1          0    0.00278   0.000951\n",
      "                    58       2194         18          1          0     0.0162    0.00689\n",
      "                    59       2194         61          0          0     0.0119    0.00467\n",
      "                    62       2194          2          0          0          0          0\n",
      "                    63       2194         80     0.0689      0.025     0.0515     0.0174\n",
      "                    65       2194         40      0.261       0.05     0.0407     0.0166\n",
      "                    66       2194         11          1          0     0.0131    0.00857\n",
      "                    67       2194        163      0.241      0.607      0.366      0.218\n",
      "                    68       2194        188      0.196      0.255      0.158     0.0725\n",
      "                    69       2194         83     0.0856      0.422     0.0785     0.0518\n",
      "                    70       2194         98     0.0965      0.112     0.0605     0.0271\n",
      "                    71       2194        740      0.178      0.686      0.306      0.178\n",
      "                    72       2194         67       0.15      0.299     0.0892     0.0661\n",
      "                    73       2194         11          1          0          0          0\n",
      "                    74       2194         63      0.185      0.508      0.295      0.132\n",
      "                    75       2194         27          0          0      0.016    0.00811\n",
      "                    77       2194        103          0          0     0.0106    0.00426\n",
      "                    78       2194         21          1          0          0          0\n",
      "                    79       2194         29          0          0     0.0179    0.00574\n",
      "                    80       2194         33      0.921     0.0606     0.0673     0.0323\n",
      "                    82       2194         21          1          0    0.00766    0.00407\n",
      "                    83       2194         31     0.0496     0.0968     0.0726     0.0444\n",
      "                    84       2194         30          1          0     0.0048    0.00296\n",
      "                    85       2194         61          1          0     0.0254      0.014\n",
      "                    86       2194         12          1          0          0          0\n",
      "                    87       2194        243      0.218      0.111     0.0877     0.0468\n",
      "                    88       2194         77     0.0624     0.0649     0.0354     0.0215\n",
      "                    89       2194          7          1          0    0.00128   0.000896\n",
      "                    90       2194          8          1          0          0          0\n",
      "                    91       2194         23          1          0    0.00284   0.000677\n",
      "                    92       2194          5          1          0     0.0387     0.0108\n",
      "                    93       2194         43          0          0     0.0173    0.00908\n",
      "                    94       2194         13          1          0     0.0105    0.00643\n",
      "                    95       2194         77          0          0      0.028    0.00922\n",
      "                    96       2194         85      0.166     0.0588     0.0578     0.0183\n",
      "                    97       2194         43          1          0     0.0193      0.008\n",
      "                    98       2194         52          1          0     0.0572     0.0436\n",
      "                    99       2194          6          1          0          0          0\n",
      "                   100       2194         79      0.062      0.203      0.109     0.0899\n",
      "                   101       2194         37     0.0832     0.0811     0.0269     0.0199\n",
      "                   102       2194       1725      0.159      0.767      0.323      0.177\n",
      "Speed: 0.2ms preprocess, 2.2ms inference, 0.0ms loss, 3.3ms postprocess per image\n",
      "Results saved to \u001b[1mruns/detect/train\u001b[0m\n"
     ]
    },
    {
     "name": "stderr",
     "output_type": "stream",
     "text": [
      "\u001b[34m\u001b[1mwandb\u001b[0m:                                                                                \n",
      "\u001b[34m\u001b[1mwandb\u001b[0m: \n",
      "\u001b[34m\u001b[1mwandb\u001b[0m: Run history:\n",
      "\u001b[34m\u001b[1mwandb\u001b[0m:                  lr/pg0 ▃▆███▇▇▇▇▇▇▆▆▆▆▆▅▅▅▅▅▄▄▄▄▄▄▃▃▃▃▃▂▂▂▂▂▁▁▁\n",
      "\u001b[34m\u001b[1mwandb\u001b[0m:                  lr/pg1 ▃▆███▇▇▇▇▇▇▆▆▆▆▆▅▅▅▅▅▄▄▄▄▄▄▃▃▃▃▃▂▂▂▂▂▁▁▁\n",
      "\u001b[34m\u001b[1mwandb\u001b[0m:                  lr/pg2 ▃▆███▇▇▇▇▇▇▆▆▆▆▆▅▅▅▅▅▄▄▄▄▄▄▃▃▃▃▃▂▂▂▂▂▁▁▁\n",
      "\u001b[34m\u001b[1mwandb\u001b[0m:        metrics/mAP50(B) ▁▂▂▂▃▃▃▄▄▄▄▅▅▅▅▆▆▆▆▆▆▇▇▇▇▇▇▇▇▇▇▇████████\n",
      "\u001b[34m\u001b[1mwandb\u001b[0m:     metrics/mAP50-95(B) ▁▂▂▂▂▃▂▃▃▄▄▄▄▄▅▅▅▅▅▆▆▆▆▆▇▆▆▇▆▆▇▇▇███████\n",
      "\u001b[34m\u001b[1mwandb\u001b[0m:    metrics/precision(B) ▁██▇▇▇▇▇▇█▇█▇▇▇▇▇█▇▇▇▇▇▇▇▇▇▆▆▆▆▆▆▆▆▅▆▆▆▆\n",
      "\u001b[34m\u001b[1mwandb\u001b[0m:       metrics/recall(B) █▁▁▂▂▂▂▂▂▂▂▂▃▃▃▃▃▃▃▃▃▃▃▃▃▃▃▃▃▃▃▃▄▄▄▄▄▄▄▄\n",
      "\u001b[34m\u001b[1mwandb\u001b[0m:            model/GFLOPs ▁\n",
      "\u001b[34m\u001b[1mwandb\u001b[0m:        model/parameters ▁\n",
      "\u001b[34m\u001b[1mwandb\u001b[0m: model/speed_PyTorch(ms) ▁\n",
      "\u001b[34m\u001b[1mwandb\u001b[0m:          train/box_loss █▅▅▄▄▄▄▃▃▃▃▃▃▃▃▃▃▃▃▃▂▂▂▂▂▂▂▂▂▂▂▂▁▁▁▁▁▁▁▁\n",
      "\u001b[34m\u001b[1mwandb\u001b[0m:          train/cls_loss █▆▅▅▄▄▄▄▃▃▃▃▃▃▃▃▃▂▂▂▂▂▂▂▂▂▂▂▂▂▂▂▁▁▁▁▁▁▁▁\n",
      "\u001b[34m\u001b[1mwandb\u001b[0m:          train/dfl_loss █▄▄▃▃▃▃▂▂▂▂▂▂▂▂▂▂▂▂▂▁▁▁▁▁▁▁▁▁▁▁▁▃▃▃▃▃▃▃▃\n",
      "\u001b[34m\u001b[1mwandb\u001b[0m:            val/box_loss ▇▇▆▅▆▄▇▄█▄▃▆▆▆▅▄▅▄▆▄▅▅▄▄▄▅▆▄▆▆▆▅▂▁▁▁▁▁▁▁\n",
      "\u001b[34m\u001b[1mwandb\u001b[0m:            val/cls_loss █▇▇▆▆▅▅▄▄▄▄▄▃▃▃▃▃▃▃▃▂▂▂▂▂▂▂▂▂▂▂▂▁▁▁▁▁▁▁▁\n",
      "\u001b[34m\u001b[1mwandb\u001b[0m:            val/dfl_loss ▇▇▅▅▆▄▇▄█▄▃▆▆▆▅▄▅▄▆▄▅▄▄▄▄▅▆▄▆▆▆▅▂▁▁▁▁▁▁▁\n",
      "\u001b[34m\u001b[1mwandb\u001b[0m: \n",
      "\u001b[34m\u001b[1mwandb\u001b[0m: Run summary:\n",
      "\u001b[34m\u001b[1mwandb\u001b[0m:                  lr/pg0 0.0\n",
      "\u001b[34m\u001b[1mwandb\u001b[0m:                  lr/pg1 0.0\n",
      "\u001b[34m\u001b[1mwandb\u001b[0m:                  lr/pg2 0.0\n",
      "\u001b[34m\u001b[1mwandb\u001b[0m:        metrics/mAP50(B) 0.05592\n",
      "\u001b[34m\u001b[1mwandb\u001b[0m:     metrics/mAP50-95(B) 0.02855\n",
      "\u001b[34m\u001b[1mwandb\u001b[0m:    metrics/precision(B) 0.44326\n",
      "\u001b[34m\u001b[1mwandb\u001b[0m:       metrics/recall(B) 0.09433\n",
      "\u001b[34m\u001b[1mwandb\u001b[0m:            model/GFLOPs 9.726\n",
      "\u001b[34m\u001b[1mwandb\u001b[0m:        model/parameters 3346746\n",
      "\u001b[34m\u001b[1mwandb\u001b[0m: model/speed_PyTorch(ms) 2.235\n",
      "\u001b[34m\u001b[1mwandb\u001b[0m:          train/box_loss 1.58352\n",
      "\u001b[34m\u001b[1mwandb\u001b[0m:          train/cls_loss 2.93434\n",
      "\u001b[34m\u001b[1mwandb\u001b[0m:          train/dfl_loss 1.86782\n",
      "\u001b[34m\u001b[1mwandb\u001b[0m:            val/box_loss 1.58279\n",
      "\u001b[34m\u001b[1mwandb\u001b[0m:            val/cls_loss 2.78588\n",
      "\u001b[34m\u001b[1mwandb\u001b[0m:            val/dfl_loss 1.93078\n",
      "\u001b[34m\u001b[1mwandb\u001b[0m: \n",
      "\u001b[34m\u001b[1mwandb\u001b[0m: You can sync this run to the cloud by running:\n",
      "\u001b[34m\u001b[1mwandb\u001b[0m: \u001b[1mwandb sync /kaggle/working/wandb/offline-run-20240524_170811-myhqzlxl\u001b[0m\n",
      "\u001b[34m\u001b[1mwandb\u001b[0m: Find logs at: \u001b[35m\u001b[1m./wandb/offline-run-20240524_170811-myhqzlxl/logs\u001b[0m\n"
     ]
    },
    {
     "name": "stdout",
     "output_type": "stream",
     "text": [
      "Ultralytics YOLOv8.2.21 🚀 Python-3.10.13 torch-2.1.2 CUDA:0 (Tesla P100-PCIE-16GB, 16276MiB)\n",
      "YOLOv8n summary (fused): 168 layers, 3341330 parameters, 0 gradients, 9.6 GFLOPs\n"
     ]
    },
    {
     "name": "stderr",
     "output_type": "stream",
     "text": [
      "\u001b[34m\u001b[1mval: \u001b[0mScanning /kaggle/input/pestvisiondata/pestvision_data/synthetic_data/Libcom_HarmonizationData_PCTNet/run1/paddy-disease-classification/labels/val... 1992 images, 202 backgrounds, 0 corrupt: 100%|██████████| 2194/2194 [00:07<00:00, 296.71it/s]"
     ]
    },
    {
     "name": "stdout",
     "output_type": "stream",
     "text": [
      "\u001b[34m\u001b[1mval: \u001b[0mWARNING ⚠️ Cache directory /kaggle/input/pestvisiondata/pestvision_data/synthetic_data/Libcom_HarmonizationData_PCTNet/run1/paddy-disease-classification/labels is not writeable, cache not saved.\n"
     ]
    },
    {
     "name": "stderr",
     "output_type": "stream",
     "text": [
      "\n",
      "                 Class     Images  Instances      Box(P          R      mAP50  mAP50-95): 100%|██████████| 35/35 [00:26<00:00,  1.30it/s]\n"
     ]
    },
    {
     "name": "stdout",
     "output_type": "stream",
     "text": [
      "                   all       2194      11058      0.444     0.0943      0.056     0.0285\n",
      "                     1       2194         93      0.132     0.0753     0.0735     0.0363\n",
      "                     2       2194         74          0          0     0.0285     0.0125\n",
      "                     3       2194         11          1          0    0.00305    0.00167\n",
      "                     4       2194         93      0.109      0.086       0.04     0.0251\n",
      "                     5       2194         46          0          0     0.0172    0.00851\n",
      "                     6       2194         52          0          0     0.0338     0.0166\n",
      "                     7       2194         14          1          0     0.0124    0.00893\n",
      "                     8       2194         63     0.0386     0.0159    0.00982    0.00544\n",
      "                     9       2194         42          1          0    0.00762    0.00465\n",
      "                    10       2194         34          1          0    0.00192    0.00109\n",
      "                    11       2194         87     0.0238     0.0115     0.0281     0.0158\n",
      "                    12       2194         72          0          0     0.0522     0.0268\n",
      "                    13       2194         16          1          0    0.00702    0.00416\n",
      "                    14       2194         26          1          0     0.0374       0.01\n",
      "                    15       2194        265       0.15      0.298       0.12     0.0606\n",
      "                    16       2194        496      0.125      0.665      0.257      0.129\n",
      "                    17       2194        250      0.169      0.308      0.142     0.0639\n",
      "                    18       2194         25          1          0    0.00406    0.00167\n",
      "                    19       2194        190     0.0772      0.142     0.0588     0.0267\n",
      "                    20       2194        100     0.0106       0.01      0.026     0.0155\n",
      "                    21       2194        123     0.0697     0.0163     0.0599     0.0336\n",
      "                    22       2194         97      0.174      0.694      0.306      0.142\n",
      "                    23       2194        260      0.118      0.196      0.108     0.0438\n",
      "                    24       2194        119     0.0761     0.0924     0.0441     0.0231\n",
      "                    25       2194        525      0.158      0.379      0.157     0.0727\n",
      "                    26       2194        120     0.0602      0.133     0.0465      0.024\n",
      "                    27       2194        125     0.0802      0.144     0.0531     0.0283\n",
      "                    28       2194         90          1          0     0.0664     0.0279\n",
      "                    29       2194         12          1          0          0          0\n",
      "                    30       2194         45          1          0     0.0129    0.00545\n",
      "                    31       2194         15          1          0     0.0142    0.00572\n",
      "                    32       2194         36          1          0     0.0258     0.0112\n",
      "                    33       2194         30          1          0     0.0244     0.0119\n",
      "                    34       2194         45          0          0     0.0178    0.00398\n",
      "                    35       2194         68          0          0     0.0343       0.01\n",
      "                    36       2194         22          1          0    0.00948    0.00535\n",
      "                    37       2194         22          1          0    0.00248   0.000842\n",
      "                    38       2194        184      0.152      0.162      0.102     0.0467\n",
      "                    39       2194        140     0.0469     0.0357     0.0305     0.0139\n",
      "                    40       2194        225      0.129      0.142      0.066     0.0322\n",
      "                    41       2194         38          1          0    0.00499     0.0013\n",
      "                    42       2194         61          0          0     0.0157    0.00757\n",
      "                    43       2194         96          1          0    0.00769    0.00308\n",
      "                    44       2194         42       0.25     0.0476     0.0532     0.0281\n",
      "                    45       2194         53          1          0     0.0229     0.0123\n",
      "                    46       2194        237     0.0679     0.0675     0.0416     0.0187\n",
      "                    47       2194        139          0          0     0.0323     0.0174\n",
      "                    48       2194        182     0.0335    0.00549     0.0335     0.0152\n",
      "                    49       2194        318      0.123     0.0975     0.0732     0.0292\n",
      "                    50       2194        136          0          0     0.0307     0.0133\n",
      "                    51       2194        258      0.151      0.279      0.128     0.0621\n",
      "                    52       2194        524      0.136      0.448      0.147     0.0592\n",
      "                    53       2194          1          0          0          0          0\n",
      "                    54       2194         36      0.201      0.194      0.139     0.0924\n",
      "                    55       2194         30          1          0     0.0192    0.00963\n",
      "                    56       2194         14          1          0     0.0108    0.00476\n",
      "                    57       2194         25          1          0    0.00277   0.000974\n",
      "                    58       2194         18          1          0     0.0165    0.00721\n",
      "                    59       2194         61          0          0     0.0119    0.00465\n",
      "                    62       2194          2          0          0          0          0\n",
      "                    63       2194         80     0.0685      0.025     0.0512     0.0174\n",
      "                    65       2194         40      0.261       0.05     0.0435     0.0177\n",
      "                    66       2194         11          1          0     0.0132    0.00865\n",
      "                    67       2194        163       0.24      0.601      0.365      0.219\n",
      "                    68       2194        188      0.196      0.255      0.157     0.0731\n",
      "                    69       2194         83     0.0858      0.422     0.0783     0.0518\n",
      "                    70       2194         98     0.0969      0.112     0.0605     0.0269\n",
      "                    71       2194        740      0.178      0.684      0.305      0.178\n",
      "                    72       2194         67      0.151      0.299      0.089     0.0653\n",
      "                    73       2194         11          1          0          0          0\n",
      "                    74       2194         63      0.185      0.508      0.294      0.132\n",
      "                    75       2194         27          0          0      0.016     0.0081\n",
      "                    77       2194        103          0          0     0.0105    0.00427\n",
      "                    78       2194         21          1          0          0          0\n",
      "                    79       2194         29          0          0      0.018     0.0059\n",
      "                    80       2194         33      0.932     0.0606     0.0673     0.0305\n",
      "                    82       2194         21          1          0    0.00768    0.00402\n",
      "                    83       2194         31     0.0497     0.0968     0.0731     0.0447\n",
      "                    84       2194         30          1          0     0.0048    0.00296\n",
      "                    85       2194         61          1          0     0.0255     0.0132\n",
      "                    86       2194         12          1          0          0          0\n",
      "                    87       2194        243       0.22      0.111     0.0874     0.0467\n",
      "                    88       2194         77      0.062     0.0649     0.0355     0.0216\n",
      "                    89       2194          7          1          0    0.00128   0.000894\n",
      "                    90       2194          8          1          0          0          0\n",
      "                    91       2194         23          1          0    0.00284   0.000674\n",
      "                    92       2194          5          1          0       0.04      0.011\n",
      "                    93       2194         43          0          0     0.0171    0.00915\n",
      "                    94       2194         13          1          0     0.0105    0.00641\n",
      "                    95       2194         77          0          0     0.0281    0.00917\n",
      "                    96       2194         85      0.167     0.0588      0.057     0.0182\n",
      "                    97       2194         43          1          0     0.0196    0.00817\n",
      "                    98       2194         52          1          0     0.0568     0.0415\n",
      "                    99       2194          6          1          0          0          0\n",
      "                   100       2194         79     0.0621      0.203      0.107     0.0883\n",
      "                   101       2194         37     0.0858     0.0811     0.0268     0.0193\n",
      "                   102       2194       1725      0.159      0.767      0.323      0.177\n",
      "Speed: 0.2ms preprocess, 2.5ms inference, 0.0ms loss, 3.1ms postprocess per image\n",
      "Results saved to \u001b[1mruns/detect/train2\u001b[0m\n"
     ]
    }
   ],
   "source": [
    "train('/kaggle/input/yolo/other/exp1/1/last.pt', dset_paths[3], val_paths[3])"
   ]
  }
 ],
 "metadata": {
  "kaggle": {
   "accelerator": "gpu",
   "dataSources": [
    {
     "datasetId": 5067045,
     "sourceId": 8492734,
     "sourceType": "datasetVersion"
    },
    {
     "datasetId": 5072195,
     "sourceId": 8499657,
     "sourceType": "datasetVersion"
    },
    {
     "isSourceIdPinned": true,
     "modelInstanceId": 46883,
     "sourceId": 55784,
     "sourceType": "modelInstanceVersion"
    }
   ],
   "dockerImageVersionId": 30698,
   "isGpuEnabled": true,
   "isInternetEnabled": true,
   "language": "python",
   "sourceType": "notebook"
  },
  "kernelspec": {
   "display_name": "Python 3",
   "language": "python",
   "name": "python3"
  },
  "language_info": {
   "codemirror_mode": {
    "name": "ipython",
    "version": 3
   },
   "file_extension": ".py",
   "mimetype": "text/x-python",
   "name": "python",
   "nbconvert_exporter": "python",
   "pygments_lexer": "ipython3",
   "version": "3.10.13"
  },
  "papermill": {
   "default_parameters": {},
   "duration": 8155.32201,
   "end_time": "2024-05-24T19:23:22.549431",
   "environment_variables": {},
   "exception": null,
   "input_path": "__notebook__.ipynb",
   "output_path": "__notebook__.ipynb",
   "parameters": {},
   "start_time": "2024-05-24T17:07:27.227421",
   "version": "2.5.0"
  }
 },
 "nbformat": 4,
 "nbformat_minor": 5
}

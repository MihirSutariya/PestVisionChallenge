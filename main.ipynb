{
 "cells": [
  {
   "cell_type": "code",
   "execution_count": 1,
   "id": "2d54c447",
   "metadata": {
    "execution": {
     "iopub.execute_input": "2024-05-26T05:35:11.593325Z",
     "iopub.status.busy": "2024-05-26T05:35:11.592972Z",
     "iopub.status.idle": "2024-05-26T05:35:25.570483Z",
     "shell.execute_reply": "2024-05-26T05:35:25.569294Z"
    },
    "papermill": {
     "duration": 13.984913,
     "end_time": "2024-05-26T05:35:25.573016",
     "exception": false,
     "start_time": "2024-05-26T05:35:11.588103",
     "status": "completed"
    },
    "tags": []
   },
   "outputs": [
    {
     "name": "stdout",
     "output_type": "stream",
     "text": [
      "Collecting ultralytics\r\n",
      "  Downloading ultralytics-8.2.22-py3-none-any.whl.metadata (40 kB)\r\n",
      "\u001b[2K     \u001b[90m━━━━━━━━━━━━━━━━━━━━━━━━━━━━━━━━━━━━━━━━\u001b[0m \u001b[32m40.7/40.7 kB\u001b[0m \u001b[31m3.0 MB/s\u001b[0m eta \u001b[36m0:00:00\u001b[0m\r\n",
      "\u001b[?25hRequirement already satisfied: matplotlib>=3.3.0 in /opt/conda/lib/python3.10/site-packages (from ultralytics) (3.7.5)\r\n",
      "Requirement already satisfied: opencv-python>=4.6.0 in /opt/conda/lib/python3.10/site-packages (from ultralytics) (4.9.0.80)\r\n",
      "Requirement already satisfied: pillow>=7.1.2 in /opt/conda/lib/python3.10/site-packages (from ultralytics) (9.5.0)\r\n",
      "Requirement already satisfied: pyyaml>=5.3.1 in /opt/conda/lib/python3.10/site-packages (from ultralytics) (6.0.1)\r\n",
      "Requirement already satisfied: requests>=2.23.0 in /opt/conda/lib/python3.10/site-packages (from ultralytics) (2.31.0)\r\n",
      "Requirement already satisfied: scipy>=1.4.1 in /opt/conda/lib/python3.10/site-packages (from ultralytics) (1.11.4)\r\n",
      "Requirement already satisfied: torch>=1.8.0 in /opt/conda/lib/python3.10/site-packages (from ultralytics) (2.1.2)\r\n",
      "Requirement already satisfied: torchvision>=0.9.0 in /opt/conda/lib/python3.10/site-packages (from ultralytics) (0.16.2)\r\n",
      "Requirement already satisfied: tqdm>=4.64.0 in /opt/conda/lib/python3.10/site-packages (from ultralytics) (4.66.1)\r\n",
      "Requirement already satisfied: psutil in /opt/conda/lib/python3.10/site-packages (from ultralytics) (5.9.3)\r\n",
      "Requirement already satisfied: py-cpuinfo in /opt/conda/lib/python3.10/site-packages (from ultralytics) (9.0.0)\r\n",
      "Collecting thop>=0.1.1 (from ultralytics)\r\n",
      "  Downloading thop-0.1.1.post2209072238-py3-none-any.whl.metadata (2.7 kB)\r\n",
      "Requirement already satisfied: pandas>=1.1.4 in /opt/conda/lib/python3.10/site-packages (from ultralytics) (2.1.4)\r\n",
      "Requirement already satisfied: seaborn>=0.11.0 in /opt/conda/lib/python3.10/site-packages (from ultralytics) (0.12.2)\r\n",
      "Requirement already satisfied: contourpy>=1.0.1 in /opt/conda/lib/python3.10/site-packages (from matplotlib>=3.3.0->ultralytics) (1.2.0)\r\n",
      "Requirement already satisfied: cycler>=0.10 in /opt/conda/lib/python3.10/site-packages (from matplotlib>=3.3.0->ultralytics) (0.12.1)\r\n",
      "Requirement already satisfied: fonttools>=4.22.0 in /opt/conda/lib/python3.10/site-packages (from matplotlib>=3.3.0->ultralytics) (4.47.0)\r\n",
      "Requirement already satisfied: kiwisolver>=1.0.1 in /opt/conda/lib/python3.10/site-packages (from matplotlib>=3.3.0->ultralytics) (1.4.5)\r\n",
      "Requirement already satisfied: numpy<2,>=1.20 in /opt/conda/lib/python3.10/site-packages (from matplotlib>=3.3.0->ultralytics) (1.26.4)\r\n",
      "Requirement already satisfied: packaging>=20.0 in /opt/conda/lib/python3.10/site-packages (from matplotlib>=3.3.0->ultralytics) (21.3)\r\n",
      "Requirement already satisfied: pyparsing>=2.3.1 in /opt/conda/lib/python3.10/site-packages (from matplotlib>=3.3.0->ultralytics) (3.1.1)\r\n",
      "Requirement already satisfied: python-dateutil>=2.7 in /opt/conda/lib/python3.10/site-packages (from matplotlib>=3.3.0->ultralytics) (2.9.0.post0)\r\n",
      "Requirement already satisfied: pytz>=2020.1 in /opt/conda/lib/python3.10/site-packages (from pandas>=1.1.4->ultralytics) (2023.3.post1)\r\n",
      "Requirement already satisfied: tzdata>=2022.1 in /opt/conda/lib/python3.10/site-packages (from pandas>=1.1.4->ultralytics) (2023.4)\r\n",
      "Requirement already satisfied: charset-normalizer<4,>=2 in /opt/conda/lib/python3.10/site-packages (from requests>=2.23.0->ultralytics) (3.3.2)\r\n",
      "Requirement already satisfied: idna<4,>=2.5 in /opt/conda/lib/python3.10/site-packages (from requests>=2.23.0->ultralytics) (3.6)\r\n",
      "Requirement already satisfied: urllib3<3,>=1.21.1 in /opt/conda/lib/python3.10/site-packages (from requests>=2.23.0->ultralytics) (1.26.18)\r\n",
      "Requirement already satisfied: certifi>=2017.4.17 in /opt/conda/lib/python3.10/site-packages (from requests>=2.23.0->ultralytics) (2024.2.2)\r\n",
      "Requirement already satisfied: filelock in /opt/conda/lib/python3.10/site-packages (from torch>=1.8.0->ultralytics) (3.13.1)\r\n",
      "Requirement already satisfied: typing-extensions in /opt/conda/lib/python3.10/site-packages (from torch>=1.8.0->ultralytics) (4.9.0)\r\n",
      "Requirement already satisfied: sympy in /opt/conda/lib/python3.10/site-packages (from torch>=1.8.0->ultralytics) (1.12)\r\n",
      "Requirement already satisfied: networkx in /opt/conda/lib/python3.10/site-packages (from torch>=1.8.0->ultralytics) (3.2.1)\r\n",
      "Requirement already satisfied: jinja2 in /opt/conda/lib/python3.10/site-packages (from torch>=1.8.0->ultralytics) (3.1.2)\r\n",
      "Requirement already satisfied: fsspec in /opt/conda/lib/python3.10/site-packages (from torch>=1.8.0->ultralytics) (2024.2.0)\r\n",
      "Requirement already satisfied: six>=1.5 in /opt/conda/lib/python3.10/site-packages (from python-dateutil>=2.7->matplotlib>=3.3.0->ultralytics) (1.16.0)\r\n",
      "Requirement already satisfied: MarkupSafe>=2.0 in /opt/conda/lib/python3.10/site-packages (from jinja2->torch>=1.8.0->ultralytics) (2.1.3)\r\n",
      "Requirement already satisfied: mpmath>=0.19 in /opt/conda/lib/python3.10/site-packages (from sympy->torch>=1.8.0->ultralytics) (1.3.0)\r\n",
      "Downloading ultralytics-8.2.22-py3-none-any.whl (778 kB)\r\n",
      "\u001b[2K   \u001b[90m━━━━━━━━━━━━━━━━━━━━━━━━━━━━━━━━━━━━━━━━\u001b[0m \u001b[32m778.4/778.4 kB\u001b[0m \u001b[31m34.1 MB/s\u001b[0m eta \u001b[36m0:00:00\u001b[0m\r\n",
      "\u001b[?25hDownloading thop-0.1.1.post2209072238-py3-none-any.whl (15 kB)\r\n",
      "Installing collected packages: thop, ultralytics\r\n",
      "Successfully installed thop-0.1.1.post2209072238 ultralytics-8.2.22\r\n"
     ]
    }
   ],
   "source": [
    "# !conda env create -f /kaggle/input/condaenv/environment.yml\n",
    "# !conda init\n",
    "# !conda activate pestvision\n",
    "# !wget -P /kaggle/input/ https://storage.googleapis.com/npss-pestvision-data/pestvision_data.zip\n",
    "!pip install ultralytics"
   ]
  },
  {
   "cell_type": "code",
   "execution_count": 2,
   "id": "c07dce45",
   "metadata": {
    "execution": {
     "iopub.execute_input": "2024-05-26T05:35:25.582934Z",
     "iopub.status.busy": "2024-05-26T05:35:25.582640Z",
     "iopub.status.idle": "2024-05-26T05:35:28.614424Z",
     "shell.execute_reply": "2024-05-26T05:35:28.613463Z"
    },
    "papermill": {
     "duration": 3.03916,
     "end_time": "2024-05-26T05:35:28.616582",
     "exception": false,
     "start_time": "2024-05-26T05:35:25.577422",
     "status": "completed"
    },
    "tags": []
   },
   "outputs": [],
   "source": [
    "import os\n",
    "os.environ['WANDB_DISABLED'] = 'true'\n",
    "import numpy as np\n",
    "import torch\n",
    "import yaml"
   ]
  },
  {
   "cell_type": "code",
   "execution_count": 3,
   "id": "0390e249",
   "metadata": {
    "execution": {
     "iopub.execute_input": "2024-05-26T05:35:28.626222Z",
     "iopub.status.busy": "2024-05-26T05:35:28.625805Z",
     "iopub.status.idle": "2024-05-26T05:35:28.631096Z",
     "shell.execute_reply": "2024-05-26T05:35:28.630156Z"
    },
    "papermill": {
     "duration": 0.012302,
     "end_time": "2024-05-26T05:35:28.633220",
     "exception": false,
     "start_time": "2024-05-26T05:35:28.620918",
     "status": "completed"
    },
    "tags": []
   },
   "outputs": [],
   "source": [
    "root = '/kaggle/input/pestvisiondata/pestvision_data/'\n",
    "dset_paths = ['synthetic_data/DeepImageBlendingData/run3/RiceLeafs/images/train',\n",
    "             'synthetic_data/DeepImageBlendingData/run3/paddy-disease-classification/images/train',\n",
    "             'synthetic_data/Libcom_HarmonizationData_PCTNet/run1/RiceLeafs/images/train',\n",
    "             'synthetic_data/Libcom_HarmonizationData_PCTNet/run1/paddy-disease-classification/images/train']\n",
    "dset_paths = [os.path.join(root,i) for i in dset_paths]\n",
    "val_paths = [\"/\".join(i.split('/')[:-1]+['val']) for i in dset_paths]"
   ]
  },
  {
   "cell_type": "code",
   "execution_count": 4,
   "id": "9be294dc",
   "metadata": {
    "execution": {
     "iopub.execute_input": "2024-05-26T05:35:28.642340Z",
     "iopub.status.busy": "2024-05-26T05:35:28.642082Z",
     "iopub.status.idle": "2024-05-26T05:35:29.932012Z",
     "shell.execute_reply": "2024-05-26T05:35:29.931150Z"
    },
    "papermill": {
     "duration": 1.296745,
     "end_time": "2024-05-26T05:35:29.934063",
     "exception": false,
     "start_time": "2024-05-26T05:35:28.637318",
     "status": "completed"
    },
    "tags": []
   },
   "outputs": [
    {
     "name": "stderr",
     "output_type": "stream",
     "text": [
      "\u001b[34m\u001b[1mwandb\u001b[0m: \u001b[33mWARNING\u001b[0m This integration is tested and supported for ultralytics v8.0.238 and below.\n",
      "\u001b[34m\u001b[1mwandb\u001b[0m: \u001b[33mWARNING\u001b[0m             Please report any issues to https://github.com/wandb/wandb/issues with the tag `yolov8`.\n"
     ]
    }
   ],
   "source": [
    "# object detection code base with abstract class\n",
    "\n",
    "import os\n",
    "from abc import ABC, abstractmethod\n",
    "from ultralytics import YOLO\n",
    "import wandb\n",
    "from wandb.integration.ultralytics import add_wandb_callback\n",
    "\n",
    "\n",
    "class AbstractPestDetection(ABC):\n",
    "    \"\"\"\n",
    "    Abstract class for pest detection\n",
    "    \"\"\"\n",
    "\n",
    "    def __init__(self, device):\n",
    "        self.device = device\n",
    "\n",
    "    @abstractmethod\n",
    "    def load_model(self, model_path):\n",
    "        pass\n",
    "\n",
    "    @abstractmethod\n",
    "    def train(self):\n",
    "        pass\n",
    "\n",
    "    # TODO: implement evaluate method\n",
    "    # @abstractmethod\n",
    "    # def evaluate(self):\n",
    "    #     pass\n",
    "\n",
    "\n",
    "class PestDetection_yolov8(AbstractPestDetection):\n",
    "    \"\"\"\n",
    "    YOLOv8 model for pest detection\n",
    "    \"\"\"\n",
    "\n",
    "    def __init__(self, device):\n",
    "        super().__init__(device)\n",
    "        self.model = None\n",
    "\n",
    "    def load_model(self, model_path):\n",
    "        \"\"\"\n",
    "        Load the YOLOv8 model\n",
    "\n",
    "        Parameters:\n",
    "\n",
    "         model_path (str): path to the model checkpoint\n",
    "        \"\"\"\n",
    "\n",
    "        self.model = YOLO(model_path)\n",
    "\n",
    "    def train(self,**kwargs):\n",
    "\n",
    "        results = self.model.train(**kwargs)\n",
    "        self.model.val()\n",
    "\n",
    "        return results\n",
    "\n",
    "    # TODO: implment evaluate method\n",
    "    # def evaluate(self):\n",
    "    #     pass\n"
   ]
  },
  {
   "cell_type": "code",
   "execution_count": 5,
   "id": "794b03f1",
   "metadata": {
    "execution": {
     "iopub.execute_input": "2024-05-26T05:35:29.943768Z",
     "iopub.status.busy": "2024-05-26T05:35:29.943485Z",
     "iopub.status.idle": "2024-05-26T05:35:29.948692Z",
     "shell.execute_reply": "2024-05-26T05:35:29.947896Z"
    },
    "papermill": {
     "duration": 0.012088,
     "end_time": "2024-05-26T05:35:29.950544",
     "exception": false,
     "start_time": "2024-05-26T05:35:29.938456",
     "status": "completed"
    },
    "tags": []
   },
   "outputs": [],
   "source": [
    "def make_dsetconfig(train,val):\n",
    "\n",
    "    d_config = {\n",
    "        \"train\": train,\n",
    "        \"val\": val,\n",
    "\n",
    "        \"nc\": 102, # number of classes\n",
    "        \"names\": [str(i) for i in range(1,103)] \n",
    "    }\n",
    "    filename = 'data.yaml'\n",
    "    with open(filename, 'w') as file:\n",
    "        yaml.dump(d_config, file, default_flow_style=False)\n",
    "    return filename"
   ]
  },
  {
   "cell_type": "code",
   "execution_count": 6,
   "id": "0995dbd2",
   "metadata": {
    "execution": {
     "iopub.execute_input": "2024-05-26T05:35:29.959603Z",
     "iopub.status.busy": "2024-05-26T05:35:29.959368Z",
     "iopub.status.idle": "2024-05-26T05:35:29.964819Z",
     "shell.execute_reply": "2024-05-26T05:35:29.964049Z"
    },
    "papermill": {
     "duration": 0.011995,
     "end_time": "2024-05-26T05:35:29.966601",
     "exception": false,
     "start_time": "2024-05-26T05:35:29.954606",
     "status": "completed"
    },
    "tags": []
   },
   "outputs": [],
   "source": [
    "def train(checkpoint,train,val):\n",
    "    if torch.cuda.is_available():\n",
    "        device = torch.device('cuda')\n",
    "        print(\"CUDA is available. Using GPU.\")\n",
    "    else:\n",
    "        device = torch.device('cpu')\n",
    "        print(\"CUDA is not available. Using CPU.\")\n",
    "    model = PestDetection_yolov8(device)\n",
    "    model.load_model(checkpoint)\n",
    "#     wandb_kwargs = {\"project\": None, \"entity\": None, \"group\": None, \"job_type\": None}\n",
    "    results = model.train(data=make_dsetconfig(train,val), epochs=50, imgsz=512, save_period=10,batch=-1, plots=True)"
   ]
  },
  {
   "cell_type": "code",
   "execution_count": 7,
   "id": "9155c7c8",
   "metadata": {
    "execution": {
     "iopub.execute_input": "2024-05-26T05:35:29.975919Z",
     "iopub.status.busy": "2024-05-26T05:35:29.975628Z",
     "iopub.status.idle": "2024-05-26T10:57:51.309576Z",
     "shell.execute_reply": "2024-05-26T10:57:51.308561Z"
    },
    "papermill": {
     "duration": 19341.34091,
     "end_time": "2024-05-26T10:57:51.311691",
     "exception": false,
     "start_time": "2024-05-26T05:35:29.970781",
     "status": "completed"
    },
    "tags": []
   },
   "outputs": [
    {
     "name": "stdout",
     "output_type": "stream",
     "text": [
      "CUDA is available. Using GPU.\n",
      "Ultralytics YOLOv8.2.22 🚀 Python-3.10.13 torch-2.1.2 CUDA:0 (Tesla P100-PCIE-16GB, 16276MiB)\n",
      "\u001b[34m\u001b[1mengine/trainer: \u001b[0mtask=detect, mode=train, model=/kaggle/input/yolo/other/exp1/6/last-5.pt, data=data.yaml, epochs=50, time=None, patience=100, batch=-1, imgsz=512, save=True, save_period=10, cache=False, device=None, workers=8, project=None, name=train, exist_ok=False, pretrained=True, optimizer=auto, verbose=True, seed=0, deterministic=True, single_cls=False, rect=False, cos_lr=False, close_mosaic=10, resume=False, amp=True, fraction=1.0, profile=False, freeze=None, multi_scale=False, overlap_mask=True, mask_ratio=4, dropout=0.0, val=True, split=val, save_json=False, save_hybrid=False, conf=None, iou=0.7, max_det=300, half=False, dnn=False, plots=True, source=None, vid_stride=1, stream_buffer=False, visualize=False, augment=False, agnostic_nms=False, classes=None, retina_masks=False, embed=None, show=False, save_frames=False, save_txt=False, save_conf=False, save_crop=False, show_labels=True, show_conf=True, show_boxes=True, line_width=None, format=torchscript, keras=False, optimize=False, int8=False, dynamic=False, simplify=False, opset=None, workspace=4, nms=False, lr0=0.01, lrf=0.01, momentum=0.937, weight_decay=0.0005, warmup_epochs=3.0, warmup_momentum=0.8, warmup_bias_lr=0.1, box=7.5, cls=0.5, dfl=1.5, pose=12.0, kobj=1.0, label_smoothing=0.0, nbs=64, hsv_h=0.015, hsv_s=0.7, hsv_v=0.4, degrees=0.0, translate=0.1, scale=0.5, shear=0.0, perspective=0.0, flipud=0.0, fliplr=0.5, bgr=0.0, mosaic=1.0, mixup=0.0, copy_paste=0.0, auto_augment=randaugment, erasing=0.4, crop_fraction=1.0, cfg=None, tracker=botsort.yaml, save_dir=runs/detect/train\n",
      "Downloading https://ultralytics.com/assets/Arial.ttf to '/root/.config/Ultralytics/Arial.ttf'...\n"
     ]
    },
    {
     "name": "stderr",
     "output_type": "stream",
     "text": [
      "100%|██████████| 755k/755k [00:00<00:00, 63.5MB/s]\n",
      "2024-05-26 05:35:34,998\tINFO util.py:124 -- Outdated packages:\n",
      "  ipywidgets==7.7.1 found, needs ipywidgets>=8\n",
      "Run `pip install -U ipywidgets`, then restart the notebook server for rich notebook output.\n",
      "2024-05-26 05:35:36,307\tINFO util.py:124 -- Outdated packages:\n",
      "  ipywidgets==7.7.1 found, needs ipywidgets>=8\n",
      "Run `pip install -U ipywidgets`, then restart the notebook server for rich notebook output.\n"
     ]
    },
    {
     "name": "stdout",
     "output_type": "stream",
     "text": [
      "\n",
      "                   from  n    params  module                                       arguments                     \n",
      "  0                  -1  1       464  ultralytics.nn.modules.conv.Conv             [3, 16, 3, 2]                 \n",
      "  1                  -1  1      4672  ultralytics.nn.modules.conv.Conv             [16, 32, 3, 2]                \n",
      "  2                  -1  1      7360  ultralytics.nn.modules.block.C2f             [32, 32, 1, True]             \n",
      "  3                  -1  1     18560  ultralytics.nn.modules.conv.Conv             [32, 64, 3, 2]                \n",
      "  4                  -1  2     49664  ultralytics.nn.modules.block.C2f             [64, 64, 2, True]             \n",
      "  5                  -1  1     73984  ultralytics.nn.modules.conv.Conv             [64, 128, 3, 2]               \n",
      "  6                  -1  2    197632  ultralytics.nn.modules.block.C2f             [128, 128, 2, True]           \n",
      "  7                  -1  1    295424  ultralytics.nn.modules.conv.Conv             [128, 256, 3, 2]              \n",
      "  8                  -1  1    460288  ultralytics.nn.modules.block.C2f             [256, 256, 1, True]           \n",
      "  9                  -1  1    164608  ultralytics.nn.modules.block.SPPF            [256, 256, 5]                 \n",
      " 10                  -1  1         0  torch.nn.modules.upsampling.Upsample         [None, 2, 'nearest']          \n",
      " 11             [-1, 6]  1         0  ultralytics.nn.modules.conv.Concat           [1]                           \n",
      " 12                  -1  1    148224  ultralytics.nn.modules.block.C2f             [384, 128, 1]                 \n",
      " 13                  -1  1         0  torch.nn.modules.upsampling.Upsample         [None, 2, 'nearest']          \n",
      " 14             [-1, 4]  1         0  ultralytics.nn.modules.conv.Concat           [1]                           \n",
      " 15                  -1  1     37248  ultralytics.nn.modules.block.C2f             [192, 64, 1]                  \n",
      " 16                  -1  1     36992  ultralytics.nn.modules.conv.Conv             [64, 64, 3, 2]                \n",
      " 17            [-1, 12]  1         0  ultralytics.nn.modules.conv.Concat           [1]                           \n",
      " 18                  -1  1    123648  ultralytics.nn.modules.block.C2f             [192, 128, 1]                 \n",
      " 19                  -1  1    147712  ultralytics.nn.modules.conv.Conv             [128, 128, 3, 2]              \n",
      " 20             [-1, 9]  1         0  ultralytics.nn.modules.conv.Concat           [1]                           \n",
      " 21                  -1  1    493056  ultralytics.nn.modules.block.C2f             [384, 256, 1]                 \n",
      " 22        [15, 18, 21]  1   1087210  ultralytics.nn.modules.head.Detect           [102, [64, 128, 256]]         \n",
      "Model summary: 225 layers, 3346746 parameters, 3346730 gradients, 9.7 GFLOPs\n",
      "\n",
      "Transferred 355/355 items from pretrained weights\n",
      "\u001b[34m\u001b[1mTensorBoard: \u001b[0mStart with 'tensorboard --logdir runs/detect/train', view at http://localhost:6006/\n"
     ]
    },
    {
     "name": "stderr",
     "output_type": "stream",
     "text": [
      "\u001b[34m\u001b[1mwandb\u001b[0m: Tracking run with wandb version 0.16.6\n",
      "\u001b[34m\u001b[1mwandb\u001b[0m: W&B syncing is set to \u001b[1m`offline`\u001b[0m in this directory.  \n",
      "\u001b[34m\u001b[1mwandb\u001b[0m: Run \u001b[1m`wandb online`\u001b[0m or set \u001b[1mWANDB_MODE=online\u001b[0m to enable cloud syncing.\n"
     ]
    },
    {
     "name": "stdout",
     "output_type": "stream",
     "text": [
      "Freezing layer 'model.22.dfl.conv.weight'\n",
      "\u001b[34m\u001b[1mAMP: \u001b[0mrunning Automatic Mixed Precision (AMP) checks with YOLOv8n...\n",
      "Downloading https://github.com/ultralytics/assets/releases/download/v8.2.0/yolov8n.pt to 'yolov8n.pt'...\n"
     ]
    },
    {
     "name": "stderr",
     "output_type": "stream",
     "text": [
      "100%|██████████| 6.23M/6.23M [00:00<00:00, 271MB/s]\n"
     ]
    },
    {
     "name": "stdout",
     "output_type": "stream",
     "text": [
      "\u001b[34m\u001b[1mAMP: \u001b[0mchecks passed ✅\n",
      "\u001b[34m\u001b[1mAutoBatch: \u001b[0mComputing optimal batch size for imgsz=512\n",
      "\u001b[34m\u001b[1mAutoBatch: \u001b[0mCUDA:0 (Tesla P100-PCIE-16GB) 15.89G total, 0.11G reserved, 0.07G allocated, 15.72G free\n",
      "      Params      GFLOPs  GPU_mem (GB)  forward (ms) backward (ms)                   input                  output\n",
      "     3346746       6.225         0.174         27.25         51.41        (1, 3, 512, 512)                    list\n",
      "     3346746       12.45         0.245         17.02         29.06        (2, 3, 512, 512)                    list\n",
      "     3346746        24.9         0.442         18.15         82.16        (4, 3, 512, 512)                    list\n",
      "     3346746        49.8         0.772          18.6         31.58        (8, 3, 512, 512)                    list\n",
      "     3346746        99.6         2.959         25.48         60.61       (16, 3, 512, 512)                    list\n",
      "\u001b[34m\u001b[1mAutoBatch: \u001b[0mUsing batch-size 52 for CUDA:0 9.55G/15.89G (60%) ✅\n"
     ]
    },
    {
     "name": "stderr",
     "output_type": "stream",
     "text": [
      "\u001b[34m\u001b[1mtrain: \u001b[0mScanning /kaggle/input/pestvisiondata/pestvision_data/synthetic_data/DeepImageBlendingData/run3/RiceLeafs/labels/train... 35966 images, 3563 backgrounds, 0 corrupt: 100%|██████████| 39529/39529 [05:17<00:00, 124.66it/s]\n"
     ]
    },
    {
     "name": "stdout",
     "output_type": "stream",
     "text": [
      "\u001b[34m\u001b[1mtrain: \u001b[0mWARNING ⚠️ Cache directory /kaggle/input/pestvisiondata/pestvision_data/synthetic_data/DeepImageBlendingData/run3/RiceLeafs/labels is not writeable, cache not saved.\n",
      "\u001b[34m\u001b[1malbumentations: \u001b[0mBlur(p=0.01, blur_limit=(3, 7)), MedianBlur(p=0.01, blur_limit=(3, 7)), ToGray(p=0.01), CLAHE(p=0.01, clip_limit=(1, 4.0), tile_grid_size=(8, 8))\n"
     ]
    },
    {
     "name": "stderr",
     "output_type": "stream",
     "text": [
      "\u001b[34m\u001b[1mval: \u001b[0mScanning /kaggle/input/pestvisiondata/pestvision_data/synthetic_data/DeepImageBlendingData/run3/paddy-disease-classification/labels/val... 2073 images, 233 backgrounds, 0 corrupt: 100%|██████████| 2306/2306 [00:17<00:00, 128.38it/s]\n"
     ]
    },
    {
     "name": "stdout",
     "output_type": "stream",
     "text": [
      "\u001b[34m\u001b[1mval: \u001b[0mWARNING ⚠️ Cache directory /kaggle/input/pestvisiondata/pestvision_data/synthetic_data/DeepImageBlendingData/run3/paddy-disease-classification/labels is not writeable, cache not saved.\n",
      "Plotting labels to runs/detect/train/labels.jpg... \n",
      "\u001b[34m\u001b[1moptimizer:\u001b[0m 'optimizer=auto' found, ignoring 'lr0=0.01' and 'momentum=0.937' and determining best 'optimizer', 'lr0' and 'momentum' automatically... \n",
      "\u001b[34m\u001b[1moptimizer:\u001b[0m SGD(lr=0.01, momentum=0.9) with parameter groups 57 weight(decay=0.0), 64 weight(decay=0.00040625000000000004), 63 bias(decay=0.0)\n",
      "\u001b[34m\u001b[1mTensorBoard: \u001b[0mmodel graph visualization added ✅\n",
      "Image sizes 512 train, 512 val\n",
      "Using 4 dataloader workers\n",
      "Logging results to \u001b[1mruns/detect/train\u001b[0m\n",
      "Starting training for 50 epochs...\n",
      "\n",
      "      Epoch    GPU_mem   box_loss   cls_loss   dfl_loss  Instances       Size\n"
     ]
    },
    {
     "name": "stderr",
     "output_type": "stream",
     "text": [
      "       1/50      7.03G      1.416      1.981      1.175         63        512: 100%|██████████| 761/761 [05:59<00:00,  2.12it/s]\n",
      "                 Class     Images  Instances      Box(P          R      mAP50  mAP50-95): 100%|██████████| 23/23 [00:16<00:00,  1.38it/s]\n"
     ]
    },
    {
     "name": "stdout",
     "output_type": "stream",
     "text": [
      "                   all       2306      11390      0.259      0.242      0.206      0.112\n",
      "\n",
      "      Epoch    GPU_mem   box_loss   cls_loss   dfl_loss  Instances       Size\n"
     ]
    },
    {
     "name": "stderr",
     "output_type": "stream",
     "text": [
      "       2/50      7.08G      1.437      2.048      1.187         53        512: 100%|██████████| 761/761 [05:50<00:00,  2.17it/s]\n",
      "                 Class     Images  Instances      Box(P          R      mAP50  mAP50-95): 100%|██████████| 23/23 [00:16<00:00,  1.43it/s]\n"
     ]
    },
    {
     "name": "stdout",
     "output_type": "stream",
     "text": [
      "                   all       2306      11390      0.212      0.242      0.177     0.0935\n",
      "\n",
      "      Epoch    GPU_mem   box_loss   cls_loss   dfl_loss  Instances       Size\n"
     ]
    },
    {
     "name": "stderr",
     "output_type": "stream",
     "text": [
      "       3/50      7.08G      1.483      2.186      1.213         71        512: 100%|██████████| 761/761 [05:51<00:00,  2.17it/s]\n",
      "                 Class     Images  Instances      Box(P          R      mAP50  mAP50-95): 100%|██████████| 23/23 [00:16<00:00,  1.43it/s]\n"
     ]
    },
    {
     "name": "stdout",
     "output_type": "stream",
     "text": [
      "                   all       2306      11390      0.195      0.196      0.148      0.077\n",
      "\n",
      "      Epoch    GPU_mem   box_loss   cls_loss   dfl_loss  Instances       Size\n"
     ]
    },
    {
     "name": "stderr",
     "output_type": "stream",
     "text": [
      "       4/50      7.08G      1.521      2.319      1.237         65        512: 100%|██████████| 761/761 [05:51<00:00,  2.17it/s]\n",
      "                 Class     Images  Instances      Box(P          R      mAP50  mAP50-95): 100%|██████████| 23/23 [00:15<00:00,  1.45it/s]\n"
     ]
    },
    {
     "name": "stdout",
     "output_type": "stream",
     "text": [
      "                   all       2306      11390      0.235      0.206       0.15     0.0777\n",
      "\n",
      "      Epoch    GPU_mem   box_loss   cls_loss   dfl_loss  Instances       Size\n"
     ]
    },
    {
     "name": "stderr",
     "output_type": "stream",
     "text": [
      "       5/50      7.08G      1.524      2.319      1.238         85        512: 100%|██████████| 761/761 [05:54<00:00,  2.14it/s]\n",
      "                 Class     Images  Instances      Box(P          R      mAP50  mAP50-95): 100%|██████████| 23/23 [00:16<00:00,  1.41it/s]\n"
     ]
    },
    {
     "name": "stdout",
     "output_type": "stream",
     "text": [
      "                   all       2306      11390       0.24      0.222      0.165     0.0833\n",
      "\n",
      "      Epoch    GPU_mem   box_loss   cls_loss   dfl_loss  Instances       Size\n"
     ]
    },
    {
     "name": "stderr",
     "output_type": "stream",
     "text": [
      "       6/50      7.08G      1.521      2.311      1.236         63        512: 100%|██████████| 761/761 [05:54<00:00,  2.15it/s]\n",
      "                 Class     Images  Instances      Box(P          R      mAP50  mAP50-95): 100%|██████████| 23/23 [00:16<00:00,  1.39it/s]\n"
     ]
    },
    {
     "name": "stdout",
     "output_type": "stream",
     "text": [
      "                   all       2306      11390      0.285      0.218       0.17     0.0909\n",
      "\n",
      "      Epoch    GPU_mem   box_loss   cls_loss   dfl_loss  Instances       Size\n"
     ]
    },
    {
     "name": "stderr",
     "output_type": "stream",
     "text": [
      "       7/50      7.08G      1.518      2.301      1.234         84        512: 100%|██████████| 761/761 [05:51<00:00,  2.16it/s]\n",
      "                 Class     Images  Instances      Box(P          R      mAP50  mAP50-95): 100%|██████████| 23/23 [00:15<00:00,  1.48it/s]\n"
     ]
    },
    {
     "name": "stdout",
     "output_type": "stream",
     "text": [
      "                   all       2306      11390       0.25      0.205      0.166     0.0869\n",
      "\n",
      "      Epoch    GPU_mem   box_loss   cls_loss   dfl_loss  Instances       Size\n"
     ]
    },
    {
     "name": "stderr",
     "output_type": "stream",
     "text": [
      "       8/50      7.08G      1.514      2.289      1.232         94        512: 100%|██████████| 761/761 [05:51<00:00,  2.17it/s]\n",
      "                 Class     Images  Instances      Box(P          R      mAP50  mAP50-95): 100%|██████████| 23/23 [00:15<00:00,  1.47it/s]\n"
     ]
    },
    {
     "name": "stdout",
     "output_type": "stream",
     "text": [
      "                   all       2306      11390       0.25      0.219      0.172     0.0908\n",
      "\n",
      "      Epoch    GPU_mem   box_loss   cls_loss   dfl_loss  Instances       Size\n"
     ]
    },
    {
     "name": "stderr",
     "output_type": "stream",
     "text": [
      "       9/50      7.08G      1.512      2.281      1.231        118        512: 100%|██████████| 761/761 [05:47<00:00,  2.19it/s]\n",
      "                 Class     Images  Instances      Box(P          R      mAP50  mAP50-95): 100%|██████████| 23/23 [00:16<00:00,  1.43it/s]\n"
     ]
    },
    {
     "name": "stdout",
     "output_type": "stream",
     "text": [
      "                   all       2306      11390      0.266      0.232      0.187     0.0976\n",
      "\n",
      "      Epoch    GPU_mem   box_loss   cls_loss   dfl_loss  Instances       Size\n"
     ]
    },
    {
     "name": "stderr",
     "output_type": "stream",
     "text": [
      "      10/50      7.08G      1.507      2.266      1.227         73        512: 100%|██████████| 761/761 [05:47<00:00,  2.19it/s]\n",
      "                 Class     Images  Instances      Box(P          R      mAP50  mAP50-95): 100%|██████████| 23/23 [00:16<00:00,  1.41it/s]\n"
     ]
    },
    {
     "name": "stdout",
     "output_type": "stream",
     "text": [
      "                   all       2306      11390      0.255      0.241      0.189      0.101\n",
      "\n",
      "      Epoch    GPU_mem   box_loss   cls_loss   dfl_loss  Instances       Size\n"
     ]
    },
    {
     "name": "stderr",
     "output_type": "stream",
     "text": [
      "      11/50      7.08G      1.506      2.252      1.225         65        512: 100%|██████████| 761/761 [05:50<00:00,  2.17it/s]\n",
      "                 Class     Images  Instances      Box(P          R      mAP50  mAP50-95): 100%|██████████| 23/23 [00:16<00:00,  1.37it/s]\n"
     ]
    },
    {
     "name": "stdout",
     "output_type": "stream",
     "text": [
      "                   all       2306      11390      0.279      0.232      0.192      0.102\n",
      "\n",
      "      Epoch    GPU_mem   box_loss   cls_loss   dfl_loss  Instances       Size\n"
     ]
    },
    {
     "name": "stderr",
     "output_type": "stream",
     "text": [
      "      12/50      7.08G      1.505      2.251      1.225         52        512: 100%|██████████| 761/761 [05:58<00:00,  2.12it/s]\n",
      "                 Class     Images  Instances      Box(P          R      mAP50  mAP50-95): 100%|██████████| 23/23 [00:15<00:00,  1.48it/s]\n"
     ]
    },
    {
     "name": "stdout",
     "output_type": "stream",
     "text": [
      "                   all       2306      11390      0.274      0.238      0.197      0.105\n",
      "\n",
      "      Epoch    GPU_mem   box_loss   cls_loss   dfl_loss  Instances       Size\n"
     ]
    },
    {
     "name": "stderr",
     "output_type": "stream",
     "text": [
      "      13/50      7.08G      1.502      2.235      1.225         72        512: 100%|██████████| 761/761 [05:57<00:00,  2.13it/s]\n",
      "                 Class     Images  Instances      Box(P          R      mAP50  mAP50-95): 100%|██████████| 23/23 [00:15<00:00,  1.48it/s]\n"
     ]
    },
    {
     "name": "stdout",
     "output_type": "stream",
     "text": [
      "                   all       2306      11390      0.264       0.24      0.202      0.108\n",
      "\n",
      "      Epoch    GPU_mem   box_loss   cls_loss   dfl_loss  Instances       Size\n"
     ]
    },
    {
     "name": "stderr",
     "output_type": "stream",
     "text": [
      "      14/50      7.08G      1.497       2.23      1.218         71        512: 100%|██████████| 761/761 [05:53<00:00,  2.16it/s]\n",
      "                 Class     Images  Instances      Box(P          R      mAP50  mAP50-95): 100%|██████████| 23/23 [00:15<00:00,  1.48it/s]\n"
     ]
    },
    {
     "name": "stdout",
     "output_type": "stream",
     "text": [
      "                   all       2306      11390       0.28      0.251      0.205      0.108\n",
      "\n",
      "      Epoch    GPU_mem   box_loss   cls_loss   dfl_loss  Instances       Size\n"
     ]
    },
    {
     "name": "stderr",
     "output_type": "stream",
     "text": [
      "      15/50      7.08G      1.496       2.22      1.221         71        512: 100%|██████████| 761/761 [05:55<00:00,  2.14it/s]\n",
      "                 Class     Images  Instances      Box(P          R      mAP50  mAP50-95): 100%|██████████| 23/23 [00:15<00:00,  1.47it/s]\n"
     ]
    },
    {
     "name": "stdout",
     "output_type": "stream",
     "text": [
      "                   all       2306      11390      0.262      0.242      0.208      0.111\n",
      "\n",
      "      Epoch    GPU_mem   box_loss   cls_loss   dfl_loss  Instances       Size\n"
     ]
    },
    {
     "name": "stderr",
     "output_type": "stream",
     "text": [
      "      16/50      7.08G      1.493      2.212      1.216         67        512: 100%|██████████| 761/761 [06:04<00:00,  2.09it/s]\n",
      "                 Class     Images  Instances      Box(P          R      mAP50  mAP50-95): 100%|██████████| 23/23 [00:16<00:00,  1.36it/s]\n"
     ]
    },
    {
     "name": "stdout",
     "output_type": "stream",
     "text": [
      "                   all       2306      11390       0.27       0.26      0.211      0.113\n",
      "\n",
      "      Epoch    GPU_mem   box_loss   cls_loss   dfl_loss  Instances       Size\n"
     ]
    },
    {
     "name": "stderr",
     "output_type": "stream",
     "text": [
      "      17/50      7.08G       1.49      2.202      1.215         60        512: 100%|██████████| 761/761 [06:03<00:00,  2.09it/s]\n",
      "                 Class     Images  Instances      Box(P          R      mAP50  mAP50-95): 100%|██████████| 23/23 [00:17<00:00,  1.32it/s]\n"
     ]
    },
    {
     "name": "stdout",
     "output_type": "stream",
     "text": [
      "                   all       2306      11390      0.267      0.253       0.21      0.112\n",
      "\n",
      "      Epoch    GPU_mem   box_loss   cls_loss   dfl_loss  Instances       Size\n"
     ]
    },
    {
     "name": "stderr",
     "output_type": "stream",
     "text": [
      "      18/50      7.08G      1.489      2.197      1.215         83        512: 100%|██████████| 761/761 [05:57<00:00,  2.13it/s]\n",
      "                 Class     Images  Instances      Box(P          R      mAP50  mAP50-95): 100%|██████████| 23/23 [00:16<00:00,  1.36it/s]\n"
     ]
    },
    {
     "name": "stdout",
     "output_type": "stream",
     "text": [
      "                   all       2306      11390       0.27      0.258      0.211      0.113\n",
      "\n",
      "      Epoch    GPU_mem   box_loss   cls_loss   dfl_loss  Instances       Size\n"
     ]
    },
    {
     "name": "stderr",
     "output_type": "stream",
     "text": [
      "      19/50      7.08G      1.487      2.186      1.214         52        512: 100%|██████████| 761/761 [05:58<00:00,  2.12it/s]\n",
      "                 Class     Images  Instances      Box(P          R      mAP50  mAP50-95): 100%|██████████| 23/23 [00:15<00:00,  1.48it/s]\n"
     ]
    },
    {
     "name": "stdout",
     "output_type": "stream",
     "text": [
      "                   all       2306      11390      0.299      0.257      0.217      0.116\n",
      "\n",
      "      Epoch    GPU_mem   box_loss   cls_loss   dfl_loss  Instances       Size\n"
     ]
    },
    {
     "name": "stderr",
     "output_type": "stream",
     "text": [
      "      20/50      7.08G      1.482      2.177      1.211         53        512: 100%|██████████| 761/761 [06:00<00:00,  2.11it/s]\n",
      "                 Class     Images  Instances      Box(P          R      mAP50  mAP50-95): 100%|██████████| 23/23 [00:15<00:00,  1.44it/s]\n"
     ]
    },
    {
     "name": "stdout",
     "output_type": "stream",
     "text": [
      "                   all       2306      11390       0.31       0.26      0.218      0.117\n",
      "\n",
      "      Epoch    GPU_mem   box_loss   cls_loss   dfl_loss  Instances       Size\n"
     ]
    },
    {
     "name": "stderr",
     "output_type": "stream",
     "text": [
      "      21/50      7.08G      1.481      2.171      1.209         67        512: 100%|██████████| 761/761 [05:59<00:00,  2.12it/s]\n",
      "                 Class     Images  Instances      Box(P          R      mAP50  mAP50-95): 100%|██████████| 23/23 [00:17<00:00,  1.35it/s]\n"
     ]
    },
    {
     "name": "stdout",
     "output_type": "stream",
     "text": [
      "                   all       2306      11390      0.311      0.258       0.22      0.118\n",
      "\n",
      "      Epoch    GPU_mem   box_loss   cls_loss   dfl_loss  Instances       Size\n"
     ]
    },
    {
     "name": "stderr",
     "output_type": "stream",
     "text": [
      "      22/50      7.08G      1.477      2.159      1.209         26        512: 100%|██████████| 761/761 [06:02<00:00,  2.10it/s]\n",
      "                 Class     Images  Instances      Box(P          R      mAP50  mAP50-95): 100%|██████████| 23/23 [00:16<00:00,  1.40it/s]\n"
     ]
    },
    {
     "name": "stdout",
     "output_type": "stream",
     "text": [
      "                   all       2306      11390      0.308      0.255       0.22      0.118\n",
      "\n",
      "      Epoch    GPU_mem   box_loss   cls_loss   dfl_loss  Instances       Size\n"
     ]
    },
    {
     "name": "stderr",
     "output_type": "stream",
     "text": [
      "      23/50      7.08G      1.476      2.151      1.208         64        512: 100%|██████████| 761/761 [06:03<00:00,  2.09it/s]\n",
      "                 Class     Images  Instances      Box(P          R      mAP50  mAP50-95): 100%|██████████| 23/23 [00:15<00:00,  1.49it/s]\n"
     ]
    },
    {
     "name": "stdout",
     "output_type": "stream",
     "text": [
      "                   all       2306      11390      0.301      0.256       0.22      0.119\n",
      "\n",
      "      Epoch    GPU_mem   box_loss   cls_loss   dfl_loss  Instances       Size\n"
     ]
    },
    {
     "name": "stderr",
     "output_type": "stream",
     "text": [
      "      24/50      7.08G      1.475      2.141      1.207         64        512: 100%|██████████| 761/761 [06:05<00:00,  2.08it/s]\n",
      "                 Class     Images  Instances      Box(P          R      mAP50  mAP50-95): 100%|██████████| 23/23 [00:16<00:00,  1.36it/s]\n"
     ]
    },
    {
     "name": "stdout",
     "output_type": "stream",
     "text": [
      "                   all       2306      11390      0.304      0.258       0.22      0.118\n",
      "\n",
      "      Epoch    GPU_mem   box_loss   cls_loss   dfl_loss  Instances       Size\n"
     ]
    },
    {
     "name": "stderr",
     "output_type": "stream",
     "text": [
      "      25/50      7.08G      1.472      2.128      1.204         64        512: 100%|██████████| 761/761 [06:05<00:00,  2.08it/s]\n",
      "                 Class     Images  Instances      Box(P          R      mAP50  mAP50-95): 100%|██████████| 23/23 [00:15<00:00,  1.45it/s]\n"
     ]
    },
    {
     "name": "stdout",
     "output_type": "stream",
     "text": [
      "                   all       2306      11390      0.301      0.262      0.221      0.119\n",
      "\n",
      "      Epoch    GPU_mem   box_loss   cls_loss   dfl_loss  Instances       Size\n"
     ]
    },
    {
     "name": "stderr",
     "output_type": "stream",
     "text": [
      "      26/50      6.97G      1.467      2.127      1.203         74        512: 100%|██████████| 761/761 [06:05<00:00,  2.08it/s]\n",
      "                 Class     Images  Instances      Box(P          R      mAP50  mAP50-95): 100%|██████████| 23/23 [00:17<00:00,  1.34it/s]\n"
     ]
    },
    {
     "name": "stdout",
     "output_type": "stream",
     "text": [
      "                   all       2306      11390      0.303      0.263      0.221      0.119\n",
      "\n",
      "      Epoch    GPU_mem   box_loss   cls_loss   dfl_loss  Instances       Size\n"
     ]
    },
    {
     "name": "stderr",
     "output_type": "stream",
     "text": [
      "      27/50      7.08G      1.466      2.114      1.201         51        512: 100%|██████████| 761/761 [06:11<00:00,  2.05it/s]\n",
      "                 Class     Images  Instances      Box(P          R      mAP50  mAP50-95): 100%|██████████| 23/23 [00:15<00:00,  1.46it/s]\n"
     ]
    },
    {
     "name": "stdout",
     "output_type": "stream",
     "text": [
      "                   all       2306      11390      0.301      0.262      0.222      0.119\n",
      "\n",
      "      Epoch    GPU_mem   box_loss   cls_loss   dfl_loss  Instances       Size\n"
     ]
    },
    {
     "name": "stderr",
     "output_type": "stream",
     "text": [
      "      28/50      7.08G      1.465       2.11      1.201         65        512: 100%|██████████| 761/761 [06:06<00:00,  2.08it/s]\n",
      "                 Class     Images  Instances      Box(P          R      mAP50  mAP50-95): 100%|██████████| 23/23 [00:17<00:00,  1.33it/s]\n"
     ]
    },
    {
     "name": "stdout",
     "output_type": "stream",
     "text": [
      "                   all       2306      11390      0.301      0.262      0.222      0.119\n",
      "\n",
      "      Epoch    GPU_mem   box_loss   cls_loss   dfl_loss  Instances       Size\n"
     ]
    },
    {
     "name": "stderr",
     "output_type": "stream",
     "text": [
      "      29/50      7.08G      1.462      2.101      1.198        121        512: 100%|██████████| 761/761 [06:06<00:00,  2.08it/s]\n",
      "                 Class     Images  Instances      Box(P          R      mAP50  mAP50-95): 100%|██████████| 23/23 [00:15<00:00,  1.48it/s]\n"
     ]
    },
    {
     "name": "stdout",
     "output_type": "stream",
     "text": [
      "                   all       2306      11390      0.301      0.265      0.223       0.12\n",
      "\n",
      "      Epoch    GPU_mem   box_loss   cls_loss   dfl_loss  Instances       Size\n"
     ]
    },
    {
     "name": "stderr",
     "output_type": "stream",
     "text": [
      "      30/50      7.08G      1.459      2.097      1.196         33        512: 100%|██████████| 761/761 [06:03<00:00,  2.10it/s]\n",
      "                 Class     Images  Instances      Box(P          R      mAP50  mAP50-95): 100%|██████████| 23/23 [00:16<00:00,  1.36it/s]\n"
     ]
    },
    {
     "name": "stdout",
     "output_type": "stream",
     "text": [
      "                   all       2306      11390        0.3      0.266      0.223       0.12\n",
      "\n",
      "      Epoch    GPU_mem   box_loss   cls_loss   dfl_loss  Instances       Size\n"
     ]
    },
    {
     "name": "stderr",
     "output_type": "stream",
     "text": [
      "      31/50      6.97G      1.457      2.082      1.195         47        512: 100%|██████████| 761/761 [06:00<00:00,  2.11it/s]\n",
      "                 Class     Images  Instances      Box(P          R      mAP50  mAP50-95): 100%|██████████| 23/23 [00:16<00:00,  1.43it/s]\n"
     ]
    },
    {
     "name": "stdout",
     "output_type": "stream",
     "text": [
      "                   all       2306      11390      0.291      0.267      0.223       0.12\n",
      "\n",
      "      Epoch    GPU_mem   box_loss   cls_loss   dfl_loss  Instances       Size\n"
     ]
    },
    {
     "name": "stderr",
     "output_type": "stream",
     "text": [
      "      32/50      7.08G      1.454      2.072      1.195         76        512: 100%|██████████| 761/761 [06:00<00:00,  2.11it/s]\n",
      "                 Class     Images  Instances      Box(P          R      mAP50  mAP50-95): 100%|██████████| 23/23 [00:17<00:00,  1.35it/s]\n"
     ]
    },
    {
     "name": "stdout",
     "output_type": "stream",
     "text": [
      "                   all       2306      11390      0.291      0.269      0.223       0.12\n",
      "\n",
      "      Epoch    GPU_mem   box_loss   cls_loss   dfl_loss  Instances       Size\n"
     ]
    },
    {
     "name": "stderr",
     "output_type": "stream",
     "text": [
      "      33/50      7.08G      1.453      2.072      1.193         55        512: 100%|██████████| 761/761 [06:03<00:00,  2.10it/s]\n",
      "                 Class     Images  Instances      Box(P          R      mAP50  mAP50-95): 100%|██████████| 23/23 [00:15<00:00,  1.47it/s]\n"
     ]
    },
    {
     "name": "stdout",
     "output_type": "stream",
     "text": [
      "                   all       2306      11390        0.3      0.268      0.223      0.121\n",
      "\n",
      "      Epoch    GPU_mem   box_loss   cls_loss   dfl_loss  Instances       Size\n"
     ]
    },
    {
     "name": "stderr",
     "output_type": "stream",
     "text": [
      "      34/50      7.08G      1.447      2.059       1.19         69        512: 100%|██████████| 761/761 [06:05<00:00,  2.08it/s]\n",
      "                 Class     Images  Instances      Box(P          R      mAP50  mAP50-95): 100%|██████████| 23/23 [00:16<00:00,  1.43it/s]\n"
     ]
    },
    {
     "name": "stdout",
     "output_type": "stream",
     "text": [
      "                   all       2306      11390      0.291      0.266      0.223      0.121\n",
      "\n",
      "      Epoch    GPU_mem   box_loss   cls_loss   dfl_loss  Instances       Size\n"
     ]
    },
    {
     "name": "stderr",
     "output_type": "stream",
     "text": [
      "      35/50      7.08G      1.445      2.048      1.189         74        512: 100%|██████████| 761/761 [06:02<00:00,  2.10it/s]\n",
      "                 Class     Images  Instances      Box(P          R      mAP50  mAP50-95): 100%|██████████| 23/23 [00:15<00:00,  1.46it/s]\n"
     ]
    },
    {
     "name": "stdout",
     "output_type": "stream",
     "text": [
      "                   all       2306      11390      0.288      0.267      0.223      0.121\n",
      "\n",
      "      Epoch    GPU_mem   box_loss   cls_loss   dfl_loss  Instances       Size\n"
     ]
    },
    {
     "name": "stderr",
     "output_type": "stream",
     "text": [
      "      36/50      7.08G      1.439      2.037      1.187         37        512: 100%|██████████| 761/761 [06:00<00:00,  2.11it/s]\n",
      "                 Class     Images  Instances      Box(P          R      mAP50  mAP50-95): 100%|██████████| 23/23 [00:15<00:00,  1.47it/s]\n"
     ]
    },
    {
     "name": "stdout",
     "output_type": "stream",
     "text": [
      "                   all       2306      11390       0.29      0.266      0.224      0.122\n",
      "\n",
      "      Epoch    GPU_mem   box_loss   cls_loss   dfl_loss  Instances       Size\n"
     ]
    },
    {
     "name": "stderr",
     "output_type": "stream",
     "text": [
      "      37/50      7.08G      1.441       2.03      1.188         63        512: 100%|██████████| 761/761 [06:01<00:00,  2.10it/s]\n",
      "                 Class     Images  Instances      Box(P          R      mAP50  mAP50-95): 100%|██████████| 23/23 [00:15<00:00,  1.48it/s]\n"
     ]
    },
    {
     "name": "stdout",
     "output_type": "stream",
     "text": [
      "                   all       2306      11390       0.29      0.267      0.224      0.122\n",
      "\n",
      "      Epoch    GPU_mem   box_loss   cls_loss   dfl_loss  Instances       Size\n"
     ]
    },
    {
     "name": "stderr",
     "output_type": "stream",
     "text": [
      "      38/50      6.96G      1.438      2.026      1.185         42        512: 100%|██████████| 761/761 [06:02<00:00,  2.10it/s]\n",
      "                 Class     Images  Instances      Box(P          R      mAP50  mAP50-95): 100%|██████████| 23/23 [00:16<00:00,  1.41it/s]\n"
     ]
    },
    {
     "name": "stdout",
     "output_type": "stream",
     "text": [
      "                   all       2306      11390      0.293      0.264      0.224      0.122\n",
      "\n",
      "      Epoch    GPU_mem   box_loss   cls_loss   dfl_loss  Instances       Size\n"
     ]
    },
    {
     "name": "stderr",
     "output_type": "stream",
     "text": [
      "      39/50      7.08G      1.433      2.008      1.182         44        512: 100%|██████████| 761/761 [06:01<00:00,  2.10it/s]\n",
      "                 Class     Images  Instances      Box(P          R      mAP50  mAP50-95): 100%|██████████| 23/23 [00:15<00:00,  1.47it/s]\n"
     ]
    },
    {
     "name": "stdout",
     "output_type": "stream",
     "text": [
      "                   all       2306      11390      0.289      0.267      0.224      0.122\n",
      "\n",
      "      Epoch    GPU_mem   box_loss   cls_loss   dfl_loss  Instances       Size\n"
     ]
    },
    {
     "name": "stderr",
     "output_type": "stream",
     "text": [
      "      40/50      7.08G       1.43          2       1.18         81        512: 100%|██████████| 761/761 [06:03<00:00,  2.09it/s]\n",
      "                 Class     Images  Instances      Box(P          R      mAP50  mAP50-95): 100%|██████████| 23/23 [00:15<00:00,  1.45it/s]\n"
     ]
    },
    {
     "name": "stdout",
     "output_type": "stream",
     "text": [
      "                   all       2306      11390      0.291      0.266      0.224      0.122\n",
      "Closing dataloader mosaic\n",
      "\u001b[34m\u001b[1malbumentations: \u001b[0mBlur(p=0.01, blur_limit=(3, 7)), MedianBlur(p=0.01, blur_limit=(3, 7)), ToGray(p=0.01), CLAHE(p=0.01, clip_limit=(1, 4.0), tile_grid_size=(8, 8))\n",
      "\n",
      "      Epoch    GPU_mem   box_loss   cls_loss   dfl_loss  Instances       Size\n"
     ]
    },
    {
     "name": "stderr",
     "output_type": "stream",
     "text": [
      "      41/50      6.97G      1.378      1.774      1.211         56        512: 100%|██████████| 761/761 [05:48<00:00,  2.18it/s]\n",
      "                 Class     Images  Instances      Box(P          R      mAP50  mAP50-95): 100%|██████████| 23/23 [00:15<00:00,  1.46it/s]\n"
     ]
    },
    {
     "name": "stdout",
     "output_type": "stream",
     "text": [
      "                   all       2306      11390      0.291      0.265      0.225      0.123\n",
      "\n",
      "      Epoch    GPU_mem   box_loss   cls_loss   dfl_loss  Instances       Size\n"
     ]
    },
    {
     "name": "stderr",
     "output_type": "stream",
     "text": [
      "      42/50      6.97G       1.37      1.749      1.206         51        512: 100%|██████████| 761/761 [05:43<00:00,  2.22it/s]\n",
      "                 Class     Images  Instances      Box(P          R      mAP50  mAP50-95): 100%|██████████| 23/23 [00:15<00:00,  1.52it/s]\n"
     ]
    },
    {
     "name": "stdout",
     "output_type": "stream",
     "text": [
      "                   all       2306      11390      0.288      0.271      0.225      0.124\n",
      "\n",
      "      Epoch    GPU_mem   box_loss   cls_loss   dfl_loss  Instances       Size\n"
     ]
    },
    {
     "name": "stderr",
     "output_type": "stream",
     "text": [
      "      43/50      6.96G      1.365      1.735      1.203         37        512: 100%|██████████| 761/761 [05:42<00:00,  2.22it/s]\n",
      "                 Class     Images  Instances      Box(P          R      mAP50  mAP50-95): 100%|██████████| 23/23 [00:15<00:00,  1.48it/s]\n"
     ]
    },
    {
     "name": "stdout",
     "output_type": "stream",
     "text": [
      "                   all       2306      11390       0.29      0.271      0.225      0.125\n",
      "\n",
      "      Epoch    GPU_mem   box_loss   cls_loss   dfl_loss  Instances       Size\n"
     ]
    },
    {
     "name": "stderr",
     "output_type": "stream",
     "text": [
      "      44/50      6.96G      1.359      1.721      1.201         35        512: 100%|██████████| 761/761 [05:44<00:00,  2.21it/s]\n",
      "                 Class     Images  Instances      Box(P          R      mAP50  mAP50-95): 100%|██████████| 23/23 [00:16<00:00,  1.39it/s]\n"
     ]
    },
    {
     "name": "stdout",
     "output_type": "stream",
     "text": [
      "                   all       2306      11390      0.284      0.273      0.226      0.125\n",
      "\n",
      "      Epoch    GPU_mem   box_loss   cls_loss   dfl_loss  Instances       Size\n"
     ]
    },
    {
     "name": "stderr",
     "output_type": "stream",
     "text": [
      "      45/50      6.96G      1.355      1.708      1.199         38        512: 100%|██████████| 761/761 [05:42<00:00,  2.22it/s]\n",
      "                 Class     Images  Instances      Box(P          R      mAP50  mAP50-95): 100%|██████████| 23/23 [00:17<00:00,  1.31it/s]\n"
     ]
    },
    {
     "name": "stdout",
     "output_type": "stream",
     "text": [
      "                   all       2306      11390       0.29       0.27      0.227      0.125\n",
      "\n",
      "      Epoch    GPU_mem   box_loss   cls_loss   dfl_loss  Instances       Size\n"
     ]
    },
    {
     "name": "stderr",
     "output_type": "stream",
     "text": [
      "      46/50      6.96G       1.35      1.695      1.195         49        512: 100%|██████████| 761/761 [05:41<00:00,  2.23it/s]\n",
      "                 Class     Images  Instances      Box(P          R      mAP50  mAP50-95): 100%|██████████| 23/23 [00:17<00:00,  1.28it/s]\n"
     ]
    },
    {
     "name": "stdout",
     "output_type": "stream",
     "text": [
      "                   all       2306      11390       0.29       0.27      0.226      0.126\n",
      "\n",
      "      Epoch    GPU_mem   box_loss   cls_loss   dfl_loss  Instances       Size\n"
     ]
    },
    {
     "name": "stderr",
     "output_type": "stream",
     "text": [
      "      47/50      6.96G      1.344      1.678      1.193         61        512: 100%|██████████| 761/761 [05:44<00:00,  2.21it/s]\n",
      "                 Class     Images  Instances      Box(P          R      mAP50  mAP50-95): 100%|██████████| 23/23 [00:16<00:00,  1.37it/s]\n"
     ]
    },
    {
     "name": "stdout",
     "output_type": "stream",
     "text": [
      "                   all       2306      11390      0.291       0.27      0.227      0.126\n",
      "\n",
      "      Epoch    GPU_mem   box_loss   cls_loss   dfl_loss  Instances       Size\n"
     ]
    },
    {
     "name": "stderr",
     "output_type": "stream",
     "text": [
      "      48/50      6.96G      1.341      1.665      1.189         29        512: 100%|██████████| 761/761 [05:45<00:00,  2.20it/s]\n",
      "                 Class     Images  Instances      Box(P          R      mAP50  mAP50-95): 100%|██████████| 23/23 [00:15<00:00,  1.48it/s]\n"
     ]
    },
    {
     "name": "stdout",
     "output_type": "stream",
     "text": [
      "                   all       2306      11390      0.286      0.273      0.227      0.126\n",
      "\n",
      "      Epoch    GPU_mem   box_loss   cls_loss   dfl_loss  Instances       Size\n"
     ]
    },
    {
     "name": "stderr",
     "output_type": "stream",
     "text": [
      "      49/50      6.96G      1.335      1.652      1.188         46        512: 100%|██████████| 761/761 [05:45<00:00,  2.20it/s]\n",
      "                 Class     Images  Instances      Box(P          R      mAP50  mAP50-95): 100%|██████████| 23/23 [00:15<00:00,  1.45it/s]\n"
     ]
    },
    {
     "name": "stdout",
     "output_type": "stream",
     "text": [
      "                   all       2306      11390      0.293      0.264      0.228      0.126\n",
      "\n",
      "      Epoch    GPU_mem   box_loss   cls_loss   dfl_loss  Instances       Size\n"
     ]
    },
    {
     "name": "stderr",
     "output_type": "stream",
     "text": [
      "      50/50      6.96G      1.332      1.642      1.185         42        512: 100%|██████████| 761/761 [05:44<00:00,  2.21it/s]\n",
      "                 Class     Images  Instances      Box(P          R      mAP50  mAP50-95): 100%|██████████| 23/23 [00:15<00:00,  1.52it/s]\n"
     ]
    },
    {
     "name": "stdout",
     "output_type": "stream",
     "text": [
      "                   all       2306      11390      0.297      0.264      0.228      0.127\n",
      "\n",
      "50 epochs completed in 5.205 hours.\n",
      "Optimizer stripped from runs/detect/train/weights/last.pt, 6.9MB\n",
      "Optimizer stripped from runs/detect/train/weights/best.pt, 6.9MB\n",
      "\n",
      "Validating runs/detect/train/weights/best.pt...\n",
      "Ultralytics YOLOv8.2.22 🚀 Python-3.10.13 torch-2.1.2 CUDA:0 (Tesla P100-PCIE-16GB, 16276MiB)\n",
      "Model summary (fused): 168 layers, 3341330 parameters, 0 gradients, 9.6 GFLOPs\n"
     ]
    },
    {
     "name": "stderr",
     "output_type": "stream",
     "text": [
      "                 Class     Images  Instances      Box(P          R      mAP50  mAP50-95): 100%|██████████| 23/23 [00:20<00:00,  1.14it/s]\n"
     ]
    },
    {
     "name": "stdout",
     "output_type": "stream",
     "text": [
      "                   all       2306      11390      0.296      0.263      0.228      0.126\n",
      "                     1       2306         77       0.34      0.528      0.364      0.172\n",
      "                     2       2306         83      0.204      0.102     0.0813     0.0575\n",
      "                     3       2306         15          0          0      0.021     0.0122\n",
      "                     4       2306        110      0.382      0.382      0.319      0.153\n",
      "                     5       2306         47      0.287      0.468      0.265      0.167\n",
      "                     6       2306         62      0.291      0.113      0.134     0.0668\n",
      "                     7       2306         21          0          0      0.031     0.0232\n",
      "                     8       2306         74      0.122       0.06     0.0617     0.0313\n",
      "                     9       2306         48      0.243      0.104      0.148     0.0705\n",
      "                    10       2306         33      0.225     0.0606     0.0437     0.0274\n",
      "                    11       2306        101      0.335      0.436      0.328      0.185\n",
      "                    12       2306         81      0.284      0.235      0.223      0.134\n",
      "                    13       2306         18          1          0     0.0933     0.0511\n",
      "                    14       2306         15          0          0    0.00873    0.00437\n",
      "                    15       2306        244      0.445      0.529      0.415       0.21\n",
      "                    16       2306        515       0.56      0.689       0.69      0.375\n",
      "                    17       2306        265      0.521      0.468      0.511      0.254\n",
      "                    18       2306         38      0.278      0.211      0.131     0.0823\n",
      "                    19       2306        185      0.279      0.345      0.192      0.107\n",
      "                    20       2306         98      0.113      0.102     0.0683     0.0419\n",
      "                    21       2306        110      0.169      0.173      0.126     0.0828\n",
      "                    22       2306        109      0.407      0.569      0.439      0.254\n",
      "                    23       2306        257      0.349      0.354      0.321      0.177\n",
      "                    24       2306        114      0.225      0.385      0.196      0.119\n",
      "                    25       2306        530      0.378       0.44      0.358      0.168\n",
      "                    26       2306        121       0.25       0.38      0.234      0.114\n",
      "                    27       2306        132      0.314      0.348      0.335      0.167\n",
      "                    28       2306         78      0.194     0.0385     0.0528     0.0247\n",
      "                    29       2306         15          1          0     0.0501     0.0318\n",
      "                    30       2306         47      0.315      0.106      0.105     0.0608\n",
      "                    31       2306         14      0.477      0.286      0.272      0.123\n",
      "                    32       2306         50      0.474       0.34      0.377      0.173\n",
      "                    33       2306         39     0.0672     0.0138      0.119     0.0625\n",
      "                    34       2306         55       0.26      0.273      0.192      0.101\n",
      "                    35       2306         68      0.365      0.265      0.234      0.127\n",
      "                    36       2306         18      0.134     0.0556      0.046     0.0184\n",
      "                    37       2306         24          0          0     0.0278     0.0192\n",
      "                    38       2306        193      0.456      0.528      0.454       0.24\n",
      "                    39       2306        155      0.148      0.168     0.0778      0.042\n",
      "                    40       2306        245      0.222      0.212      0.167      0.104\n",
      "                    41       2306         44      0.452      0.114      0.141     0.0688\n",
      "                    42       2306         60      0.231       0.25      0.169      0.105\n",
      "                    43       2306         99      0.174      0.141     0.0806      0.032\n",
      "                    44       2306         50      0.433       0.34      0.312      0.177\n",
      "                    45       2306         43      0.221      0.233       0.17      0.111\n",
      "                    46       2306        235      0.257      0.229      0.203     0.0952\n",
      "                    47       2306        124      0.221      0.121      0.119     0.0695\n",
      "                    48       2306        212      0.335      0.325      0.257      0.138\n",
      "                    49       2306        348      0.237      0.175      0.184     0.0934\n",
      "                    50       2306        155      0.179      0.148      0.103     0.0469\n",
      "                    51       2306        283      0.411      0.466      0.364      0.197\n",
      "                    52       2306        573      0.391      0.578      0.441      0.211\n",
      "                    53       2306          3          1          0          0          0\n",
      "                    54       2306         39      0.309      0.513      0.356      0.275\n",
      "                    55       2306         30      0.227      0.233      0.218      0.138\n",
      "                    56       2306         11          0          0     0.0115    0.00764\n",
      "                    57       2306         49      0.123     0.0612      0.117     0.0736\n",
      "                    58       2306         18      0.259     0.0803       0.13     0.0885\n",
      "                    59       2306         57      0.106     0.0526     0.0369     0.0163\n",
      "                    62       2306          3          0          0          0          0\n",
      "                    63       2306         70       0.41      0.486      0.474      0.184\n",
      "                    65       2306         35      0.186        0.2      0.148     0.0656\n",
      "                    66       2306         18      0.166      0.222      0.214       0.12\n",
      "                    67       2306        154      0.581       0.74      0.771      0.568\n",
      "                    68       2306        191      0.462      0.665      0.626      0.316\n",
      "                    69       2306         86      0.253      0.442      0.326      0.207\n",
      "                    70       2306        139      0.365      0.604      0.441      0.243\n",
      "                    71       2306        729      0.426      0.668      0.536       0.31\n",
      "                    72       2306         53      0.309      0.302      0.298      0.261\n",
      "                    73       2306          7          0          0          0          0\n",
      "                    74       2306         57      0.273      0.456      0.354      0.205\n",
      "                    75       2306         28      0.208     0.0714        0.1     0.0526\n",
      "                    77       2306         90       0.42      0.311       0.33      0.163\n",
      "                    78       2306         12          0          0     0.0423     0.0219\n",
      "                    79       2306         39      0.266     0.0769     0.0957     0.0303\n",
      "                    80       2306         29       0.74      0.276      0.398      0.269\n",
      "                    82       2306         14      0.313      0.228      0.189     0.0897\n",
      "                    83       2306         44      0.365      0.364      0.225      0.155\n",
      "                    84       2306         28      0.242       0.25      0.171     0.0969\n",
      "                    85       2306         88      0.449      0.443      0.447      0.234\n",
      "                    86       2306         19      0.318      0.263      0.192     0.0807\n",
      "                    87       2306        213      0.208      0.408      0.236       0.13\n",
      "                    88       2306         85      0.253      0.318      0.221     0.0864\n",
      "                    89       2306         12          0          0    0.00887    0.00764\n",
      "                    90       2306          7      0.459      0.286       0.18      0.119\n",
      "                    91       2306         15      0.454      0.467      0.637      0.456\n",
      "                    92       2306          3          0          0    0.00455    0.00235\n",
      "                    93       2306         35      0.233      0.286      0.192     0.0695\n",
      "                    94       2306         11          0          0    0.00238    0.00147\n",
      "                    95       2306         59      0.367      0.492       0.44      0.215\n",
      "                    96       2306        102      0.525      0.598      0.541       0.16\n",
      "                    97       2306         41      0.292      0.171      0.129     0.0479\n",
      "                    98       2306         48      0.272      0.188      0.147     0.0996\n",
      "                    99       2306          9      0.202      0.222      0.161      0.101\n",
      "                   100       2306         72      0.319      0.333      0.301      0.225\n",
      "                   101       2306         37      0.221      0.108      0.117      0.089\n",
      "                   102       2306       1771       0.47      0.744      0.675      0.405\n",
      "Speed: 0.1ms preprocess, 1.5ms inference, 0.0ms loss, 1.6ms postprocess per image\n",
      "Results saved to \u001b[1mruns/detect/train\u001b[0m\n"
     ]
    },
    {
     "name": "stderr",
     "output_type": "stream",
     "text": [
      "\u001b[34m\u001b[1mwandb\u001b[0m:                                                                                \n",
      "\u001b[34m\u001b[1mwandb\u001b[0m: \n",
      "\u001b[34m\u001b[1mwandb\u001b[0m: Run history:\n",
      "\u001b[34m\u001b[1mwandb\u001b[0m:                  lr/pg0 ▃▆███▇▇▇▇▇▇▆▆▆▆▆▅▅▅▅▅▄▄▄▄▄▄▃▃▃▃▃▂▂▂▂▂▁▁▁\n",
      "\u001b[34m\u001b[1mwandb\u001b[0m:                  lr/pg1 ▃▆███▇▇▇▇▇▇▆▆▆▆▆▅▅▅▅▅▄▄▄▄▄▄▃▃▃▃▃▂▂▂▂▂▁▁▁\n",
      "\u001b[34m\u001b[1mwandb\u001b[0m:                  lr/pg2 ▃▆███▇▇▇▇▇▇▆▆▆▆▆▅▅▅▅▅▄▄▄▄▄▄▃▃▃▃▃▂▂▂▂▂▁▁▁\n",
      "\u001b[34m\u001b[1mwandb\u001b[0m:        metrics/mAP50(B) ▆▄▁▁▃▃▃▄▅▅▆▆▇▆▇▇▇▇▇▇▇▇▇█████████████████\n",
      "\u001b[34m\u001b[1mwandb\u001b[0m:     metrics/mAP50-95(B) ▆▃▁▁▃▂▃▄▅▅▅▅▆▆▆▇▇▇▇▇▇▇▇▇▇▇▇▇▇▇▇▇▇███████\n",
      "\u001b[34m\u001b[1mwandb\u001b[0m:    metrics/precision(B) ▅▂▁▃▆▄▄▅▆▆▅▆▅▅▆▇██▇██▇▇▇▇▇▇▇▇▇▇▇▇▇▇▆▇▇▇▇\n",
      "\u001b[34m\u001b[1mwandb\u001b[0m:       metrics/recall(B) ▅▅▁▂▃▂▃▄▄▅▅▆▇▆▇▇▇▆▆▇▇▇▇▇▇█▇▇▇▇▇▇▇██████▇\n",
      "\u001b[34m\u001b[1mwandb\u001b[0m:            model/GFLOPs ▁\n",
      "\u001b[34m\u001b[1mwandb\u001b[0m:        model/parameters ▁\n",
      "\u001b[34m\u001b[1mwandb\u001b[0m: model/speed_PyTorch(ms) ▁\n",
      "\u001b[34m\u001b[1mwandb\u001b[0m:          train/box_loss ▄▅▇█████▇▇▇▇▇▇▇▇▆▆▆▆▆▆▆▆▆▅▅▅▅▅▅▅▃▂▂▂▂▁▁▁\n",
      "\u001b[34m\u001b[1mwandb\u001b[0m:          train/cls_loss ▅▅▇█████▇▇▇▇▇▇▇▇▆▆▆▆▆▆▆▆▆▅▅▅▅▅▅▅▂▂▂▂▂▁▁▁\n",
      "\u001b[34m\u001b[1mwandb\u001b[0m:          train/dfl_loss ▁▂▅███▇▇▇▇▇▆▆▅▆▅▅▅▅▅▄▄▄▄▃▃▃▃▂▂▂▂▅▄▄▄▃▃▃▂\n",
      "\u001b[34m\u001b[1mwandb\u001b[0m:            val/box_loss ▃▅▆█▄▆▆▇▅▅▅▅▄▄▄▄▄▄▄▄▄▄▄▄▃▃▃▃▃▃▃▃▃▂▂▂▁▁▁▁\n",
      "\u001b[34m\u001b[1mwandb\u001b[0m:            val/cls_loss ▂▅▇█▅▆▅▄▃▃▃▂▂▂▂▂▂▂▂▂▂▁▁▁▁▁▁▁▁▁▁▁▁▁▁▁▁▁▁▁\n",
      "\u001b[34m\u001b[1mwandb\u001b[0m:            val/dfl_loss ▃▆▇█▅▆▅▆▅▄▄▄▃▃▄▃▃▃▃▃▃▃▃▃▃▃▃▃▂▂▂▂▂▂▂▂▁▁▁▁\n",
      "\u001b[34m\u001b[1mwandb\u001b[0m: \n",
      "\u001b[34m\u001b[1mwandb\u001b[0m: Run summary:\n",
      "\u001b[34m\u001b[1mwandb\u001b[0m:                  lr/pg0 0.0003\n",
      "\u001b[34m\u001b[1mwandb\u001b[0m:                  lr/pg1 0.0003\n",
      "\u001b[34m\u001b[1mwandb\u001b[0m:                  lr/pg2 0.0003\n",
      "\u001b[34m\u001b[1mwandb\u001b[0m:        metrics/mAP50(B) 0.22775\n",
      "\u001b[34m\u001b[1mwandb\u001b[0m:     metrics/mAP50-95(B) 0.12647\n",
      "\u001b[34m\u001b[1mwandb\u001b[0m:    metrics/precision(B) 0.29598\n",
      "\u001b[34m\u001b[1mwandb\u001b[0m:       metrics/recall(B) 0.26306\n",
      "\u001b[34m\u001b[1mwandb\u001b[0m:            model/GFLOPs 9.726\n",
      "\u001b[34m\u001b[1mwandb\u001b[0m:        model/parameters 3346746\n",
      "\u001b[34m\u001b[1mwandb\u001b[0m: model/speed_PyTorch(ms) 1.549\n",
      "\u001b[34m\u001b[1mwandb\u001b[0m:          train/box_loss 1.33211\n",
      "\u001b[34m\u001b[1mwandb\u001b[0m:          train/cls_loss 1.64171\n",
      "\u001b[34m\u001b[1mwandb\u001b[0m:          train/dfl_loss 1.18513\n",
      "\u001b[34m\u001b[1mwandb\u001b[0m:            val/box_loss 1.46288\n",
      "\u001b[34m\u001b[1mwandb\u001b[0m:            val/cls_loss 2.03002\n",
      "\u001b[34m\u001b[1mwandb\u001b[0m:            val/dfl_loss 1.23659\n",
      "\u001b[34m\u001b[1mwandb\u001b[0m: \n",
      "\u001b[34m\u001b[1mwandb\u001b[0m: You can sync this run to the cloud by running:\n",
      "\u001b[34m\u001b[1mwandb\u001b[0m: \u001b[1mwandb sync /kaggle/working/wandb/offline-run-20240526_053548-p2lyge40\u001b[0m\n",
      "\u001b[34m\u001b[1mwandb\u001b[0m: Find logs at: \u001b[35m\u001b[1m./wandb/offline-run-20240526_053548-p2lyge40/logs\u001b[0m\n"
     ]
    },
    {
     "name": "stdout",
     "output_type": "stream",
     "text": [
      "Ultralytics YOLOv8.2.22 🚀 Python-3.10.13 torch-2.1.2 CUDA:0 (Tesla P100-PCIE-16GB, 16276MiB)\n",
      "Model summary (fused): 168 layers, 3341330 parameters, 0 gradients, 9.6 GFLOPs\n"
     ]
    },
    {
     "name": "stderr",
     "output_type": "stream",
     "text": [
      "\u001b[34m\u001b[1mval: \u001b[0mScanning /kaggle/input/pestvisiondata/pestvision_data/synthetic_data/DeepImageBlendingData/run3/paddy-disease-classification/labels/val... 2073 images, 233 backgrounds, 0 corrupt: 100%|██████████| 2306/2306 [00:04<00:00, 554.69it/s]\n"
     ]
    },
    {
     "name": "stdout",
     "output_type": "stream",
     "text": [
      "\u001b[34m\u001b[1mval: \u001b[0mWARNING ⚠️ Cache directory /kaggle/input/pestvisiondata/pestvision_data/synthetic_data/DeepImageBlendingData/run3/paddy-disease-classification/labels is not writeable, cache not saved.\n"
     ]
    },
    {
     "name": "stderr",
     "output_type": "stream",
     "text": [
      "                 Class     Images  Instances      Box(P          R      mAP50  mAP50-95): 100%|██████████| 45/45 [00:22<00:00,  2.04it/s]\n"
     ]
    },
    {
     "name": "stdout",
     "output_type": "stream",
     "text": [
      "                   all       2306      11390      0.294      0.263      0.228      0.127\n",
      "                     1       2306         77      0.334      0.519      0.365      0.174\n",
      "                     2       2306         83       0.21      0.106     0.0791      0.056\n",
      "                     3       2306         15          0          0      0.021     0.0124\n",
      "                     4       2306        110      0.389      0.391      0.319      0.153\n",
      "                     5       2306         47      0.287      0.468      0.264      0.166\n",
      "                     6       2306         62      0.293      0.113      0.134     0.0668\n",
      "                     7       2306         21          0          0     0.0309     0.0233\n",
      "                     8       2306         74       0.11     0.0541     0.0615     0.0317\n",
      "                     9       2306         48      0.241      0.104      0.147     0.0702\n",
      "                    10       2306         33      0.224     0.0606     0.0437     0.0275\n",
      "                    11       2306        101      0.333      0.436      0.329      0.184\n",
      "                    12       2306         81      0.282      0.235      0.225      0.135\n",
      "                    13       2306         18          1          0     0.0923     0.0507\n",
      "                    14       2306         15          0          0    0.00865    0.00431\n",
      "                    15       2306        244      0.444      0.529      0.415      0.211\n",
      "                    16       2306        515      0.555      0.689       0.69      0.375\n",
      "                    17       2306        265      0.526      0.468      0.515      0.254\n",
      "                    18       2306         38      0.276      0.211      0.128     0.0806\n",
      "                    19       2306        185      0.279      0.351      0.192      0.108\n",
      "                    20       2306         98      0.113      0.102     0.0681     0.0419\n",
      "                    21       2306        110      0.169      0.173      0.125     0.0823\n",
      "                    22       2306        109      0.406      0.569       0.44      0.256\n",
      "                    23       2306        257      0.345      0.354      0.319      0.175\n",
      "                    24       2306        114      0.222      0.386      0.196      0.118\n",
      "                    25       2306        530      0.378      0.443      0.358      0.169\n",
      "                    26       2306        121      0.247       0.38      0.233      0.114\n",
      "                    27       2306        132      0.312      0.348      0.335      0.165\n",
      "                    28       2306         78      0.129     0.0256     0.0465     0.0246\n",
      "                    29       2306         15          1          0     0.0501     0.0318\n",
      "                    30       2306         47      0.314      0.106      0.105     0.0597\n",
      "                    31       2306         14      0.477      0.286      0.272      0.123\n",
      "                    32       2306         50      0.475       0.34      0.376      0.174\n",
      "                    33       2306         39          0          0      0.118     0.0617\n",
      "                    34       2306         55      0.258      0.273      0.192      0.101\n",
      "                    35       2306         68      0.362      0.265      0.233      0.128\n",
      "                    36       2306         18      0.133     0.0556     0.0455     0.0179\n",
      "                    37       2306         24          0          0     0.0279     0.0193\n",
      "                    38       2306        193      0.455      0.528      0.454      0.241\n",
      "                    39       2306        155      0.147      0.168     0.0778     0.0423\n",
      "                    40       2306        245      0.217      0.212      0.166      0.105\n",
      "                    41       2306         44      0.448      0.111       0.14     0.0654\n",
      "                    42       2306         60       0.23       0.25      0.168      0.105\n",
      "                    43       2306         99      0.171      0.141     0.0822     0.0326\n",
      "                    44       2306         50      0.432       0.34      0.311      0.178\n",
      "                    45       2306         43      0.219      0.233      0.169      0.111\n",
      "                    46       2306        235      0.254       0.23      0.203     0.0952\n",
      "                    47       2306        124      0.217      0.121      0.118     0.0688\n",
      "                    48       2306        212      0.335       0.33      0.256      0.137\n",
      "                    49       2306        348      0.236      0.175      0.184     0.0935\n",
      "                    50       2306        155      0.172      0.148      0.104     0.0472\n",
      "                    51       2306        283      0.409       0.47      0.364      0.196\n",
      "                    52       2306        573      0.388      0.578      0.441      0.211\n",
      "                    53       2306          3          1          0          0          0\n",
      "                    54       2306         39      0.309      0.513      0.353      0.272\n",
      "                    55       2306         30      0.227      0.233      0.217      0.138\n",
      "                    56       2306         11          0          0     0.0115     0.0076\n",
      "                    57       2306         49      0.122     0.0612      0.116     0.0727\n",
      "                    58       2306         18      0.274     0.0864      0.132     0.0893\n",
      "                    59       2306         57      0.106     0.0526     0.0367     0.0163\n",
      "                    62       2306          3          0          0          0          0\n",
      "                    63       2306         70      0.411        0.5      0.472      0.187\n",
      "                    65       2306         35      0.186        0.2       0.15     0.0668\n",
      "                    66       2306         18      0.165      0.222      0.213      0.124\n",
      "                    67       2306        154      0.581       0.74      0.771      0.568\n",
      "                    68       2306        191      0.458      0.665      0.625      0.317\n",
      "                    69       2306         86      0.257      0.453      0.327      0.207\n",
      "                    70       2306        139      0.362      0.604      0.439      0.242\n",
      "                    71       2306        729      0.424      0.669      0.535       0.31\n",
      "                    72       2306         53      0.309      0.302      0.298      0.254\n",
      "                    73       2306          7          0          0          0          0\n",
      "                    74       2306         57      0.273      0.456      0.352      0.204\n",
      "                    75       2306         28      0.224     0.0714        0.1     0.0526\n",
      "                    77       2306         90       0.42      0.311       0.33      0.162\n",
      "                    78       2306         12          0          0     0.0424     0.0219\n",
      "                    79       2306         39      0.267     0.0769     0.0972     0.0316\n",
      "                    80       2306         29      0.739      0.276      0.398      0.275\n",
      "                    82       2306         14       0.31      0.225      0.189     0.0897\n",
      "                    83       2306         44      0.365      0.364      0.233       0.16\n",
      "                    84       2306         28      0.241       0.25      0.171     0.0978\n",
      "                    85       2306         88      0.446      0.443      0.446      0.231\n",
      "                    86       2306         19      0.317      0.263      0.193     0.0808\n",
      "                    87       2306        213      0.206      0.408      0.237       0.13\n",
      "                    88       2306         85      0.248      0.314      0.219      0.087\n",
      "                    89       2306         12          0          0    0.00851    0.00737\n",
      "                    90       2306          7      0.466      0.286       0.18       0.12\n",
      "                    91       2306         15      0.455      0.467      0.639      0.458\n",
      "                    92       2306          3          0          0    0.00465     0.0024\n",
      "                    93       2306         35      0.232      0.286      0.192     0.0716\n",
      "                    94       2306         11          0          0    0.00238    0.00138\n",
      "                    95       2306         59      0.369      0.492      0.438      0.217\n",
      "                    96       2306        102      0.528      0.603      0.541       0.16\n",
      "                    97       2306         41      0.283      0.171      0.129     0.0474\n",
      "                    98       2306         48      0.271      0.188      0.145     0.0973\n",
      "                    99       2306          9      0.202      0.222      0.161      0.101\n",
      "                   100       2306         72      0.318      0.333      0.301      0.223\n",
      "                   101       2306         37      0.216      0.108      0.117     0.0892\n",
      "                   102       2306       1771      0.468      0.744      0.675      0.405\n",
      "Speed: 0.1ms preprocess, 1.9ms inference, 0.0ms loss, 1.4ms postprocess per image\n",
      "Results saved to \u001b[1mruns/detect/train2\u001b[0m\n"
     ]
    }
   ],
   "source": [
    "train('/kaggle/input/yolo/other/exp1/6/last-5.pt', dset_paths, val_paths[1])"
   ]
  }
 ],
 "metadata": {
  "kaggle": {
   "accelerator": "gpu",
   "dataSources": [
    {
     "datasetId": 5067045,
     "sourceId": 8492734,
     "sourceType": "datasetVersion"
    },
    {
     "datasetId": 5072195,
     "sourceId": 8499657,
     "sourceType": "datasetVersion"
    },
    {
     "modelInstanceId": 46883,
     "sourceId": 56351,
     "sourceType": "modelInstanceVersion"
    }
   ],
   "dockerImageVersionId": 30698,
   "isGpuEnabled": true,
   "isInternetEnabled": true,
   "language": "python",
   "sourceType": "notebook"
  },
  "kernelspec": {
   "display_name": "Python 3",
   "language": "python",
   "name": "python3"
  },
  "language_info": {
   "codemirror_mode": {
    "name": "ipython",
    "version": 3
   },
   "file_extension": ".py",
   "mimetype": "text/x-python",
   "name": "python",
   "nbconvert_exporter": "python",
   "pygments_lexer": "ipython3",
   "version": "3.10.13"
  },
  "papermill": {
   "default_parameters": {},
   "duration": 19372.235774,
   "end_time": "2024-05-26T10:58:01.241098",
   "environment_variables": {},
   "exception": null,
   "input_path": "__notebook__.ipynb",
   "output_path": "__notebook__.ipynb",
   "parameters": {},
   "start_time": "2024-05-26T05:35:09.005324",
   "version": "2.5.0"
  }
 },
 "nbformat": 4,
 "nbformat_minor": 5
}
